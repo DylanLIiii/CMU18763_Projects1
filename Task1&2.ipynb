{
 "cells": [
  {
   "cell_type": "code",
   "execution_count": 1,
   "metadata": {},
   "outputs": [],
   "source": [
    "### import libraries\n",
    "import os \n",
    "import pandas as pd\n",
    "from tqdm import tqdm\n",
    "import numpy as np\n",
    "\n",
    "import pyspark\n",
    "from pyspark.sql import SparkSession\n",
    "from pyspark import SparkContext, SQLContext\n",
    "from pyspark.sql.functions import lit, monotonically_increasing_id\n",
    "\n",
    "import argparse"
   ]
  },
  {
   "cell_type": "markdown",
   "metadata": {},
   "source": [
    "####  Help function"
   ]
  },
  {
   "cell_type": "code",
   "execution_count": 2,
   "metadata": {},
   "outputs": [],
   "source": [
    "# For pandas\n",
    "# Reducing dataframe memory usage :-\n",
    "def ReduceMemory(df: pd.DataFrame):\n",
    "    \"\"\"\n",
    "    This function reduces the associated dataframe's memory usage.\n",
    "    It reassigns the data-types of columns according to their min-max values.\n",
    "    It also displays the dataframe information after memory reduction.\n",
    "    \"\"\";\n",
    "    \n",
    "    # Reducing float column memory usage:-\n",
    "    for col in tqdm(df.iloc[0:2, 1:].select_dtypes('float').columns):\n",
    "        col_min = np.amin(df[col].dropna());\n",
    "        col_max = np.amax(df[col].dropna());\n",
    "        \n",
    "        if col_min >= np.finfo(np.float16).min and col_max <= np.finfo(np.float16).max: \n",
    "            df[col] = df[col].astype(np.float16)\n",
    "        elif col_min >= np.finfo(np.float32).min and col_max <= np.finfo(np.float32).max : \n",
    "            df[col] = df[col].astype(np.float32)\n",
    "        else: pass;\n",
    "\n",
    "    # Reducing integer column memory usage:-\n",
    "    for col in tqdm(df.iloc[0:2, 1:].select_dtypes('int').columns):\n",
    "        col_min = df[col].min(); \n",
    "        col_max = df[col].max();\n",
    "        \n",
    "        if col_min >= np.iinfo(np.int8).min and col_max <= np.iinfo(np.int8).max:\n",
    "            df[col] = df[col].astype(np.int8);\n",
    "        elif col_min >= np.iinfo(np.int16).min and col_max <= np.iinfo(np.int16).max:\n",
    "            df[col] = df[col].astype(np.int16);\n",
    "        elif col_min >= np.iinfo(np.int32).min & col_max <= np.iinfo(np.int32).max:\n",
    "            df[col] = df[col].astype(np.int32);\n",
    "        else: pass;\n",
    "        \n",
    "    display(df.info());\n",
    "    \n",
    "    return df;"
   ]
  },
  {
   "cell_type": "markdown",
   "metadata": {},
   "source": [
    "## Read Data"
   ]
  },
  {
   "cell_type": "code",
   "execution_count": 3,
   "metadata": {},
   "outputs": [
    {
     "name": "stderr",
     "output_type": "stream",
     "text": [
      "23/11/08 11:11:48 WARN Utils: Your hostname, Dylans-Macbook-Pro-16.local resolves to a loopback address: 127.0.0.1; using 192.168.4.36 instead (on interface en0)\n",
      "23/11/08 11:11:48 WARN Utils: Set SPARK_LOCAL_IP if you need to bind to another address\n",
      "Setting default log level to \"WARN\".\n",
      "To adjust logging level use sc.setLogLevel(newLevel). For SparkR, use setLogLevel(newLevel).\n",
      "23/11/08 11:11:48 WARN NativeCodeLoader: Unable to load native-hadoop library for your platform... using builtin-java classes where applicable\n",
      "/Users/dylan/mambaforge/envs/aichaintools-torch/lib/python3.10/site-packages/pyspark/sql/context.py:112: FutureWarning: Deprecated in 3.0.0. Use SparkSession.builder.getOrCreate() instead.\n",
      "  warnings.warn(\n"
     ]
    }
   ],
   "source": [
    "# init a spark session\n",
    "appName = \"Project1\"\n",
    "master = \"local\"\n",
    "\n",
    "\n",
    "sc = SparkSession.builder.appName(appName).getOrCreate()\n",
    "sqlContext = SQLContext(sc)\n",
    "spark = sqlContext.sparkSession.builder.getOrCreate()"
   ]
  },
  {
   "cell_type": "code",
   "execution_count": 49,
   "metadata": {},
   "outputs": [],
   "source": [
    "# fifa data folder should contain all the csv files from Fifa(Kaggle), 2015-2022\n",
    "# assume that you are working in the same directory as the data folder\n",
    "full_data_path = os.getcwd() + '/full_data.csv'\n",
    "\n",
    "if not os.path.exists(full_data_path):\n",
    "    data_path = os.getcwd() + '/fifadata'\n",
    "    if os.path.exists(data_path):\n",
    "        print(\"Data folder exists\")\n",
    "    else:\n",
    "        print(\"Data folder does not exist\")\n",
    "        os.makedirs(data_path)\n",
    "        print(\"Sussessfully created data folder\")\n",
    "\n",
    "    csv_files = [os.path.join(data_path, f) for f in os.listdir(data_path) if f.endswith('.csv')]\n",
    "    print(csv_files)\n",
    "    combined_df = None\n",
    "    for file in csv_files:\n",
    "        year = file.split(\"players_\")[1].split(\".csv\")[0]\n",
    "        df = spark.read.csv(file, header=True, inferSchema=True)\n",
    "        df = df.withColumn(\"year\", lit(year)) # this is the unique column 'year'\n",
    "        if combined_df is None:\n",
    "            combined_df = df\n",
    "        else:\n",
    "            combined_df = combined_df.union(df)\n",
    "    combined_df = combined_df.withColumn(\"id\", monotonically_increasing_id())\n",
    "\n",
    "    # Write the concatenated DataFrame to a new CSV file\n",
    "    output_file = \"/Users/dylan/DylanLi/Code_Repo/CMU18763_Projects1/full_data.csv\"\n",
    "    ReduceMemory(combined_df.toPandas()).to_csv(output_file)\n",
    "else: \n",
    "    df = spark.read.csv(full_data_path, header=True, inferSchema=True)\n"
   ]
  },
  {
   "cell_type": "code",
   "execution_count": 5,
   "metadata": {},
   "outputs": [
    {
     "name": "stdout",
     "output_type": "stream",
     "text": [
      "root\n",
      " |-- _c0: integer (nullable = true)\n",
      " |-- sofifa_id: integer (nullable = true)\n",
      " |-- player_url: string (nullable = true)\n",
      " |-- short_name: string (nullable = true)\n",
      " |-- long_name: string (nullable = true)\n",
      " |-- player_positions: string (nullable = true)\n",
      " |-- overall: integer (nullable = true)\n",
      " |-- potential: integer (nullable = true)\n",
      " |-- value_eur: double (nullable = true)\n",
      " |-- wage_eur: double (nullable = true)\n",
      " |-- age: integer (nullable = true)\n",
      " |-- dob: date (nullable = true)\n",
      " |-- height_cm: integer (nullable = true)\n",
      " |-- weight_kg: integer (nullable = true)\n",
      " |-- club_team_id: double (nullable = true)\n",
      " |-- club_name: string (nullable = true)\n",
      " |-- league_name: string (nullable = true)\n",
      " |-- league_level: double (nullable = true)\n",
      " |-- club_position: string (nullable = true)\n",
      " |-- club_jersey_number: double (nullable = true)\n",
      " |-- club_loaned_from: string (nullable = true)\n",
      " |-- club_joined: date (nullable = true)\n",
      " |-- club_contract_valid_until: double (nullable = true)\n",
      " |-- nationality_id: integer (nullable = true)\n",
      " |-- nationality_name: string (nullable = true)\n",
      " |-- nation_team_id: double (nullable = true)\n",
      " |-- nation_position: string (nullable = true)\n",
      " |-- nation_jersey_number: double (nullable = true)\n",
      " |-- preferred_foot: string (nullable = true)\n",
      " |-- weak_foot: integer (nullable = true)\n",
      " |-- skill_moves: integer (nullable = true)\n",
      " |-- international_reputation: integer (nullable = true)\n",
      " |-- work_rate: string (nullable = true)\n",
      " |-- body_type: string (nullable = true)\n",
      " |-- real_face: string (nullable = true)\n",
      " |-- release_clause_eur: double (nullable = true)\n",
      " |-- player_tags: string (nullable = true)\n",
      " |-- player_traits: string (nullable = true)\n",
      " |-- pace: double (nullable = true)\n",
      " |-- shooting: double (nullable = true)\n",
      " |-- passing: double (nullable = true)\n",
      " |-- dribbling: double (nullable = true)\n",
      " |-- defending: double (nullable = true)\n",
      " |-- physic: double (nullable = true)\n",
      " |-- attacking_crossing: integer (nullable = true)\n",
      " |-- attacking_finishing: integer (nullable = true)\n",
      " |-- attacking_heading_accuracy: integer (nullable = true)\n",
      " |-- attacking_short_passing: integer (nullable = true)\n",
      " |-- attacking_volleys: integer (nullable = true)\n",
      " |-- skill_dribbling: integer (nullable = true)\n",
      " |-- skill_curve: integer (nullable = true)\n",
      " |-- skill_fk_accuracy: integer (nullable = true)\n",
      " |-- skill_long_passing: integer (nullable = true)\n",
      " |-- skill_ball_control: integer (nullable = true)\n",
      " |-- movement_acceleration: integer (nullable = true)\n",
      " |-- movement_sprint_speed: integer (nullable = true)\n",
      " |-- movement_agility: integer (nullable = true)\n",
      " |-- movement_reactions: integer (nullable = true)\n",
      " |-- movement_balance: integer (nullable = true)\n",
      " |-- power_shot_power: integer (nullable = true)\n",
      " |-- power_jumping: integer (nullable = true)\n",
      " |-- power_stamina: integer (nullable = true)\n",
      " |-- power_strength: integer (nullable = true)\n",
      " |-- power_long_shots: integer (nullable = true)\n",
      " |-- mentality_aggression: integer (nullable = true)\n",
      " |-- mentality_interceptions: integer (nullable = true)\n",
      " |-- mentality_positioning: integer (nullable = true)\n",
      " |-- mentality_vision: integer (nullable = true)\n",
      " |-- mentality_penalties: integer (nullable = true)\n",
      " |-- mentality_composure: integer (nullable = true)\n",
      " |-- defending_marking_awareness: integer (nullable = true)\n",
      " |-- defending_standing_tackle: integer (nullable = true)\n",
      " |-- defending_sliding_tackle: integer (nullable = true)\n",
      " |-- goalkeeping_diving: integer (nullable = true)\n",
      " |-- goalkeeping_handling: integer (nullable = true)\n",
      " |-- goalkeeping_kicking: integer (nullable = true)\n",
      " |-- goalkeeping_positioning: integer (nullable = true)\n",
      " |-- goalkeeping_reflexes: integer (nullable = true)\n",
      " |-- goalkeeping_speed: double (nullable = true)\n",
      " |-- ls: string (nullable = true)\n",
      " |-- st: string (nullable = true)\n",
      " |-- rs: string (nullable = true)\n",
      " |-- lw: string (nullable = true)\n",
      " |-- lf: string (nullable = true)\n",
      " |-- cf: string (nullable = true)\n",
      " |-- rf: string (nullable = true)\n",
      " |-- rw: string (nullable = true)\n",
      " |-- lam: string (nullable = true)\n",
      " |-- cam: string (nullable = true)\n",
      " |-- ram: string (nullable = true)\n",
      " |-- lm: string (nullable = true)\n",
      " |-- lcm: string (nullable = true)\n",
      " |-- cm: string (nullable = true)\n",
      " |-- rcm: string (nullable = true)\n",
      " |-- rm: string (nullable = true)\n",
      " |-- lwb: string (nullable = true)\n",
      " |-- ldm: string (nullable = true)\n",
      " |-- cdm: string (nullable = true)\n",
      " |-- rdm: string (nullable = true)\n",
      " |-- rwb: string (nullable = true)\n",
      " |-- lb: string (nullable = true)\n",
      " |-- lcb: string (nullable = true)\n",
      " |-- cb: string (nullable = true)\n",
      " |-- rcb: string (nullable = true)\n",
      " |-- rb: string (nullable = true)\n",
      " |-- gk: string (nullable = true)\n",
      " |-- player_face_url: string (nullable = true)\n",
      " |-- club_logo_url: string (nullable = true)\n",
      " |-- club_flag_url: string (nullable = true)\n",
      " |-- nation_logo_url: string (nullable = true)\n",
      " |-- nation_flag_url: string (nullable = true)\n",
      " |-- year: integer (nullable = true)\n",
      " |-- id: long (nullable = true)\n",
      "\n"
     ]
    }
   ],
   "source": [
    "df.printSchema()"
   ]
  },
  {
   "cell_type": "markdown",
   "metadata": {},
   "source": [
    "## Using pyspark to read table and write to PostgreSQL"
   ]
  },
  {
   "cell_type": "code",
   "execution_count": null,
   "metadata": {},
   "outputs": [],
   "source": [
    "db_properties={}\n",
    "db_properties['username']=\"postgres\"\n",
    "db_properties['password']=\"010323\"\n",
    "db_properties['url']= \"jdbc:postgresql://localhost:5432/postgres\"\n",
    "db_properties['table']=\"fifa\"\n",
    "db_properties['driver']=\"org.postgresql.Driver\""
   ]
  },
  {
   "cell_type": "code",
   "execution_count": null,
   "metadata": {},
   "outputs": [],
   "source": [
    "df.write.format(\"jdbc\")\\\n",
    ".mode(\"overwrite\")\\\n",
    ".option(\"url\", db_properties['url'])\\\n",
    ".option(\"dbtable\", db_properties['table'])\\\n",
    ".option(\"user\", db_properties['username'])\\\n",
    ".option(\"password\", db_properties['password'])\\\n",
    ".option(\"Driver\", db_properties['driver'])\\\n",
    ".save()"
   ]
  },
  {
   "cell_type": "code",
   "execution_count": null,
   "metadata": {},
   "outputs": [],
   "source": [
    "df_read = sqlContext.read.format(\"jdbc\")\\\n",
    "    .option(\"url\", db_properties['url'])\\\n",
    "    .option(\"dbtable\", db_properties['table'])\\\n",
    "    .option(\"user\", db_properties['username'])\\\n",
    "    .option(\"password\", db_properties['password'])\\\n",
    "    .option(\"Driver\", db_properties['driver'])\\\n",
    "    .load()\n",
    "    \n",
    "df_read.show()"
   ]
  },
  {
   "cell_type": "code",
   "execution_count": null,
   "metadata": {},
   "outputs": [],
   "source": [
    "df_read.printSchema()"
   ]
  },
  {
   "cell_type": "markdown",
   "metadata": {},
   "source": [
    "## Task II "
   ]
  },
  {
   "cell_type": "markdown",
   "metadata": {},
   "source": [
    "### Question 1\n",
    "Find X clubs that have the highest number of players with contracts ending in 2023\n",
    "\n",
    "We find that En Avant de Guingamp have the most players whose contract end in 2023 in FIFA 2022 dataset."
   ]
  },
  {
   "cell_type": "markdown",
   "metadata": {},
   "source": [
    "#### In spark SQL"
   ]
  },
  {
   "cell_type": "code",
   "execution_count": null,
   "metadata": {},
   "outputs": [],
   "source": [
    "df_read.createOrReplaceTempView(\"df_view\")"
   ]
  },
  {
   "cell_type": "code",
   "execution_count": null,
   "metadata": {},
   "outputs": [],
   "source": [
    "sqlWay1 = spark.sql(\"\"\"\n",
    "SELECT dv.club_name, COUNT(*) AS player_count\n",
    "FROM   df_view dv\n",
    "WHERE  dv.year = 22 AND dv.club_contract_valid_until = 2023\n",
    "GROUP BY dv.club_name\n",
    "ORDER BY player_count DESC\n",
    "LIMIT 10;\n",
    "                    \"\"\")"
   ]
  },
  {
   "cell_type": "code",
   "execution_count": null,
   "metadata": {},
   "outputs": [],
   "source": [
    "sqlWay1.show()"
   ]
  },
  {
   "cell_type": "markdown",
   "metadata": {},
   "source": [
    "#### In original pyspark"
   ]
  },
  {
   "cell_type": "code",
   "execution_count": 35,
   "metadata": {},
   "outputs": [],
   "source": [
    "from pyspark.sql import functions as F\n",
    "\n",
    "def find_top_clubs_expiring_contracts(df, num_clubs):\n",
    "\n",
    "  top_clubs = (df.filter((F.col('year') == '22') & \n",
    "                        (F.col('club_contract_valid_until') == 2023))\n",
    "               .groupBy('club_team_id', 'club_name')\n",
    "               .agg(F.count('sofifa_id').alias('num_players'))\n",
    "               .orderBy(F.desc('num_players'))\n",
    "               .limit(num_clubs))\n",
    "               \n",
    "  top_names = [row.club_name for row in top_clubs.collect()]\n",
    "  \n",
    "  return top_clubs, top_names"
   ]
  },
  {
   "cell_type": "code",
   "execution_count": 36,
   "metadata": {},
   "outputs": [],
   "source": [
    "clubs, names = find_top_clubs_expiring_contracts(df_read, 10)"
   ]
  },
  {
   "cell_type": "code",
   "execution_count": 37,
   "metadata": {},
   "outputs": [
    {
     "name": "stdout",
     "output_type": "stream",
     "text": [
      "['En Avant de Guingamp', 'Club Atlético Lanús', 'Lechia Gdańsk', 'Kasimpaşa SK', 'Barnsley', 'Bengaluru FC', 'FC Barcelona', 'Zagłębie Lubin', 'SV Wehen Wiesbaden', 'KAA Gent'] Club with highest number of players with contracts ending in 2023 in FIFA 2022\n"
     ]
    }
   ],
   "source": [
    "print(f\"{names} Club with highest number of players with contracts ending in 2023 in FIFA 2022\")"
   ]
  },
  {
   "cell_type": "code",
   "execution_count": 38,
   "metadata": {},
   "outputs": [
    {
     "name": "stdout",
     "output_type": "stream",
     "text": [
      "+------------+--------------------+-----------+\n",
      "|club_team_id|           club_name|num_players|\n",
      "+------------+--------------------+-----------+\n",
      "|        62.0|En Avant de Guingamp|         19|\n",
      "|    110395.0| Club Atlético Lanús|         17|\n",
      "|    111091.0|       Lechia Gdańsk|         17|\n",
      "|    111339.0|        Kasimpaşa SK|         16|\n",
      "|      1932.0|            Barnsley|         16|\n",
      "|    113302.0|        Bengaluru FC|         16|\n",
      "|       241.0|        FC Barcelona|         15|\n",
      "|    110749.0|      Zagłębie Lubin|         15|\n",
      "|       492.0|  SV Wehen Wiesbaden|         15|\n",
      "|       674.0|            KAA Gent|         15|\n",
      "+------------+--------------------+-----------+\n",
      "\n"
     ]
    }
   ],
   "source": [
    "clubs.show()"
   ]
  },
  {
   "cell_type": "markdown",
   "metadata": {},
   "source": [
    "### Question 2 \n"
   ]
  },
  {
   "cell_type": "markdown",
   "metadata": {},
   "source": [
    "#### In spark SQL"
   ]
  },
  {
   "cell_type": "code",
   "execution_count": null,
   "metadata": {},
   "outputs": [],
   "source": [
    "sqlWay2 = spark.sql(\"\"\"\n",
    "WITH club_counts AS (\n",
    "  SELECT \n",
    "    dv.club_name, \n",
    "    dv.year, \n",
    "    COUNT(*) AS player_count\n",
    "  FROM df_view dv\n",
    "  WHERE dv.age > 27\n",
    "  GROUP BY dv.club_name, dv.year\n",
    "),\n",
    "\n",
    "club_averages AS (\n",
    "  SELECT \n",
    "    cc.club_name,\n",
    "    AVG(cc.player_count) AS avg_player_count\n",
    "  FROM club_counts cc\n",
    "  GROUP BY cc.club_name  \n",
    ")\n",
    "\n",
    "SELECT\n",
    "  ca.club_name,\n",
    "  ca.avg_player_count AS average_count\n",
    "FROM club_averages ca\n",
    "WHERE (\n",
    "  SELECT COUNT(*) \n",
    "  FROM club_averages ca2 \n",
    "  WHERE ca2.avg_player_count > ca.avg_player_count\n",
    ") < 10\n",
    "ORDER BY ca.avg_player_count DESC;\n",
    "\"\"\")"
   ]
  },
  {
   "cell_type": "code",
   "execution_count": null,
   "metadata": {},
   "outputs": [],
   "source": [
    "sqlWay2.show()"
   ]
  },
  {
   "cell_type": "markdown",
   "metadata": {},
   "source": [
    "#### In original pyspark"
   ]
  },
  {
   "cell_type": "code",
   "execution_count": 52,
   "metadata": {},
   "outputs": [],
   "source": [
    "from pyspark.sql import functions as F\n",
    "from pyspark.sql.window import Window\n",
    "\n",
    "def find_top_clubs_by_avg_older_players(df, num_clubs):\n",
    "\n",
    "  window = Window.orderBy(F.desc('avg_count'))\n",
    "  df = df.repartition(100)\n",
    "  top_clubs = (df.filter(F.col('age') > 27)\n",
    "               .groupBy('year', 'club_team_id', 'club_name')\n",
    "               .agg(F.count('sofifa_id').alias('count'))\n",
    "               .groupBy('club_team_id', 'club_name')\n",
    "               .agg(F.avg('count').alias('avg_count'))\n",
    "               .withColumn('rank', F.rank().over(window))\n",
    "               .filter(F.col('rank') <= num_clubs)\n",
    "               .select('club_team_id', 'club_name'))\n",
    "               \n",
    "  top_names = [row.club_name for row in top_clubs.collect()]\n",
    "\n",
    "\n",
    "\n",
    "  return top_clubs, top_names"
   ]
  },
  {
   "cell_type": "code",
   "execution_count": 53,
   "metadata": {},
   "outputs": [
    {
     "name": "stderr",
     "output_type": "stream",
     "text": [
      "23/10/12 20:51:47 WARN WindowExec: No Partition Defined for Window operation! Moving all data to a single partition, this can cause serious performance degradation.\n",
      "23/10/12 20:51:47 WARN WindowExec: No Partition Defined for Window operation! Moving all data to a single partition, this can cause serious performance degradation.\n",
      "23/10/12 20:51:47 WARN WindowExec: No Partition Defined for Window operation! Moving all data to a single partition, this can cause serious performance degradation.\n",
      "23/10/12 20:51:47 WARN WindowExec: No Partition Defined for Window operation! Moving all data to a single partition, this can cause serious performance degradation.\n",
      "23/10/12 20:51:47 WARN WindowExec: No Partition Defined for Window operation! Moving all data to a single partition, this can cause serious performance degradation.\n",
      "23/10/12 20:51:49 WARN WindowExec: No Partition Defined for Window operation! Moving all data to a single partition, this can cause serious performance degradation.\n",
      "23/10/12 20:51:49 WARN WindowExec: No Partition Defined for Window operation! Moving all data to a single partition, this can cause serious performance degradation.\n",
      "23/10/12 20:51:49 WARN WindowExec: No Partition Defined for Window operation! Moving all data to a single partition, this can cause serious performance degradation.\n",
      "23/10/12 20:51:49 WARN WindowExec: No Partition Defined for Window operation! Moving all data to a single partition, this can cause serious performance degradation.\n",
      "23/10/12 20:51:49 WARN WindowExec: No Partition Defined for Window operation! Moving all data to a single partition, this can cause serious performance degradation.\n",
      "23/10/12 20:51:49 WARN WindowExec: No Partition Defined for Window operation! Moving all data to a single partition, this can cause serious performance degradation.\n",
      "                                                                                \r"
     ]
    }
   ],
   "source": [
    "clubs, names = find_top_clubs_by_avg_older_players(df_read, 10)"
   ]
  },
  {
   "cell_type": "code",
   "execution_count": 54,
   "metadata": {},
   "outputs": [
    {
     "name": "stderr",
     "output_type": "stream",
     "text": [
      "23/10/12 20:51:50 WARN WindowExec: No Partition Defined for Window operation! Moving all data to a single partition, this can cause serious performance degradation.\n",
      "23/10/12 20:51:50 WARN WindowExec: No Partition Defined for Window operation! Moving all data to a single partition, this can cause serious performance degradation.\n",
      "23/10/12 20:51:50 WARN WindowExec: No Partition Defined for Window operation! Moving all data to a single partition, this can cause serious performance degradation.\n",
      "23/10/12 20:51:50 WARN WindowExec: No Partition Defined for Window operation! Moving all data to a single partition, this can cause serious performance degradation.\n",
      "23/10/12 20:51:50 WARN WindowExec: No Partition Defined for Window operation! Moving all data to a single partition, this can cause serious performance degradation.\n",
      "[Stage 197:=========================================>           (79 + 10) / 100]\r"
     ]
    },
    {
     "name": "stdout",
     "output_type": "stream",
     "text": [
      "+------------+--------------------+\n",
      "|club_team_id|           club_name|\n",
      "+------------+--------------------+\n",
      "|        null|                null|\n",
      "|    111032.0|  Dorados de Sinaloa|\n",
      "|    113158.0| Matsumoto Yamaga FC|\n",
      "|    110955.0| Shanghai Shenhua FC|\n",
      "|    112961.0|          Qingdao FC|\n",
      "|    110974.0|Club Deportivo Jo...|\n",
      "|    101006.0|            Altay SK|\n",
      "|    114688.0|         Guaireña FC|\n",
      "|    101014.0|İstanbul Başakşeh...|\n",
      "|    114511.0|      Sport Huancayo|\n",
      "|       749.0|      BB Erzurumspor|\n",
      "|    101108.0|        Club Olimpia|\n",
      "+------------+--------------------+\n",
      "\n"
     ]
    },
    {
     "name": "stderr",
     "output_type": "stream",
     "text": [
      "23/10/12 20:51:52 WARN WindowExec: No Partition Defined for Window operation! Moving all data to a single partition, this can cause serious performance degradation.\n",
      "23/10/12 20:51:52 WARN WindowExec: No Partition Defined for Window operation! Moving all data to a single partition, this can cause serious performance degradation.\n",
      "23/10/12 20:51:52 WARN WindowExec: No Partition Defined for Window operation! Moving all data to a single partition, this can cause serious performance degradation.\n",
      "23/10/12 20:51:52 WARN WindowExec: No Partition Defined for Window operation! Moving all data to a single partition, this can cause serious performance degradation.\n",
      "23/10/12 20:51:52 WARN WindowExec: No Partition Defined for Window operation! Moving all data to a single partition, this can cause serious performance degradation.\n",
      "23/10/12 20:51:52 WARN WindowExec: No Partition Defined for Window operation! Moving all data to a single partition, this can cause serious performance degradation.\n",
      "                                                                                \r"
     ]
    }
   ],
   "source": [
    "clubs.show()"
   ]
  },
  {
   "cell_type": "code",
   "execution_count": 55,
   "metadata": {},
   "outputs": [
    {
     "name": "stdout",
     "output_type": "stream",
     "text": [
      "[None, 'Dorados de Sinaloa', 'Matsumoto Yamaga FC', 'Shanghai Shenhua FC', 'Qingdao FC', 'Club Deportivo Jorge Wilstermann', 'Altay SK', 'Guaireña FC', 'İstanbul Başakşehir FK', 'Sport Huancayo', 'BB Erzurumspor', 'Club Olimpia'] clubs with highest avg players over 27:\n"
     ]
    }
   ],
   "source": [
    "print(f\"{names} clubs with highest avg players over 27:\")"
   ]
  },
  {
   "cell_type": "markdown",
   "metadata": {},
   "source": [
    "### Question 3"
   ]
  },
  {
   "cell_type": "markdown",
   "metadata": {},
   "source": [
    "#### In spark SQL"
   ]
  },
  {
   "cell_type": "code",
   "execution_count": null,
   "metadata": {},
   "outputs": [],
   "source": [
    "sqlWay3 = spark.sql(\"\"\"\n",
    "WITH yearly_counts AS (\n",
    "    SELECT dv.year, dv.nation_position, COUNT(*) AS position_count\n",
    "    FROM df_view dv\n",
    "    WHERE dv.nation_position IS NOT NULL\n",
    "    GROUP BY dv.year, dv.nation_position\n",
    "),\n",
    "max_counts AS (\n",
    "    SELECT yc.year, MAX(yc.position_count) AS max_count\n",
    "    FROM yearly_counts yc\n",
    "    GROUP BY yc.year\n",
    ")\n",
    "SELECT mc.year, yc.nation_position, mc.max_count\n",
    "FROM max_counts mc\n",
    "JOIN yearly_counts yc ON mc.year = yc.year AND mc.max_count = yc.position_count\n",
    "ORDER BY mc.year;\n",
    "\n",
    "\"\"\")"
   ]
  },
  {
   "cell_type": "code",
   "execution_count": null,
   "metadata": {},
   "outputs": [],
   "source": [
    "sqlWay3.show()"
   ]
  },
  {
   "cell_type": "markdown",
   "metadata": {},
   "source": [
    "#### In original pyspark"
   ]
  },
  {
   "cell_type": "code",
   "execution_count": 58,
   "metadata": {},
   "outputs": [],
   "source": [
    "from pyspark.sql import functions as F\n",
    "from pyspark.sql.window import Window\n",
    "\n",
    "def most_frequent_nation_position(df):\n",
    "\n",
    "  window = Window.partitionBy('year').orderBy(F.desc('count'))\n",
    "\n",
    "  top_positions = (df.filter(F.col('nation_position').isNotNull())\n",
    "                  .groupBy('year', 'nation_position')\n",
    "                  .agg(F.count('sofifa_id').alias('count'))\n",
    "                  .withColumn('rank', F.rank().over(window))\n",
    "                  .filter(F.col('rank') == 1)\n",
    "                  .select('year', 'nation_position'))\n",
    "\n",
    "  return top_positions"
   ]
  },
  {
   "cell_type": "code",
   "execution_count": 59,
   "metadata": {},
   "outputs": [
    {
     "name": "stdout",
     "output_type": "stream",
     "text": [
      "+----+---------------+\n",
      "|year|nation_position|\n",
      "+----+---------------+\n",
      "|  15|            SUB|\n",
      "|  16|            SUB|\n",
      "|  17|            SUB|\n",
      "|  18|            SUB|\n",
      "|  19|            SUB|\n",
      "|  20|            SUB|\n",
      "|  21|            SUB|\n",
      "|  22|            SUB|\n",
      "+----+---------------+\n",
      "\n"
     ]
    }
   ],
   "source": [
    "most_frequent_nation_position(df_read).show()"
   ]
  },
  {
   "cell_type": "markdown",
   "metadata": {},
   "source": [
    "#### Data Preprocessing"
   ]
  },
  {
   "cell_type": "markdown",
   "metadata": {},
   "source": [
    "##### Drop Useless column"
   ]
  },
  {
   "cell_type": "code",
   "execution_count": 131,
   "metadata": {},
   "outputs": [],
   "source": [
    "# Drop useless column\n",
    "useless_cols = ['player_url', 'player_face_url', 'club_logo_url', \n",
    "                'club_flag_url', 'nation_logo_url', 'nation_flag_url', 'sofifa_id', \n",
    "                'short_name', 'dob', 'club_name','club_jersey_number', 'club_loaned_from', \n",
    "                'nationality_name', 'nation_jersey_number', 'body_type','real_face', 'goalkeeping_speed', \n",
    "                'club_contract_valid_until', 'nation_team_id', 'nation_position', 'player_tags', 'player_traits', 'release_clause_eur', 'long_name']"
   ]
  },
  {
   "cell_type": "code",
   "execution_count": 132,
   "metadata": {},
   "outputs": [],
   "source": [
    "\n",
    "# new_df = df_read.drop(*useless_columns)\n",
    "new_df = df.drop(*useless_cols)"
   ]
  },
  {
   "cell_type": "code",
   "execution_count": 133,
   "metadata": {},
   "outputs": [],
   "source": [
    "\n",
    "from pyspark.sql import DataFrame\n",
    "from pyspark.sql.functions import col, sum as _sum, when\n",
    "\n",
    "na_counts = new_df.select([_sum(when(col(c).isNull(), 1).otherwise(0)).alias(c) for c in new_df.columns])"
   ]
  },
  {
   "cell_type": "code",
   "execution_count": 134,
   "metadata": {},
   "outputs": [
    {
     "name": "stderr",
     "output_type": "stream",
     "text": [
      "23/11/08 15:24:37 WARN CSVHeaderChecker: CSV header does not conform to the schema.\n",
      " Header: , long_name, player_positions, overall, potential, value_eur, wage_eur, age, height_cm, weight_kg, club_team_id, league_name, league_level, club_position, club_joined, nationality_id, preferred_foot, weak_foot, skill_moves, international_reputation, work_rate, pace, shooting, passing, dribbling, defending, physic, attacking_crossing, attacking_finishing, attacking_heading_accuracy, attacking_short_passing, attacking_volleys, skill_dribbling, skill_curve, skill_fk_accuracy, skill_long_passing, skill_ball_control, movement_acceleration, movement_sprint_speed, movement_agility, movement_reactions, movement_balance, power_shot_power, power_jumping, power_stamina, power_strength, power_long_shots, mentality_aggression, mentality_interceptions, mentality_positioning, mentality_vision, mentality_penalties, mentality_composure, defending_marking_awareness, defending_standing_tackle, defending_sliding_tackle, goalkeeping_diving, goalkeeping_handling, goalkeeping_kicking, goalkeeping_positioning, goalkeeping_reflexes, ls, st, rs, lw, lf, cf, rf, rw, lam, cam, ram, lm, lcm, cm, rcm, rm, lwb, ldm, cdm, rdm, rwb, lb, lcb, cb, rcb, rb, gk, year, id\n",
      " Schema: _c0, long_name, player_positions, overall, potential, value_eur, wage_eur, age, height_cm, weight_kg, club_team_id, league_name, league_level, club_position, club_joined, nationality_id, preferred_foot, weak_foot, skill_moves, international_reputation, work_rate, pace, shooting, passing, dribbling, defending, physic, attacking_crossing, attacking_finishing, attacking_heading_accuracy, attacking_short_passing, attacking_volleys, skill_dribbling, skill_curve, skill_fk_accuracy, skill_long_passing, skill_ball_control, movement_acceleration, movement_sprint_speed, movement_agility, movement_reactions, movement_balance, power_shot_power, power_jumping, power_stamina, power_strength, power_long_shots, mentality_aggression, mentality_interceptions, mentality_positioning, mentality_vision, mentality_penalties, mentality_composure, defending_marking_awareness, defending_standing_tackle, defending_sliding_tackle, goalkeeping_diving, goalkeeping_handling, goalkeeping_kicking, goalkeeping_positioning, goalkeeping_reflexes, ls, st, rs, lw, lf, cf, rf, rw, lam, cam, ram, lm, lcm, cm, rcm, rm, lwb, ldm, cdm, rdm, rwb, lb, lcb, cb, rcb, rb, gk, year, id\n",
      "Expected: _c0 but found: \n",
      "CSV file: file:///Users/dylan/DylanLi/Code_Repo/CMU18763_Projects1/full_data.csv\n"
     ]
    },
    {
     "name": "stdout",
     "output_type": "stream",
     "text": [
      "+---+---------+----------------+-------+---------+---------+--------+---+---------+---------+------------+-----------+------------+-------------+-----------+--------------+--------------+---------+-----------+------------------------+---------+-----+--------+-------+---------+---------+------+------------------+-------------------+--------------------------+-----------------------+-----------------+---------------+-----------+-----------------+------------------+------------------+---------------------+---------------------+----------------+------------------+----------------+----------------+-------------+-------------+--------------+----------------+--------------------+-----------------------+---------------------+----------------+-------------------+-------------------+---------------------------+-------------------------+------------------------+------------------+--------------------+-------------------+-----------------------+--------------------+---+---+---+---+---+---+---+---+---+---+---+---+---+---+---+---+---+---+---+---+---+---+---+---+---+---+---+----+---+\n",
      "|_c0|long_name|player_positions|overall|potential|value_eur|wage_eur|age|height_cm|weight_kg|club_team_id|league_name|league_level|club_position|club_joined|nationality_id|preferred_foot|weak_foot|skill_moves|international_reputation|work_rate| pace|shooting|passing|dribbling|defending|physic|attacking_crossing|attacking_finishing|attacking_heading_accuracy|attacking_short_passing|attacking_volleys|skill_dribbling|skill_curve|skill_fk_accuracy|skill_long_passing|skill_ball_control|movement_acceleration|movement_sprint_speed|movement_agility|movement_reactions|movement_balance|power_shot_power|power_jumping|power_stamina|power_strength|power_long_shots|mentality_aggression|mentality_interceptions|mentality_positioning|mentality_vision|mentality_penalties|mentality_composure|defending_marking_awareness|defending_standing_tackle|defending_sliding_tackle|goalkeeping_diving|goalkeeping_handling|goalkeeping_kicking|goalkeeping_positioning|goalkeeping_reflexes| ls| st| rs| lw| lf| cf| rf| rw|lam|cam|ram| lm|lcm| cm|rcm| rm|lwb|ldm|cdm|rdm|rwb| lb|lcb| cb|rcb| rb| gk|year| id|\n",
      "+---+---------+----------------+-------+---------+---------+--------+---+---------+---------+------------+-----------+------------+-------------+-----------+--------------+--------------+---------+-----------+------------------------+---------+-----+--------+-------+---------+---------+------+------------------+-------------------+--------------------------+-----------------------+-----------------+---------------+-----------+-----------------+------------------+------------------+---------------------+---------------------+----------------+------------------+----------------+----------------+-------------+-------------+--------------+----------------+--------------------+-----------------------+---------------------+----------------+-------------------+-------------------+---------------------------+-------------------------+------------------------+------------------+--------------------+-------------------+-----------------------+--------------------+---+---+---+---+---+---+---+---+---+---+---+---+---+---+---+---+---+---+---+---+---+---+---+---+---+---+---+----+---+\n",
      "|  0|        0|               0|      0|        0|     1897|    1622|  0|        0|        0|        1630|       1630|        2015|         1630|       9935|             0|             0|        0|          0|                       0|        0|15791|   15791|  15791|    15791|    15791| 15791|                 0|                  0|                         0|                      0|                0|              0|          0|                0|                 0|                 0|                    0|                    0|               0|                 0|               0|               0|            0|            0|             0|               0|                   0|                      0|                    0|               0|                  0|              31778|                          0|                        0|                       0|                 0|                   0|                  0|                      0|                   0|  0|  0|  0|  0|  0|  0|  0|  0|  0|  0|  0|  0|  0|  0|  0|  0|  0|  0|  0|  0|  0|  0|  0|  0|  0|  0|  0|   0|  0|\n",
      "+---+---------+----------------+-------+---------+---------+--------+---+---------+---------+------------+-----------+------------+-------------+-----------+--------------+--------------+---------+-----------+------------------------+---------+-----+--------+-------+---------+---------+------+------------------+-------------------+--------------------------+-----------------------+-----------------+---------------+-----------+-----------------+------------------+------------------+---------------------+---------------------+----------------+------------------+----------------+----------------+-------------+-------------+--------------+----------------+--------------------+-----------------------+---------------------+----------------+-------------------+-------------------+---------------------------+-------------------------+------------------------+------------------+--------------------+-------------------+-----------------------+--------------------+---+---+---+---+---+---+---+---+---+---+---+---+---+---+---+---+---+---+---+---+---+---+---+---+---+---+---+----+---+\n",
      "\n"
     ]
    }
   ],
   "source": [
    "na_counts.show()"
   ]
  },
  {
   "cell_type": "markdown",
   "metadata": {},
   "source": [
    "##### drop value after + or -\n"
   ]
  },
  {
   "cell_type": "code",
   "execution_count": 135,
   "metadata": {},
   "outputs": [],
   "source": [
    "from pyspark.sql.functions import split\n",
    "from pyspark.sql.types import IntegerType\n",
    "\n",
    "columns1 = ['ls','st','rs','lw','lf','cf','rf','rw','lam','cam','ram',\n",
    "            'lm','lcm','cm','rcm','rm','lwb','ldm', 'cdm','rdm','rwb',\n",
    "            'lb','lcb','cb','rcb','rb', 'gk']\n",
    "\n",
    "for col in columns1:\n",
    "    new_df = new_df.withColumn(col, split(new_df[col], r'\\+|-').getItem(0).cast(IntegerType()))"
   ]
  },
  {
   "cell_type": "code",
   "execution_count": 136,
   "metadata": {},
   "outputs": [
    {
     "name": "stdout",
     "output_type": "stream",
     "text": [
      "+---+--------------------+----------------+-------+---------+---------+--------+---+---------+---------+------------+--------------------+------------+-------------+-----------+--------------+--------------+---------+-----------+------------------------+-----------+----+--------+-------+---------+---------+------+------------------+-------------------+--------------------------+-----------------------+-----------------+---------------+-----------+-----------------+------------------+------------------+---------------------+---------------------+----------------+------------------+----------------+----------------+-------------+-------------+--------------+----------------+--------------------+-----------------------+---------------------+----------------+-------------------+-------------------+---------------------------+-------------------------+------------------------+------------------+--------------------+-------------------+-----------------------+--------------------+---+---+---+---+---+---+---+---+---+---+---+---+---+---+---+---+---+---+---+---+---+---+---+---+---+---+---+----+---+\n",
      "|_c0|           long_name|player_positions|overall|potential|value_eur|wage_eur|age|height_cm|weight_kg|club_team_id|         league_name|league_level|club_position|club_joined|nationality_id|preferred_foot|weak_foot|skill_moves|international_reputation|  work_rate|pace|shooting|passing|dribbling|defending|physic|attacking_crossing|attacking_finishing|attacking_heading_accuracy|attacking_short_passing|attacking_volleys|skill_dribbling|skill_curve|skill_fk_accuracy|skill_long_passing|skill_ball_control|movement_acceleration|movement_sprint_speed|movement_agility|movement_reactions|movement_balance|power_shot_power|power_jumping|power_stamina|power_strength|power_long_shots|mentality_aggression|mentality_interceptions|mentality_positioning|mentality_vision|mentality_penalties|mentality_composure|defending_marking_awareness|defending_standing_tackle|defending_sliding_tackle|goalkeeping_diving|goalkeeping_handling|goalkeeping_kicking|goalkeeping_positioning|goalkeeping_reflexes| ls| st| rs| lw| lf| cf| rf| rw|lam|cam|ram| lm|lcm| cm|rcm| rm|lwb|ldm|cdm|rdm|rwb| lb|lcb| cb|rcb| rb| gk|year| id|\n",
      "+---+--------------------+----------------+-------+---------+---------+--------+---+---------+---------+------------+--------------------+------------+-------------+-----------+--------------+--------------+---------+-----------+------------------------+-----------+----+--------+-------+---------+---------+------+------------------+-------------------+--------------------------+-----------------------+-----------------+---------------+-----------+-----------------+------------------+------------------+---------------------+---------------------+----------------+------------------+----------------+----------------+-------------+-------------+--------------+----------------+--------------------+-----------------------+---------------------+----------------+-------------------+-------------------+---------------------------+-------------------------+------------------------+------------------+--------------------+-------------------+-----------------------+--------------------+---+---+---+---+---+---+---+---+---+---+---+---+---+---+---+---+---+---+---+---+---+---+---+---+---+---+---+----+---+\n",
      "|  0|Lionel Andrés Mes...|      RW, ST, CF|     93|       93|    7.8E7|320000.0| 34|      170|       72|        73.0|      French Ligue 1|         1.0|           RW| 2021-08-10|            52|          Left|        4|          4|                       5| Medium/Low|85.0|    92.0|   91.0|     95.0|     34.0|  65.0|                85|                 95|                        70|                     91|               88|             96|         93|               94|                91|                96|                   91|                   80|              91|                94|              95|              86|           68|           72|            69|              94|                  44|                     40|                   93|              95|                 75|                 96|                         20|                       35|                      24|                 6|                  11|                 15|                     14|                   8| 89| 89| 89| 92| 93| 93| 93| 92| 93| 93| 93| 91| 87| 87| 87| 91| 66| 64| 64| 64| 66| 61| 50| 50| 50| 61| 19|  22|  0|\n",
      "|  1|  Robert Lewandowski|              ST|     92|       92|  1.195E8|270000.0| 32|      185|       81|        21.0|German 1. Bundesliga|         1.0|           ST| 2014-07-01|            37|         Right|        4|          4|                       5|High/Medium|78.0|    92.0|   79.0|     86.0|     44.0|  82.0|                71|                 95|                        90|                     85|               89|             85|         79|               85|                70|                88|                   77|                   79|              77|                93|              82|              90|           85|           76|            86|              87|                  81|                     49|                   95|              81|                 90|                 88|                         35|                       42|                      19|                15|                   6|                 12|                      8|                  10| 90| 90| 90| 85| 88| 88| 88| 85| 86| 86| 86| 84| 80| 80| 80| 84| 64| 66| 66| 66| 64| 61| 60| 60| 60| 61| 19|  22|  1|\n",
      "|  2|Cristiano Ronaldo...|          ST, LW|     91|       91|    4.5E7|270000.0| 36|      187|       83|        11.0|English Premier L...|         1.0|           ST| 2021-08-27|            38|         Right|        4|          5|                       5|   High/Low|87.0|    94.0|   80.0|     88.0|     34.0|  75.0|                87|                 95|                        90|                     80|               86|             88|         81|               84|                77|                88|                   85|                   88|              86|                94|              74|              94|           95|           77|            77|              93|                  63|                     29|                   95|              76|                 88|                 95|                         24|                       32|                      24|                 7|                  11|                 15|                     14|                  11| 90| 90| 90| 88| 89| 89| 89| 88| 86| 86| 86| 86| 78| 78| 78| 86| 63| 59| 59| 59| 63| 60| 53| 53| 53| 60| 20|  22|  2|\n",
      "|  3|Neymar da Silva S...|         LW, CAM|     91|       91|   1.29E8|270000.0| 29|      175|       68|        73.0|      French Ligue 1|         1.0|           LW| 2017-08-03|            54|         Right|        5|          5|                       5|High/Medium|91.0|    83.0|   86.0|     94.0|     37.0|  63.0|                85|                 83|                        63|                     86|               86|             95|         88|               87|                81|                95|                   93|                   89|              96|                89|              84|              80|           64|           81|            53|              81|                  63|                     37|                   86|              90|                 93|                 93|                         35|                       32|                      29|                 9|                   9|                 15|                     15|                  11| 83| 83| 83| 90| 88| 88| 88| 90| 89| 89| 89| 89| 82| 82| 82| 89| 67| 63| 63| 63| 67| 62| 50| 50| 50| 62| 20|  22|  3|\n",
      "|  4|     Kevin De Bruyne|         CM, CAM|     91|       91|  1.255E8|350000.0| 30|      181|       70|        10.0|English Premier L...|         1.0|          RCM| 2015-08-30|             7|         Right|        5|          4|                       4|  High/High|76.0|    86.0|   93.0|     88.0|     64.0|  78.0|                94|                 82|                        55|                     94|               82|             88|         85|               83|                93|                91|                   76|                   76|              79|                91|              78|              91|           63|           89|            74|              91|                  76|                     66|                   88|              94|                 83|                 89|                         68|                       65|                      53|                15|                  13|                  5|                     10|                  13| 83| 83| 83| 88| 87| 87| 87| 88| 89| 89| 89| 89| 89| 89| 89| 89| 79| 80| 80| 80| 79| 75| 69| 69| 69| 75| 21|  22|  4|\n",
      "+---+--------------------+----------------+-------+---------+---------+--------+---+---------+---------+------------+--------------------+------------+-------------+-----------+--------------+--------------+---------+-----------+------------------------+-----------+----+--------+-------+---------+---------+------+------------------+-------------------+--------------------------+-----------------------+-----------------+---------------+-----------+-----------------+------------------+------------------+---------------------+---------------------+----------------+------------------+----------------+----------------+-------------+-------------+--------------+----------------+--------------------+-----------------------+---------------------+----------------+-------------------+-------------------+---------------------------+-------------------------+------------------------+------------------+--------------------+-------------------+-----------------------+--------------------+---+---+---+---+---+---+---+---+---+---+---+---+---+---+---+---+---+---+---+---+---+---+---+---+---+---+---+----+---+\n",
      "only showing top 5 rows\n",
      "\n"
     ]
    },
    {
     "name": "stderr",
     "output_type": "stream",
     "text": [
      "23/11/08 15:24:37 WARN CSVHeaderChecker: CSV header does not conform to the schema.\n",
      " Header: , long_name, player_positions, overall, potential, value_eur, wage_eur, age, height_cm, weight_kg, club_team_id, league_name, league_level, club_position, club_joined, nationality_id, preferred_foot, weak_foot, skill_moves, international_reputation, work_rate, pace, shooting, passing, dribbling, defending, physic, attacking_crossing, attacking_finishing, attacking_heading_accuracy, attacking_short_passing, attacking_volleys, skill_dribbling, skill_curve, skill_fk_accuracy, skill_long_passing, skill_ball_control, movement_acceleration, movement_sprint_speed, movement_agility, movement_reactions, movement_balance, power_shot_power, power_jumping, power_stamina, power_strength, power_long_shots, mentality_aggression, mentality_interceptions, mentality_positioning, mentality_vision, mentality_penalties, mentality_composure, defending_marking_awareness, defending_standing_tackle, defending_sliding_tackle, goalkeeping_diving, goalkeeping_handling, goalkeeping_kicking, goalkeeping_positioning, goalkeeping_reflexes, ls, st, rs, lw, lf, cf, rf, rw, lam, cam, ram, lm, lcm, cm, rcm, rm, lwb, ldm, cdm, rdm, rwb, lb, lcb, cb, rcb, rb, gk, year, id\n",
      " Schema: _c0, long_name, player_positions, overall, potential, value_eur, wage_eur, age, height_cm, weight_kg, club_team_id, league_name, league_level, club_position, club_joined, nationality_id, preferred_foot, weak_foot, skill_moves, international_reputation, work_rate, pace, shooting, passing, dribbling, defending, physic, attacking_crossing, attacking_finishing, attacking_heading_accuracy, attacking_short_passing, attacking_volleys, skill_dribbling, skill_curve, skill_fk_accuracy, skill_long_passing, skill_ball_control, movement_acceleration, movement_sprint_speed, movement_agility, movement_reactions, movement_balance, power_shot_power, power_jumping, power_stamina, power_strength, power_long_shots, mentality_aggression, mentality_interceptions, mentality_positioning, mentality_vision, mentality_penalties, mentality_composure, defending_marking_awareness, defending_standing_tackle, defending_sliding_tackle, goalkeeping_diving, goalkeeping_handling, goalkeeping_kicking, goalkeeping_positioning, goalkeeping_reflexes, ls, st, rs, lw, lf, cf, rf, rw, lam, cam, ram, lm, lcm, cm, rcm, rm, lwb, ldm, cdm, rdm, rwb, lb, lcb, cb, rcb, rb, gk, year, id\n",
      "Expected: _c0 but found: \n",
      "CSV file: file:///Users/dylan/DylanLi/Code_Repo/CMU18763_Projects1/full_data.csv\n"
     ]
    }
   ],
   "source": [
    "new_df.show(5)"
   ]
  },
  {
   "cell_type": "code",
   "execution_count": 137,
   "metadata": {},
   "outputs": [
    {
     "data": {
      "text/plain": [
       "(142079, 90)"
      ]
     },
     "execution_count": 137,
     "metadata": {},
     "output_type": "execute_result"
    }
   ],
   "source": [
    "(new_df.count(), len(new_df.columns))"
   ]
  },
  {
   "cell_type": "markdown",
   "metadata": {},
   "source": [
    "### Handling Missing Value\n",
    "\n",
    "From insights from EDA, we know: \n",
    "\n",
    "- Some cols' missing pattern is the same.\n",
    "  - 'passing', 'pace', 'physic', 'defending','dribbling', 'shooting'\n",
    "  - 'league_level', 'value_eur', 'club_team_id', 'wage_eur', 'league_name', 'club_position'\n",
    "\n",
    "Some cols has it's unique pattern\n",
    "  - mentality_composure\n",
    "  - gk\n",
    "  - club_joined\n",
    "\n",
    "So, for group missing value, we define that it is MAR. For unique missing value, we define that it is MCAR.\n",
    "\n",
    "- For MAR, we use a linear regreesion to impute numerical value because we find that the missing pattern is the same and there is a high correlation between the missing value and other cols. We use KNN to impute categorical value. \n",
    "- For MCAR, we use mean to impute numerical value and use mode to impute categorical value."
   ]
  },
  {
   "cell_type": "markdown",
   "metadata": {},
   "source": [
    "#### MCAR"
   ]
  },
  {
   "cell_type": "code",
   "execution_count": 138,
   "metadata": {},
   "outputs": [],
   "source": [
    "from pyspark.ml.feature import Imputer\n",
    "# For numerical columns\n",
    "imputer = Imputer(inputCols=['mentality_composure', 'gk'], \n",
    "                  outputCols=[\"{}_imputed\".format(c) for c in ['mentality_composure', 'gk']])\n",
    "model = imputer.fit(new_df)\n",
    "new_df = model.transform(new_df)\n",
    "new_df = new_df.drop('mentality_composure', 'gk')\n"
   ]
  },
  {
   "cell_type": "code",
   "execution_count": 139,
   "metadata": {},
   "outputs": [],
   "source": [
    "\n",
    "# For categorical columns, you can calculate the mode and fill in the missing values\n",
    "from pyspark.sql.functions import when, lit\n",
    "\n",
    "mode = new_df.groupBy('club_joined').count().orderBy('count', ascending=False).first()[0]\n",
    "new_df = new_df.withColumn('club_joined', when(df['club_joined'].isNull(), lit(mode)).otherwise(new_df['club_joined']))"
   ]
  },
  {
   "cell_type": "code",
   "execution_count": 140,
   "metadata": {},
   "outputs": [],
   "source": [
    "new_df = new_df.drop('_c0')"
   ]
  },
  {
   "cell_type": "markdown",
   "metadata": {},
   "source": [
    "#### MAR"
   ]
  },
  {
   "cell_type": "code",
   "execution_count": 141,
   "metadata": {},
   "outputs": [
    {
     "name": "stdout",
     "output_type": "stream",
     "text": [
      "+------------+---------+------------+--------+--------------------+-------------+\n",
      "|league_level|value_eur|club_team_id|wage_eur|         league_name|club_position|\n",
      "+------------+---------+------------+--------+--------------------+-------------+\n",
      "|         1.0|    7.8E7|        73.0|320000.0|      French Ligue 1|           RW|\n",
      "|         1.0|  1.195E8|        21.0|270000.0|German 1. Bundesliga|           ST|\n",
      "|         1.0|    4.5E7|        11.0|270000.0|English Premier L...|           ST|\n",
      "|         1.0|   1.29E8|        73.0|270000.0|      French Ligue 1|           LW|\n",
      "|         1.0|  1.255E8|        10.0|350000.0|English Premier L...|          RCM|\n",
      "|         1.0|   1.12E8|       240.0|130000.0|Spain Primera Div...|           GK|\n",
      "|         1.0|   1.94E8|        73.0|230000.0|      French Ligue 1|           ST|\n",
      "|         1.0|   1.35E7|        21.0| 86000.0|German 1. Bundesliga|           GK|\n",
      "|         1.0|    9.9E7|       241.0|250000.0|Spain Primera Div...|           GK|\n",
      "|         1.0|  1.295E8|        18.0|240000.0|English Premier L...|           ST|\n",
      "|         1.0|    1.0E8|         5.0|230000.0|English Premier L...|          RCM|\n",
      "|         1.0|    6.6E7|       243.0|350000.0|Spain Primera Div...|           CF|\n",
      "|         1.0|   8.55E7|       243.0|250000.0|Spain Primera Div...|           GK|\n",
      "|         1.0|   1.04E8|        18.0|220000.0|English Premier L...|           LW|\n",
      "|         1.0|    8.8E7|       243.0|310000.0|Spain Primera Div...|          CDM|\n",
      "|         1.0|    8.6E7|         9.0|230000.0|English Premier L...|          LCB|\n",
      "|         1.0|   1.01E8|         9.0|270000.0|English Premier L...|           LW|\n",
      "|         1.0|   1.01E8|         9.0|270000.0|English Premier L...|           RW|\n",
      "|         1.0|    9.4E7|        10.0|200000.0|English Premier L...|           GK|\n",
      "|         1.0|   1.08E8|        21.0|160000.0|German 1. Bundesliga|          RDM|\n",
      "+------------+---------+------------+--------+--------------------+-------------+\n",
      "only showing top 20 rows\n",
      "\n"
     ]
    }
   ],
   "source": [
    "new_df.select(['league_level', 'value_eur', 'club_team_id', 'wage_eur', 'league_name', 'club_position']).show()"
   ]
  },
  {
   "cell_type": "code",
   "execution_count": 142,
   "metadata": {},
   "outputs": [],
   "source": [
    "from pyspark.ml.feature import StringIndexer\n",
    "for col in ['club_position', 'league_name']: \n",
    "    indexer = StringIndexer(inputCol=col, outputCol=col+\"_index\")\n",
    "    new_df = indexer.fit(new_df).transform(new_df)\n",
    "    new_df = new_df.drop(col)"
   ]
  },
  {
   "cell_type": "code",
   "execution_count": 154,
   "metadata": {},
   "outputs": [],
   "source": [
    "feature_cols = [ 'potential', 'value_eur', 'wage_eur', 'age', 'height_cm', 'weight_kg', 'club_team_id', 'league_level', 'nationality_id', 'weak_foot', 'skill_moves', 'international_reputation', 'pace', 'shooting', 'passing', 'dribbling', \n",
    "                'defending', 'physic', 'attacking_crossing', 'attacking_finishing', 'attacking_heading_accuracy', 'attacking_short_passing', 'attacking_volleys', 'skill_dribbling', 'skill_curve', 'skill_fk_accuracy', 'skill_long_passing', \n",
    "                'skill_ball_control', 'movement_acceleration', 'movement_sprint_speed', 'movement_agility', 'movement_reactions', 'movement_balance', 'power_shot_power', 'power_jumping', 'power_stamina', 'power_strength', 'power_long_shots', \n",
    "                'mentality_aggression', 'mentality_interceptions', 'mentality_positioning', 'mentality_vision', 'mentality_penalties', 'defending_marking_awareness', 'defending_standing_tackle', 'defending_sliding_tackle', 'goalkeeping_diving', 'goalkeeping_handling', \n",
    "                'goalkeeping_kicking', 'goalkeeping_positioning', 'goalkeeping_reflexes', 'ls', 'st', 'rs', 'lw', 'lf', 'cf', 'rf', 'rw', 'lam', 'cam', 'ram', 'lm', 'lcm', 'cm', 'rcm', 'rm', 'lwb', 'ldm', 'cdm', 'rdm', 'rwb', 'lb', 'lcb', 'cb', 'rcb', 'rb', \n",
    "                'year', 'mentality_composure_imputed', 'gk_imputed', 'club_position_index', 'league_name_index', 'Position_GK', 'Position_RW', 'Position_LW', 'Position_ST', 'Position_RB', 'Position_RWB', 'Position_CM', 'Position_LWB', \n",
    "                'Position_LM', 'Position_CDM', 'Position_LB', 'Position_CB', 'Position_CF', 'Position_RM', 'Position_CAM', 'work_rate_index', 'preferred_foot_index']"
   ]
  },
  {
   "cell_type": "code",
   "execution_count": 161,
   "metadata": {},
   "outputs": [],
   "source": [
    "target_col = ['overall']"
   ]
  },
  {
   "cell_type": "markdown",
   "metadata": {},
   "source": [
    "To impute"
   ]
  },
  {
   "cell_type": "code",
   "execution_count": 157,
   "metadata": {},
   "outputs": [
    {
     "name": "stderr",
     "output_type": "stream",
     "text": [
      "                                                                                \r"
     ]
    }
   ],
   "source": [
    "from pyspark.sql.functions import col, count, when\n",
    "new_df = new_df.select(feature_cols)\n",
    "null_counts = new_df.select([count(when(col(c).isNull(), 1)).alias(c) for c in new_df.columns]).collect()[0].asDict()\n",
    "missing_cols = [k for k, v in null_counts.items() if v > 0]\n",
    "non_missing_cols = [k for k, v in null_counts.items() if v == 0]"
   ]
  },
  {
   "cell_type": "code",
   "execution_count": 158,
   "metadata": {},
   "outputs": [
    {
     "data": {
      "text/plain": [
       "['value_eur',\n",
       " 'wage_eur',\n",
       " 'club_team_id',\n",
       " 'league_level',\n",
       " 'pace',\n",
       " 'shooting',\n",
       " 'passing',\n",
       " 'dribbling',\n",
       " 'defending',\n",
       " 'physic']"
      ]
     },
     "execution_count": 158,
     "metadata": {},
     "output_type": "execute_result"
    }
   ],
   "source": [
    "missing_cols"
   ]
  },
  {
   "cell_type": "code",
   "execution_count": 159,
   "metadata": {},
   "outputs": [
    {
     "data": {
      "text/plain": [
       "['potential',\n",
       " 'age',\n",
       " 'height_cm',\n",
       " 'weight_kg',\n",
       " 'nationality_id',\n",
       " 'weak_foot',\n",
       " 'skill_moves',\n",
       " 'international_reputation',\n",
       " 'attacking_crossing',\n",
       " 'attacking_finishing',\n",
       " 'attacking_heading_accuracy',\n",
       " 'attacking_short_passing',\n",
       " 'attacking_volleys',\n",
       " 'skill_dribbling',\n",
       " 'skill_curve',\n",
       " 'skill_fk_accuracy',\n",
       " 'skill_long_passing',\n",
       " 'skill_ball_control',\n",
       " 'movement_acceleration',\n",
       " 'movement_sprint_speed',\n",
       " 'movement_agility',\n",
       " 'movement_reactions',\n",
       " 'movement_balance',\n",
       " 'power_shot_power',\n",
       " 'power_jumping',\n",
       " 'power_stamina',\n",
       " 'power_strength',\n",
       " 'power_long_shots',\n",
       " 'mentality_aggression',\n",
       " 'mentality_interceptions',\n",
       " 'mentality_positioning',\n",
       " 'mentality_vision',\n",
       " 'mentality_penalties',\n",
       " 'defending_marking_awareness',\n",
       " 'defending_standing_tackle',\n",
       " 'defending_sliding_tackle',\n",
       " 'goalkeeping_diving',\n",
       " 'goalkeeping_handling',\n",
       " 'goalkeeping_kicking',\n",
       " 'goalkeeping_positioning',\n",
       " 'goalkeeping_reflexes',\n",
       " 'ls',\n",
       " 'st',\n",
       " 'rs',\n",
       " 'lw',\n",
       " 'lf',\n",
       " 'cf',\n",
       " 'rf',\n",
       " 'rw',\n",
       " 'lam',\n",
       " 'cam',\n",
       " 'ram',\n",
       " 'lm',\n",
       " 'lcm',\n",
       " 'cm',\n",
       " 'rcm',\n",
       " 'rm',\n",
       " 'lwb',\n",
       " 'ldm',\n",
       " 'cdm',\n",
       " 'rdm',\n",
       " 'rwb',\n",
       " 'lb',\n",
       " 'lcb',\n",
       " 'cb',\n",
       " 'rcb',\n",
       " 'rb',\n",
       " 'year',\n",
       " 'mentality_composure_imputed',\n",
       " 'gk_imputed',\n",
       " 'club_position_index',\n",
       " 'league_name_index',\n",
       " 'Position_GK',\n",
       " 'Position_RW',\n",
       " 'Position_LW',\n",
       " 'Position_ST',\n",
       " 'Position_RB',\n",
       " 'Position_RWB',\n",
       " 'Position_CM',\n",
       " 'Position_LWB',\n",
       " 'Position_LM',\n",
       " 'Position_CDM',\n",
       " 'Position_LB',\n",
       " 'Position_CB',\n",
       " 'Position_CF',\n",
       " 'Position_RM',\n",
       " 'Position_CAM',\n",
       " 'work_rate_index',\n",
       " 'preferred_foot_index']"
      ]
     },
     "execution_count": 159,
     "metadata": {},
     "output_type": "execute_result"
    }
   ],
   "source": [
    "non_missing_cols"
   ]
  },
  {
   "cell_type": "code",
   "execution_count": 162,
   "metadata": {},
   "outputs": [
    {
     "name": "stdout",
     "output_type": "stream",
     "text": [
      "+---------+---------+--------+---+---------+---------+------------+------------+--------------+---------+-----------+------------------------+----+--------+-------+---------+---------+------+------------------+-------------------+--------------------------+-----------------------+-----------------+---------------+-----------+-----------------+------------------+------------------+---------------------+---------------------+----------------+------------------+----------------+----------------+-------------+-------------+--------------+----------------+--------------------+-----------------------+---------------------+----------------+-------------------+---------------------------+-------------------------+------------------------+------------------+--------------------+-------------------+-----------------------+--------------------+---+---+---+---+---+---+---+---+---+---+---+---+---+---+---+---+---+---+---+---+---+---+---+---+---+---+----+---------------------------+----------+-------------------+-----------------+-----------+-----------+-----------+-----------+-----------+------------+-----------+------------+-----------+------------+-----------+-----------+-----------+-----------+------------+---------------+--------------------+\n",
      "|potential|value_eur|wage_eur|age|height_cm|weight_kg|club_team_id|league_level|nationality_id|weak_foot|skill_moves|international_reputation|pace|shooting|passing|dribbling|defending|physic|attacking_crossing|attacking_finishing|attacking_heading_accuracy|attacking_short_passing|attacking_volleys|skill_dribbling|skill_curve|skill_fk_accuracy|skill_long_passing|skill_ball_control|movement_acceleration|movement_sprint_speed|movement_agility|movement_reactions|movement_balance|power_shot_power|power_jumping|power_stamina|power_strength|power_long_shots|mentality_aggression|mentality_interceptions|mentality_positioning|mentality_vision|mentality_penalties|defending_marking_awareness|defending_standing_tackle|defending_sliding_tackle|goalkeeping_diving|goalkeeping_handling|goalkeeping_kicking|goalkeeping_positioning|goalkeeping_reflexes| ls| st| rs| lw| lf| cf| rf| rw|lam|cam|ram| lm|lcm| cm|rcm| rm|lwb|ldm|cdm|rdm|rwb| lb|lcb| cb|rcb| rb|year|mentality_composure_imputed|gk_imputed|club_position_index|league_name_index|Position_GK|Position_RW|Position_LW|Position_ST|Position_RB|Position_RWB|Position_CM|Position_LWB|Position_LM|Position_CDM|Position_LB|Position_CB|Position_CF|Position_RM|Position_CAM|work_rate_index|preferred_foot_index|\n",
      "+---------+---------+--------+---+---------+---------+------------+------------+--------------+---------+-----------+------------------------+----+--------+-------+---------+---------+------+------------------+-------------------+--------------------------+-----------------------+-----------------+---------------+-----------+-----------------+------------------+------------------+---------------------+---------------------+----------------+------------------+----------------+----------------+-------------+-------------+--------------+----------------+--------------------+-----------------------+---------------------+----------------+-------------------+---------------------------+-------------------------+------------------------+------------------+--------------------+-------------------+-----------------------+--------------------+---+---+---+---+---+---+---+---+---+---+---+---+---+---+---+---+---+---+---+---+---+---+---+---+---+---+----+---------------------------+----------+-------------------+-----------------+-----------+-----------+-----------+-----------+-----------+------------+-----------+------------+-----------+------------+-----------+-----------+-----------+-----------+------------+---------------+--------------------+\n",
      "|       93|    7.8E7|320000.0| 34|      170|       72|        73.0|         1.0|            52|        4|          4|                       5|85.0|    92.0|   91.0|     95.0|     34.0|  65.0|                85|                 95|                        70|                     91|               88|             96|         93|               94|                91|                96|                   91|                   80|              91|                94|              95|              86|           68|           72|            69|              94|                  44|                     40|                   93|              95|                 75|                         20|                       35|                      24|                 6|                  11|                 15|                     14|                   8| 89| 89| 89| 92| 93| 93| 93| 92| 93| 93| 93| 91| 87| 87| 87| 91| 66| 64| 64| 64| 66| 61| 50| 50| 50| 61|  22|                         96|        19|               19.0|              9.0|          0|          1|          0|          1|          0|           0|          0|           0|          0|           0|          0|          0|          1|          0|           0|            3.0|                 1.0|\n",
      "|       92|  1.195E8|270000.0| 32|      185|       81|        21.0|         1.0|            37|        4|          4|                       5|78.0|    92.0|   79.0|     86.0|     44.0|  82.0|                71|                 95|                        90|                     85|               89|             85|         79|               85|                70|                88|                   77|                   79|              77|                93|              82|              90|           85|           76|            86|              87|                  81|                     49|                   95|              81|                 90|                         35|                       42|                      19|                15|                   6|                 12|                      8|                  10| 90| 90| 90| 85| 88| 88| 88| 85| 86| 86| 86| 84| 80| 80| 80| 84| 64| 66| 66| 66| 64| 61| 60| 60| 60| 61|  22|                         88|        19|                7.0|             10.0|          0|          0|          0|          1|          0|           0|          0|           0|          0|           0|          0|          0|          0|          0|           0|            1.0|                 0.0|\n",
      "|       91|    4.5E7|270000.0| 36|      187|       83|        11.0|         1.0|            38|        4|          5|                       5|87.0|    94.0|   80.0|     88.0|     34.0|  75.0|                87|                 95|                        90|                     80|               86|             88|         81|               84|                77|                88|                   85|                   88|              86|                94|              74|              94|           95|           77|            77|              93|                  63|                     29|                   95|              76|                 88|                         24|                       32|                      24|                 7|                  11|                 15|                     14|                  11| 90| 90| 90| 88| 89| 89| 89| 88| 86| 86| 86| 86| 78| 78| 78| 86| 63| 59| 59| 59| 63| 60| 53| 53| 53| 60|  22|                         95|        20|                7.0|              2.0|          0|          0|          1|          1|          0|           0|          0|           0|          0|           0|          0|          0|          0|          0|           0|            5.0|                 0.0|\n",
      "|       91|   1.29E8|270000.0| 29|      175|       68|        73.0|         1.0|            54|        5|          5|                       5|91.0|    83.0|   86.0|     94.0|     37.0|  63.0|                85|                 83|                        63|                     86|               86|             95|         88|               87|                81|                95|                   93|                   89|              96|                89|              84|              80|           64|           81|            53|              81|                  63|                     37|                   86|              90|                 93|                         35|                       32|                      29|                 9|                   9|                 15|                     15|                  11| 83| 83| 83| 90| 88| 88| 88| 90| 89| 89| 89| 89| 82| 82| 82| 89| 67| 63| 63| 63| 67| 62| 50| 50| 50| 62|  22|                         93|        20|               18.0|              9.0|          0|          0|          1|          0|          0|           0|          0|           0|          0|           0|          0|          0|          0|          0|           1|            1.0|                 0.0|\n",
      "|       91|  1.255E8|350000.0| 30|      181|       70|        10.0|         1.0|             7|        5|          4|                       4|76.0|    86.0|   93.0|     88.0|     64.0|  78.0|                94|                 82|                        55|                     94|               82|             88|         85|               83|                93|                91|                   76|                   76|              79|                91|              78|              91|           63|           89|            74|              91|                  76|                     66|                   88|              94|                 83|                         68|                       65|                      53|                15|                  13|                  5|                     10|                  13| 83| 83| 83| 88| 87| 87| 87| 88| 89| 89| 89| 89| 89| 89| 89| 89| 79| 80| 80| 80| 79| 75| 69| 69| 69| 75|  22|                         89|        21|               11.0|              2.0|          0|          0|          0|          0|          0|           0|          1|           0|          0|           0|          0|          0|          0|          0|           1|            4.0|                 0.0|\n",
      "|       93|   1.12E8|130000.0| 28|      188|       87|       240.0|         1.0|            44|        3|          1|                       5|null|    null|   null|     null|     null|  null|                13|                 11|                        15|                     43|               13|             12|         13|               14|                40|                30|                   43|                   60|              67|                88|              49|              59|           78|           41|            78|              12|                  34|                     19|                   11|              65|                 11|                         27|                       12|                      18|                87|                  92|                 78|                     90|                  90| 33| 33| 33| 32| 35| 35| 35| 32| 38| 38| 38| 35| 38| 38| 38| 35| 32| 36| 36| 36| 32| 32| 33| 33| 33| 32|  22|                         68|        89|                2.0|              6.0|          1|          0|          0|          0|          0|           0|          0|           0|          0|           0|          0|          0|          0|          0|           0|            0.0|                 0.0|\n",
      "|       95|   1.94E8|230000.0| 22|      182|       73|        73.0|         1.0|            18|        4|          5|                       4|97.0|    88.0|   80.0|     92.0|     36.0|  77.0|                78|                 93|                        72|                     85|               83|             93|         80|               69|                71|                91|                   97|                   97|              92|                93|              83|              86|           78|           88|            77|              82|                  62|                     38|                   92|              82|                 79|                         26|                       34|                      32|                13|                   5|                  7|                     11|                   6| 89| 89| 89| 90| 90| 90| 90| 90| 89| 89| 89| 89| 81| 81| 81| 89| 67| 63| 63| 63| 67| 63| 54| 54| 54| 63|  22|                         88|        18|                7.0|              9.0|          0|          0|          1|          1|          0|           0|          0|           0|          0|           0|          0|          0|          0|          0|           0|            5.0|                 0.0|\n",
      "|       90|   1.35E7| 86000.0| 35|      193|       93|        21.0|         1.0|            21|        4|          1|                       5|null|    null|   null|     null|     null|  null|                15|                 13|                        25|                     60|               11|             30|         14|               11|                68|                46|                   54|                   60|              51|                87|              35|              68|           77|           43|            80|              16|                  29|                     30|                   12|              70|                 47|                         17|                       10|                      11|                88|                  88|                 91|                     89|                  88| 40| 40| 40| 40| 43| 43| 43| 40| 47| 47| 47| 44| 50| 50| 50| 44| 37| 43| 43| 43| 37| 35| 34| 34| 34| 35|  22|                         70|        88|                2.0|             10.0|          1|          0|          0|          0|          0|           0|          0|           0|          0|           0|          0|          0|          0|          0|           0|            0.0|                 0.0|\n",
      "|       92|    9.9E7|250000.0| 29|      187|       85|       241.0|         1.0|            21|        4|          1|                       4|null|    null|   null|     null|     null|  null|                18|                 14|                        11|                     61|               14|             21|         18|               12|                63|                30|                   38|                   50|              39|                86|              43|              66|           79|           35|            78|              10|                  43|                     22|                   11|              70|                 25|                         25|                       13|                      10|                88|                  85|                 88|                     88|                  90| 35| 35| 35| 35| 38| 38| 38| 35| 42| 42| 42| 39| 45| 45| 45| 39| 33| 41| 41| 41| 33| 31| 33| 33| 33| 31|  22|                         70|        88|                2.0|              6.0|          1|          0|          0|          0|          0|           0|          0|           0|          0|           0|          0|          0|          0|          0|           0|            0.0|                 0.0|\n",
      "|       90|  1.295E8|240000.0| 27|      188|       89|        18.0|         1.0|            14|        5|          3|                       4|70.0|    91.0|   83.0|     83.0|     47.0|  83.0|                80|                 94|                        86|                     85|               88|             83|         83|               65|                86|                85|                   65|                   74|              71|                92|              70|              91|           79|           83|            85|              86|                  80|                     44|                   94|              87|                 91|                         50|                       36|                      38|                 8|                  10|                 11|                     14|                  11| 88| 88| 88| 84| 86| 86| 86| 84| 85| 85| 85| 84| 82| 82| 82| 84| 67| 68| 68| 68| 67| 64| 61| 61| 61| 64|  22|                         91|        20|                7.0|              2.0|          0|          0|          0|          1|          0|           0|          0|           0|          0|           0|          0|          0|          0|          0|           0|            4.0|                 0.0|\n",
      "|       90|    1.0E8|230000.0| 30|      168|       70|         5.0|         1.0|            18|        3|          2|                       4|78.0|    66.0|   75.0|     82.0|     87.0|  83.0|                68|                 65|                        54|                     82|               56|             79|         49|               49|                79|                81|                   82|                   75|              82|                93|              92|              71|           77|           97|            72|              65|                  93|                     91|                   72|              78|                 54|                         90|                       93|                      86|                15|                  12|                 10|                      7|                  10| 72| 72| 72| 77| 77| 77| 77| 77| 78| 78| 78| 79| 82| 82| 82| 79| 85| 87| 87| 87| 85| 85| 84| 84| 84| 85|  22|                         84|        20|               11.0|              2.0|          0|          0|          0|          0|          0|           0|          1|           0|          0|           1|          0|          0|          0|          0|           0|            2.0|                 0.0|\n",
      "|       89|    6.6E7|350000.0| 33|      185|       81|       243.0|         1.0|            18|        4|          4|                       4|76.0|    86.0|   81.0|     87.0|     39.0|  77.0|                75|                 90|                        89|                     86|               86|             87|         81|               73|                73|                90|                   77|                   75|              79|                91|              72|              85|           79|           78|            82|              79|                  63|                     39|                   90|              87|                 84|                         43|                       24|                      18|                13|                  11|                  5|                      5|                   7| 87| 87| 87| 85| 87| 87| 87| 85| 86| 86| 86| 84| 80| 80| 80| 84| 63| 62| 62| 62| 63| 59| 55| 55| 55| 59|  22|                         90|        18|               28.0|              6.0|          0|          0|          0|          1|          0|           0|          0|           0|          0|           0|          0|          0|          1|          0|           0|            0.0|                 0.0|\n",
      "|       91|   8.55E7|250000.0| 29|      199|       96|       243.0|         1.0|             7|        3|          1|                       4|null|    null|   null|     null|     null|  null|                14|                 14|                        13|                     33|               12|             13|         19|               20|                35|                23|                   42|                   52|              62|                84|              45|              56|           68|           38|            70|              17|                  23|                     15|                   13|              44|                 27|                         20|                       18|                      16|                84|                  89|                 74|                     86|                  88| 31| 31| 31| 29| 31| 31| 31| 29| 32| 32| 32| 31| 32| 32| 32| 31| 29| 31| 31| 31| 29| 29| 29| 29| 29| 29|  22|                         66|        86|                2.0|              6.0|          1|          0|          0|          0|          0|           0|          0|           0|          0|           0|          0|          0|          0|          0|           0|            0.0|                 1.0|\n",
      "|       89|   1.04E8|220000.0| 28|      183|       78|        18.0|         1.0|           167|        5|          4|                       4|88.0|    87.0|   82.0|     86.0|     43.0|  69.0|                83|                 88|                        68|                     84|               78|             87|         85|               74|                74|                84|                   85|                   90|              86|                91|              78|              88|           60|           88|            64|              89|                  62|                     39|                   91|              83|                 73|                         50|                       34|                      33|                11|                  13|                 13|                      6|                  10| 85| 85| 85| 87| 87| 87| 87| 87| 86| 86| 86| 86| 80| 80| 80| 86| 68| 64| 64| 64| 68| 64| 54| 54| 54| 64|  22|                         89|        19|               18.0|              2.0|          0|          0|          1|          0|          0|           0|          0|           0|          1|           0|          0|          0|          1|          0|           0|            4.0|                 0.0|\n",
      "|       89|    8.8E7|310000.0| 29|      185|       84|       243.0|         1.0|            54|        3|          2|                       3|65.0|    73.0|   76.0|     73.0|     86.0|  90.0|                58|                 64|                        79|                     84|               62|             69|         62|               74|                84|                79|                   60|                   69|              61|                87|              66|              88|           87|           89|            90|              81|                  91|                     87|                   75|              80|                 66|                         85|                       88|                      87|                13|                  14|                 16|                     12|                  12| 76| 76| 76| 72| 76| 76| 76| 72| 76| 76| 76| 74| 82| 82| 82| 74| 80| 86| 86| 86| 80| 81| 86| 86| 86| 81|  22|                         84|        21|               17.0|              6.0|          0|          0|          0|          0|          0|           0|          0|           0|          0|           1|          0|          0|          0|          0|           0|            4.0|                 0.0|\n",
      "|       89|    8.6E7|230000.0| 29|      193|       92|         9.0|         1.0|            34|        3|          2|                       4|78.0|    60.0|   71.0|     72.0|     91.0|  84.0|                53|                 52|                        87|                     79|               45|             70|         60|               70|                86|                76|                   66|                   88|              61|                87|              53|              81|           90|           69|            92|              64|                  83|                     90|                   47|              65|                 62|                         92|                       92|                      86|                13|                  10|                 13|                     11|                  11| 70| 70| 70| 67| 69| 69| 69| 67| 70| 70| 70| 70| 75| 75| 75| 70| 79| 84| 84| 84| 79| 81| 88| 88| 88| 81|  22|                         90|        20|                3.0|              2.0|          0|          0|          0|          0|          0|           0|          0|           0|          0|           0|          0|          1|          0|          0|           0|            0.0|                 0.0|\n",
      "|       89|   1.01E8|270000.0| 29|      175|       69|         9.0|         1.0|           136|        4|          4|                       4|91.0|    83.0|   80.0|     89.0|     44.0|  77.0|                78|                 86|                        84|                     84|               75|             90|         77|               64|                71|                88|                   93|                   90|              93|                91|              88|              83|           87|           85|            72|              80|                  75|                     35|                   90|              84|                 71|                         42|                       42|                      38|                10|                  10|                 15|                      7|                  14| 86| 86| 86| 87| 88| 88| 88| 87| 87| 87| 87| 86| 80| 80| 80| 86| 68| 65| 65| 65| 68| 65| 59| 59| 59| 65|  22|                         84|        19|               18.0|              2.0|          0|          0|          1|          0|          0|           0|          0|           0|          0|           0|          0|          0|          0|          0|           0|            1.0|                 0.0|\n",
      "|       89|   1.01E8|270000.0| 29|      175|       71|         9.0|         1.0|           111|        3|          4|                       4|90.0|    87.0|   81.0|     90.0|     45.0|  75.0|                79|                 91|                        59|                     84|               81|             90|         83|               69|                75|                89|                   89|                   91|              91|                92|              91|              82|           69|           85|            75|              84|                  63|                     55|                   91|              83|                 86|                         38|                       43|                      41|                14|                  14|                  9|                     11|                  14| 85| 85| 85| 88| 88| 88| 88| 88| 87| 87| 87| 87| 82| 82| 82| 87| 71| 68| 68| 68| 71| 67| 58| 58| 58| 67|  22|                         90|        22|               19.0|              2.0|          0|          1|          0|          0|          0|           0|          0|           0|          0|           0|          0|          0|          0|          0|           0|            1.0|                 1.0|\n",
      "|       91|    9.4E7|200000.0| 27|      188|       86|        10.0|         1.0|            54|        3|          1|                       3|null|    null|   null|     null|     null|  null|                20|                 14|                        14|                     61|               18|             23|         15|               20|                66|                40|                   64|                   63|              60|                88|              48|              70|           66|           41|            78|              18|                  38|                     27|                   20|              70|                 51|                         29|                       15|                       8|                87|                  82|                 93|                     88|                  88| 40| 40| 40| 41| 43| 43| 43| 41| 47| 47| 47| 44| 49| 49| 49| 44| 37| 44| 44| 44| 37| 36| 35| 35| 35| 36|  22|                         70|        87|                2.0|              2.0|          1|          0|          0|          0|          0|           0|          0|           0|          0|           0|          0|          0|          0|          0|           0|            0.0|                 1.0|\n",
      "|       90|   1.08E8|160000.0| 26|      177|       75|        21.0|         1.0|            21|        4|          3|                       4|70.0|    73.0|   86.0|     84.0|     83.0|  79.0|                91|                 68|                        72|                     87|               69|             83|         85|               61|                90|                85|                   77|                   65|              84|                88|              84|              78|           79|           94|            68|              84|                  89|                     84|                   80|              85|                 44|                         85|                       85|                      79|                 8|                  15|                  7|                     15|                  15| 77| 77| 77| 82| 81| 81| 81| 82| 83| 83| 83| 83| 86| 86| 86| 83| 85| 86| 86| 86| 85| 83| 81| 81| 81| 83|  22|                         85|        21|               13.0|             10.0|          0|          0|          0|          0|          1|           0|          0|           0|          0|           1|          0|          0|          0|          0|           0|            1.0|                 0.0|\n",
      "+---------+---------+--------+---+---------+---------+------------+------------+--------------+---------+-----------+------------------------+----+--------+-------+---------+---------+------+------------------+-------------------+--------------------------+-----------------------+-----------------+---------------+-----------+-----------------+------------------+------------------+---------------------+---------------------+----------------+------------------+----------------+----------------+-------------+-------------+--------------+----------------+--------------------+-----------------------+---------------------+----------------+-------------------+---------------------------+-------------------------+------------------------+------------------+--------------------+-------------------+-----------------------+--------------------+---+---+---+---+---+---+---+---+---+---+---+---+---+---+---+---+---+---+---+---+---+---+---+---+---+---+----+---------------------------+----------+-------------------+-----------------+-----------+-----------+-----------+-----------+-----------+------------+-----------+------------+-----------+------------+-----------+-----------+-----------+-----------+------------+---------------+--------------------+\n",
      "only showing top 20 rows\n",
      "\n"
     ]
    }
   ],
   "source": [
    "new_df.show()"
   ]
  },
  {
   "cell_type": "markdown",
   "metadata": {},
   "source": [
    "Transform and feature engineering non-missing cols"
   ]
  },
  {
   "cell_type": "code",
   "execution_count": 163,
   "metadata": {},
   "outputs": [
    {
     "ename": "AnalysisException",
     "evalue": "[UNRESOLVED_COLUMN.WITH_SUGGESTION] A column or function parameter with name `player_positions` cannot be resolved. Did you mean one of the following? [`potential`, `value_eur`, `wage_eur`, `age`, `height_cm`, `weight_kg`, `club_team_id`, `league_level`, `nationality_id`, `weak_foot`, `skill_moves`, `international_reputation`, `pace`, `shooting`, `passing`, `dribbling`, `defending`, `physic`, `attacking_crossing`, `attacking_finishing`, `attacking_heading_accuracy`, `attacking_short_passing`, `attacking_volleys`, `skill_dribbling`, `skill_curve`, `skill_fk_accuracy`, `skill_long_passing`, `skill_ball_control`, `movement_acceleration`, `movement_sprint_speed`, `movement_agility`, `movement_reactions`, `movement_balance`, `power_shot_power`, `power_jumping`, `power_stamina`, `power_strength`, `power_long_shots`, `mentality_aggression`, `mentality_interceptions`, `mentality_positioning`, `mentality_vision`, `mentality_penalties`, `defending_marking_awareness`, `defending_standing_tackle`, `defending_sliding_tackle`, `goalkeeping_diving`, `goalkeeping_handling`, `goalkeeping_kicking`, `goalkeeping_positioning`, `goalkeeping_reflexes`, `ls`, `st`, `rs`, `lw`, `lf`, `cf`, `rf`, `rw`, `lam`, `cam`, `ram`, `lm`, `lcm`, `cm`, `rcm`, `rm`, `lwb`, `ldm`, `cdm`, `rdm`, `rwb`, `lb`, `lcb`, `cb`, `rcb`, `rb`, `year`, `mentality_composure_imputed`, `gk_imputed`, `club_position_index`, `league_name_index`, `Position_GK`, `Position_RW`, `Position_LW`, `Position_ST`, `Position_RB`, `Position_RWB`, `Position_CM`, `Position_LWB`, `Position_LM`, `Position_CDM`, `Position_LB`, `Position_CB`, `Position_CF`, `Position_RM`, `Position_CAM`, `work_rate_index`, `preferred_foot_index`].",
     "output_type": "error",
     "traceback": [
      "\u001b[0;31m---------------------------------------------------------------------------\u001b[0m",
      "\u001b[0;31mAnalysisException\u001b[0m                         Traceback (most recent call last)",
      "\u001b[1;32m/Users/dylan/DylanLi/Code_Repo/CMU18763_Projects1/project1.ipynb Cell 66\u001b[0m line \u001b[0;36m5\n\u001b[1;32m      <a href='vscode-notebook-cell:/Users/dylan/DylanLi/Code_Repo/CMU18763_Projects1/project1.ipynb#Y113sZmlsZQ%3D%3D?line=1'>2</a>\u001b[0m \u001b[39mimport\u001b[39;00m \u001b[39mitertools\u001b[39;00m\n\u001b[1;32m      <a href='vscode-notebook-cell:/Users/dylan/DylanLi/Code_Repo/CMU18763_Projects1/project1.ipynb#Y113sZmlsZQ%3D%3D?line=3'>4</a>\u001b[0m \u001b[39m# Split positions into array\u001b[39;00m\n\u001b[0;32m----> <a href='vscode-notebook-cell:/Users/dylan/DylanLi/Code_Repo/CMU18763_Projects1/project1.ipynb#Y113sZmlsZQ%3D%3D?line=4'>5</a>\u001b[0m split_positions \u001b[39m=\u001b[39m split(new_df[\u001b[39m'\u001b[39;49m\u001b[39mplayer_positions\u001b[39;49m\u001b[39m'\u001b[39;49m], \u001b[39m'\u001b[39m\u001b[39m, \u001b[39m\u001b[39m'\u001b[39m)  \n\u001b[1;32m      <a href='vscode-notebook-cell:/Users/dylan/DylanLi/Code_Repo/CMU18763_Projects1/project1.ipynb#Y113sZmlsZQ%3D%3D?line=6'>7</a>\u001b[0m \u001b[39m# Get distinct positions as a list\u001b[39;00m\n\u001b[1;32m      <a href='vscode-notebook-cell:/Users/dylan/DylanLi/Code_Repo/CMU18763_Projects1/project1.ipynb#Y113sZmlsZQ%3D%3D?line=7'>8</a>\u001b[0m distinct_positions \u001b[39m=\u001b[39m \u001b[39mlist\u001b[39m(\u001b[39mset\u001b[39m(\u001b[39mlist\u001b[39m(itertools\u001b[39m.\u001b[39mchain(\u001b[39m*\u001b[39mnew_df\u001b[39m.\u001b[39mselect(split_positions\u001b[39m.\u001b[39malias(\u001b[39m'\u001b[39m\u001b[39mpositions\u001b[39m\u001b[39m'\u001b[39m))\u001b[39m.\u001b[39mdistinct()\u001b[39m.\u001b[39mrdd\u001b[39m.\u001b[39mflatMap(\u001b[39mlambda\u001b[39;00m x: x)\u001b[39m.\u001b[39mcollect()))))\n",
      "File \u001b[0;32m~/mambaforge/envs/aichaintools-torch/lib/python3.10/site-packages/pyspark/sql/dataframe.py:2928\u001b[0m, in \u001b[0;36mDataFrame.__getitem__\u001b[0;34m(self, item)\u001b[0m\n\u001b[1;32m   2856\u001b[0m \u001b[39m\u001b[39m\u001b[39m\"\"\"Returns the column as a :class:`Column`.\u001b[39;00m\n\u001b[1;32m   2857\u001b[0m \n\u001b[1;32m   2858\u001b[0m \u001b[39m.. versionadded:: 1.3.0\u001b[39;00m\n\u001b[0;32m   (...)\u001b[0m\n\u001b[1;32m   2925\u001b[0m \u001b[39m+---+----+\u001b[39;00m\n\u001b[1;32m   2926\u001b[0m \u001b[39m\"\"\"\u001b[39;00m\n\u001b[1;32m   2927\u001b[0m \u001b[39mif\u001b[39;00m \u001b[39misinstance\u001b[39m(item, \u001b[39mstr\u001b[39m):\n\u001b[0;32m-> 2928\u001b[0m     jc \u001b[39m=\u001b[39m \u001b[39mself\u001b[39;49m\u001b[39m.\u001b[39;49m_jdf\u001b[39m.\u001b[39;49mapply(item)\n\u001b[1;32m   2929\u001b[0m     \u001b[39mreturn\u001b[39;00m Column(jc)\n\u001b[1;32m   2930\u001b[0m \u001b[39melif\u001b[39;00m \u001b[39misinstance\u001b[39m(item, Column):\n",
      "File \u001b[0;32m~/mambaforge/envs/aichaintools-torch/lib/python3.10/site-packages/py4j/java_gateway.py:1322\u001b[0m, in \u001b[0;36mJavaMember.__call__\u001b[0;34m(self, *args)\u001b[0m\n\u001b[1;32m   1316\u001b[0m command \u001b[39m=\u001b[39m proto\u001b[39m.\u001b[39mCALL_COMMAND_NAME \u001b[39m+\u001b[39m\\\n\u001b[1;32m   1317\u001b[0m     \u001b[39mself\u001b[39m\u001b[39m.\u001b[39mcommand_header \u001b[39m+\u001b[39m\\\n\u001b[1;32m   1318\u001b[0m     args_command \u001b[39m+\u001b[39m\\\n\u001b[1;32m   1319\u001b[0m     proto\u001b[39m.\u001b[39mEND_COMMAND_PART\n\u001b[1;32m   1321\u001b[0m answer \u001b[39m=\u001b[39m \u001b[39mself\u001b[39m\u001b[39m.\u001b[39mgateway_client\u001b[39m.\u001b[39msend_command(command)\n\u001b[0;32m-> 1322\u001b[0m return_value \u001b[39m=\u001b[39m get_return_value(\n\u001b[1;32m   1323\u001b[0m     answer, \u001b[39mself\u001b[39;49m\u001b[39m.\u001b[39;49mgateway_client, \u001b[39mself\u001b[39;49m\u001b[39m.\u001b[39;49mtarget_id, \u001b[39mself\u001b[39;49m\u001b[39m.\u001b[39;49mname)\n\u001b[1;32m   1325\u001b[0m \u001b[39mfor\u001b[39;00m temp_arg \u001b[39min\u001b[39;00m temp_args:\n\u001b[1;32m   1326\u001b[0m     \u001b[39mif\u001b[39;00m \u001b[39mhasattr\u001b[39m(temp_arg, \u001b[39m\"\u001b[39m\u001b[39m_detach\u001b[39m\u001b[39m\"\u001b[39m):\n",
      "File \u001b[0;32m~/mambaforge/envs/aichaintools-torch/lib/python3.10/site-packages/pyspark/errors/exceptions/captured.py:175\u001b[0m, in \u001b[0;36mcapture_sql_exception.<locals>.deco\u001b[0;34m(*a, **kw)\u001b[0m\n\u001b[1;32m    171\u001b[0m converted \u001b[39m=\u001b[39m convert_exception(e\u001b[39m.\u001b[39mjava_exception)\n\u001b[1;32m    172\u001b[0m \u001b[39mif\u001b[39;00m \u001b[39mnot\u001b[39;00m \u001b[39misinstance\u001b[39m(converted, UnknownException):\n\u001b[1;32m    173\u001b[0m     \u001b[39m# Hide where the exception came from that shows a non-Pythonic\u001b[39;00m\n\u001b[1;32m    174\u001b[0m     \u001b[39m# JVM exception message.\u001b[39;00m\n\u001b[0;32m--> 175\u001b[0m     \u001b[39mraise\u001b[39;00m converted \u001b[39mfrom\u001b[39;00m \u001b[39mNone\u001b[39;00m\n\u001b[1;32m    176\u001b[0m \u001b[39melse\u001b[39;00m:\n\u001b[1;32m    177\u001b[0m     \u001b[39mraise\u001b[39;00m\n",
      "\u001b[0;31mAnalysisException\u001b[0m: [UNRESOLVED_COLUMN.WITH_SUGGESTION] A column or function parameter with name `player_positions` cannot be resolved. Did you mean one of the following? [`potential`, `value_eur`, `wage_eur`, `age`, `height_cm`, `weight_kg`, `club_team_id`, `league_level`, `nationality_id`, `weak_foot`, `skill_moves`, `international_reputation`, `pace`, `shooting`, `passing`, `dribbling`, `defending`, `physic`, `attacking_crossing`, `attacking_finishing`, `attacking_heading_accuracy`, `attacking_short_passing`, `attacking_volleys`, `skill_dribbling`, `skill_curve`, `skill_fk_accuracy`, `skill_long_passing`, `skill_ball_control`, `movement_acceleration`, `movement_sprint_speed`, `movement_agility`, `movement_reactions`, `movement_balance`, `power_shot_power`, `power_jumping`, `power_stamina`, `power_strength`, `power_long_shots`, `mentality_aggression`, `mentality_interceptions`, `mentality_positioning`, `mentality_vision`, `mentality_penalties`, `defending_marking_awareness`, `defending_standing_tackle`, `defending_sliding_tackle`, `goalkeeping_diving`, `goalkeeping_handling`, `goalkeeping_kicking`, `goalkeeping_positioning`, `goalkeeping_reflexes`, `ls`, `st`, `rs`, `lw`, `lf`, `cf`, `rf`, `rw`, `lam`, `cam`, `ram`, `lm`, `lcm`, `cm`, `rcm`, `rm`, `lwb`, `ldm`, `cdm`, `rdm`, `rwb`, `lb`, `lcb`, `cb`, `rcb`, `rb`, `year`, `mentality_composure_imputed`, `gk_imputed`, `club_position_index`, `league_name_index`, `Position_GK`, `Position_RW`, `Position_LW`, `Position_ST`, `Position_RB`, `Position_RWB`, `Position_CM`, `Position_LWB`, `Position_LM`, `Position_CDM`, `Position_LB`, `Position_CB`, `Position_CF`, `Position_RM`, `Position_CAM`, `work_rate_index`, `preferred_foot_index`]."
     ]
    }
   ],
   "source": [
    "from pyspark.sql.functions import split, when, col, array_contains\n",
    "import itertools\n",
    "\n",
    "# Split positions into array\n",
    "split_positions = split(new_df['player_positions'], ', ')  \n",
    "\n",
    "# Get distinct positions as a list\n",
    "distinct_positions = list(set(list(itertools.chain(*new_df.select(split_positions.alias('positions')).distinct().rdd.flatMap(lambda x: x).collect()))))\n",
    "\n",
    "# Create a column for each distinct position\n",
    "for position in distinct_positions:\n",
    "  new_df = new_df.withColumn(\n",
    "    'Position_' + position,\n",
    "     when(array_contains(split_positions, position), 1).otherwise(0)\n",
    "  )\n",
    "\n",
    "\n"
   ]
  },
  {
   "cell_type": "code",
   "execution_count": 164,
   "metadata": {},
   "outputs": [],
   "source": [
    "new_df = new_df.drop('player_positions')"
   ]
  },
  {
   "cell_type": "code",
   "execution_count": 165,
   "metadata": {},
   "outputs": [
    {
     "name": "stdout",
     "output_type": "stream",
     "text": [
      "+---------+---------+--------+---+---------+---------+------------+------------+--------------+---------+-----------+------------------------+----+--------+-------+---------+---------+------+------------------+-------------------+--------------------------+-----------------------+-----------------+---------------+-----------+-----------------+------------------+------------------+---------------------+---------------------+----------------+------------------+----------------+----------------+-------------+-------------+--------------+----------------+--------------------+-----------------------+---------------------+----------------+-------------------+---------------------------+-------------------------+------------------------+------------------+--------------------+-------------------+-----------------------+--------------------+---+---+---+---+---+---+---+---+---+---+---+---+---+---+---+---+---+---+---+---+---+---+---+---+---+---+----+---------------------------+----------+-------------------+-----------------+-----------+-----------+-----------+-----------+-----------+------------+-----------+------------+-----------+------------+-----------+-----------+-----------+-----------+------------+---------------+--------------------+\n",
      "|potential|value_eur|wage_eur|age|height_cm|weight_kg|club_team_id|league_level|nationality_id|weak_foot|skill_moves|international_reputation|pace|shooting|passing|dribbling|defending|physic|attacking_crossing|attacking_finishing|attacking_heading_accuracy|attacking_short_passing|attacking_volleys|skill_dribbling|skill_curve|skill_fk_accuracy|skill_long_passing|skill_ball_control|movement_acceleration|movement_sprint_speed|movement_agility|movement_reactions|movement_balance|power_shot_power|power_jumping|power_stamina|power_strength|power_long_shots|mentality_aggression|mentality_interceptions|mentality_positioning|mentality_vision|mentality_penalties|defending_marking_awareness|defending_standing_tackle|defending_sliding_tackle|goalkeeping_diving|goalkeeping_handling|goalkeeping_kicking|goalkeeping_positioning|goalkeeping_reflexes| ls| st| rs| lw| lf| cf| rf| rw|lam|cam|ram| lm|lcm| cm|rcm| rm|lwb|ldm|cdm|rdm|rwb| lb|lcb| cb|rcb| rb|year|mentality_composure_imputed|gk_imputed|club_position_index|league_name_index|Position_GK|Position_RW|Position_LW|Position_ST|Position_RB|Position_RWB|Position_CM|Position_LWB|Position_LM|Position_CDM|Position_LB|Position_CB|Position_CF|Position_RM|Position_CAM|work_rate_index|preferred_foot_index|\n",
      "+---------+---------+--------+---+---------+---------+------------+------------+--------------+---------+-----------+------------------------+----+--------+-------+---------+---------+------+------------------+-------------------+--------------------------+-----------------------+-----------------+---------------+-----------+-----------------+------------------+------------------+---------------------+---------------------+----------------+------------------+----------------+----------------+-------------+-------------+--------------+----------------+--------------------+-----------------------+---------------------+----------------+-------------------+---------------------------+-------------------------+------------------------+------------------+--------------------+-------------------+-----------------------+--------------------+---+---+---+---+---+---+---+---+---+---+---+---+---+---+---+---+---+---+---+---+---+---+---+---+---+---+----+---------------------------+----------+-------------------+-----------------+-----------+-----------+-----------+-----------+-----------+------------+-----------+------------+-----------+------------+-----------+-----------+-----------+-----------+------------+---------------+--------------------+\n",
      "|       93|    7.8E7|320000.0| 34|      170|       72|        73.0|         1.0|            52|        4|          4|                       5|85.0|    92.0|   91.0|     95.0|     34.0|  65.0|                85|                 95|                        70|                     91|               88|             96|         93|               94|                91|                96|                   91|                   80|              91|                94|              95|              86|           68|           72|            69|              94|                  44|                     40|                   93|              95|                 75|                         20|                       35|                      24|                 6|                  11|                 15|                     14|                   8| 89| 89| 89| 92| 93| 93| 93| 92| 93| 93| 93| 91| 87| 87| 87| 91| 66| 64| 64| 64| 66| 61| 50| 50| 50| 61|  22|                         96|        19|               19.0|              9.0|          0|          1|          0|          1|          0|           0|          0|           0|          0|           0|          0|          0|          1|          0|           0|            3.0|                 1.0|\n",
      "|       92|  1.195E8|270000.0| 32|      185|       81|        21.0|         1.0|            37|        4|          4|                       5|78.0|    92.0|   79.0|     86.0|     44.0|  82.0|                71|                 95|                        90|                     85|               89|             85|         79|               85|                70|                88|                   77|                   79|              77|                93|              82|              90|           85|           76|            86|              87|                  81|                     49|                   95|              81|                 90|                         35|                       42|                      19|                15|                   6|                 12|                      8|                  10| 90| 90| 90| 85| 88| 88| 88| 85| 86| 86| 86| 84| 80| 80| 80| 84| 64| 66| 66| 66| 64| 61| 60| 60| 60| 61|  22|                         88|        19|                7.0|             10.0|          0|          0|          0|          1|          0|           0|          0|           0|          0|           0|          0|          0|          0|          0|           0|            1.0|                 0.0|\n",
      "|       91|    4.5E7|270000.0| 36|      187|       83|        11.0|         1.0|            38|        4|          5|                       5|87.0|    94.0|   80.0|     88.0|     34.0|  75.0|                87|                 95|                        90|                     80|               86|             88|         81|               84|                77|                88|                   85|                   88|              86|                94|              74|              94|           95|           77|            77|              93|                  63|                     29|                   95|              76|                 88|                         24|                       32|                      24|                 7|                  11|                 15|                     14|                  11| 90| 90| 90| 88| 89| 89| 89| 88| 86| 86| 86| 86| 78| 78| 78| 86| 63| 59| 59| 59| 63| 60| 53| 53| 53| 60|  22|                         95|        20|                7.0|              2.0|          0|          0|          1|          1|          0|           0|          0|           0|          0|           0|          0|          0|          0|          0|           0|            5.0|                 0.0|\n",
      "|       91|   1.29E8|270000.0| 29|      175|       68|        73.0|         1.0|            54|        5|          5|                       5|91.0|    83.0|   86.0|     94.0|     37.0|  63.0|                85|                 83|                        63|                     86|               86|             95|         88|               87|                81|                95|                   93|                   89|              96|                89|              84|              80|           64|           81|            53|              81|                  63|                     37|                   86|              90|                 93|                         35|                       32|                      29|                 9|                   9|                 15|                     15|                  11| 83| 83| 83| 90| 88| 88| 88| 90| 89| 89| 89| 89| 82| 82| 82| 89| 67| 63| 63| 63| 67| 62| 50| 50| 50| 62|  22|                         93|        20|               18.0|              9.0|          0|          0|          1|          0|          0|           0|          0|           0|          0|           0|          0|          0|          0|          0|           1|            1.0|                 0.0|\n",
      "|       91|  1.255E8|350000.0| 30|      181|       70|        10.0|         1.0|             7|        5|          4|                       4|76.0|    86.0|   93.0|     88.0|     64.0|  78.0|                94|                 82|                        55|                     94|               82|             88|         85|               83|                93|                91|                   76|                   76|              79|                91|              78|              91|           63|           89|            74|              91|                  76|                     66|                   88|              94|                 83|                         68|                       65|                      53|                15|                  13|                  5|                     10|                  13| 83| 83| 83| 88| 87| 87| 87| 88| 89| 89| 89| 89| 89| 89| 89| 89| 79| 80| 80| 80| 79| 75| 69| 69| 69| 75|  22|                         89|        21|               11.0|              2.0|          0|          0|          0|          0|          0|           0|          1|           0|          0|           0|          0|          0|          0|          0|           1|            4.0|                 0.0|\n",
      "|       93|   1.12E8|130000.0| 28|      188|       87|       240.0|         1.0|            44|        3|          1|                       5|null|    null|   null|     null|     null|  null|                13|                 11|                        15|                     43|               13|             12|         13|               14|                40|                30|                   43|                   60|              67|                88|              49|              59|           78|           41|            78|              12|                  34|                     19|                   11|              65|                 11|                         27|                       12|                      18|                87|                  92|                 78|                     90|                  90| 33| 33| 33| 32| 35| 35| 35| 32| 38| 38| 38| 35| 38| 38| 38| 35| 32| 36| 36| 36| 32| 32| 33| 33| 33| 32|  22|                         68|        89|                2.0|              6.0|          1|          0|          0|          0|          0|           0|          0|           0|          0|           0|          0|          0|          0|          0|           0|            0.0|                 0.0|\n",
      "|       95|   1.94E8|230000.0| 22|      182|       73|        73.0|         1.0|            18|        4|          5|                       4|97.0|    88.0|   80.0|     92.0|     36.0|  77.0|                78|                 93|                        72|                     85|               83|             93|         80|               69|                71|                91|                   97|                   97|              92|                93|              83|              86|           78|           88|            77|              82|                  62|                     38|                   92|              82|                 79|                         26|                       34|                      32|                13|                   5|                  7|                     11|                   6| 89| 89| 89| 90| 90| 90| 90| 90| 89| 89| 89| 89| 81| 81| 81| 89| 67| 63| 63| 63| 67| 63| 54| 54| 54| 63|  22|                         88|        18|                7.0|              9.0|          0|          0|          1|          1|          0|           0|          0|           0|          0|           0|          0|          0|          0|          0|           0|            5.0|                 0.0|\n",
      "|       90|   1.35E7| 86000.0| 35|      193|       93|        21.0|         1.0|            21|        4|          1|                       5|null|    null|   null|     null|     null|  null|                15|                 13|                        25|                     60|               11|             30|         14|               11|                68|                46|                   54|                   60|              51|                87|              35|              68|           77|           43|            80|              16|                  29|                     30|                   12|              70|                 47|                         17|                       10|                      11|                88|                  88|                 91|                     89|                  88| 40| 40| 40| 40| 43| 43| 43| 40| 47| 47| 47| 44| 50| 50| 50| 44| 37| 43| 43| 43| 37| 35| 34| 34| 34| 35|  22|                         70|        88|                2.0|             10.0|          1|          0|          0|          0|          0|           0|          0|           0|          0|           0|          0|          0|          0|          0|           0|            0.0|                 0.0|\n",
      "|       92|    9.9E7|250000.0| 29|      187|       85|       241.0|         1.0|            21|        4|          1|                       4|null|    null|   null|     null|     null|  null|                18|                 14|                        11|                     61|               14|             21|         18|               12|                63|                30|                   38|                   50|              39|                86|              43|              66|           79|           35|            78|              10|                  43|                     22|                   11|              70|                 25|                         25|                       13|                      10|                88|                  85|                 88|                     88|                  90| 35| 35| 35| 35| 38| 38| 38| 35| 42| 42| 42| 39| 45| 45| 45| 39| 33| 41| 41| 41| 33| 31| 33| 33| 33| 31|  22|                         70|        88|                2.0|              6.0|          1|          0|          0|          0|          0|           0|          0|           0|          0|           0|          0|          0|          0|          0|           0|            0.0|                 0.0|\n",
      "|       90|  1.295E8|240000.0| 27|      188|       89|        18.0|         1.0|            14|        5|          3|                       4|70.0|    91.0|   83.0|     83.0|     47.0|  83.0|                80|                 94|                        86|                     85|               88|             83|         83|               65|                86|                85|                   65|                   74|              71|                92|              70|              91|           79|           83|            85|              86|                  80|                     44|                   94|              87|                 91|                         50|                       36|                      38|                 8|                  10|                 11|                     14|                  11| 88| 88| 88| 84| 86| 86| 86| 84| 85| 85| 85| 84| 82| 82| 82| 84| 67| 68| 68| 68| 67| 64| 61| 61| 61| 64|  22|                         91|        20|                7.0|              2.0|          0|          0|          0|          1|          0|           0|          0|           0|          0|           0|          0|          0|          0|          0|           0|            4.0|                 0.0|\n",
      "|       90|    1.0E8|230000.0| 30|      168|       70|         5.0|         1.0|            18|        3|          2|                       4|78.0|    66.0|   75.0|     82.0|     87.0|  83.0|                68|                 65|                        54|                     82|               56|             79|         49|               49|                79|                81|                   82|                   75|              82|                93|              92|              71|           77|           97|            72|              65|                  93|                     91|                   72|              78|                 54|                         90|                       93|                      86|                15|                  12|                 10|                      7|                  10| 72| 72| 72| 77| 77| 77| 77| 77| 78| 78| 78| 79| 82| 82| 82| 79| 85| 87| 87| 87| 85| 85| 84| 84| 84| 85|  22|                         84|        20|               11.0|              2.0|          0|          0|          0|          0|          0|           0|          1|           0|          0|           1|          0|          0|          0|          0|           0|            2.0|                 0.0|\n",
      "|       89|    6.6E7|350000.0| 33|      185|       81|       243.0|         1.0|            18|        4|          4|                       4|76.0|    86.0|   81.0|     87.0|     39.0|  77.0|                75|                 90|                        89|                     86|               86|             87|         81|               73|                73|                90|                   77|                   75|              79|                91|              72|              85|           79|           78|            82|              79|                  63|                     39|                   90|              87|                 84|                         43|                       24|                      18|                13|                  11|                  5|                      5|                   7| 87| 87| 87| 85| 87| 87| 87| 85| 86| 86| 86| 84| 80| 80| 80| 84| 63| 62| 62| 62| 63| 59| 55| 55| 55| 59|  22|                         90|        18|               28.0|              6.0|          0|          0|          0|          1|          0|           0|          0|           0|          0|           0|          0|          0|          1|          0|           0|            0.0|                 0.0|\n",
      "|       91|   8.55E7|250000.0| 29|      199|       96|       243.0|         1.0|             7|        3|          1|                       4|null|    null|   null|     null|     null|  null|                14|                 14|                        13|                     33|               12|             13|         19|               20|                35|                23|                   42|                   52|              62|                84|              45|              56|           68|           38|            70|              17|                  23|                     15|                   13|              44|                 27|                         20|                       18|                      16|                84|                  89|                 74|                     86|                  88| 31| 31| 31| 29| 31| 31| 31| 29| 32| 32| 32| 31| 32| 32| 32| 31| 29| 31| 31| 31| 29| 29| 29| 29| 29| 29|  22|                         66|        86|                2.0|              6.0|          1|          0|          0|          0|          0|           0|          0|           0|          0|           0|          0|          0|          0|          0|           0|            0.0|                 1.0|\n",
      "|       89|   1.04E8|220000.0| 28|      183|       78|        18.0|         1.0|           167|        5|          4|                       4|88.0|    87.0|   82.0|     86.0|     43.0|  69.0|                83|                 88|                        68|                     84|               78|             87|         85|               74|                74|                84|                   85|                   90|              86|                91|              78|              88|           60|           88|            64|              89|                  62|                     39|                   91|              83|                 73|                         50|                       34|                      33|                11|                  13|                 13|                      6|                  10| 85| 85| 85| 87| 87| 87| 87| 87| 86| 86| 86| 86| 80| 80| 80| 86| 68| 64| 64| 64| 68| 64| 54| 54| 54| 64|  22|                         89|        19|               18.0|              2.0|          0|          0|          1|          0|          0|           0|          0|           0|          1|           0|          0|          0|          1|          0|           0|            4.0|                 0.0|\n",
      "|       89|    8.8E7|310000.0| 29|      185|       84|       243.0|         1.0|            54|        3|          2|                       3|65.0|    73.0|   76.0|     73.0|     86.0|  90.0|                58|                 64|                        79|                     84|               62|             69|         62|               74|                84|                79|                   60|                   69|              61|                87|              66|              88|           87|           89|            90|              81|                  91|                     87|                   75|              80|                 66|                         85|                       88|                      87|                13|                  14|                 16|                     12|                  12| 76| 76| 76| 72| 76| 76| 76| 72| 76| 76| 76| 74| 82| 82| 82| 74| 80| 86| 86| 86| 80| 81| 86| 86| 86| 81|  22|                         84|        21|               17.0|              6.0|          0|          0|          0|          0|          0|           0|          0|           0|          0|           1|          0|          0|          0|          0|           0|            4.0|                 0.0|\n",
      "|       89|    8.6E7|230000.0| 29|      193|       92|         9.0|         1.0|            34|        3|          2|                       4|78.0|    60.0|   71.0|     72.0|     91.0|  84.0|                53|                 52|                        87|                     79|               45|             70|         60|               70|                86|                76|                   66|                   88|              61|                87|              53|              81|           90|           69|            92|              64|                  83|                     90|                   47|              65|                 62|                         92|                       92|                      86|                13|                  10|                 13|                     11|                  11| 70| 70| 70| 67| 69| 69| 69| 67| 70| 70| 70| 70| 75| 75| 75| 70| 79| 84| 84| 84| 79| 81| 88| 88| 88| 81|  22|                         90|        20|                3.0|              2.0|          0|          0|          0|          0|          0|           0|          0|           0|          0|           0|          0|          1|          0|          0|           0|            0.0|                 0.0|\n",
      "|       89|   1.01E8|270000.0| 29|      175|       69|         9.0|         1.0|           136|        4|          4|                       4|91.0|    83.0|   80.0|     89.0|     44.0|  77.0|                78|                 86|                        84|                     84|               75|             90|         77|               64|                71|                88|                   93|                   90|              93|                91|              88|              83|           87|           85|            72|              80|                  75|                     35|                   90|              84|                 71|                         42|                       42|                      38|                10|                  10|                 15|                      7|                  14| 86| 86| 86| 87| 88| 88| 88| 87| 87| 87| 87| 86| 80| 80| 80| 86| 68| 65| 65| 65| 68| 65| 59| 59| 59| 65|  22|                         84|        19|               18.0|              2.0|          0|          0|          1|          0|          0|           0|          0|           0|          0|           0|          0|          0|          0|          0|           0|            1.0|                 0.0|\n",
      "|       89|   1.01E8|270000.0| 29|      175|       71|         9.0|         1.0|           111|        3|          4|                       4|90.0|    87.0|   81.0|     90.0|     45.0|  75.0|                79|                 91|                        59|                     84|               81|             90|         83|               69|                75|                89|                   89|                   91|              91|                92|              91|              82|           69|           85|            75|              84|                  63|                     55|                   91|              83|                 86|                         38|                       43|                      41|                14|                  14|                  9|                     11|                  14| 85| 85| 85| 88| 88| 88| 88| 88| 87| 87| 87| 87| 82| 82| 82| 87| 71| 68| 68| 68| 71| 67| 58| 58| 58| 67|  22|                         90|        22|               19.0|              2.0|          0|          1|          0|          0|          0|           0|          0|           0|          0|           0|          0|          0|          0|          0|           0|            1.0|                 1.0|\n",
      "|       91|    9.4E7|200000.0| 27|      188|       86|        10.0|         1.0|            54|        3|          1|                       3|null|    null|   null|     null|     null|  null|                20|                 14|                        14|                     61|               18|             23|         15|               20|                66|                40|                   64|                   63|              60|                88|              48|              70|           66|           41|            78|              18|                  38|                     27|                   20|              70|                 51|                         29|                       15|                       8|                87|                  82|                 93|                     88|                  88| 40| 40| 40| 41| 43| 43| 43| 41| 47| 47| 47| 44| 49| 49| 49| 44| 37| 44| 44| 44| 37| 36| 35| 35| 35| 36|  22|                         70|        87|                2.0|              2.0|          1|          0|          0|          0|          0|           0|          0|           0|          0|           0|          0|          0|          0|          0|           0|            0.0|                 1.0|\n",
      "|       90|   1.08E8|160000.0| 26|      177|       75|        21.0|         1.0|            21|        4|          3|                       4|70.0|    73.0|   86.0|     84.0|     83.0|  79.0|                91|                 68|                        72|                     87|               69|             83|         85|               61|                90|                85|                   77|                   65|              84|                88|              84|              78|           79|           94|            68|              84|                  89|                     84|                   80|              85|                 44|                         85|                       85|                      79|                 8|                  15|                  7|                     15|                  15| 77| 77| 77| 82| 81| 81| 81| 82| 83| 83| 83| 83| 86| 86| 86| 83| 85| 86| 86| 86| 85| 83| 81| 81| 81| 83|  22|                         85|        21|               13.0|             10.0|          0|          0|          0|          0|          1|           0|          0|           0|          0|           1|          0|          0|          0|          0|           0|            1.0|                 0.0|\n",
      "+---------+---------+--------+---+---------+---------+------------+------------+--------------+---------+-----------+------------------------+----+--------+-------+---------+---------+------+------------------+-------------------+--------------------------+-----------------------+-----------------+---------------+-----------+-----------------+------------------+------------------+---------------------+---------------------+----------------+------------------+----------------+----------------+-------------+-------------+--------------+----------------+--------------------+-----------------------+---------------------+----------------+-------------------+---------------------------+-------------------------+------------------------+------------------+--------------------+-------------------+-----------------------+--------------------+---+---+---+---+---+---+---+---+---+---+---+---+---+---+---+---+---+---+---+---+---+---+---+---+---+---+----+---------------------------+----------+-------------------+-----------------+-----------+-----------+-----------+-----------+-----------+------------+-----------+------------+-----------+------------+-----------+-----------+-----------+-----------+------------+---------------+--------------------+\n",
      "only showing top 20 rows\n",
      "\n"
     ]
    }
   ],
   "source": [
    "new_df.show()"
   ]
  },
  {
   "cell_type": "markdown",
   "metadata": {},
   "source": [
    "Transforme string cols \n"
   ]
  },
  {
   "cell_type": "code",
   "execution_count": 150,
   "metadata": {},
   "outputs": [],
   "source": [
    "_ = ['work_rate', 'preferred_foot']\n",
    "for column in _: \n",
    "    index = StringIndexer(inputCol=column, outputCol=column+\"_index\")\n",
    "    new_df = index.fit(new_df).transform(new_df)\n",
    "    new_df = new_df.drop(column)\n",
    "    "
   ]
  },
  {
   "cell_type": "code",
   "execution_count": 151,
   "metadata": {},
   "outputs": [
    {
     "name": "stdout",
     "output_type": "stream",
     "text": [
      "+--------------------+-------+---------+---------+--------+---+---------+---------+------------+------------+-----------+--------------+---------+-----------+------------------------+----+--------+-------+---------+---------+------+------------------+-------------------+--------------------------+-----------------------+-----------------+---------------+-----------+-----------------+------------------+------------------+---------------------+---------------------+----------------+------------------+----------------+----------------+-------------+-------------+--------------+----------------+--------------------+-----------------------+---------------------+----------------+-------------------+---------------------------+-------------------------+------------------------+------------------+--------------------+-------------------+-----------------------+--------------------+---+---+---+---+---+---+---+---+---+---+---+---+---+---+---+---+---+---+---+---+---+---+---+---+---+---+----+---+---------------------------+----------+-------------------+-----------------+-----------+-----------+-----------+-----------+-----------+------------+-----------+------------+-----------+------------+-----------+-----------+-----------+-----------+------------+---------------+--------------------+\n",
      "|           long_name|overall|potential|value_eur|wage_eur|age|height_cm|weight_kg|club_team_id|league_level|club_joined|nationality_id|weak_foot|skill_moves|international_reputation|pace|shooting|passing|dribbling|defending|physic|attacking_crossing|attacking_finishing|attacking_heading_accuracy|attacking_short_passing|attacking_volleys|skill_dribbling|skill_curve|skill_fk_accuracy|skill_long_passing|skill_ball_control|movement_acceleration|movement_sprint_speed|movement_agility|movement_reactions|movement_balance|power_shot_power|power_jumping|power_stamina|power_strength|power_long_shots|mentality_aggression|mentality_interceptions|mentality_positioning|mentality_vision|mentality_penalties|defending_marking_awareness|defending_standing_tackle|defending_sliding_tackle|goalkeeping_diving|goalkeeping_handling|goalkeeping_kicking|goalkeeping_positioning|goalkeeping_reflexes| ls| st| rs| lw| lf| cf| rf| rw|lam|cam|ram| lm|lcm| cm|rcm| rm|lwb|ldm|cdm|rdm|rwb| lb|lcb| cb|rcb| rb|year| id|mentality_composure_imputed|gk_imputed|club_position_index|league_name_index|Position_GK|Position_RW|Position_LW|Position_ST|Position_RB|Position_RWB|Position_CM|Position_LWB|Position_LM|Position_CDM|Position_LB|Position_CB|Position_CF|Position_RM|Position_CAM|work_rate_index|preferred_foot_index|\n",
      "+--------------------+-------+---------+---------+--------+---+---------+---------+------------+------------+-----------+--------------+---------+-----------+------------------------+----+--------+-------+---------+---------+------+------------------+-------------------+--------------------------+-----------------------+-----------------+---------------+-----------+-----------------+------------------+------------------+---------------------+---------------------+----------------+------------------+----------------+----------------+-------------+-------------+--------------+----------------+--------------------+-----------------------+---------------------+----------------+-------------------+---------------------------+-------------------------+------------------------+------------------+--------------------+-------------------+-----------------------+--------------------+---+---+---+---+---+---+---+---+---+---+---+---+---+---+---+---+---+---+---+---+---+---+---+---+---+---+----+---+---------------------------+----------+-------------------+-----------------+-----------+-----------+-----------+-----------+-----------+------------+-----------+------------+-----------+------------+-----------+-----------+-----------+-----------+------------+---------------+--------------------+\n",
      "|Lionel Andrés Mes...|     93|       93|    7.8E7|320000.0| 34|      170|       72|        73.0|         1.0| 2021-08-10|            52|        4|          4|                       5|85.0|    92.0|   91.0|     95.0|     34.0|  65.0|                85|                 95|                        70|                     91|               88|             96|         93|               94|                91|                96|                   91|                   80|              91|                94|              95|              86|           68|           72|            69|              94|                  44|                     40|                   93|              95|                 75|                         20|                       35|                      24|                 6|                  11|                 15|                     14|                   8| 89| 89| 89| 92| 93| 93| 93| 92| 93| 93| 93| 91| 87| 87| 87| 91| 66| 64| 64| 64| 66| 61| 50| 50| 50| 61|  22|  0|                         96|        19|               19.0|              9.0|          0|          1|          0|          1|          0|           0|          0|           0|          0|           0|          0|          0|          1|          0|           0|            3.0|                 1.0|\n",
      "|  Robert Lewandowski|     92|       92|  1.195E8|270000.0| 32|      185|       81|        21.0|         1.0| 2014-07-01|            37|        4|          4|                       5|78.0|    92.0|   79.0|     86.0|     44.0|  82.0|                71|                 95|                        90|                     85|               89|             85|         79|               85|                70|                88|                   77|                   79|              77|                93|              82|              90|           85|           76|            86|              87|                  81|                     49|                   95|              81|                 90|                         35|                       42|                      19|                15|                   6|                 12|                      8|                  10| 90| 90| 90| 85| 88| 88| 88| 85| 86| 86| 86| 84| 80| 80| 80| 84| 64| 66| 66| 66| 64| 61| 60| 60| 60| 61|  22|  1|                         88|        19|                7.0|             10.0|          0|          0|          0|          1|          0|           0|          0|           0|          0|           0|          0|          0|          0|          0|           0|            1.0|                 0.0|\n",
      "|Cristiano Ronaldo...|     91|       91|    4.5E7|270000.0| 36|      187|       83|        11.0|         1.0| 2021-08-27|            38|        4|          5|                       5|87.0|    94.0|   80.0|     88.0|     34.0|  75.0|                87|                 95|                        90|                     80|               86|             88|         81|               84|                77|                88|                   85|                   88|              86|                94|              74|              94|           95|           77|            77|              93|                  63|                     29|                   95|              76|                 88|                         24|                       32|                      24|                 7|                  11|                 15|                     14|                  11| 90| 90| 90| 88| 89| 89| 89| 88| 86| 86| 86| 86| 78| 78| 78| 86| 63| 59| 59| 59| 63| 60| 53| 53| 53| 60|  22|  2|                         95|        20|                7.0|              2.0|          0|          0|          1|          1|          0|           0|          0|           0|          0|           0|          0|          0|          0|          0|           0|            5.0|                 0.0|\n",
      "|Neymar da Silva S...|     91|       91|   1.29E8|270000.0| 29|      175|       68|        73.0|         1.0| 2017-08-03|            54|        5|          5|                       5|91.0|    83.0|   86.0|     94.0|     37.0|  63.0|                85|                 83|                        63|                     86|               86|             95|         88|               87|                81|                95|                   93|                   89|              96|                89|              84|              80|           64|           81|            53|              81|                  63|                     37|                   86|              90|                 93|                         35|                       32|                      29|                 9|                   9|                 15|                     15|                  11| 83| 83| 83| 90| 88| 88| 88| 90| 89| 89| 89| 89| 82| 82| 82| 89| 67| 63| 63| 63| 67| 62| 50| 50| 50| 62|  22|  3|                         93|        20|               18.0|              9.0|          0|          0|          1|          0|          0|           0|          0|           0|          0|           0|          0|          0|          0|          0|           1|            1.0|                 0.0|\n",
      "|     Kevin De Bruyne|     91|       91|  1.255E8|350000.0| 30|      181|       70|        10.0|         1.0| 2015-08-30|             7|        5|          4|                       4|76.0|    86.0|   93.0|     88.0|     64.0|  78.0|                94|                 82|                        55|                     94|               82|             88|         85|               83|                93|                91|                   76|                   76|              79|                91|              78|              91|           63|           89|            74|              91|                  76|                     66|                   88|              94|                 83|                         68|                       65|                      53|                15|                  13|                  5|                     10|                  13| 83| 83| 83| 88| 87| 87| 87| 88| 89| 89| 89| 89| 89| 89| 89| 89| 79| 80| 80| 80| 79| 75| 69| 69| 69| 75|  22|  4|                         89|        21|               11.0|              2.0|          0|          0|          0|          0|          0|           0|          1|           0|          0|           0|          0|          0|          0|          0|           1|            4.0|                 0.0|\n",
      "|           Jan Oblak|     91|       93|   1.12E8|130000.0| 28|      188|       87|       240.0|         1.0| 2014-07-16|            44|        3|          1|                       5|null|    null|   null|     null|     null|  null|                13|                 11|                        15|                     43|               13|             12|         13|               14|                40|                30|                   43|                   60|              67|                88|              49|              59|           78|           41|            78|              12|                  34|                     19|                   11|              65|                 11|                         27|                       12|                      18|                87|                  92|                 78|                     90|                  90| 33| 33| 33| 32| 35| 35| 35| 32| 38| 38| 38| 35| 38| 38| 38| 35| 32| 36| 36| 36| 32| 32| 33| 33| 33| 32|  22|  5|                         68|        89|                2.0|              6.0|          1|          0|          0|          0|          0|           0|          0|           0|          0|           0|          0|          0|          0|          0|           0|            0.0|                 0.0|\n",
      "|Kylian Mbappé Lottin|     91|       95|   1.94E8|230000.0| 22|      182|       73|        73.0|         1.0| 2018-07-01|            18|        4|          5|                       4|97.0|    88.0|   80.0|     92.0|     36.0|  77.0|                78|                 93|                        72|                     85|               83|             93|         80|               69|                71|                91|                   97|                   97|              92|                93|              83|              86|           78|           88|            77|              82|                  62|                     38|                   92|              82|                 79|                         26|                       34|                      32|                13|                   5|                  7|                     11|                   6| 89| 89| 89| 90| 90| 90| 90| 90| 89| 89| 89| 89| 81| 81| 81| 89| 67| 63| 63| 63| 67| 63| 54| 54| 54| 63|  22|  6|                         88|        18|                7.0|              9.0|          0|          0|          1|          1|          0|           0|          0|           0|          0|           0|          0|          0|          0|          0|           0|            5.0|                 0.0|\n",
      "|  Manuel Peter Neuer|     90|       90|   1.35E7| 86000.0| 35|      193|       93|        21.0|         1.0| 2011-07-01|            21|        4|          1|                       5|null|    null|   null|     null|     null|  null|                15|                 13|                        25|                     60|               11|             30|         14|               11|                68|                46|                   54|                   60|              51|                87|              35|              68|           77|           43|            80|              16|                  29|                     30|                   12|              70|                 47|                         17|                       10|                      11|                88|                  88|                 91|                     89|                  88| 40| 40| 40| 40| 43| 43| 43| 40| 47| 47| 47| 44| 50| 50| 50| 44| 37| 43| 43| 43| 37| 35| 34| 34| 34| 35|  22|  7|                         70|        88|                2.0|             10.0|          1|          0|          0|          0|          0|           0|          0|           0|          0|           0|          0|          0|          0|          0|           0|            0.0|                 0.0|\n",
      "|Marc-André ter St...|     90|       92|    9.9E7|250000.0| 29|      187|       85|       241.0|         1.0| 2014-07-01|            21|        4|          1|                       4|null|    null|   null|     null|     null|  null|                18|                 14|                        11|                     61|               14|             21|         18|               12|                63|                30|                   38|                   50|              39|                86|              43|              66|           79|           35|            78|              10|                  43|                     22|                   11|              70|                 25|                         25|                       13|                      10|                88|                  85|                 88|                     88|                  90| 35| 35| 35| 35| 38| 38| 38| 35| 42| 42| 42| 39| 45| 45| 45| 39| 33| 41| 41| 41| 33| 31| 33| 33| 33| 31|  22|  8|                         70|        88|                2.0|              6.0|          1|          0|          0|          0|          0|           0|          0|           0|          0|           0|          0|          0|          0|          0|           0|            0.0|                 0.0|\n",
      "|          Harry Kane|     90|       90|  1.295E8|240000.0| 27|      188|       89|        18.0|         1.0| 2010-07-28|            14|        5|          3|                       4|70.0|    91.0|   83.0|     83.0|     47.0|  83.0|                80|                 94|                        86|                     85|               88|             83|         83|               65|                86|                85|                   65|                   74|              71|                92|              70|              91|           79|           83|            85|              86|                  80|                     44|                   94|              87|                 91|                         50|                       36|                      38|                 8|                  10|                 11|                     14|                  11| 88| 88| 88| 84| 86| 86| 86| 84| 85| 85| 85| 84| 82| 82| 82| 84| 67| 68| 68| 68| 67| 64| 61| 61| 61| 64|  22|  9|                         91|        20|                7.0|              2.0|          0|          0|          0|          1|          0|           0|          0|           0|          0|           0|          0|          0|          0|          0|           0|            4.0|                 0.0|\n",
      "|        N'Golo Kanté|     90|       90|    1.0E8|230000.0| 30|      168|       70|         5.0|         1.0| 2016-07-16|            18|        3|          2|                       4|78.0|    66.0|   75.0|     82.0|     87.0|  83.0|                68|                 65|                        54|                     82|               56|             79|         49|               49|                79|                81|                   82|                   75|              82|                93|              92|              71|           77|           97|            72|              65|                  93|                     91|                   72|              78|                 54|                         90|                       93|                      86|                15|                  12|                 10|                      7|                  10| 72| 72| 72| 77| 77| 77| 77| 77| 78| 78| 78| 79| 82| 82| 82| 79| 85| 87| 87| 87| 85| 85| 84| 84| 84| 85|  22| 10|                         84|        20|               11.0|              2.0|          0|          0|          0|          0|          0|           0|          1|           0|          0|           1|          0|          0|          0|          0|           0|            2.0|                 0.0|\n",
      "|       Karim Benzema|     89|       89|    6.6E7|350000.0| 33|      185|       81|       243.0|         1.0| 2009-07-09|            18|        4|          4|                       4|76.0|    86.0|   81.0|     87.0|     39.0|  77.0|                75|                 90|                        89|                     86|               86|             87|         81|               73|                73|                90|                   77|                   75|              79|                91|              72|              85|           79|           78|            82|              79|                  63|                     39|                   90|              87|                 84|                         43|                       24|                      18|                13|                  11|                  5|                      5|                   7| 87| 87| 87| 85| 87| 87| 87| 85| 86| 86| 86| 84| 80| 80| 80| 84| 63| 62| 62| 62| 63| 59| 55| 55| 55| 59|  22| 11|                         90|        18|               28.0|              6.0|          0|          0|          0|          1|          0|           0|          0|           0|          0|           0|          0|          0|          1|          0|           0|            0.0|                 0.0|\n",
      "|    Thibaut Courtois|     89|       91|   8.55E7|250000.0| 29|      199|       96|       243.0|         1.0| 2018-08-09|             7|        3|          1|                       4|null|    null|   null|     null|     null|  null|                14|                 14|                        13|                     33|               12|             13|         19|               20|                35|                23|                   42|                   52|              62|                84|              45|              56|           68|           38|            70|              17|                  23|                     15|                   13|              44|                 27|                         20|                       18|                      16|                84|                  89|                 74|                     86|                  88| 31| 31| 31| 29| 31| 31| 31| 29| 32| 32| 32| 31| 32| 32| 32| 31| 29| 31| 31| 31| 29| 29| 29| 29| 29| 29|  22| 12|                         66|        86|                2.0|              6.0|          1|          0|          0|          0|          0|           0|          0|           0|          0|           0|          0|          0|          0|          0|           0|            0.0|                 1.0|\n",
      "|       손흥민 孙兴慜|     89|       89|   1.04E8|220000.0| 28|      183|       78|        18.0|         1.0| 2015-08-28|           167|        5|          4|                       4|88.0|    87.0|   82.0|     86.0|     43.0|  69.0|                83|                 88|                        68|                     84|               78|             87|         85|               74|                74|                84|                   85|                   90|              86|                91|              78|              88|           60|           88|            64|              89|                  62|                     39|                   91|              83|                 73|                         50|                       34|                      33|                11|                  13|                 13|                      6|                  10| 85| 85| 85| 87| 87| 87| 87| 87| 86| 86| 86| 86| 80| 80| 80| 86| 68| 64| 64| 64| 68| 64| 54| 54| 54| 64|  22| 13|                         89|        19|               18.0|              2.0|          0|          0|          1|          0|          0|           0|          0|           0|          1|           0|          0|          0|          1|          0|           0|            4.0|                 0.0|\n",
      "|Carlos Henrique V...|     89|       89|    8.8E7|310000.0| 29|      185|       84|       243.0|         1.0| 2013-07-11|            54|        3|          2|                       3|65.0|    73.0|   76.0|     73.0|     86.0|  90.0|                58|                 64|                        79|                     84|               62|             69|         62|               74|                84|                79|                   60|                   69|              61|                87|              66|              88|           87|           89|            90|              81|                  91|                     87|                   75|              80|                 66|                         85|                       88|                      87|                13|                  14|                 16|                     12|                  12| 76| 76| 76| 72| 76| 76| 76| 72| 76| 76| 76| 74| 82| 82| 82| 74| 80| 86| 86| 86| 80| 81| 86| 86| 86| 81|  22| 14|                         84|        21|               17.0|              6.0|          0|          0|          0|          0|          0|           0|          0|           0|          0|           1|          0|          0|          0|          0|           0|            4.0|                 0.0|\n",
      "|     Virgil van Dijk|     89|       89|    8.6E7|230000.0| 29|      193|       92|         9.0|         1.0| 2018-01-01|            34|        3|          2|                       4|78.0|    60.0|   71.0|     72.0|     91.0|  84.0|                53|                 52|                        87|                     79|               45|             70|         60|               70|                86|                76|                   66|                   88|              61|                87|              53|              81|           90|           69|            92|              64|                  83|                     90|                   47|              65|                 62|                         92|                       92|                      86|                13|                  10|                 13|                     11|                  11| 70| 70| 70| 67| 69| 69| 69| 67| 70| 70| 70| 70| 75| 75| 75| 70| 79| 84| 84| 84| 79| 81| 88| 88| 88| 81|  22| 15|                         90|        20|                3.0|              2.0|          0|          0|          0|          0|          0|           0|          0|           0|          0|           0|          0|          1|          0|          0|           0|            0.0|                 0.0|\n",
      "|          Sadio Mané|     89|       89|   1.01E8|270000.0| 29|      175|       69|         9.0|         1.0| 2016-07-01|           136|        4|          4|                       4|91.0|    83.0|   80.0|     89.0|     44.0|  77.0|                78|                 86|                        84|                     84|               75|             90|         77|               64|                71|                88|                   93|                   90|              93|                91|              88|              83|           87|           85|            72|              80|                  75|                     35|                   90|              84|                 71|                         42|                       42|                      38|                10|                  10|                 15|                      7|                  14| 86| 86| 86| 87| 88| 88| 88| 87| 87| 87| 87| 86| 80| 80| 80| 86| 68| 65| 65| 65| 68| 65| 59| 59| 59| 65|  22| 16|                         84|        19|               18.0|              2.0|          0|          0|          1|          0|          0|           0|          0|           0|          0|           0|          0|          0|          0|          0|           0|            1.0|                 0.0|\n",
      "| Mohamed Salah Ghaly|     89|       89|   1.01E8|270000.0| 29|      175|       71|         9.0|         1.0| 2017-07-01|           111|        3|          4|                       4|90.0|    87.0|   81.0|     90.0|     45.0|  75.0|                79|                 91|                        59|                     84|               81|             90|         83|               69|                75|                89|                   89|                   91|              91|                92|              91|              82|           69|           85|            75|              84|                  63|                     55|                   91|              83|                 86|                         38|                       43|                      41|                14|                  14|                  9|                     11|                  14| 85| 85| 85| 88| 88| 88| 88| 88| 87| 87| 87| 87| 82| 82| 82| 87| 71| 68| 68| 68| 71| 67| 58| 58| 58| 67|  22| 17|                         90|        22|               19.0|              2.0|          0|          1|          0|          0|          0|           0|          0|           0|          0|           0|          0|          0|          0|          0|           0|            1.0|                 1.0|\n",
      "|Ederson Santana d...|     89|       91|    9.4E7|200000.0| 27|      188|       86|        10.0|         1.0| 2017-07-01|            54|        3|          1|                       3|null|    null|   null|     null|     null|  null|                20|                 14|                        14|                     61|               18|             23|         15|               20|                66|                40|                   64|                   63|              60|                88|              48|              70|           66|           41|            78|              18|                  38|                     27|                   20|              70|                 51|                         29|                       15|                       8|                87|                  82|                 93|                     88|                  88| 40| 40| 40| 41| 43| 43| 43| 41| 47| 47| 47| 44| 49| 49| 49| 44| 37| 44| 44| 44| 37| 36| 35| 35| 35| 36|  22| 18|                         70|        87|                2.0|              2.0|          1|          0|          0|          0|          0|           0|          0|           0|          0|           0|          0|          0|          0|          0|           0|            0.0|                 1.0|\n",
      "|Joshua Walter Kim...|     89|       90|   1.08E8|160000.0| 26|      177|       75|        21.0|         1.0| 2015-07-01|            21|        4|          3|                       4|70.0|    73.0|   86.0|     84.0|     83.0|  79.0|                91|                 68|                        72|                     87|               69|             83|         85|               61|                90|                85|                   77|                   65|              84|                88|              84|              78|           79|           94|            68|              84|                  89|                     84|                   80|              85|                 44|                         85|                       85|                      79|                 8|                  15|                  7|                     15|                  15| 77| 77| 77| 82| 81| 81| 81| 82| 83| 83| 83| 83| 86| 86| 86| 83| 85| 86| 86| 86| 85| 83| 81| 81| 81| 83|  22| 19|                         85|        21|               13.0|             10.0|          0|          0|          0|          0|          1|           0|          0|           0|          0|           1|          0|          0|          0|          0|           0|            1.0|                 0.0|\n",
      "+--------------------+-------+---------+---------+--------+---+---------+---------+------------+------------+-----------+--------------+---------+-----------+------------------------+----+--------+-------+---------+---------+------+------------------+-------------------+--------------------------+-----------------------+-----------------+---------------+-----------+-----------------+------------------+------------------+---------------------+---------------------+----------------+------------------+----------------+----------------+-------------+-------------+--------------+----------------+--------------------+-----------------------+---------------------+----------------+-------------------+---------------------------+-------------------------+------------------------+------------------+--------------------+-------------------+-----------------------+--------------------+---+---+---+---+---+---+---+---+---+---+---+---+---+---+---+---+---+---+---+---+---+---+---+---+---+---+----+---+---------------------------+----------+-------------------+-----------------+-----------+-----------+-----------+-----------+-----------+------------+-----------+------------+-----------+------------+-----------+-----------+-----------+-----------+------------+---------------+--------------------+\n",
      "only showing top 20 rows\n",
      "\n"
     ]
    }
   ],
   "source": [
    "new_df.show()"
   ]
  },
  {
   "cell_type": "code",
   "execution_count": 167,
   "metadata": {},
   "outputs": [
    {
     "name": "stderr",
     "output_type": "stream",
     "text": [
      "23/11/08 15:56:14 WARN Instrumentation: [f3697cc7] regParam is zero, which might cause numerical instability and overfitting.\n",
      "23/11/08 15:56:14 WARN InstanceBuilder: Failed to load implementation from:dev.ludovic.netlib.blas.JNIBLAS\n",
      "23/11/08 15:56:14 WARN InstanceBuilder: Failed to load implementation from:dev.ludovic.netlib.blas.VectorBLAS\n",
      "23/11/08 15:56:14 ERROR Executor: Exception in task 3.0 in stage 1297.0 (TID 4695)\n",
      "org.apache.spark.SparkException: [FAILED_EXECUTE_UDF] Failed to execute user defined function (StringIndexerModel$$Lambda$4328/0x0000000801c47000: (string) => double).\n",
      "\tat org.apache.spark.sql.errors.QueryExecutionErrors$.failedExecuteUserDefinedFunctionError(QueryExecutionErrors.scala:217)\n",
      "\tat org.apache.spark.sql.errors.QueryExecutionErrors.failedExecuteUserDefinedFunctionError(QueryExecutionErrors.scala)\n",
      "\tat org.apache.spark.sql.catalyst.expressions.GeneratedClass$GeneratedIteratorForCodegenStage1.processNext(Unknown Source)\n",
      "\tat org.apache.spark.sql.execution.BufferedRowIterator.hasNext(BufferedRowIterator.java:43)\n",
      "\tat org.apache.spark.sql.execution.WholeStageCodegenExec$$anon$1.hasNext(WholeStageCodegenExec.scala:760)\n",
      "\tat scala.collection.Iterator$$anon$10.hasNext(Iterator.scala:460)\n",
      "\tat scala.collection.Iterator$$anon$10.hasNext(Iterator.scala:460)\n",
      "\tat scala.collection.Iterator$$anon$10.hasNext(Iterator.scala:460)\n",
      "\tat scala.collection.Iterator.foreach(Iterator.scala:943)\n",
      "\tat scala.collection.Iterator.foreach$(Iterator.scala:943)\n",
      "\tat scala.collection.AbstractIterator.foreach(Iterator.scala:1431)\n",
      "\tat scala.collection.TraversableOnce.foldLeft(TraversableOnce.scala:199)\n",
      "\tat scala.collection.TraversableOnce.foldLeft$(TraversableOnce.scala:192)\n",
      "\tat scala.collection.AbstractIterator.foldLeft(Iterator.scala:1431)\n",
      "\tat scala.collection.TraversableOnce.aggregate(TraversableOnce.scala:260)\n",
      "\tat scala.collection.TraversableOnce.aggregate$(TraversableOnce.scala:260)\n",
      "\tat scala.collection.AbstractIterator.aggregate(Iterator.scala:1431)\n",
      "\tat org.apache.spark.rdd.RDD.$anonfun$treeAggregate$4(RDD.scala:1234)\n",
      "\tat org.apache.spark.rdd.RDD.$anonfun$treeAggregate$6(RDD.scala:1235)\n",
      "\tat org.apache.spark.rdd.RDD.$anonfun$mapPartitions$2(RDD.scala:853)\n",
      "\tat org.apache.spark.rdd.RDD.$anonfun$mapPartitions$2$adapted(RDD.scala:853)\n",
      "\tat org.apache.spark.rdd.MapPartitionsRDD.compute(MapPartitionsRDD.scala:52)\n",
      "\tat org.apache.spark.rdd.RDD.computeOrReadCheckpoint(RDD.scala:364)\n",
      "\tat org.apache.spark.rdd.RDD.iterator(RDD.scala:328)\n",
      "\tat org.apache.spark.rdd.MapPartitionsRDD.compute(MapPartitionsRDD.scala:52)\n",
      "\tat org.apache.spark.rdd.RDD.computeOrReadCheckpoint(RDD.scala:364)\n",
      "\tat org.apache.spark.rdd.RDD.iterator(RDD.scala:328)\n",
      "\tat org.apache.spark.shuffle.ShuffleWriteProcessor.write(ShuffleWriteProcessor.scala:59)\n",
      "\tat org.apache.spark.scheduler.ShuffleMapTask.runTask(ShuffleMapTask.scala:101)\n",
      "\tat org.apache.spark.scheduler.ShuffleMapTask.runTask(ShuffleMapTask.scala:53)\n",
      "\tat org.apache.spark.TaskContext.runTaskWithListeners(TaskContext.scala:161)\n",
      "\tat org.apache.spark.scheduler.Task.run(Task.scala:139)\n",
      "\tat org.apache.spark.executor.Executor$TaskRunner.$anonfun$run$3(Executor.scala:554)\n",
      "\tat org.apache.spark.util.Utils$.tryWithSafeFinally(Utils.scala:1529)\n",
      "\tat org.apache.spark.executor.Executor$TaskRunner.run(Executor.scala:557)\n",
      "\tat java.base/java.util.concurrent.ThreadPoolExecutor.runWorker(ThreadPoolExecutor.java:1136)\n",
      "\tat java.base/java.util.concurrent.ThreadPoolExecutor$Worker.run(ThreadPoolExecutor.java:635)\n",
      "\tat java.base/java.lang.Thread.run(Thread.java:833)\n",
      "Caused by: org.apache.spark.SparkException: StringIndexer encountered NULL value. To handle or skip NULLS, try setting StringIndexer.handleInvalid.\n",
      "\tat org.apache.spark.ml.feature.StringIndexerModel.$anonfun$getIndexer$1(StringIndexer.scala:396)\n",
      "\tat org.apache.spark.ml.feature.StringIndexerModel.$anonfun$getIndexer$1$adapted(StringIndexer.scala:391)\n",
      "\t... 36 more\n",
      "23/11/08 15:56:14 ERROR Executor: Exception in task 5.0 in stage 1297.0 (TID 4697)\n",
      "org.apache.spark.SparkException: [FAILED_EXECUTE_UDF] Failed to execute user defined function (StringIndexerModel$$Lambda$4328/0x0000000801c47000: (string) => double).\n",
      "\tat org.apache.spark.sql.errors.QueryExecutionErrors$.failedExecuteUserDefinedFunctionError(QueryExecutionErrors.scala:217)\n",
      "\tat org.apache.spark.sql.errors.QueryExecutionErrors.failedExecuteUserDefinedFunctionError(QueryExecutionErrors.scala)\n",
      "\tat org.apache.spark.sql.catalyst.expressions.GeneratedClass$GeneratedIteratorForCodegenStage1.processNext(Unknown Source)\n",
      "\tat org.apache.spark.sql.execution.BufferedRowIterator.hasNext(BufferedRowIterator.java:43)\n",
      "\tat org.apache.spark.sql.execution.WholeStageCodegenExec$$anon$1.hasNext(WholeStageCodegenExec.scala:760)\n",
      "\tat scala.collection.Iterator$$anon$10.hasNext(Iterator.scala:460)\n",
      "\tat scala.collection.Iterator$$anon$10.hasNext(Iterator.scala:460)\n",
      "\tat scala.collection.Iterator$$anon$10.hasNext(Iterator.scala:460)\n",
      "\tat scala.collection.Iterator.foreach(Iterator.scala:943)\n",
      "\tat scala.collection.Iterator.foreach$(Iterator.scala:943)\n",
      "\tat scala.collection.AbstractIterator.foreach(Iterator.scala:1431)\n",
      "\tat scala.collection.TraversableOnce.foldLeft(TraversableOnce.scala:199)\n",
      "\tat scala.collection.TraversableOnce.foldLeft$(TraversableOnce.scala:192)\n",
      "\tat scala.collection.AbstractIterator.foldLeft(Iterator.scala:1431)\n",
      "\tat scala.collection.TraversableOnce.aggregate(TraversableOnce.scala:260)\n",
      "\tat scala.collection.TraversableOnce.aggregate$(TraversableOnce.scala:260)\n",
      "\tat scala.collection.AbstractIterator.aggregate(Iterator.scala:1431)\n",
      "\tat org.apache.spark.rdd.RDD.$anonfun$treeAggregate$4(RDD.scala:1234)\n",
      "\tat org.apache.spark.rdd.RDD.$anonfun$treeAggregate$6(RDD.scala:1235)\n",
      "\tat org.apache.spark.rdd.RDD.$anonfun$mapPartitions$2(RDD.scala:853)\n",
      "\tat org.apache.spark.rdd.RDD.$anonfun$mapPartitions$2$adapted(RDD.scala:853)\n",
      "\tat org.apache.spark.rdd.MapPartitionsRDD.compute(MapPartitionsRDD.scala:52)\n",
      "\tat org.apache.spark.rdd.RDD.computeOrReadCheckpoint(RDD.scala:364)\n",
      "\tat org.apache.spark.rdd.RDD.iterator(RDD.scala:328)\n",
      "\tat org.apache.spark.rdd.MapPartitionsRDD.compute(MapPartitionsRDD.scala:52)\n",
      "\tat org.apache.spark.rdd.RDD.computeOrReadCheckpoint(RDD.scala:364)\n",
      "\tat org.apache.spark.rdd.RDD.iterator(RDD.scala:328)\n",
      "\tat org.apache.spark.shuffle.ShuffleWriteProcessor.write(ShuffleWriteProcessor.scala:59)\n",
      "\tat org.apache.spark.scheduler.ShuffleMapTask.runTask(ShuffleMapTask.scala:101)\n",
      "\tat org.apache.spark.scheduler.ShuffleMapTask.runTask(ShuffleMapTask.scala:53)\n",
      "\tat org.apache.spark.TaskContext.runTaskWithListeners(TaskContext.scala:161)\n",
      "\tat org.apache.spark.scheduler.Task.run(Task.scala:139)\n",
      "\tat org.apache.spark.executor.Executor$TaskRunner.$anonfun$run$3(Executor.scala:554)\n",
      "\tat org.apache.spark.util.Utils$.tryWithSafeFinally(Utils.scala:1529)\n",
      "\tat org.apache.spark.executor.Executor$TaskRunner.run(Executor.scala:557)\n",
      "\tat java.base/java.util.concurrent.ThreadPoolExecutor.runWorker(ThreadPoolExecutor.java:1136)\n",
      "\tat java.base/java.util.concurrent.ThreadPoolExecutor$Worker.run(ThreadPoolExecutor.java:635)\n",
      "\tat java.base/java.lang.Thread.run(Thread.java:833)\n",
      "Caused by: org.apache.spark.SparkException: StringIndexer encountered NULL value. To handle or skip NULLS, try setting StringIndexer.handleInvalid.\n",
      "\tat org.apache.spark.ml.feature.StringIndexerModel.$anonfun$getIndexer$1(StringIndexer.scala:396)\n",
      "\tat org.apache.spark.ml.feature.StringIndexerModel.$anonfun$getIndexer$1$adapted(StringIndexer.scala:391)\n",
      "\t... 36 more\n",
      "23/11/08 15:56:14 ERROR Executor: Exception in task 2.0 in stage 1297.0 (TID 4694)\n",
      "org.apache.spark.SparkException: [FAILED_EXECUTE_UDF] Failed to execute user defined function (StringIndexerModel$$Lambda$4328/0x0000000801c47000: (string) => double).\n",
      "\tat org.apache.spark.sql.errors.QueryExecutionErrors$.failedExecuteUserDefinedFunctionError(QueryExecutionErrors.scala:217)\n",
      "\tat org.apache.spark.sql.errors.QueryExecutionErrors.failedExecuteUserDefinedFunctionError(QueryExecutionErrors.scala)\n",
      "\tat org.apache.spark.sql.catalyst.expressions.GeneratedClass$GeneratedIteratorForCodegenStage1.processNext(Unknown Source)\n",
      "\tat org.apache.spark.sql.execution.BufferedRowIterator.hasNext(BufferedRowIterator.java:43)\n",
      "\tat org.apache.spark.sql.execution.WholeStageCodegenExec$$anon$1.hasNext(WholeStageCodegenExec.scala:760)\n",
      "\tat scala.collection.Iterator$$anon$10.hasNext(Iterator.scala:460)\n",
      "\tat scala.collection.Iterator$$anon$10.hasNext(Iterator.scala:460)\n",
      "\tat scala.collection.Iterator$$anon$10.hasNext(Iterator.scala:460)\n",
      "\tat scala.collection.Iterator.foreach(Iterator.scala:943)\n",
      "\tat scala.collection.Iterator.foreach$(Iterator.scala:943)\n",
      "\tat scala.collection.AbstractIterator.foreach(Iterator.scala:1431)\n",
      "\tat scala.collection.TraversableOnce.foldLeft(TraversableOnce.scala:199)\n",
      "\tat scala.collection.TraversableOnce.foldLeft$(TraversableOnce.scala:192)\n",
      "\tat scala.collection.AbstractIterator.foldLeft(Iterator.scala:1431)\n",
      "\tat scala.collection.TraversableOnce.aggregate(TraversableOnce.scala:260)\n",
      "\tat scala.collection.TraversableOnce.aggregate$(TraversableOnce.scala:260)\n",
      "\tat scala.collection.AbstractIterator.aggregate(Iterator.scala:1431)\n",
      "\tat org.apache.spark.rdd.RDD.$anonfun$treeAggregate$4(RDD.scala:1234)\n",
      "\tat org.apache.spark.rdd.RDD.$anonfun$treeAggregate$6(RDD.scala:1235)\n",
      "\tat org.apache.spark.rdd.RDD.$anonfun$mapPartitions$2(RDD.scala:853)\n",
      "\tat org.apache.spark.rdd.RDD.$anonfun$mapPartitions$2$adapted(RDD.scala:853)\n",
      "\tat org.apache.spark.rdd.MapPartitionsRDD.compute(MapPartitionsRDD.scala:52)\n",
      "\tat org.apache.spark.rdd.RDD.computeOrReadCheckpoint(RDD.scala:364)\n",
      "\tat org.apache.spark.rdd.RDD.iterator(RDD.scala:328)\n",
      "\tat org.apache.spark.rdd.MapPartitionsRDD.compute(MapPartitionsRDD.scala:52)\n",
      "\tat org.apache.spark.rdd.RDD.computeOrReadCheckpoint(RDD.scala:364)\n",
      "\tat org.apache.spark.rdd.RDD.iterator(RDD.scala:328)\n",
      "\tat org.apache.spark.shuffle.ShuffleWriteProcessor.write(ShuffleWriteProcessor.scala:59)\n",
      "\tat org.apache.spark.scheduler.ShuffleMapTask.runTask(ShuffleMapTask.scala:101)\n",
      "\tat org.apache.spark.scheduler.ShuffleMapTask.runTask(ShuffleMapTask.scala:53)\n",
      "\tat org.apache.spark.TaskContext.runTaskWithListeners(TaskContext.scala:161)\n",
      "\tat org.apache.spark.scheduler.Task.run(Task.scala:139)\n",
      "\tat org.apache.spark.executor.Executor$TaskRunner.$anonfun$run$3(Executor.scala:554)\n",
      "\tat org.apache.spark.util.Utils$.tryWithSafeFinally(Utils.scala:1529)\n",
      "\tat org.apache.spark.executor.Executor$TaskRunner.run(Executor.scala:557)\n",
      "\tat java.base/java.util.concurrent.ThreadPoolExecutor.runWorker(ThreadPoolExecutor.java:1136)\n",
      "\tat java.base/java.util.concurrent.ThreadPoolExecutor$Worker.run(ThreadPoolExecutor.java:635)\n",
      "\tat java.base/java.lang.Thread.run(Thread.java:833)\n",
      "Caused by: org.apache.spark.SparkException: StringIndexer encountered NULL value. To handle or skip NULLS, try setting StringIndexer.handleInvalid.\n",
      "\tat org.apache.spark.ml.feature.StringIndexerModel.$anonfun$getIndexer$1(StringIndexer.scala:396)\n",
      "\tat org.apache.spark.ml.feature.StringIndexerModel.$anonfun$getIndexer$1$adapted(StringIndexer.scala:391)\n",
      "\t... 36 more\n",
      "23/11/08 15:56:14 ERROR Executor: Exception in task 4.0 in stage 1297.0 (TID 4696)\n",
      "org.apache.spark.SparkException: [FAILED_EXECUTE_UDF] Failed to execute user defined function (StringIndexerModel$$Lambda$4328/0x0000000801c47000: (string) => double).\n",
      "\tat org.apache.spark.sql.errors.QueryExecutionErrors$.failedExecuteUserDefinedFunctionError(QueryExecutionErrors.scala:217)\n",
      "\tat org.apache.spark.sql.errors.QueryExecutionErrors.failedExecuteUserDefinedFunctionError(QueryExecutionErrors.scala)\n",
      "\tat org.apache.spark.sql.catalyst.expressions.GeneratedClass$GeneratedIteratorForCodegenStage1.processNext(Unknown Source)\n",
      "\tat org.apache.spark.sql.execution.BufferedRowIterator.hasNext(BufferedRowIterator.java:43)\n",
      "\tat org.apache.spark.sql.execution.WholeStageCodegenExec$$anon$1.hasNext(WholeStageCodegenExec.scala:760)\n",
      "\tat scala.collection.Iterator$$anon$10.hasNext(Iterator.scala:460)\n",
      "\tat scala.collection.Iterator$$anon$10.hasNext(Iterator.scala:460)\n",
      "\tat scala.collection.Iterator$$anon$10.hasNext(Iterator.scala:460)\n",
      "\tat scala.collection.Iterator.foreach(Iterator.scala:943)\n",
      "\tat scala.collection.Iterator.foreach$(Iterator.scala:943)\n",
      "\tat scala.collection.AbstractIterator.foreach(Iterator.scala:1431)\n",
      "\tat scala.collection.TraversableOnce.foldLeft(TraversableOnce.scala:199)\n",
      "\tat scala.collection.TraversableOnce.foldLeft$(TraversableOnce.scala:192)\n",
      "\tat scala.collection.AbstractIterator.foldLeft(Iterator.scala:1431)\n",
      "\tat scala.collection.TraversableOnce.aggregate(TraversableOnce.scala:260)\n",
      "\tat scala.collection.TraversableOnce.aggregate$(TraversableOnce.scala:260)\n",
      "\tat scala.collection.AbstractIterator.aggregate(Iterator.scala:1431)\n",
      "\tat org.apache.spark.rdd.RDD.$anonfun$treeAggregate$4(RDD.scala:1234)\n",
      "\tat org.apache.spark.rdd.RDD.$anonfun$treeAggregate$6(RDD.scala:1235)\n",
      "\tat org.apache.spark.rdd.RDD.$anonfun$mapPartitions$2(RDD.scala:853)\n",
      "\tat org.apache.spark.rdd.RDD.$anonfun$mapPartitions$2$adapted(RDD.scala:853)\n",
      "\tat org.apache.spark.rdd.MapPartitionsRDD.compute(MapPartitionsRDD.scala:52)\n",
      "\tat org.apache.spark.rdd.RDD.computeOrReadCheckpoint(RDD.scala:364)\n",
      "\tat org.apache.spark.rdd.RDD.iterator(RDD.scala:328)\n",
      "\tat org.apache.spark.rdd.MapPartitionsRDD.compute(MapPartitionsRDD.scala:52)\n",
      "\tat org.apache.spark.rdd.RDD.computeOrReadCheckpoint(RDD.scala:364)\n",
      "\tat org.apache.spark.rdd.RDD.iterator(RDD.scala:328)\n",
      "\tat org.apache.spark.shuffle.ShuffleWriteProcessor.write(ShuffleWriteProcessor.scala:59)\n",
      "\tat org.apache.spark.scheduler.ShuffleMapTask.runTask(ShuffleMapTask.scala:101)\n",
      "\tat org.apache.spark.scheduler.ShuffleMapTask.runTask(ShuffleMapTask.scala:53)\n",
      "\tat org.apache.spark.TaskContext.runTaskWithListeners(TaskContext.scala:161)\n",
      "\tat org.apache.spark.scheduler.Task.run(Task.scala:139)\n",
      "\tat org.apache.spark.executor.Executor$TaskRunner.$anonfun$run$3(Executor.scala:554)\n",
      "\tat org.apache.spark.util.Utils$.tryWithSafeFinally(Utils.scala:1529)\n",
      "\tat org.apache.spark.executor.Executor$TaskRunner.run(Executor.scala:557)\n",
      "\tat java.base/java.util.concurrent.ThreadPoolExecutor.runWorker(ThreadPoolExecutor.java:1136)\n",
      "\tat java.base/java.util.concurrent.ThreadPoolExecutor$Worker.run(ThreadPoolExecutor.java:635)\n",
      "\tat java.base/java.lang.Thread.run(Thread.java:833)\n",
      "Caused by: org.apache.spark.SparkException: StringIndexer encountered NULL value. To handle or skip NULLS, try setting StringIndexer.handleInvalid.\n",
      "\tat org.apache.spark.ml.feature.StringIndexerModel.$anonfun$getIndexer$1(StringIndexer.scala:396)\n",
      "\tat org.apache.spark.ml.feature.StringIndexerModel.$anonfun$getIndexer$1$adapted(StringIndexer.scala:391)\n",
      "\t... 36 more\n",
      "23/11/08 15:56:14 ERROR Executor: Exception in task 7.0 in stage 1297.0 (TID 4699)\n",
      "org.apache.spark.SparkException: [FAILED_EXECUTE_UDF] Failed to execute user defined function (StringIndexerModel$$Lambda$4328/0x0000000801c47000: (string) => double).\n",
      "\tat org.apache.spark.sql.errors.QueryExecutionErrors$.failedExecuteUserDefinedFunctionError(QueryExecutionErrors.scala:217)\n",
      "\tat org.apache.spark.sql.errors.QueryExecutionErrors.failedExecuteUserDefinedFunctionError(QueryExecutionErrors.scala)\n",
      "\tat org.apache.spark.sql.catalyst.expressions.GeneratedClass$GeneratedIteratorForCodegenStage1.processNext(Unknown Source)\n",
      "\tat org.apache.spark.sql.execution.BufferedRowIterator.hasNext(BufferedRowIterator.java:43)\n",
      "\tat org.apache.spark.sql.execution.WholeStageCodegenExec$$anon$1.hasNext(WholeStageCodegenExec.scala:760)\n",
      "\tat scala.collection.Iterator$$anon$10.hasNext(Iterator.scala:460)\n",
      "\tat scala.collection.Iterator$$anon$10.hasNext(Iterator.scala:460)\n",
      "\tat scala.collection.Iterator$$anon$10.hasNext(Iterator.scala:460)\n",
      "\tat scala.collection.Iterator.foreach(Iterator.scala:943)\n",
      "\tat scala.collection.Iterator.foreach$(Iterator.scala:943)\n",
      "\tat scala.collection.AbstractIterator.foreach(Iterator.scala:1431)\n",
      "\tat scala.collection.TraversableOnce.foldLeft(TraversableOnce.scala:199)\n",
      "\tat scala.collection.TraversableOnce.foldLeft$(TraversableOnce.scala:192)\n",
      "\tat scala.collection.AbstractIterator.foldLeft(Iterator.scala:1431)\n",
      "\tat scala.collection.TraversableOnce.aggregate(TraversableOnce.scala:260)\n",
      "\tat scala.collection.TraversableOnce.aggregate$(TraversableOnce.scala:260)\n",
      "\tat scala.collection.AbstractIterator.aggregate(Iterator.scala:1431)\n",
      "\tat org.apache.spark.rdd.RDD.$anonfun$treeAggregate$4(RDD.scala:1234)\n",
      "\tat org.apache.spark.rdd.RDD.$anonfun$treeAggregate$6(RDD.scala:1235)\n",
      "\tat org.apache.spark.rdd.RDD.$anonfun$mapPartitions$2(RDD.scala:853)\n",
      "\tat org.apache.spark.rdd.RDD.$anonfun$mapPartitions$2$adapted(RDD.scala:853)\n",
      "\tat org.apache.spark.rdd.MapPartitionsRDD.compute(MapPartitionsRDD.scala:52)\n",
      "\tat org.apache.spark.rdd.RDD.computeOrReadCheckpoint(RDD.scala:364)\n",
      "\tat org.apache.spark.rdd.RDD.iterator(RDD.scala:328)\n",
      "\tat org.apache.spark.rdd.MapPartitionsRDD.compute(MapPartitionsRDD.scala:52)\n",
      "\tat org.apache.spark.rdd.RDD.computeOrReadCheckpoint(RDD.scala:364)\n",
      "\tat org.apache.spark.rdd.RDD.iterator(RDD.scala:328)\n",
      "\tat org.apache.spark.shuffle.ShuffleWriteProcessor.write(ShuffleWriteProcessor.scala:59)\n",
      "\tat org.apache.spark.scheduler.ShuffleMapTask.runTask(ShuffleMapTask.scala:101)\n",
      "\tat org.apache.spark.scheduler.ShuffleMapTask.runTask(ShuffleMapTask.scala:53)\n",
      "\tat org.apache.spark.TaskContext.runTaskWithListeners(TaskContext.scala:161)\n",
      "\tat org.apache.spark.scheduler.Task.run(Task.scala:139)\n",
      "\tat org.apache.spark.executor.Executor$TaskRunner.$anonfun$run$3(Executor.scala:554)\n",
      "\tat org.apache.spark.util.Utils$.tryWithSafeFinally(Utils.scala:1529)\n",
      "\tat org.apache.spark.executor.Executor$TaskRunner.run(Executor.scala:557)\n",
      "\tat java.base/java.util.concurrent.ThreadPoolExecutor.runWorker(ThreadPoolExecutor.java:1136)\n",
      "\tat java.base/java.util.concurrent.ThreadPoolExecutor$Worker.run(ThreadPoolExecutor.java:635)\n",
      "\tat java.base/java.lang.Thread.run(Thread.java:833)\n",
      "Caused by: org.apache.spark.SparkException: StringIndexer encountered NULL value. To handle or skip NULLS, try setting StringIndexer.handleInvalid.\n",
      "\tat org.apache.spark.ml.feature.StringIndexerModel.$anonfun$getIndexer$1(StringIndexer.scala:396)\n",
      "\tat org.apache.spark.ml.feature.StringIndexerModel.$anonfun$getIndexer$1$adapted(StringIndexer.scala:391)\n",
      "\t... 36 more\n",
      "23/11/08 15:56:14 ERROR Executor: Exception in task 8.0 in stage 1297.0 (TID 4700)\n",
      "org.apache.spark.SparkException: [FAILED_EXECUTE_UDF] Failed to execute user defined function (StringIndexerModel$$Lambda$4328/0x0000000801c47000: (string) => double).\n",
      "\tat org.apache.spark.sql.errors.QueryExecutionErrors$.failedExecuteUserDefinedFunctionError(QueryExecutionErrors.scala:217)\n",
      "\tat org.apache.spark.sql.errors.QueryExecutionErrors.failedExecuteUserDefinedFunctionError(QueryExecutionErrors.scala)\n",
      "\tat org.apache.spark.sql.catalyst.expressions.GeneratedClass$GeneratedIteratorForCodegenStage1.processNext(Unknown Source)\n",
      "\tat org.apache.spark.sql.execution.BufferedRowIterator.hasNext(BufferedRowIterator.java:43)\n",
      "\tat org.apache.spark.sql.execution.WholeStageCodegenExec$$anon$1.hasNext(WholeStageCodegenExec.scala:760)\n",
      "\tat scala.collection.Iterator$$anon$10.hasNext(Iterator.scala:460)\n",
      "\tat scala.collection.Iterator$$anon$10.hasNext(Iterator.scala:460)\n",
      "\tat scala.collection.Iterator$$anon$10.hasNext(Iterator.scala:460)\n",
      "\tat scala.collection.Iterator.foreach(Iterator.scala:943)\n",
      "\tat scala.collection.Iterator.foreach$(Iterator.scala:943)\n",
      "\tat scala.collection.AbstractIterator.foreach(Iterator.scala:1431)\n",
      "\tat scala.collection.TraversableOnce.foldLeft(TraversableOnce.scala:199)\n",
      "\tat scala.collection.TraversableOnce.foldLeft$(TraversableOnce.scala:192)\n",
      "\tat scala.collection.AbstractIterator.foldLeft(Iterator.scala:1431)\n",
      "\tat scala.collection.TraversableOnce.aggregate(TraversableOnce.scala:260)\n",
      "\tat scala.collection.TraversableOnce.aggregate$(TraversableOnce.scala:260)\n",
      "\tat scala.collection.AbstractIterator.aggregate(Iterator.scala:1431)\n",
      "\tat org.apache.spark.rdd.RDD.$anonfun$treeAggregate$4(RDD.scala:1234)\n",
      "\tat org.apache.spark.rdd.RDD.$anonfun$treeAggregate$6(RDD.scala:1235)\n",
      "\tat org.apache.spark.rdd.RDD.$anonfun$mapPartitions$2(RDD.scala:853)\n",
      "\tat org.apache.spark.rdd.RDD.$anonfun$mapPartitions$2$adapted(RDD.scala:853)\n",
      "\tat org.apache.spark.rdd.MapPartitionsRDD.compute(MapPartitionsRDD.scala:52)\n",
      "\tat org.apache.spark.rdd.RDD.computeOrReadCheckpoint(RDD.scala:364)\n",
      "\tat org.apache.spark.rdd.RDD.iterator(RDD.scala:328)\n",
      "\tat org.apache.spark.rdd.MapPartitionsRDD.compute(MapPartitionsRDD.scala:52)\n",
      "\tat org.apache.spark.rdd.RDD.computeOrReadCheckpoint(RDD.scala:364)\n",
      "\tat org.apache.spark.rdd.RDD.iterator(RDD.scala:328)\n",
      "\tat org.apache.spark.shuffle.ShuffleWriteProcessor.write(ShuffleWriteProcessor.scala:59)\n",
      "\tat org.apache.spark.scheduler.ShuffleMapTask.runTask(ShuffleMapTask.scala:101)\n",
      "\tat org.apache.spark.scheduler.ShuffleMapTask.runTask(ShuffleMapTask.scala:53)\n",
      "\tat org.apache.spark.TaskContext.runTaskWithListeners(TaskContext.scala:161)\n",
      "\tat org.apache.spark.scheduler.Task.run(Task.scala:139)\n",
      "\tat org.apache.spark.executor.Executor$TaskRunner.$anonfun$run$3(Executor.scala:554)\n",
      "\tat org.apache.spark.util.Utils$.tryWithSafeFinally(Utils.scala:1529)\n",
      "\tat org.apache.spark.executor.Executor$TaskRunner.run(Executor.scala:557)\n",
      "\tat java.base/java.util.concurrent.ThreadPoolExecutor.runWorker(ThreadPoolExecutor.java:1136)\n",
      "\tat java.base/java.util.concurrent.ThreadPoolExecutor$Worker.run(ThreadPoolExecutor.java:635)\n",
      "\tat java.base/java.lang.Thread.run(Thread.java:833)\n",
      "Caused by: org.apache.spark.SparkException: StringIndexer encountered NULL value. To handle or skip NULLS, try setting StringIndexer.handleInvalid.\n",
      "\tat org.apache.spark.ml.feature.StringIndexerModel.$anonfun$getIndexer$1(StringIndexer.scala:396)\n",
      "\tat org.apache.spark.ml.feature.StringIndexerModel.$anonfun$getIndexer$1$adapted(StringIndexer.scala:391)\n",
      "\t... 36 more\n",
      "23/11/08 15:56:14 ERROR Executor: Exception in task 6.0 in stage 1297.0 (TID 4698)\n",
      "org.apache.spark.SparkException: [FAILED_EXECUTE_UDF] Failed to execute user defined function (StringIndexerModel$$Lambda$4328/0x0000000801c47000: (string) => double).\n",
      "\tat org.apache.spark.sql.errors.QueryExecutionErrors$.failedExecuteUserDefinedFunctionError(QueryExecutionErrors.scala:217)\n",
      "\tat org.apache.spark.sql.errors.QueryExecutionErrors.failedExecuteUserDefinedFunctionError(QueryExecutionErrors.scala)\n",
      "\tat org.apache.spark.sql.catalyst.expressions.GeneratedClass$GeneratedIteratorForCodegenStage1.processNext(Unknown Source)\n",
      "\tat org.apache.spark.sql.execution.BufferedRowIterator.hasNext(BufferedRowIterator.java:43)\n",
      "\tat org.apache.spark.sql.execution.WholeStageCodegenExec$$anon$1.hasNext(WholeStageCodegenExec.scala:760)\n",
      "\tat scala.collection.Iterator$$anon$10.hasNext(Iterator.scala:460)\n",
      "\tat scala.collection.Iterator$$anon$10.hasNext(Iterator.scala:460)\n",
      "\tat scala.collection.Iterator$$anon$10.hasNext(Iterator.scala:460)\n",
      "\tat scala.collection.Iterator.foreach(Iterator.scala:943)\n",
      "\tat scala.collection.Iterator.foreach$(Iterator.scala:943)\n",
      "\tat scala.collection.AbstractIterator.foreach(Iterator.scala:1431)\n",
      "\tat scala.collection.TraversableOnce.foldLeft(TraversableOnce.scala:199)\n",
      "\tat scala.collection.TraversableOnce.foldLeft$(TraversableOnce.scala:192)\n",
      "\tat scala.collection.AbstractIterator.foldLeft(Iterator.scala:1431)\n",
      "\tat scala.collection.TraversableOnce.aggregate(TraversableOnce.scala:260)\n",
      "\tat scala.collection.TraversableOnce.aggregate$(TraversableOnce.scala:260)\n",
      "\tat scala.collection.AbstractIterator.aggregate(Iterator.scala:1431)\n",
      "\tat org.apache.spark.rdd.RDD.$anonfun$treeAggregate$4(RDD.scala:1234)\n",
      "\tat org.apache.spark.rdd.RDD.$anonfun$treeAggregate$6(RDD.scala:1235)\n",
      "\tat org.apache.spark.rdd.RDD.$anonfun$mapPartitions$2(RDD.scala:853)\n",
      "\tat org.apache.spark.rdd.RDD.$anonfun$mapPartitions$2$adapted(RDD.scala:853)\n",
      "\tat org.apache.spark.rdd.MapPartitionsRDD.compute(MapPartitionsRDD.scala:52)\n",
      "\tat org.apache.spark.rdd.RDD.computeOrReadCheckpoint(RDD.scala:364)\n",
      "\tat org.apache.spark.rdd.RDD.iterator(RDD.scala:328)\n",
      "\tat org.apache.spark.rdd.MapPartitionsRDD.compute(MapPartitionsRDD.scala:52)\n",
      "\tat org.apache.spark.rdd.RDD.computeOrReadCheckpoint(RDD.scala:364)\n",
      "\tat org.apache.spark.rdd.RDD.iterator(RDD.scala:328)\n",
      "\tat org.apache.spark.shuffle.ShuffleWriteProcessor.write(ShuffleWriteProcessor.scala:59)\n",
      "\tat org.apache.spark.scheduler.ShuffleMapTask.runTask(ShuffleMapTask.scala:101)\n",
      "\tat org.apache.spark.scheduler.ShuffleMapTask.runTask(ShuffleMapTask.scala:53)\n",
      "\tat org.apache.spark.TaskContext.runTaskWithListeners(TaskContext.scala:161)\n",
      "\tat org.apache.spark.scheduler.Task.run(Task.scala:139)\n",
      "\tat org.apache.spark.executor.Executor$TaskRunner.$anonfun$run$3(Executor.scala:554)\n",
      "\tat org.apache.spark.util.Utils$.tryWithSafeFinally(Utils.scala:1529)\n",
      "\tat org.apache.spark.executor.Executor$TaskRunner.run(Executor.scala:557)\n",
      "\tat java.base/java.util.concurrent.ThreadPoolExecutor.runWorker(ThreadPoolExecutor.java:1136)\n",
      "\tat java.base/java.util.concurrent.ThreadPoolExecutor$Worker.run(ThreadPoolExecutor.java:635)\n",
      "\tat java.base/java.lang.Thread.run(Thread.java:833)\n",
      "Caused by: org.apache.spark.SparkException: StringIndexer encountered NULL value. To handle or skip NULLS, try setting StringIndexer.handleInvalid.\n",
      "\tat org.apache.spark.ml.feature.StringIndexerModel.$anonfun$getIndexer$1(StringIndexer.scala:396)\n",
      "\tat org.apache.spark.ml.feature.StringIndexerModel.$anonfun$getIndexer$1$adapted(StringIndexer.scala:391)\n",
      "\t... 36 more\n",
      "23/11/08 15:56:14 ERROR Executor: Exception in task 0.0 in stage 1297.0 (TID 4692)\n",
      "org.apache.spark.SparkException: [FAILED_EXECUTE_UDF] Failed to execute user defined function (StringIndexerModel$$Lambda$4328/0x0000000801c47000: (string) => double).\n",
      "\tat org.apache.spark.sql.errors.QueryExecutionErrors$.failedExecuteUserDefinedFunctionError(QueryExecutionErrors.scala:217)\n",
      "\tat org.apache.spark.sql.errors.QueryExecutionErrors.failedExecuteUserDefinedFunctionError(QueryExecutionErrors.scala)\n",
      "\tat org.apache.spark.sql.catalyst.expressions.GeneratedClass$GeneratedIteratorForCodegenStage1.processNext(Unknown Source)\n",
      "\tat org.apache.spark.sql.execution.BufferedRowIterator.hasNext(BufferedRowIterator.java:43)\n",
      "\tat org.apache.spark.sql.execution.WholeStageCodegenExec$$anon$1.hasNext(WholeStageCodegenExec.scala:760)\n",
      "\tat scala.collection.Iterator$$anon$10.hasNext(Iterator.scala:460)\n",
      "\tat scala.collection.Iterator$$anon$10.hasNext(Iterator.scala:460)\n",
      "\tat scala.collection.Iterator$$anon$10.hasNext(Iterator.scala:460)\n",
      "\tat scala.collection.Iterator.foreach(Iterator.scala:943)\n",
      "\tat scala.collection.Iterator.foreach$(Iterator.scala:943)\n",
      "\tat scala.collection.AbstractIterator.foreach(Iterator.scala:1431)\n",
      "\tat scala.collection.TraversableOnce.foldLeft(TraversableOnce.scala:199)\n",
      "\tat scala.collection.TraversableOnce.foldLeft$(TraversableOnce.scala:192)\n",
      "\tat scala.collection.AbstractIterator.foldLeft(Iterator.scala:1431)\n",
      "\tat scala.collection.TraversableOnce.aggregate(TraversableOnce.scala:260)\n",
      "\tat scala.collection.TraversableOnce.aggregate$(TraversableOnce.scala:260)\n",
      "\tat scala.collection.AbstractIterator.aggregate(Iterator.scala:1431)\n",
      "\tat org.apache.spark.rdd.RDD.$anonfun$treeAggregate$4(RDD.scala:1234)\n",
      "\tat org.apache.spark.rdd.RDD.$anonfun$treeAggregate$6(RDD.scala:1235)\n",
      "\tat org.apache.spark.rdd.RDD.$anonfun$mapPartitions$2(RDD.scala:853)\n",
      "\tat org.apache.spark.rdd.RDD.$anonfun$mapPartitions$2$adapted(RDD.scala:853)\n",
      "\tat org.apache.spark.rdd.MapPartitionsRDD.compute(MapPartitionsRDD.scala:52)\n",
      "\tat org.apache.spark.rdd.RDD.computeOrReadCheckpoint(RDD.scala:364)\n",
      "\tat org.apache.spark.rdd.RDD.iterator(RDD.scala:328)\n",
      "\tat org.apache.spark.rdd.MapPartitionsRDD.compute(MapPartitionsRDD.scala:52)\n",
      "\tat org.apache.spark.rdd.RDD.computeOrReadCheckpoint(RDD.scala:364)\n",
      "\tat org.apache.spark.rdd.RDD.iterator(RDD.scala:328)\n",
      "\tat org.apache.spark.shuffle.ShuffleWriteProcessor.write(ShuffleWriteProcessor.scala:59)\n",
      "\tat org.apache.spark.scheduler.ShuffleMapTask.runTask(ShuffleMapTask.scala:101)\n",
      "\tat org.apache.spark.scheduler.ShuffleMapTask.runTask(ShuffleMapTask.scala:53)\n",
      "\tat org.apache.spark.TaskContext.runTaskWithListeners(TaskContext.scala:161)\n",
      "\tat org.apache.spark.scheduler.Task.run(Task.scala:139)\n",
      "\tat org.apache.spark.executor.Executor$TaskRunner.$anonfun$run$3(Executor.scala:554)\n",
      "\tat org.apache.spark.util.Utils$.tryWithSafeFinally(Utils.scala:1529)\n",
      "\tat org.apache.spark.executor.Executor$TaskRunner.run(Executor.scala:557)\n",
      "\tat java.base/java.util.concurrent.ThreadPoolExecutor.runWorker(ThreadPoolExecutor.java:1136)\n",
      "\tat java.base/java.util.concurrent.ThreadPoolExecutor$Worker.run(ThreadPoolExecutor.java:635)\n",
      "\tat java.base/java.lang.Thread.run(Thread.java:833)\n",
      "Caused by: org.apache.spark.SparkException: StringIndexer encountered NULL value. To handle or skip NULLS, try setting StringIndexer.handleInvalid.\n",
      "\tat org.apache.spark.ml.feature.StringIndexerModel.$anonfun$getIndexer$1(StringIndexer.scala:396)\n",
      "\tat org.apache.spark.ml.feature.StringIndexerModel.$anonfun$getIndexer$1$adapted(StringIndexer.scala:391)\n",
      "\t... 36 more\n",
      "23/11/08 15:56:14 ERROR Executor: Exception in task 9.0 in stage 1297.0 (TID 4701)\n",
      "org.apache.spark.SparkException: [FAILED_EXECUTE_UDF] Failed to execute user defined function (StringIndexerModel$$Lambda$4328/0x0000000801c47000: (string) => double).\n",
      "\tat org.apache.spark.sql.errors.QueryExecutionErrors$.failedExecuteUserDefinedFunctionError(QueryExecutionErrors.scala:217)\n",
      "\tat org.apache.spark.sql.errors.QueryExecutionErrors.failedExecuteUserDefinedFunctionError(QueryExecutionErrors.scala)\n",
      "\tat org.apache.spark.sql.catalyst.expressions.GeneratedClass$GeneratedIteratorForCodegenStage1.processNext(Unknown Source)\n",
      "\tat org.apache.spark.sql.execution.BufferedRowIterator.hasNext(BufferedRowIterator.java:43)\n",
      "\tat org.apache.spark.sql.execution.WholeStageCodegenExec$$anon$1.hasNext(WholeStageCodegenExec.scala:760)\n",
      "\tat scala.collection.Iterator$$anon$10.hasNext(Iterator.scala:460)\n",
      "\tat scala.collection.Iterator$$anon$10.hasNext(Iterator.scala:460)\n",
      "\tat scala.collection.Iterator$$anon$10.hasNext(Iterator.scala:460)\n",
      "\tat scala.collection.Iterator.foreach(Iterator.scala:943)\n",
      "\tat scala.collection.Iterator.foreach$(Iterator.scala:943)\n",
      "\tat scala.collection.AbstractIterator.foreach(Iterator.scala:1431)\n",
      "\tat scala.collection.TraversableOnce.foldLeft(TraversableOnce.scala:199)\n",
      "\tat scala.collection.TraversableOnce.foldLeft$(TraversableOnce.scala:192)\n",
      "\tat scala.collection.AbstractIterator.foldLeft(Iterator.scala:1431)\n",
      "\tat scala.collection.TraversableOnce.aggregate(TraversableOnce.scala:260)\n",
      "\tat scala.collection.TraversableOnce.aggregate$(TraversableOnce.scala:260)\n",
      "\tat scala.collection.AbstractIterator.aggregate(Iterator.scala:1431)\n",
      "\tat org.apache.spark.rdd.RDD.$anonfun$treeAggregate$4(RDD.scala:1234)\n",
      "\tat org.apache.spark.rdd.RDD.$anonfun$treeAggregate$6(RDD.scala:1235)\n",
      "\tat org.apache.spark.rdd.RDD.$anonfun$mapPartitions$2(RDD.scala:853)\n",
      "\tat org.apache.spark.rdd.RDD.$anonfun$mapPartitions$2$adapted(RDD.scala:853)\n",
      "\tat org.apache.spark.rdd.MapPartitionsRDD.compute(MapPartitionsRDD.scala:52)\n",
      "\tat org.apache.spark.rdd.RDD.computeOrReadCheckpoint(RDD.scala:364)\n",
      "\tat org.apache.spark.rdd.RDD.iterator(RDD.scala:328)\n",
      "\tat org.apache.spark.rdd.MapPartitionsRDD.compute(MapPartitionsRDD.scala:52)\n",
      "\tat org.apache.spark.rdd.RDD.computeOrReadCheckpoint(RDD.scala:364)\n",
      "\tat org.apache.spark.rdd.RDD.iterator(RDD.scala:328)\n",
      "\tat org.apache.spark.shuffle.ShuffleWriteProcessor.write(ShuffleWriteProcessor.scala:59)\n",
      "\tat org.apache.spark.scheduler.ShuffleMapTask.runTask(ShuffleMapTask.scala:101)\n",
      "\tat org.apache.spark.scheduler.ShuffleMapTask.runTask(ShuffleMapTask.scala:53)\n",
      "\tat org.apache.spark.TaskContext.runTaskWithListeners(TaskContext.scala:161)\n",
      "\tat org.apache.spark.scheduler.Task.run(Task.scala:139)\n",
      "\tat org.apache.spark.executor.Executor$TaskRunner.$anonfun$run$3(Executor.scala:554)\n",
      "\tat org.apache.spark.util.Utils$.tryWithSafeFinally(Utils.scala:1529)\n",
      "\tat org.apache.spark.executor.Executor$TaskRunner.run(Executor.scala:557)\n",
      "\tat java.base/java.util.concurrent.ThreadPoolExecutor.runWorker(ThreadPoolExecutor.java:1136)\n",
      "\tat java.base/java.util.concurrent.ThreadPoolExecutor$Worker.run(ThreadPoolExecutor.java:635)\n",
      "\tat java.base/java.lang.Thread.run(Thread.java:833)\n",
      "Caused by: org.apache.spark.SparkException: StringIndexer encountered NULL value. To handle or skip NULLS, try setting StringIndexer.handleInvalid.\n",
      "\tat org.apache.spark.ml.feature.StringIndexerModel.$anonfun$getIndexer$1(StringIndexer.scala:396)\n",
      "\tat org.apache.spark.ml.feature.StringIndexerModel.$anonfun$getIndexer$1$adapted(StringIndexer.scala:391)\n",
      "\t... 36 more\n",
      "23/11/08 15:56:14 ERROR Executor: Exception in task 1.0 in stage 1297.0 (TID 4693)\n",
      "org.apache.spark.SparkException: [FAILED_EXECUTE_UDF] Failed to execute user defined function (StringIndexerModel$$Lambda$4328/0x0000000801c47000: (string) => double).\n",
      "\tat org.apache.spark.sql.errors.QueryExecutionErrors$.failedExecuteUserDefinedFunctionError(QueryExecutionErrors.scala:217)\n",
      "\tat org.apache.spark.sql.errors.QueryExecutionErrors.failedExecuteUserDefinedFunctionError(QueryExecutionErrors.scala)\n",
      "\tat org.apache.spark.sql.catalyst.expressions.GeneratedClass$GeneratedIteratorForCodegenStage1.processNext(Unknown Source)\n",
      "\tat org.apache.spark.sql.execution.BufferedRowIterator.hasNext(BufferedRowIterator.java:43)\n",
      "\tat org.apache.spark.sql.execution.WholeStageCodegenExec$$anon$1.hasNext(WholeStageCodegenExec.scala:760)\n",
      "\tat scala.collection.Iterator$$anon$10.hasNext(Iterator.scala:460)\n",
      "\tat scala.collection.Iterator$$anon$10.hasNext(Iterator.scala:460)\n",
      "\tat scala.collection.Iterator$$anon$10.hasNext(Iterator.scala:460)\n",
      "\tat scala.collection.Iterator.foreach(Iterator.scala:943)\n",
      "\tat scala.collection.Iterator.foreach$(Iterator.scala:943)\n",
      "\tat scala.collection.AbstractIterator.foreach(Iterator.scala:1431)\n",
      "\tat scala.collection.TraversableOnce.foldLeft(TraversableOnce.scala:199)\n",
      "\tat scala.collection.TraversableOnce.foldLeft$(TraversableOnce.scala:192)\n",
      "\tat scala.collection.AbstractIterator.foldLeft(Iterator.scala:1431)\n",
      "\tat scala.collection.TraversableOnce.aggregate(TraversableOnce.scala:260)\n",
      "\tat scala.collection.TraversableOnce.aggregate$(TraversableOnce.scala:260)\n",
      "\tat scala.collection.AbstractIterator.aggregate(Iterator.scala:1431)\n",
      "\tat org.apache.spark.rdd.RDD.$anonfun$treeAggregate$4(RDD.scala:1234)\n",
      "\tat org.apache.spark.rdd.RDD.$anonfun$treeAggregate$6(RDD.scala:1235)\n",
      "\tat org.apache.spark.rdd.RDD.$anonfun$mapPartitions$2(RDD.scala:853)\n",
      "\tat org.apache.spark.rdd.RDD.$anonfun$mapPartitions$2$adapted(RDD.scala:853)\n",
      "\tat org.apache.spark.rdd.MapPartitionsRDD.compute(MapPartitionsRDD.scala:52)\n",
      "\tat org.apache.spark.rdd.RDD.computeOrReadCheckpoint(RDD.scala:364)\n",
      "\tat org.apache.spark.rdd.RDD.iterator(RDD.scala:328)\n",
      "\tat org.apache.spark.rdd.MapPartitionsRDD.compute(MapPartitionsRDD.scala:52)\n",
      "\tat org.apache.spark.rdd.RDD.computeOrReadCheckpoint(RDD.scala:364)\n",
      "\tat org.apache.spark.rdd.RDD.iterator(RDD.scala:328)\n",
      "\tat org.apache.spark.shuffle.ShuffleWriteProcessor.write(ShuffleWriteProcessor.scala:59)\n",
      "\tat org.apache.spark.scheduler.ShuffleMapTask.runTask(ShuffleMapTask.scala:101)\n",
      "\tat org.apache.spark.scheduler.ShuffleMapTask.runTask(ShuffleMapTask.scala:53)\n",
      "\tat org.apache.spark.TaskContext.runTaskWithListeners(TaskContext.scala:161)\n",
      "\tat org.apache.spark.scheduler.Task.run(Task.scala:139)\n",
      "\tat org.apache.spark.executor.Executor$TaskRunner.$anonfun$run$3(Executor.scala:554)\n",
      "\tat org.apache.spark.util.Utils$.tryWithSafeFinally(Utils.scala:1529)\n",
      "\tat org.apache.spark.executor.Executor$TaskRunner.run(Executor.scala:557)\n",
      "\tat java.base/java.util.concurrent.ThreadPoolExecutor.runWorker(ThreadPoolExecutor.java:1136)\n",
      "\tat java.base/java.util.concurrent.ThreadPoolExecutor$Worker.run(ThreadPoolExecutor.java:635)\n",
      "\tat java.base/java.lang.Thread.run(Thread.java:833)\n",
      "Caused by: org.apache.spark.SparkException: StringIndexer encountered NULL value. To handle or skip NULLS, try setting StringIndexer.handleInvalid.\n",
      "\tat org.apache.spark.ml.feature.StringIndexerModel.$anonfun$getIndexer$1(StringIndexer.scala:396)\n",
      "\tat org.apache.spark.ml.feature.StringIndexerModel.$anonfun$getIndexer$1$adapted(StringIndexer.scala:391)\n",
      "\t... 36 more\n",
      "23/11/08 15:56:14 WARN TaskSetManager: Lost task 5.0 in stage 1297.0 (TID 4697) (192.168.4.36 executor driver): org.apache.spark.SparkException: [FAILED_EXECUTE_UDF] Failed to execute user defined function (StringIndexerModel$$Lambda$4328/0x0000000801c47000: (string) => double).\n",
      "\tat org.apache.spark.sql.errors.QueryExecutionErrors$.failedExecuteUserDefinedFunctionError(QueryExecutionErrors.scala:217)\n",
      "\tat org.apache.spark.sql.errors.QueryExecutionErrors.failedExecuteUserDefinedFunctionError(QueryExecutionErrors.scala)\n",
      "\tat org.apache.spark.sql.catalyst.expressions.GeneratedClass$GeneratedIteratorForCodegenStage1.processNext(Unknown Source)\n",
      "\tat org.apache.spark.sql.execution.BufferedRowIterator.hasNext(BufferedRowIterator.java:43)\n",
      "\tat org.apache.spark.sql.execution.WholeStageCodegenExec$$anon$1.hasNext(WholeStageCodegenExec.scala:760)\n",
      "\tat scala.collection.Iterator$$anon$10.hasNext(Iterator.scala:460)\n",
      "\tat scala.collection.Iterator$$anon$10.hasNext(Iterator.scala:460)\n",
      "\tat scala.collection.Iterator$$anon$10.hasNext(Iterator.scala:460)\n",
      "\tat scala.collection.Iterator.foreach(Iterator.scala:943)\n",
      "\tat scala.collection.Iterator.foreach$(Iterator.scala:943)\n",
      "\tat scala.collection.AbstractIterator.foreach(Iterator.scala:1431)\n",
      "\tat scala.collection.TraversableOnce.foldLeft(TraversableOnce.scala:199)\n",
      "\tat scala.collection.TraversableOnce.foldLeft$(TraversableOnce.scala:192)\n",
      "\tat scala.collection.AbstractIterator.foldLeft(Iterator.scala:1431)\n",
      "\tat scala.collection.TraversableOnce.aggregate(TraversableOnce.scala:260)\n",
      "\tat scala.collection.TraversableOnce.aggregate$(TraversableOnce.scala:260)\n",
      "\tat scala.collection.AbstractIterator.aggregate(Iterator.scala:1431)\n",
      "\tat org.apache.spark.rdd.RDD.$anonfun$treeAggregate$4(RDD.scala:1234)\n",
      "\tat org.apache.spark.rdd.RDD.$anonfun$treeAggregate$6(RDD.scala:1235)\n",
      "\tat org.apache.spark.rdd.RDD.$anonfun$mapPartitions$2(RDD.scala:853)\n",
      "\tat org.apache.spark.rdd.RDD.$anonfun$mapPartitions$2$adapted(RDD.scala:853)\n",
      "\tat org.apache.spark.rdd.MapPartitionsRDD.compute(MapPartitionsRDD.scala:52)\n",
      "\tat org.apache.spark.rdd.RDD.computeOrReadCheckpoint(RDD.scala:364)\n",
      "\tat org.apache.spark.rdd.RDD.iterator(RDD.scala:328)\n",
      "\tat org.apache.spark.rdd.MapPartitionsRDD.compute(MapPartitionsRDD.scala:52)\n",
      "\tat org.apache.spark.rdd.RDD.computeOrReadCheckpoint(RDD.scala:364)\n",
      "\tat org.apache.spark.rdd.RDD.iterator(RDD.scala:328)\n",
      "\tat org.apache.spark.shuffle.ShuffleWriteProcessor.write(ShuffleWriteProcessor.scala:59)\n",
      "\tat org.apache.spark.scheduler.ShuffleMapTask.runTask(ShuffleMapTask.scala:101)\n",
      "\tat org.apache.spark.scheduler.ShuffleMapTask.runTask(ShuffleMapTask.scala:53)\n",
      "\tat org.apache.spark.TaskContext.runTaskWithListeners(TaskContext.scala:161)\n",
      "\tat org.apache.spark.scheduler.Task.run(Task.scala:139)\n",
      "\tat org.apache.spark.executor.Executor$TaskRunner.$anonfun$run$3(Executor.scala:554)\n",
      "\tat org.apache.spark.util.Utils$.tryWithSafeFinally(Utils.scala:1529)\n",
      "\tat org.apache.spark.executor.Executor$TaskRunner.run(Executor.scala:557)\n",
      "\tat java.base/java.util.concurrent.ThreadPoolExecutor.runWorker(ThreadPoolExecutor.java:1136)\n",
      "\tat java.base/java.util.concurrent.ThreadPoolExecutor$Worker.run(ThreadPoolExecutor.java:635)\n",
      "\tat java.base/java.lang.Thread.run(Thread.java:833)\n",
      "Caused by: org.apache.spark.SparkException: StringIndexer encountered NULL value. To handle or skip NULLS, try setting StringIndexer.handleInvalid.\n",
      "\tat org.apache.spark.ml.feature.StringIndexerModel.$anonfun$getIndexer$1(StringIndexer.scala:396)\n",
      "\tat org.apache.spark.ml.feature.StringIndexerModel.$anonfun$getIndexer$1$adapted(StringIndexer.scala:391)\n",
      "\t... 36 more\n",
      "\n",
      "23/11/08 15:56:14 ERROR TaskSetManager: Task 5 in stage 1297.0 failed 1 times; aborting job\n",
      "23/11/08 15:56:14 ERROR Instrumentation: org.apache.spark.SparkException: Job aborted due to stage failure: Task 5 in stage 1297.0 failed 1 times, most recent failure: Lost task 5.0 in stage 1297.0 (TID 4697) (192.168.4.36 executor driver): org.apache.spark.SparkException: [FAILED_EXECUTE_UDF] Failed to execute user defined function (StringIndexerModel$$Lambda$4328/0x0000000801c47000: (string) => double).\n",
      "\tat org.apache.spark.sql.errors.QueryExecutionErrors$.failedExecuteUserDefinedFunctionError(QueryExecutionErrors.scala:217)\n",
      "\tat org.apache.spark.sql.errors.QueryExecutionErrors.failedExecuteUserDefinedFunctionError(QueryExecutionErrors.scala)\n",
      "\tat org.apache.spark.sql.catalyst.expressions.GeneratedClass$GeneratedIteratorForCodegenStage1.processNext(Unknown Source)\n",
      "\tat org.apache.spark.sql.execution.BufferedRowIterator.hasNext(BufferedRowIterator.java:43)\n",
      "\tat org.apache.spark.sql.execution.WholeStageCodegenExec$$anon$1.hasNext(WholeStageCodegenExec.scala:760)\n",
      "\tat scala.collection.Iterator$$anon$10.hasNext(Iterator.scala:460)\n",
      "\tat scala.collection.Iterator$$anon$10.hasNext(Iterator.scala:460)\n",
      "\tat scala.collection.Iterator$$anon$10.hasNext(Iterator.scala:460)\n",
      "\tat scala.collection.Iterator.foreach(Iterator.scala:943)\n",
      "\tat scala.collection.Iterator.foreach$(Iterator.scala:943)\n",
      "\tat scala.collection.AbstractIterator.foreach(Iterator.scala:1431)\n",
      "\tat scala.collection.TraversableOnce.foldLeft(TraversableOnce.scala:199)\n",
      "\tat scala.collection.TraversableOnce.foldLeft$(TraversableOnce.scala:192)\n",
      "\tat scala.collection.AbstractIterator.foldLeft(Iterator.scala:1431)\n",
      "\tat scala.collection.TraversableOnce.aggregate(TraversableOnce.scala:260)\n",
      "\tat scala.collection.TraversableOnce.aggregate$(TraversableOnce.scala:260)\n",
      "\tat scala.collection.AbstractIterator.aggregate(Iterator.scala:1431)\n",
      "\tat org.apache.spark.rdd.RDD.$anonfun$treeAggregate$4(RDD.scala:1234)\n",
      "\tat org.apache.spark.rdd.RDD.$anonfun$treeAggregate$6(RDD.scala:1235)\n",
      "\tat org.apache.spark.rdd.RDD.$anonfun$mapPartitions$2(RDD.scala:853)\n",
      "\tat org.apache.spark.rdd.RDD.$anonfun$mapPartitions$2$adapted(RDD.scala:853)\n",
      "\tat org.apache.spark.rdd.MapPartitionsRDD.compute(MapPartitionsRDD.scala:52)\n",
      "\tat org.apache.spark.rdd.RDD.computeOrReadCheckpoint(RDD.scala:364)\n",
      "\tat org.apache.spark.rdd.RDD.iterator(RDD.scala:328)\n",
      "\tat org.apache.spark.rdd.MapPartitionsRDD.compute(MapPartitionsRDD.scala:52)\n",
      "\tat org.apache.spark.rdd.RDD.computeOrReadCheckpoint(RDD.scala:364)\n",
      "\tat org.apache.spark.rdd.RDD.iterator(RDD.scala:328)\n",
      "\tat org.apache.spark.shuffle.ShuffleWriteProcessor.write(ShuffleWriteProcessor.scala:59)\n",
      "\tat org.apache.spark.scheduler.ShuffleMapTask.runTask(ShuffleMapTask.scala:101)\n",
      "\tat org.apache.spark.scheduler.ShuffleMapTask.runTask(ShuffleMapTask.scala:53)\n",
      "\tat org.apache.spark.TaskContext.runTaskWithListeners(TaskContext.scala:161)\n",
      "\tat org.apache.spark.scheduler.Task.run(Task.scala:139)\n",
      "\tat org.apache.spark.executor.Executor$TaskRunner.$anonfun$run$3(Executor.scala:554)\n",
      "\tat org.apache.spark.util.Utils$.tryWithSafeFinally(Utils.scala:1529)\n",
      "\tat org.apache.spark.executor.Executor$TaskRunner.run(Executor.scala:557)\n",
      "\tat java.base/java.util.concurrent.ThreadPoolExecutor.runWorker(ThreadPoolExecutor.java:1136)\n",
      "\tat java.base/java.util.concurrent.ThreadPoolExecutor$Worker.run(ThreadPoolExecutor.java:635)\n",
      "\tat java.base/java.lang.Thread.run(Thread.java:833)\n",
      "Caused by: org.apache.spark.SparkException: StringIndexer encountered NULL value. To handle or skip NULLS, try setting StringIndexer.handleInvalid.\n",
      "\tat org.apache.spark.ml.feature.StringIndexerModel.$anonfun$getIndexer$1(StringIndexer.scala:396)\n",
      "\tat org.apache.spark.ml.feature.StringIndexerModel.$anonfun$getIndexer$1$adapted(StringIndexer.scala:391)\n",
      "\t... 36 more\n",
      "\n",
      "Driver stacktrace:\n",
      "\tat org.apache.spark.scheduler.DAGScheduler.failJobAndIndependentStages(DAGScheduler.scala:2785)\n",
      "\tat org.apache.spark.scheduler.DAGScheduler.$anonfun$abortStage$2(DAGScheduler.scala:2721)\n",
      "\tat org.apache.spark.scheduler.DAGScheduler.$anonfun$abortStage$2$adapted(DAGScheduler.scala:2720)\n",
      "\tat scala.collection.mutable.ResizableArray.foreach(ResizableArray.scala:62)\n",
      "\tat scala.collection.mutable.ResizableArray.foreach$(ResizableArray.scala:55)\n",
      "\tat scala.collection.mutable.ArrayBuffer.foreach(ArrayBuffer.scala:49)\n",
      "\tat org.apache.spark.scheduler.DAGScheduler.abortStage(DAGScheduler.scala:2720)\n",
      "\tat org.apache.spark.scheduler.DAGScheduler.$anonfun$handleTaskSetFailed$1(DAGScheduler.scala:1206)\n",
      "\tat org.apache.spark.scheduler.DAGScheduler.$anonfun$handleTaskSetFailed$1$adapted(DAGScheduler.scala:1206)\n",
      "\tat scala.Option.foreach(Option.scala:407)\n",
      "\tat org.apache.spark.scheduler.DAGScheduler.handleTaskSetFailed(DAGScheduler.scala:1206)\n",
      "\tat org.apache.spark.scheduler.DAGSchedulerEventProcessLoop.doOnReceive(DAGScheduler.scala:2984)\n",
      "\tat org.apache.spark.scheduler.DAGSchedulerEventProcessLoop.onReceive(DAGScheduler.scala:2923)\n",
      "\tat org.apache.spark.scheduler.DAGSchedulerEventProcessLoop.onReceive(DAGScheduler.scala:2912)\n",
      "\tat org.apache.spark.util.EventLoop$$anon$1.run(EventLoop.scala:49)\n",
      "\tat org.apache.spark.scheduler.DAGScheduler.runJob(DAGScheduler.scala:971)\n",
      "\tat org.apache.spark.SparkContext.runJob(SparkContext.scala:2263)\n",
      "\tat org.apache.spark.SparkContext.runJob(SparkContext.scala:2358)\n",
      "\tat org.apache.spark.rdd.RDD.$anonfun$fold$1(RDD.scala:1172)\n",
      "\tat org.apache.spark.rdd.RDDOperationScope$.withScope(RDDOperationScope.scala:151)\n",
      "\tat org.apache.spark.rdd.RDDOperationScope$.withScope(RDDOperationScope.scala:112)\n",
      "\tat org.apache.spark.rdd.RDD.withScope(RDD.scala:405)\n",
      "\tat org.apache.spark.rdd.RDD.fold(RDD.scala:1166)\n",
      "\tat org.apache.spark.rdd.RDD.$anonfun$treeAggregate$2(RDD.scala:1259)\n",
      "\tat org.apache.spark.rdd.RDDOperationScope$.withScope(RDDOperationScope.scala:151)\n",
      "\tat org.apache.spark.rdd.RDDOperationScope$.withScope(RDDOperationScope.scala:112)\n",
      "\tat org.apache.spark.rdd.RDD.withScope(RDD.scala:405)\n",
      "\tat org.apache.spark.rdd.RDD.treeAggregate(RDD.scala:1226)\n",
      "\tat org.apache.spark.rdd.RDD.$anonfun$treeAggregate$1(RDD.scala:1212)\n",
      "\tat org.apache.spark.rdd.RDDOperationScope$.withScope(RDDOperationScope.scala:151)\n",
      "\tat org.apache.spark.rdd.RDDOperationScope$.withScope(RDDOperationScope.scala:112)\n",
      "\tat org.apache.spark.rdd.RDD.withScope(RDD.scala:405)\n",
      "\tat org.apache.spark.rdd.RDD.treeAggregate(RDD.scala:1212)\n",
      "\tat org.apache.spark.ml.optim.WeightedLeastSquares.fit(WeightedLeastSquares.scala:107)\n",
      "\tat org.apache.spark.ml.regression.LinearRegression.trainWithNormal(LinearRegression.scala:456)\n",
      "\tat org.apache.spark.ml.regression.LinearRegression.$anonfun$train$1(LinearRegression.scala:354)\n",
      "\tat org.apache.spark.ml.util.Instrumentation$.$anonfun$instrumented$1(Instrumentation.scala:191)\n",
      "\tat scala.util.Try$.apply(Try.scala:213)\n",
      "\tat org.apache.spark.ml.util.Instrumentation$.instrumented(Instrumentation.scala:191)\n",
      "\tat org.apache.spark.ml.regression.LinearRegression.train(LinearRegression.scala:329)\n",
      "\tat org.apache.spark.ml.regression.LinearRegression.train(LinearRegression.scala:186)\n",
      "\tat org.apache.spark.ml.Predictor.fit(Predictor.scala:114)\n",
      "\tat org.apache.spark.ml.Predictor.fit(Predictor.scala:78)\n",
      "\tat java.base/jdk.internal.reflect.NativeMethodAccessorImpl.invoke0(Native Method)\n",
      "\tat java.base/jdk.internal.reflect.NativeMethodAccessorImpl.invoke(NativeMethodAccessorImpl.java:77)\n",
      "\tat java.base/jdk.internal.reflect.DelegatingMethodAccessorImpl.invoke(DelegatingMethodAccessorImpl.java:43)\n",
      "\tat java.base/java.lang.reflect.Method.invoke(Method.java:568)\n",
      "\tat py4j.reflection.MethodInvoker.invoke(MethodInvoker.java:244)\n",
      "\tat py4j.reflection.ReflectionEngine.invoke(ReflectionEngine.java:374)\n",
      "\tat py4j.Gateway.invoke(Gateway.java:282)\n",
      "\tat py4j.commands.AbstractCommand.invokeMethod(AbstractCommand.java:132)\n",
      "\tat py4j.commands.CallCommand.execute(CallCommand.java:79)\n",
      "\tat py4j.ClientServerConnection.waitForCommands(ClientServerConnection.java:182)\n",
      "\tat py4j.ClientServerConnection.run(ClientServerConnection.java:106)\n",
      "\tat java.base/java.lang.Thread.run(Thread.java:833)\n",
      "Caused by: org.apache.spark.SparkException: [FAILED_EXECUTE_UDF] Failed to execute user defined function (StringIndexerModel$$Lambda$4328/0x0000000801c47000: (string) => double).\n",
      "\tat org.apache.spark.sql.errors.QueryExecutionErrors$.failedExecuteUserDefinedFunctionError(QueryExecutionErrors.scala:217)\n",
      "\tat org.apache.spark.sql.errors.QueryExecutionErrors.failedExecuteUserDefinedFunctionError(QueryExecutionErrors.scala)\n",
      "\tat org.apache.spark.sql.catalyst.expressions.GeneratedClass$GeneratedIteratorForCodegenStage1.processNext(Unknown Source)\n",
      "\tat org.apache.spark.sql.execution.BufferedRowIterator.hasNext(BufferedRowIterator.java:43)\n",
      "\tat org.apache.spark.sql.execution.WholeStageCodegenExec$$anon$1.hasNext(WholeStageCodegenExec.scala:760)\n",
      "\tat scala.collection.Iterator$$anon$10.hasNext(Iterator.scala:460)\n",
      "\tat scala.collection.Iterator$$anon$10.hasNext(Iterator.scala:460)\n",
      "\tat scala.collection.Iterator$$anon$10.hasNext(Iterator.scala:460)\n",
      "\tat scala.collection.Iterator.foreach(Iterator.scala:943)\n",
      "\tat scala.collection.Iterator.foreach$(Iterator.scala:943)\n",
      "\tat scala.collection.AbstractIterator.foreach(Iterator.scala:1431)\n",
      "\tat scala.collection.TraversableOnce.foldLeft(TraversableOnce.scala:199)\n",
      "\tat scala.collection.TraversableOnce.foldLeft$(TraversableOnce.scala:192)\n",
      "\tat scala.collection.AbstractIterator.foldLeft(Iterator.scala:1431)\n",
      "\tat scala.collection.TraversableOnce.aggregate(TraversableOnce.scala:260)\n",
      "\tat scala.collection.TraversableOnce.aggregate$(TraversableOnce.scala:260)\n",
      "\tat scala.collection.AbstractIterator.aggregate(Iterator.scala:1431)\n",
      "\tat org.apache.spark.rdd.RDD.$anonfun$treeAggregate$4(RDD.scala:1234)\n",
      "\tat org.apache.spark.rdd.RDD.$anonfun$treeAggregate$6(RDD.scala:1235)\n",
      "\tat org.apache.spark.rdd.RDD.$anonfun$mapPartitions$2(RDD.scala:853)\n",
      "\tat org.apache.spark.rdd.RDD.$anonfun$mapPartitions$2$adapted(RDD.scala:853)\n",
      "\tat org.apache.spark.rdd.MapPartitionsRDD.compute(MapPartitionsRDD.scala:52)\n",
      "\tat org.apache.spark.rdd.RDD.computeOrReadCheckpoint(RDD.scala:364)\n",
      "\tat org.apache.spark.rdd.RDD.iterator(RDD.scala:328)\n",
      "\tat org.apache.spark.rdd.MapPartitionsRDD.compute(MapPartitionsRDD.scala:52)\n",
      "\tat org.apache.spark.rdd.RDD.computeOrReadCheckpoint(RDD.scala:364)\n",
      "\tat org.apache.spark.rdd.RDD.iterator(RDD.scala:328)\n",
      "\tat org.apache.spark.shuffle.ShuffleWriteProcessor.write(ShuffleWriteProcessor.scala:59)\n",
      "\tat org.apache.spark.scheduler.ShuffleMapTask.runTask(ShuffleMapTask.scala:101)\n",
      "\tat org.apache.spark.scheduler.ShuffleMapTask.runTask(ShuffleMapTask.scala:53)\n",
      "\tat org.apache.spark.TaskContext.runTaskWithListeners(TaskContext.scala:161)\n",
      "\tat org.apache.spark.scheduler.Task.run(Task.scala:139)\n",
      "\tat org.apache.spark.executor.Executor$TaskRunner.$anonfun$run$3(Executor.scala:554)\n",
      "\tat org.apache.spark.util.Utils$.tryWithSafeFinally(Utils.scala:1529)\n",
      "\tat org.apache.spark.executor.Executor$TaskRunner.run(Executor.scala:557)\n",
      "\tat java.base/java.util.concurrent.ThreadPoolExecutor.runWorker(ThreadPoolExecutor.java:1136)\n",
      "\tat java.base/java.util.concurrent.ThreadPoolExecutor$Worker.run(ThreadPoolExecutor.java:635)\n",
      "\t... 1 more\n",
      "Caused by: org.apache.spark.SparkException: StringIndexer encountered NULL value. To handle or skip NULLS, try setting StringIndexer.handleInvalid.\n",
      "\tat org.apache.spark.ml.feature.StringIndexerModel.$anonfun$getIndexer$1(StringIndexer.scala:396)\n",
      "\tat org.apache.spark.ml.feature.StringIndexerModel.$anonfun$getIndexer$1$adapted(StringIndexer.scala:391)\n",
      "\t... 36 more\n",
      "\n"
     ]
    },
    {
     "ename": "Py4JJavaError",
     "evalue": "An error occurred while calling o17655.fit.\n: org.apache.spark.SparkException: Job aborted due to stage failure: Task 5 in stage 1297.0 failed 1 times, most recent failure: Lost task 5.0 in stage 1297.0 (TID 4697) (192.168.4.36 executor driver): org.apache.spark.SparkException: [FAILED_EXECUTE_UDF] Failed to execute user defined function (StringIndexerModel$$Lambda$4328/0x0000000801c47000: (string) => double).\n\tat org.apache.spark.sql.errors.QueryExecutionErrors$.failedExecuteUserDefinedFunctionError(QueryExecutionErrors.scala:217)\n\tat org.apache.spark.sql.errors.QueryExecutionErrors.failedExecuteUserDefinedFunctionError(QueryExecutionErrors.scala)\n\tat org.apache.spark.sql.catalyst.expressions.GeneratedClass$GeneratedIteratorForCodegenStage1.processNext(Unknown Source)\n\tat org.apache.spark.sql.execution.BufferedRowIterator.hasNext(BufferedRowIterator.java:43)\n\tat org.apache.spark.sql.execution.WholeStageCodegenExec$$anon$1.hasNext(WholeStageCodegenExec.scala:760)\n\tat scala.collection.Iterator$$anon$10.hasNext(Iterator.scala:460)\n\tat scala.collection.Iterator$$anon$10.hasNext(Iterator.scala:460)\n\tat scala.collection.Iterator$$anon$10.hasNext(Iterator.scala:460)\n\tat scala.collection.Iterator.foreach(Iterator.scala:943)\n\tat scala.collection.Iterator.foreach$(Iterator.scala:943)\n\tat scala.collection.AbstractIterator.foreach(Iterator.scala:1431)\n\tat scala.collection.TraversableOnce.foldLeft(TraversableOnce.scala:199)\n\tat scala.collection.TraversableOnce.foldLeft$(TraversableOnce.scala:192)\n\tat scala.collection.AbstractIterator.foldLeft(Iterator.scala:1431)\n\tat scala.collection.TraversableOnce.aggregate(TraversableOnce.scala:260)\n\tat scala.collection.TraversableOnce.aggregate$(TraversableOnce.scala:260)\n\tat scala.collection.AbstractIterator.aggregate(Iterator.scala:1431)\n\tat org.apache.spark.rdd.RDD.$anonfun$treeAggregate$4(RDD.scala:1234)\n\tat org.apache.spark.rdd.RDD.$anonfun$treeAggregate$6(RDD.scala:1235)\n\tat org.apache.spark.rdd.RDD.$anonfun$mapPartitions$2(RDD.scala:853)\n\tat org.apache.spark.rdd.RDD.$anonfun$mapPartitions$2$adapted(RDD.scala:853)\n\tat org.apache.spark.rdd.MapPartitionsRDD.compute(MapPartitionsRDD.scala:52)\n\tat org.apache.spark.rdd.RDD.computeOrReadCheckpoint(RDD.scala:364)\n\tat org.apache.spark.rdd.RDD.iterator(RDD.scala:328)\n\tat org.apache.spark.rdd.MapPartitionsRDD.compute(MapPartitionsRDD.scala:52)\n\tat org.apache.spark.rdd.RDD.computeOrReadCheckpoint(RDD.scala:364)\n\tat org.apache.spark.rdd.RDD.iterator(RDD.scala:328)\n\tat org.apache.spark.shuffle.ShuffleWriteProcessor.write(ShuffleWriteProcessor.scala:59)\n\tat org.apache.spark.scheduler.ShuffleMapTask.runTask(ShuffleMapTask.scala:101)\n\tat org.apache.spark.scheduler.ShuffleMapTask.runTask(ShuffleMapTask.scala:53)\n\tat org.apache.spark.TaskContext.runTaskWithListeners(TaskContext.scala:161)\n\tat org.apache.spark.scheduler.Task.run(Task.scala:139)\n\tat org.apache.spark.executor.Executor$TaskRunner.$anonfun$run$3(Executor.scala:554)\n\tat org.apache.spark.util.Utils$.tryWithSafeFinally(Utils.scala:1529)\n\tat org.apache.spark.executor.Executor$TaskRunner.run(Executor.scala:557)\n\tat java.base/java.util.concurrent.ThreadPoolExecutor.runWorker(ThreadPoolExecutor.java:1136)\n\tat java.base/java.util.concurrent.ThreadPoolExecutor$Worker.run(ThreadPoolExecutor.java:635)\n\tat java.base/java.lang.Thread.run(Thread.java:833)\nCaused by: org.apache.spark.SparkException: StringIndexer encountered NULL value. To handle or skip NULLS, try setting StringIndexer.handleInvalid.\n\tat org.apache.spark.ml.feature.StringIndexerModel.$anonfun$getIndexer$1(StringIndexer.scala:396)\n\tat org.apache.spark.ml.feature.StringIndexerModel.$anonfun$getIndexer$1$adapted(StringIndexer.scala:391)\n\t... 36 more\n\nDriver stacktrace:\n\tat org.apache.spark.scheduler.DAGScheduler.failJobAndIndependentStages(DAGScheduler.scala:2785)\n\tat org.apache.spark.scheduler.DAGScheduler.$anonfun$abortStage$2(DAGScheduler.scala:2721)\n\tat org.apache.spark.scheduler.DAGScheduler.$anonfun$abortStage$2$adapted(DAGScheduler.scala:2720)\n\tat scala.collection.mutable.ResizableArray.foreach(ResizableArray.scala:62)\n\tat scala.collection.mutable.ResizableArray.foreach$(ResizableArray.scala:55)\n\tat scala.collection.mutable.ArrayBuffer.foreach(ArrayBuffer.scala:49)\n\tat org.apache.spark.scheduler.DAGScheduler.abortStage(DAGScheduler.scala:2720)\n\tat org.apache.spark.scheduler.DAGScheduler.$anonfun$handleTaskSetFailed$1(DAGScheduler.scala:1206)\n\tat org.apache.spark.scheduler.DAGScheduler.$anonfun$handleTaskSetFailed$1$adapted(DAGScheduler.scala:1206)\n\tat scala.Option.foreach(Option.scala:407)\n\tat org.apache.spark.scheduler.DAGScheduler.handleTaskSetFailed(DAGScheduler.scala:1206)\n\tat org.apache.spark.scheduler.DAGSchedulerEventProcessLoop.doOnReceive(DAGScheduler.scala:2984)\n\tat org.apache.spark.scheduler.DAGSchedulerEventProcessLoop.onReceive(DAGScheduler.scala:2923)\n\tat org.apache.spark.scheduler.DAGSchedulerEventProcessLoop.onReceive(DAGScheduler.scala:2912)\n\tat org.apache.spark.util.EventLoop$$anon$1.run(EventLoop.scala:49)\n\tat org.apache.spark.scheduler.DAGScheduler.runJob(DAGScheduler.scala:971)\n\tat org.apache.spark.SparkContext.runJob(SparkContext.scala:2263)\n\tat org.apache.spark.SparkContext.runJob(SparkContext.scala:2358)\n\tat org.apache.spark.rdd.RDD.$anonfun$fold$1(RDD.scala:1172)\n\tat org.apache.spark.rdd.RDDOperationScope$.withScope(RDDOperationScope.scala:151)\n\tat org.apache.spark.rdd.RDDOperationScope$.withScope(RDDOperationScope.scala:112)\n\tat org.apache.spark.rdd.RDD.withScope(RDD.scala:405)\n\tat org.apache.spark.rdd.RDD.fold(RDD.scala:1166)\n\tat org.apache.spark.rdd.RDD.$anonfun$treeAggregate$2(RDD.scala:1259)\n\tat org.apache.spark.rdd.RDDOperationScope$.withScope(RDDOperationScope.scala:151)\n\tat org.apache.spark.rdd.RDDOperationScope$.withScope(RDDOperationScope.scala:112)\n\tat org.apache.spark.rdd.RDD.withScope(RDD.scala:405)\n\tat org.apache.spark.rdd.RDD.treeAggregate(RDD.scala:1226)\n\tat org.apache.spark.rdd.RDD.$anonfun$treeAggregate$1(RDD.scala:1212)\n\tat org.apache.spark.rdd.RDDOperationScope$.withScope(RDDOperationScope.scala:151)\n\tat org.apache.spark.rdd.RDDOperationScope$.withScope(RDDOperationScope.scala:112)\n\tat org.apache.spark.rdd.RDD.withScope(RDD.scala:405)\n\tat org.apache.spark.rdd.RDD.treeAggregate(RDD.scala:1212)\n\tat org.apache.spark.ml.optim.WeightedLeastSquares.fit(WeightedLeastSquares.scala:107)\n\tat org.apache.spark.ml.regression.LinearRegression.trainWithNormal(LinearRegression.scala:456)\n\tat org.apache.spark.ml.regression.LinearRegression.$anonfun$train$1(LinearRegression.scala:354)\n\tat org.apache.spark.ml.util.Instrumentation$.$anonfun$instrumented$1(Instrumentation.scala:191)\n\tat scala.util.Try$.apply(Try.scala:213)\n\tat org.apache.spark.ml.util.Instrumentation$.instrumented(Instrumentation.scala:191)\n\tat org.apache.spark.ml.regression.LinearRegression.train(LinearRegression.scala:329)\n\tat org.apache.spark.ml.regression.LinearRegression.train(LinearRegression.scala:186)\n\tat org.apache.spark.ml.Predictor.fit(Predictor.scala:114)\n\tat org.apache.spark.ml.Predictor.fit(Predictor.scala:78)\n\tat java.base/jdk.internal.reflect.NativeMethodAccessorImpl.invoke0(Native Method)\n\tat java.base/jdk.internal.reflect.NativeMethodAccessorImpl.invoke(NativeMethodAccessorImpl.java:77)\n\tat java.base/jdk.internal.reflect.DelegatingMethodAccessorImpl.invoke(DelegatingMethodAccessorImpl.java:43)\n\tat java.base/java.lang.reflect.Method.invoke(Method.java:568)\n\tat py4j.reflection.MethodInvoker.invoke(MethodInvoker.java:244)\n\tat py4j.reflection.ReflectionEngine.invoke(ReflectionEngine.java:374)\n\tat py4j.Gateway.invoke(Gateway.java:282)\n\tat py4j.commands.AbstractCommand.invokeMethod(AbstractCommand.java:132)\n\tat py4j.commands.CallCommand.execute(CallCommand.java:79)\n\tat py4j.ClientServerConnection.waitForCommands(ClientServerConnection.java:182)\n\tat py4j.ClientServerConnection.run(ClientServerConnection.java:106)\n\tat java.base/java.lang.Thread.run(Thread.java:833)\nCaused by: org.apache.spark.SparkException: [FAILED_EXECUTE_UDF] Failed to execute user defined function (StringIndexerModel$$Lambda$4328/0x0000000801c47000: (string) => double).\n\tat org.apache.spark.sql.errors.QueryExecutionErrors$.failedExecuteUserDefinedFunctionError(QueryExecutionErrors.scala:217)\n\tat org.apache.spark.sql.errors.QueryExecutionErrors.failedExecuteUserDefinedFunctionError(QueryExecutionErrors.scala)\n\tat org.apache.spark.sql.catalyst.expressions.GeneratedClass$GeneratedIteratorForCodegenStage1.processNext(Unknown Source)\n\tat org.apache.spark.sql.execution.BufferedRowIterator.hasNext(BufferedRowIterator.java:43)\n\tat org.apache.spark.sql.execution.WholeStageCodegenExec$$anon$1.hasNext(WholeStageCodegenExec.scala:760)\n\tat scala.collection.Iterator$$anon$10.hasNext(Iterator.scala:460)\n\tat scala.collection.Iterator$$anon$10.hasNext(Iterator.scala:460)\n\tat scala.collection.Iterator$$anon$10.hasNext(Iterator.scala:460)\n\tat scala.collection.Iterator.foreach(Iterator.scala:943)\n\tat scala.collection.Iterator.foreach$(Iterator.scala:943)\n\tat scala.collection.AbstractIterator.foreach(Iterator.scala:1431)\n\tat scala.collection.TraversableOnce.foldLeft(TraversableOnce.scala:199)\n\tat scala.collection.TraversableOnce.foldLeft$(TraversableOnce.scala:192)\n\tat scala.collection.AbstractIterator.foldLeft(Iterator.scala:1431)\n\tat scala.collection.TraversableOnce.aggregate(TraversableOnce.scala:260)\n\tat scala.collection.TraversableOnce.aggregate$(TraversableOnce.scala:260)\n\tat scala.collection.AbstractIterator.aggregate(Iterator.scala:1431)\n\tat org.apache.spark.rdd.RDD.$anonfun$treeAggregate$4(RDD.scala:1234)\n\tat org.apache.spark.rdd.RDD.$anonfun$treeAggregate$6(RDD.scala:1235)\n\tat org.apache.spark.rdd.RDD.$anonfun$mapPartitions$2(RDD.scala:853)\n\tat org.apache.spark.rdd.RDD.$anonfun$mapPartitions$2$adapted(RDD.scala:853)\n\tat org.apache.spark.rdd.MapPartitionsRDD.compute(MapPartitionsRDD.scala:52)\n\tat org.apache.spark.rdd.RDD.computeOrReadCheckpoint(RDD.scala:364)\n\tat org.apache.spark.rdd.RDD.iterator(RDD.scala:328)\n\tat org.apache.spark.rdd.MapPartitionsRDD.compute(MapPartitionsRDD.scala:52)\n\tat org.apache.spark.rdd.RDD.computeOrReadCheckpoint(RDD.scala:364)\n\tat org.apache.spark.rdd.RDD.iterator(RDD.scala:328)\n\tat org.apache.spark.shuffle.ShuffleWriteProcessor.write(ShuffleWriteProcessor.scala:59)\n\tat org.apache.spark.scheduler.ShuffleMapTask.runTask(ShuffleMapTask.scala:101)\n\tat org.apache.spark.scheduler.ShuffleMapTask.runTask(ShuffleMapTask.scala:53)\n\tat org.apache.spark.TaskContext.runTaskWithListeners(TaskContext.scala:161)\n\tat org.apache.spark.scheduler.Task.run(Task.scala:139)\n\tat org.apache.spark.executor.Executor$TaskRunner.$anonfun$run$3(Executor.scala:554)\n\tat org.apache.spark.util.Utils$.tryWithSafeFinally(Utils.scala:1529)\n\tat org.apache.spark.executor.Executor$TaskRunner.run(Executor.scala:557)\n\tat java.base/java.util.concurrent.ThreadPoolExecutor.runWorker(ThreadPoolExecutor.java:1136)\n\tat java.base/java.util.concurrent.ThreadPoolExecutor$Worker.run(ThreadPoolExecutor.java:635)\n\t... 1 more\nCaused by: org.apache.spark.SparkException: StringIndexer encountered NULL value. To handle or skip NULLS, try setting StringIndexer.handleInvalid.\n\tat org.apache.spark.ml.feature.StringIndexerModel.$anonfun$getIndexer$1(StringIndexer.scala:396)\n\tat org.apache.spark.ml.feature.StringIndexerModel.$anonfun$getIndexer$1$adapted(StringIndexer.scala:391)\n\t... 36 more\n",
     "output_type": "error",
     "traceback": [
      "\u001b[0;31m---------------------------------------------------------------------------\u001b[0m",
      "\u001b[0;31mPy4JJavaError\u001b[0m                             Traceback (most recent call last)",
      "\u001b[1;32m/Users/dylan/DylanLi/Code_Repo/CMU18763_Projects1/project1.ipynb Cell 72\u001b[0m line \u001b[0;36m1\n\u001b[1;32m      <a href='vscode-notebook-cell:/Users/dylan/DylanLi/Code_Repo/CMU18763_Projects1/project1.ipynb#Y143sZmlsZQ%3D%3D?line=7'>8</a>\u001b[0m df_no_missing \u001b[39m=\u001b[39m assembler\u001b[39m.\u001b[39mtransform(df_no_missing)\n\u001b[1;32m      <a href='vscode-notebook-cell:/Users/dylan/DylanLi/Code_Repo/CMU18763_Projects1/project1.ipynb#Y143sZmlsZQ%3D%3D?line=8'>9</a>\u001b[0m lr \u001b[39m=\u001b[39m LinearRegression(featuresCol \u001b[39m=\u001b[39m \u001b[39m\"\u001b[39m\u001b[39mfeatures\u001b[39m\u001b[39m\"\u001b[39m, labelCol\u001b[39m=\u001b[39mmissing_col)\n\u001b[0;32m---> <a href='vscode-notebook-cell:/Users/dylan/DylanLi/Code_Repo/CMU18763_Projects1/project1.ipynb#Y143sZmlsZQ%3D%3D?line=9'>10</a>\u001b[0m lr_model \u001b[39m=\u001b[39m lr\u001b[39m.\u001b[39;49mfit(df_no_missing)\n\u001b[1;32m     <a href='vscode-notebook-cell:/Users/dylan/DylanLi/Code_Repo/CMU18763_Projects1/project1.ipynb#Y143sZmlsZQ%3D%3D?line=10'>11</a>\u001b[0m df_missing \u001b[39m=\u001b[39m assembler\u001b[39m.\u001b[39mtransform(df_missing)\n\u001b[1;32m     <a href='vscode-notebook-cell:/Users/dylan/DylanLi/Code_Repo/CMU18763_Projects1/project1.ipynb#Y143sZmlsZQ%3D%3D?line=11'>12</a>\u001b[0m predictions \u001b[39m=\u001b[39m lr_model\u001b[39m.\u001b[39mtransform(df_missing)\n",
      "File \u001b[0;32m~/mambaforge/envs/aichaintools-torch/lib/python3.10/site-packages/pyspark/ml/base.py:205\u001b[0m, in \u001b[0;36mEstimator.fit\u001b[0;34m(self, dataset, params)\u001b[0m\n\u001b[1;32m    203\u001b[0m         \u001b[39mreturn\u001b[39;00m \u001b[39mself\u001b[39m\u001b[39m.\u001b[39mcopy(params)\u001b[39m.\u001b[39m_fit(dataset)\n\u001b[1;32m    204\u001b[0m     \u001b[39melse\u001b[39;00m:\n\u001b[0;32m--> 205\u001b[0m         \u001b[39mreturn\u001b[39;00m \u001b[39mself\u001b[39;49m\u001b[39m.\u001b[39;49m_fit(dataset)\n\u001b[1;32m    206\u001b[0m \u001b[39melse\u001b[39;00m:\n\u001b[1;32m    207\u001b[0m     \u001b[39mraise\u001b[39;00m \u001b[39mTypeError\u001b[39;00m(\n\u001b[1;32m    208\u001b[0m         \u001b[39m\"\u001b[39m\u001b[39mParams must be either a param map or a list/tuple of param maps, \u001b[39m\u001b[39m\"\u001b[39m\n\u001b[1;32m    209\u001b[0m         \u001b[39m\"\u001b[39m\u001b[39mbut got \u001b[39m\u001b[39m%s\u001b[39;00m\u001b[39m.\u001b[39m\u001b[39m\"\u001b[39m \u001b[39m%\u001b[39m \u001b[39mtype\u001b[39m(params)\n\u001b[1;32m    210\u001b[0m     )\n",
      "File \u001b[0;32m~/mambaforge/envs/aichaintools-torch/lib/python3.10/site-packages/pyspark/ml/wrapper.py:381\u001b[0m, in \u001b[0;36mJavaEstimator._fit\u001b[0;34m(self, dataset)\u001b[0m\n\u001b[1;32m    380\u001b[0m \u001b[39mdef\u001b[39;00m \u001b[39m_fit\u001b[39m(\u001b[39mself\u001b[39m, dataset: DataFrame) \u001b[39m-\u001b[39m\u001b[39m>\u001b[39m JM:\n\u001b[0;32m--> 381\u001b[0m     java_model \u001b[39m=\u001b[39m \u001b[39mself\u001b[39;49m\u001b[39m.\u001b[39;49m_fit_java(dataset)\n\u001b[1;32m    382\u001b[0m     model \u001b[39m=\u001b[39m \u001b[39mself\u001b[39m\u001b[39m.\u001b[39m_create_model(java_model)\n\u001b[1;32m    383\u001b[0m     \u001b[39mreturn\u001b[39;00m \u001b[39mself\u001b[39m\u001b[39m.\u001b[39m_copyValues(model)\n",
      "File \u001b[0;32m~/mambaforge/envs/aichaintools-torch/lib/python3.10/site-packages/pyspark/ml/wrapper.py:378\u001b[0m, in \u001b[0;36mJavaEstimator._fit_java\u001b[0;34m(self, dataset)\u001b[0m\n\u001b[1;32m    375\u001b[0m \u001b[39massert\u001b[39;00m \u001b[39mself\u001b[39m\u001b[39m.\u001b[39m_java_obj \u001b[39mis\u001b[39;00m \u001b[39mnot\u001b[39;00m \u001b[39mNone\u001b[39;00m\n\u001b[1;32m    377\u001b[0m \u001b[39mself\u001b[39m\u001b[39m.\u001b[39m_transfer_params_to_java()\n\u001b[0;32m--> 378\u001b[0m \u001b[39mreturn\u001b[39;00m \u001b[39mself\u001b[39;49m\u001b[39m.\u001b[39;49m_java_obj\u001b[39m.\u001b[39;49mfit(dataset\u001b[39m.\u001b[39;49m_jdf)\n",
      "File \u001b[0;32m~/mambaforge/envs/aichaintools-torch/lib/python3.10/site-packages/py4j/java_gateway.py:1322\u001b[0m, in \u001b[0;36mJavaMember.__call__\u001b[0;34m(self, *args)\u001b[0m\n\u001b[1;32m   1316\u001b[0m command \u001b[39m=\u001b[39m proto\u001b[39m.\u001b[39mCALL_COMMAND_NAME \u001b[39m+\u001b[39m\\\n\u001b[1;32m   1317\u001b[0m     \u001b[39mself\u001b[39m\u001b[39m.\u001b[39mcommand_header \u001b[39m+\u001b[39m\\\n\u001b[1;32m   1318\u001b[0m     args_command \u001b[39m+\u001b[39m\\\n\u001b[1;32m   1319\u001b[0m     proto\u001b[39m.\u001b[39mEND_COMMAND_PART\n\u001b[1;32m   1321\u001b[0m answer \u001b[39m=\u001b[39m \u001b[39mself\u001b[39m\u001b[39m.\u001b[39mgateway_client\u001b[39m.\u001b[39msend_command(command)\n\u001b[0;32m-> 1322\u001b[0m return_value \u001b[39m=\u001b[39m get_return_value(\n\u001b[1;32m   1323\u001b[0m     answer, \u001b[39mself\u001b[39;49m\u001b[39m.\u001b[39;49mgateway_client, \u001b[39mself\u001b[39;49m\u001b[39m.\u001b[39;49mtarget_id, \u001b[39mself\u001b[39;49m\u001b[39m.\u001b[39;49mname)\n\u001b[1;32m   1325\u001b[0m \u001b[39mfor\u001b[39;00m temp_arg \u001b[39min\u001b[39;00m temp_args:\n\u001b[1;32m   1326\u001b[0m     \u001b[39mif\u001b[39;00m \u001b[39mhasattr\u001b[39m(temp_arg, \u001b[39m\"\u001b[39m\u001b[39m_detach\u001b[39m\u001b[39m\"\u001b[39m):\n",
      "File \u001b[0;32m~/mambaforge/envs/aichaintools-torch/lib/python3.10/site-packages/pyspark/errors/exceptions/captured.py:169\u001b[0m, in \u001b[0;36mcapture_sql_exception.<locals>.deco\u001b[0;34m(*a, **kw)\u001b[0m\n\u001b[1;32m    167\u001b[0m \u001b[39mdef\u001b[39;00m \u001b[39mdeco\u001b[39m(\u001b[39m*\u001b[39ma: Any, \u001b[39m*\u001b[39m\u001b[39m*\u001b[39mkw: Any) \u001b[39m-\u001b[39m\u001b[39m>\u001b[39m Any:\n\u001b[1;32m    168\u001b[0m     \u001b[39mtry\u001b[39;00m:\n\u001b[0;32m--> 169\u001b[0m         \u001b[39mreturn\u001b[39;00m f(\u001b[39m*\u001b[39;49ma, \u001b[39m*\u001b[39;49m\u001b[39m*\u001b[39;49mkw)\n\u001b[1;32m    170\u001b[0m     \u001b[39mexcept\u001b[39;00m Py4JJavaError \u001b[39mas\u001b[39;00m e:\n\u001b[1;32m    171\u001b[0m         converted \u001b[39m=\u001b[39m convert_exception(e\u001b[39m.\u001b[39mjava_exception)\n",
      "File \u001b[0;32m~/mambaforge/envs/aichaintools-torch/lib/python3.10/site-packages/py4j/protocol.py:326\u001b[0m, in \u001b[0;36mget_return_value\u001b[0;34m(answer, gateway_client, target_id, name)\u001b[0m\n\u001b[1;32m    324\u001b[0m value \u001b[39m=\u001b[39m OUTPUT_CONVERTER[\u001b[39mtype\u001b[39m](answer[\u001b[39m2\u001b[39m:], gateway_client)\n\u001b[1;32m    325\u001b[0m \u001b[39mif\u001b[39;00m answer[\u001b[39m1\u001b[39m] \u001b[39m==\u001b[39m REFERENCE_TYPE:\n\u001b[0;32m--> 326\u001b[0m     \u001b[39mraise\u001b[39;00m Py4JJavaError(\n\u001b[1;32m    327\u001b[0m         \u001b[39m\"\u001b[39m\u001b[39mAn error occurred while calling \u001b[39m\u001b[39m{0}\u001b[39;00m\u001b[39m{1}\u001b[39;00m\u001b[39m{2}\u001b[39;00m\u001b[39m.\u001b[39m\u001b[39m\\n\u001b[39;00m\u001b[39m\"\u001b[39m\u001b[39m.\u001b[39m\n\u001b[1;32m    328\u001b[0m         \u001b[39mformat\u001b[39m(target_id, \u001b[39m\"\u001b[39m\u001b[39m.\u001b[39m\u001b[39m\"\u001b[39m, name), value)\n\u001b[1;32m    329\u001b[0m \u001b[39melse\u001b[39;00m:\n\u001b[1;32m    330\u001b[0m     \u001b[39mraise\u001b[39;00m Py4JError(\n\u001b[1;32m    331\u001b[0m         \u001b[39m\"\u001b[39m\u001b[39mAn error occurred while calling \u001b[39m\u001b[39m{0}\u001b[39;00m\u001b[39m{1}\u001b[39;00m\u001b[39m{2}\u001b[39;00m\u001b[39m. Trace:\u001b[39m\u001b[39m\\n\u001b[39;00m\u001b[39m{3}\u001b[39;00m\u001b[39m\\n\u001b[39;00m\u001b[39m\"\u001b[39m\u001b[39m.\u001b[39m\n\u001b[1;32m    332\u001b[0m         \u001b[39mformat\u001b[39m(target_id, \u001b[39m\"\u001b[39m\u001b[39m.\u001b[39m\u001b[39m\"\u001b[39m, name, value))\n",
      "\u001b[0;31mPy4JJavaError\u001b[0m: An error occurred while calling o17655.fit.\n: org.apache.spark.SparkException: Job aborted due to stage failure: Task 5 in stage 1297.0 failed 1 times, most recent failure: Lost task 5.0 in stage 1297.0 (TID 4697) (192.168.4.36 executor driver): org.apache.spark.SparkException: [FAILED_EXECUTE_UDF] Failed to execute user defined function (StringIndexerModel$$Lambda$4328/0x0000000801c47000: (string) => double).\n\tat org.apache.spark.sql.errors.QueryExecutionErrors$.failedExecuteUserDefinedFunctionError(QueryExecutionErrors.scala:217)\n\tat org.apache.spark.sql.errors.QueryExecutionErrors.failedExecuteUserDefinedFunctionError(QueryExecutionErrors.scala)\n\tat org.apache.spark.sql.catalyst.expressions.GeneratedClass$GeneratedIteratorForCodegenStage1.processNext(Unknown Source)\n\tat org.apache.spark.sql.execution.BufferedRowIterator.hasNext(BufferedRowIterator.java:43)\n\tat org.apache.spark.sql.execution.WholeStageCodegenExec$$anon$1.hasNext(WholeStageCodegenExec.scala:760)\n\tat scala.collection.Iterator$$anon$10.hasNext(Iterator.scala:460)\n\tat scala.collection.Iterator$$anon$10.hasNext(Iterator.scala:460)\n\tat scala.collection.Iterator$$anon$10.hasNext(Iterator.scala:460)\n\tat scala.collection.Iterator.foreach(Iterator.scala:943)\n\tat scala.collection.Iterator.foreach$(Iterator.scala:943)\n\tat scala.collection.AbstractIterator.foreach(Iterator.scala:1431)\n\tat scala.collection.TraversableOnce.foldLeft(TraversableOnce.scala:199)\n\tat scala.collection.TraversableOnce.foldLeft$(TraversableOnce.scala:192)\n\tat scala.collection.AbstractIterator.foldLeft(Iterator.scala:1431)\n\tat scala.collection.TraversableOnce.aggregate(TraversableOnce.scala:260)\n\tat scala.collection.TraversableOnce.aggregate$(TraversableOnce.scala:260)\n\tat scala.collection.AbstractIterator.aggregate(Iterator.scala:1431)\n\tat org.apache.spark.rdd.RDD.$anonfun$treeAggregate$4(RDD.scala:1234)\n\tat org.apache.spark.rdd.RDD.$anonfun$treeAggregate$6(RDD.scala:1235)\n\tat org.apache.spark.rdd.RDD.$anonfun$mapPartitions$2(RDD.scala:853)\n\tat org.apache.spark.rdd.RDD.$anonfun$mapPartitions$2$adapted(RDD.scala:853)\n\tat org.apache.spark.rdd.MapPartitionsRDD.compute(MapPartitionsRDD.scala:52)\n\tat org.apache.spark.rdd.RDD.computeOrReadCheckpoint(RDD.scala:364)\n\tat org.apache.spark.rdd.RDD.iterator(RDD.scala:328)\n\tat org.apache.spark.rdd.MapPartitionsRDD.compute(MapPartitionsRDD.scala:52)\n\tat org.apache.spark.rdd.RDD.computeOrReadCheckpoint(RDD.scala:364)\n\tat org.apache.spark.rdd.RDD.iterator(RDD.scala:328)\n\tat org.apache.spark.shuffle.ShuffleWriteProcessor.write(ShuffleWriteProcessor.scala:59)\n\tat org.apache.spark.scheduler.ShuffleMapTask.runTask(ShuffleMapTask.scala:101)\n\tat org.apache.spark.scheduler.ShuffleMapTask.runTask(ShuffleMapTask.scala:53)\n\tat org.apache.spark.TaskContext.runTaskWithListeners(TaskContext.scala:161)\n\tat org.apache.spark.scheduler.Task.run(Task.scala:139)\n\tat org.apache.spark.executor.Executor$TaskRunner.$anonfun$run$3(Executor.scala:554)\n\tat org.apache.spark.util.Utils$.tryWithSafeFinally(Utils.scala:1529)\n\tat org.apache.spark.executor.Executor$TaskRunner.run(Executor.scala:557)\n\tat java.base/java.util.concurrent.ThreadPoolExecutor.runWorker(ThreadPoolExecutor.java:1136)\n\tat java.base/java.util.concurrent.ThreadPoolExecutor$Worker.run(ThreadPoolExecutor.java:635)\n\tat java.base/java.lang.Thread.run(Thread.java:833)\nCaused by: org.apache.spark.SparkException: StringIndexer encountered NULL value. To handle or skip NULLS, try setting StringIndexer.handleInvalid.\n\tat org.apache.spark.ml.feature.StringIndexerModel.$anonfun$getIndexer$1(StringIndexer.scala:396)\n\tat org.apache.spark.ml.feature.StringIndexerModel.$anonfun$getIndexer$1$adapted(StringIndexer.scala:391)\n\t... 36 more\n\nDriver stacktrace:\n\tat org.apache.spark.scheduler.DAGScheduler.failJobAndIndependentStages(DAGScheduler.scala:2785)\n\tat org.apache.spark.scheduler.DAGScheduler.$anonfun$abortStage$2(DAGScheduler.scala:2721)\n\tat org.apache.spark.scheduler.DAGScheduler.$anonfun$abortStage$2$adapted(DAGScheduler.scala:2720)\n\tat scala.collection.mutable.ResizableArray.foreach(ResizableArray.scala:62)\n\tat scala.collection.mutable.ResizableArray.foreach$(ResizableArray.scala:55)\n\tat scala.collection.mutable.ArrayBuffer.foreach(ArrayBuffer.scala:49)\n\tat org.apache.spark.scheduler.DAGScheduler.abortStage(DAGScheduler.scala:2720)\n\tat org.apache.spark.scheduler.DAGScheduler.$anonfun$handleTaskSetFailed$1(DAGScheduler.scala:1206)\n\tat org.apache.spark.scheduler.DAGScheduler.$anonfun$handleTaskSetFailed$1$adapted(DAGScheduler.scala:1206)\n\tat scala.Option.foreach(Option.scala:407)\n\tat org.apache.spark.scheduler.DAGScheduler.handleTaskSetFailed(DAGScheduler.scala:1206)\n\tat org.apache.spark.scheduler.DAGSchedulerEventProcessLoop.doOnReceive(DAGScheduler.scala:2984)\n\tat org.apache.spark.scheduler.DAGSchedulerEventProcessLoop.onReceive(DAGScheduler.scala:2923)\n\tat org.apache.spark.scheduler.DAGSchedulerEventProcessLoop.onReceive(DAGScheduler.scala:2912)\n\tat org.apache.spark.util.EventLoop$$anon$1.run(EventLoop.scala:49)\n\tat org.apache.spark.scheduler.DAGScheduler.runJob(DAGScheduler.scala:971)\n\tat org.apache.spark.SparkContext.runJob(SparkContext.scala:2263)\n\tat org.apache.spark.SparkContext.runJob(SparkContext.scala:2358)\n\tat org.apache.spark.rdd.RDD.$anonfun$fold$1(RDD.scala:1172)\n\tat org.apache.spark.rdd.RDDOperationScope$.withScope(RDDOperationScope.scala:151)\n\tat org.apache.spark.rdd.RDDOperationScope$.withScope(RDDOperationScope.scala:112)\n\tat org.apache.spark.rdd.RDD.withScope(RDD.scala:405)\n\tat org.apache.spark.rdd.RDD.fold(RDD.scala:1166)\n\tat org.apache.spark.rdd.RDD.$anonfun$treeAggregate$2(RDD.scala:1259)\n\tat org.apache.spark.rdd.RDDOperationScope$.withScope(RDDOperationScope.scala:151)\n\tat org.apache.spark.rdd.RDDOperationScope$.withScope(RDDOperationScope.scala:112)\n\tat org.apache.spark.rdd.RDD.withScope(RDD.scala:405)\n\tat org.apache.spark.rdd.RDD.treeAggregate(RDD.scala:1226)\n\tat org.apache.spark.rdd.RDD.$anonfun$treeAggregate$1(RDD.scala:1212)\n\tat org.apache.spark.rdd.RDDOperationScope$.withScope(RDDOperationScope.scala:151)\n\tat org.apache.spark.rdd.RDDOperationScope$.withScope(RDDOperationScope.scala:112)\n\tat org.apache.spark.rdd.RDD.withScope(RDD.scala:405)\n\tat org.apache.spark.rdd.RDD.treeAggregate(RDD.scala:1212)\n\tat org.apache.spark.ml.optim.WeightedLeastSquares.fit(WeightedLeastSquares.scala:107)\n\tat org.apache.spark.ml.regression.LinearRegression.trainWithNormal(LinearRegression.scala:456)\n\tat org.apache.spark.ml.regression.LinearRegression.$anonfun$train$1(LinearRegression.scala:354)\n\tat org.apache.spark.ml.util.Instrumentation$.$anonfun$instrumented$1(Instrumentation.scala:191)\n\tat scala.util.Try$.apply(Try.scala:213)\n\tat org.apache.spark.ml.util.Instrumentation$.instrumented(Instrumentation.scala:191)\n\tat org.apache.spark.ml.regression.LinearRegression.train(LinearRegression.scala:329)\n\tat org.apache.spark.ml.regression.LinearRegression.train(LinearRegression.scala:186)\n\tat org.apache.spark.ml.Predictor.fit(Predictor.scala:114)\n\tat org.apache.spark.ml.Predictor.fit(Predictor.scala:78)\n\tat java.base/jdk.internal.reflect.NativeMethodAccessorImpl.invoke0(Native Method)\n\tat java.base/jdk.internal.reflect.NativeMethodAccessorImpl.invoke(NativeMethodAccessorImpl.java:77)\n\tat java.base/jdk.internal.reflect.DelegatingMethodAccessorImpl.invoke(DelegatingMethodAccessorImpl.java:43)\n\tat java.base/java.lang.reflect.Method.invoke(Method.java:568)\n\tat py4j.reflection.MethodInvoker.invoke(MethodInvoker.java:244)\n\tat py4j.reflection.ReflectionEngine.invoke(ReflectionEngine.java:374)\n\tat py4j.Gateway.invoke(Gateway.java:282)\n\tat py4j.commands.AbstractCommand.invokeMethod(AbstractCommand.java:132)\n\tat py4j.commands.CallCommand.execute(CallCommand.java:79)\n\tat py4j.ClientServerConnection.waitForCommands(ClientServerConnection.java:182)\n\tat py4j.ClientServerConnection.run(ClientServerConnection.java:106)\n\tat java.base/java.lang.Thread.run(Thread.java:833)\nCaused by: org.apache.spark.SparkException: [FAILED_EXECUTE_UDF] Failed to execute user defined function (StringIndexerModel$$Lambda$4328/0x0000000801c47000: (string) => double).\n\tat org.apache.spark.sql.errors.QueryExecutionErrors$.failedExecuteUserDefinedFunctionError(QueryExecutionErrors.scala:217)\n\tat org.apache.spark.sql.errors.QueryExecutionErrors.failedExecuteUserDefinedFunctionError(QueryExecutionErrors.scala)\n\tat org.apache.spark.sql.catalyst.expressions.GeneratedClass$GeneratedIteratorForCodegenStage1.processNext(Unknown Source)\n\tat org.apache.spark.sql.execution.BufferedRowIterator.hasNext(BufferedRowIterator.java:43)\n\tat org.apache.spark.sql.execution.WholeStageCodegenExec$$anon$1.hasNext(WholeStageCodegenExec.scala:760)\n\tat scala.collection.Iterator$$anon$10.hasNext(Iterator.scala:460)\n\tat scala.collection.Iterator$$anon$10.hasNext(Iterator.scala:460)\n\tat scala.collection.Iterator$$anon$10.hasNext(Iterator.scala:460)\n\tat scala.collection.Iterator.foreach(Iterator.scala:943)\n\tat scala.collection.Iterator.foreach$(Iterator.scala:943)\n\tat scala.collection.AbstractIterator.foreach(Iterator.scala:1431)\n\tat scala.collection.TraversableOnce.foldLeft(TraversableOnce.scala:199)\n\tat scala.collection.TraversableOnce.foldLeft$(TraversableOnce.scala:192)\n\tat scala.collection.AbstractIterator.foldLeft(Iterator.scala:1431)\n\tat scala.collection.TraversableOnce.aggregate(TraversableOnce.scala:260)\n\tat scala.collection.TraversableOnce.aggregate$(TraversableOnce.scala:260)\n\tat scala.collection.AbstractIterator.aggregate(Iterator.scala:1431)\n\tat org.apache.spark.rdd.RDD.$anonfun$treeAggregate$4(RDD.scala:1234)\n\tat org.apache.spark.rdd.RDD.$anonfun$treeAggregate$6(RDD.scala:1235)\n\tat org.apache.spark.rdd.RDD.$anonfun$mapPartitions$2(RDD.scala:853)\n\tat org.apache.spark.rdd.RDD.$anonfun$mapPartitions$2$adapted(RDD.scala:853)\n\tat org.apache.spark.rdd.MapPartitionsRDD.compute(MapPartitionsRDD.scala:52)\n\tat org.apache.spark.rdd.RDD.computeOrReadCheckpoint(RDD.scala:364)\n\tat org.apache.spark.rdd.RDD.iterator(RDD.scala:328)\n\tat org.apache.spark.rdd.MapPartitionsRDD.compute(MapPartitionsRDD.scala:52)\n\tat org.apache.spark.rdd.RDD.computeOrReadCheckpoint(RDD.scala:364)\n\tat org.apache.spark.rdd.RDD.iterator(RDD.scala:328)\n\tat org.apache.spark.shuffle.ShuffleWriteProcessor.write(ShuffleWriteProcessor.scala:59)\n\tat org.apache.spark.scheduler.ShuffleMapTask.runTask(ShuffleMapTask.scala:101)\n\tat org.apache.spark.scheduler.ShuffleMapTask.runTask(ShuffleMapTask.scala:53)\n\tat org.apache.spark.TaskContext.runTaskWithListeners(TaskContext.scala:161)\n\tat org.apache.spark.scheduler.Task.run(Task.scala:139)\n\tat org.apache.spark.executor.Executor$TaskRunner.$anonfun$run$3(Executor.scala:554)\n\tat org.apache.spark.util.Utils$.tryWithSafeFinally(Utils.scala:1529)\n\tat org.apache.spark.executor.Executor$TaskRunner.run(Executor.scala:557)\n\tat java.base/java.util.concurrent.ThreadPoolExecutor.runWorker(ThreadPoolExecutor.java:1136)\n\tat java.base/java.util.concurrent.ThreadPoolExecutor$Worker.run(ThreadPoolExecutor.java:635)\n\t... 1 more\nCaused by: org.apache.spark.SparkException: StringIndexer encountered NULL value. To handle or skip NULLS, try setting StringIndexer.handleInvalid.\n\tat org.apache.spark.ml.feature.StringIndexerModel.$anonfun$getIndexer$1(StringIndexer.scala:396)\n\tat org.apache.spark.ml.feature.StringIndexerModel.$anonfun$getIndexer$1$adapted(StringIndexer.scala:391)\n\t... 36 more\n"
     ]
    }
   ],
   "source": [
    "from pyspark.ml.feature import VectorAssembler\n",
    "from pyspark.ml.regression import LinearRegression\n",
    "for missing_col in missing_cols: \n",
    "    train_df = new_df.select(non_missing_cols + [missing_col])\n",
    "    df_missing = train_df.where(col(missing_col).isNull())\n",
    "    df_no_missing = train_df.where(col(missing_col).isNotNull())\n",
    "    assembler = VectorAssembler(inputCols=non_missing_cols, outputCol=\"features\")\n",
    "    df_no_missing = assembler.transform(df_no_missing)\n",
    "    lr = LinearRegression(featuresCol = \"features\", labelCol=missing_col)\n",
    "    lr_model = lr.fit(df_no_missing)\n",
    "    df_missing = assembler.transform(df_missing)\n",
    "    predictions = lr_model.transform(df_missing)\n",
    "    break"
   ]
  },
  {
   "cell_type": "code",
   "execution_count": 168,
   "metadata": {},
   "outputs": [
    {
     "name": "stdout",
     "output_type": "stream",
     "text": [
      "+---------+---+---------+---------+--------------+---------+-----------+------------------------+------------------+-------------------+--------------------------+-----------------------+-----------------+---------------+-----------+-----------------+------------------+------------------+---------------------+---------------------+----------------+------------------+----------------+----------------+-------------+-------------+--------------+----------------+--------------------+-----------------------+---------------------+----------------+-------------------+---------------------------+-------------------------+------------------------+------------------+--------------------+-------------------+-----------------------+--------------------+---+---+---+---+---+---+---+---+---+---+---+---+---+---+---+---+---+---+---+---+---+---+---+---+---+---+----+---------------------------+----------+-------------------+-----------------+-----------+-----------+-----------+-----------+-----------+------------+-----------+------------+-----------+------------+-----------+-----------+-----------+-----------+------------+---------------+--------------------+---------+--------------------+\n",
      "|potential|age|height_cm|weight_kg|nationality_id|weak_foot|skill_moves|international_reputation|attacking_crossing|attacking_finishing|attacking_heading_accuracy|attacking_short_passing|attacking_volleys|skill_dribbling|skill_curve|skill_fk_accuracy|skill_long_passing|skill_ball_control|movement_acceleration|movement_sprint_speed|movement_agility|movement_reactions|movement_balance|power_shot_power|power_jumping|power_stamina|power_strength|power_long_shots|mentality_aggression|mentality_interceptions|mentality_positioning|mentality_vision|mentality_penalties|defending_marking_awareness|defending_standing_tackle|defending_sliding_tackle|goalkeeping_diving|goalkeeping_handling|goalkeeping_kicking|goalkeeping_positioning|goalkeeping_reflexes| ls| st| rs| lw| lf| cf| rf| rw|lam|cam|ram| lm|lcm| cm|rcm| rm|lwb|ldm|cdm|rdm|rwb| lb|lcb| cb|rcb| rb|year|mentality_composure_imputed|gk_imputed|club_position_index|league_name_index|Position_GK|Position_RW|Position_LW|Position_ST|Position_RB|Position_RWB|Position_CM|Position_LWB|Position_LM|Position_CDM|Position_LB|Position_CB|Position_CF|Position_RM|Position_CAM|work_rate_index|preferred_foot_index|value_eur|            features|\n",
      "+---------+---+---------+---------+--------------+---------+-----------+------------------------+------------------+-------------------+--------------------------+-----------------------+-----------------+---------------+-----------+-----------------+------------------+------------------+---------------------+---------------------+----------------+------------------+----------------+----------------+-------------+-------------+--------------+----------------+--------------------+-----------------------+---------------------+----------------+-------------------+---------------------------+-------------------------+------------------------+------------------+--------------------+-------------------+-----------------------+--------------------+---+---+---+---+---+---+---+---+---+---+---+---+---+---+---+---+---+---+---+---+---+---+---+---+---+---+----+---------------------------+----------+-------------------+-----------------+-----------+-----------+-----------+-----------+-----------+------------+-----------+------------+-----------+------------+-----------+-----------+-----------+-----------+------------+---------------+--------------------+---------+--------------------+\n",
      "|       93| 34|      170|       72|            52|        4|          4|                       5|                85|                 95|                        70|                     91|               88|             96|         93|               94|                91|                96|                   91|                   80|              91|                94|              95|              86|           68|           72|            69|              94|                  44|                     40|                   93|              95|                 75|                         20|                       35|                      24|                 6|                  11|                 15|                     14|                   8| 89| 89| 89| 92| 93| 93| 93| 92| 93| 93| 93| 91| 87| 87| 87| 91| 66| 64| 64| 64| 66| 61| 50| 50| 50| 61|  22|                         96|        19|               19.0|              9.0|          0|          1|          0|          1|          0|           0|          0|           0|          0|           0|          0|          0|          1|          0|           0|            3.0|                 1.0|    7.8E7|[93.0,34.0,170.0,...|\n",
      "|       92| 32|      185|       81|            37|        4|          4|                       5|                71|                 95|                        90|                     85|               89|             85|         79|               85|                70|                88|                   77|                   79|              77|                93|              82|              90|           85|           76|            86|              87|                  81|                     49|                   95|              81|                 90|                         35|                       42|                      19|                15|                   6|                 12|                      8|                  10| 90| 90| 90| 85| 88| 88| 88| 85| 86| 86| 86| 84| 80| 80| 80| 84| 64| 66| 66| 66| 64| 61| 60| 60| 60| 61|  22|                         88|        19|                7.0|             10.0|          0|          0|          0|          1|          0|           0|          0|           0|          0|           0|          0|          0|          0|          0|           0|            1.0|                 0.0|  1.195E8|[92.0,32.0,185.0,...|\n",
      "|       91| 36|      187|       83|            38|        4|          5|                       5|                87|                 95|                        90|                     80|               86|             88|         81|               84|                77|                88|                   85|                   88|              86|                94|              74|              94|           95|           77|            77|              93|                  63|                     29|                   95|              76|                 88|                         24|                       32|                      24|                 7|                  11|                 15|                     14|                  11| 90| 90| 90| 88| 89| 89| 89| 88| 86| 86| 86| 86| 78| 78| 78| 86| 63| 59| 59| 59| 63| 60| 53| 53| 53| 60|  22|                         95|        20|                7.0|              2.0|          0|          0|          1|          1|          0|           0|          0|           0|          0|           0|          0|          0|          0|          0|           0|            5.0|                 0.0|    4.5E7|[91.0,36.0,187.0,...|\n",
      "|       91| 29|      175|       68|            54|        5|          5|                       5|                85|                 83|                        63|                     86|               86|             95|         88|               87|                81|                95|                   93|                   89|              96|                89|              84|              80|           64|           81|            53|              81|                  63|                     37|                   86|              90|                 93|                         35|                       32|                      29|                 9|                   9|                 15|                     15|                  11| 83| 83| 83| 90| 88| 88| 88| 90| 89| 89| 89| 89| 82| 82| 82| 89| 67| 63| 63| 63| 67| 62| 50| 50| 50| 62|  22|                         93|        20|               18.0|              9.0|          0|          0|          1|          0|          0|           0|          0|           0|          0|           0|          0|          0|          0|          0|           1|            1.0|                 0.0|   1.29E8|[91.0,29.0,175.0,...|\n",
      "|       91| 30|      181|       70|             7|        5|          4|                       4|                94|                 82|                        55|                     94|               82|             88|         85|               83|                93|                91|                   76|                   76|              79|                91|              78|              91|           63|           89|            74|              91|                  76|                     66|                   88|              94|                 83|                         68|                       65|                      53|                15|                  13|                  5|                     10|                  13| 83| 83| 83| 88| 87| 87| 87| 88| 89| 89| 89| 89| 89| 89| 89| 89| 79| 80| 80| 80| 79| 75| 69| 69| 69| 75|  22|                         89|        21|               11.0|              2.0|          0|          0|          0|          0|          0|           0|          1|           0|          0|           0|          0|          0|          0|          0|           1|            4.0|                 0.0|  1.255E8|[91.0,30.0,181.0,...|\n",
      "|       93| 28|      188|       87|            44|        3|          1|                       5|                13|                 11|                        15|                     43|               13|             12|         13|               14|                40|                30|                   43|                   60|              67|                88|              49|              59|           78|           41|            78|              12|                  34|                     19|                   11|              65|                 11|                         27|                       12|                      18|                87|                  92|                 78|                     90|                  90| 33| 33| 33| 32| 35| 35| 35| 32| 38| 38| 38| 35| 38| 38| 38| 35| 32| 36| 36| 36| 32| 32| 33| 33| 33| 32|  22|                         68|        89|                2.0|              6.0|          1|          0|          0|          0|          0|           0|          0|           0|          0|           0|          0|          0|          0|          0|           0|            0.0|                 0.0|   1.12E8|[93.0,28.0,188.0,...|\n",
      "|       95| 22|      182|       73|            18|        4|          5|                       4|                78|                 93|                        72|                     85|               83|             93|         80|               69|                71|                91|                   97|                   97|              92|                93|              83|              86|           78|           88|            77|              82|                  62|                     38|                   92|              82|                 79|                         26|                       34|                      32|                13|                   5|                  7|                     11|                   6| 89| 89| 89| 90| 90| 90| 90| 90| 89| 89| 89| 89| 81| 81| 81| 89| 67| 63| 63| 63| 67| 63| 54| 54| 54| 63|  22|                         88|        18|                7.0|              9.0|          0|          0|          1|          1|          0|           0|          0|           0|          0|           0|          0|          0|          0|          0|           0|            5.0|                 0.0|   1.94E8|[95.0,22.0,182.0,...|\n",
      "|       90| 35|      193|       93|            21|        4|          1|                       5|                15|                 13|                        25|                     60|               11|             30|         14|               11|                68|                46|                   54|                   60|              51|                87|              35|              68|           77|           43|            80|              16|                  29|                     30|                   12|              70|                 47|                         17|                       10|                      11|                88|                  88|                 91|                     89|                  88| 40| 40| 40| 40| 43| 43| 43| 40| 47| 47| 47| 44| 50| 50| 50| 44| 37| 43| 43| 43| 37| 35| 34| 34| 34| 35|  22|                         70|        88|                2.0|             10.0|          1|          0|          0|          0|          0|           0|          0|           0|          0|           0|          0|          0|          0|          0|           0|            0.0|                 0.0|   1.35E7|[90.0,35.0,193.0,...|\n",
      "|       92| 29|      187|       85|            21|        4|          1|                       4|                18|                 14|                        11|                     61|               14|             21|         18|               12|                63|                30|                   38|                   50|              39|                86|              43|              66|           79|           35|            78|              10|                  43|                     22|                   11|              70|                 25|                         25|                       13|                      10|                88|                  85|                 88|                     88|                  90| 35| 35| 35| 35| 38| 38| 38| 35| 42| 42| 42| 39| 45| 45| 45| 39| 33| 41| 41| 41| 33| 31| 33| 33| 33| 31|  22|                         70|        88|                2.0|              6.0|          1|          0|          0|          0|          0|           0|          0|           0|          0|           0|          0|          0|          0|          0|           0|            0.0|                 0.0|    9.9E7|[92.0,29.0,187.0,...|\n",
      "|       90| 27|      188|       89|            14|        5|          3|                       4|                80|                 94|                        86|                     85|               88|             83|         83|               65|                86|                85|                   65|                   74|              71|                92|              70|              91|           79|           83|            85|              86|                  80|                     44|                   94|              87|                 91|                         50|                       36|                      38|                 8|                  10|                 11|                     14|                  11| 88| 88| 88| 84| 86| 86| 86| 84| 85| 85| 85| 84| 82| 82| 82| 84| 67| 68| 68| 68| 67| 64| 61| 61| 61| 64|  22|                         91|        20|                7.0|              2.0|          0|          0|          0|          1|          0|           0|          0|           0|          0|           0|          0|          0|          0|          0|           0|            4.0|                 0.0|  1.295E8|[90.0,27.0,188.0,...|\n",
      "|       90| 30|      168|       70|            18|        3|          2|                       4|                68|                 65|                        54|                     82|               56|             79|         49|               49|                79|                81|                   82|                   75|              82|                93|              92|              71|           77|           97|            72|              65|                  93|                     91|                   72|              78|                 54|                         90|                       93|                      86|                15|                  12|                 10|                      7|                  10| 72| 72| 72| 77| 77| 77| 77| 77| 78| 78| 78| 79| 82| 82| 82| 79| 85| 87| 87| 87| 85| 85| 84| 84| 84| 85|  22|                         84|        20|               11.0|              2.0|          0|          0|          0|          0|          0|           0|          1|           0|          0|           1|          0|          0|          0|          0|           0|            2.0|                 0.0|    1.0E8|[90.0,30.0,168.0,...|\n",
      "|       89| 33|      185|       81|            18|        4|          4|                       4|                75|                 90|                        89|                     86|               86|             87|         81|               73|                73|                90|                   77|                   75|              79|                91|              72|              85|           79|           78|            82|              79|                  63|                     39|                   90|              87|                 84|                         43|                       24|                      18|                13|                  11|                  5|                      5|                   7| 87| 87| 87| 85| 87| 87| 87| 85| 86| 86| 86| 84| 80| 80| 80| 84| 63| 62| 62| 62| 63| 59| 55| 55| 55| 59|  22|                         90|        18|               28.0|              6.0|          0|          0|          0|          1|          0|           0|          0|           0|          0|           0|          0|          0|          1|          0|           0|            0.0|                 0.0|    6.6E7|[89.0,33.0,185.0,...|\n",
      "|       91| 29|      199|       96|             7|        3|          1|                       4|                14|                 14|                        13|                     33|               12|             13|         19|               20|                35|                23|                   42|                   52|              62|                84|              45|              56|           68|           38|            70|              17|                  23|                     15|                   13|              44|                 27|                         20|                       18|                      16|                84|                  89|                 74|                     86|                  88| 31| 31| 31| 29| 31| 31| 31| 29| 32| 32| 32| 31| 32| 32| 32| 31| 29| 31| 31| 31| 29| 29| 29| 29| 29| 29|  22|                         66|        86|                2.0|              6.0|          1|          0|          0|          0|          0|           0|          0|           0|          0|           0|          0|          0|          0|          0|           0|            0.0|                 1.0|   8.55E7|[91.0,29.0,199.0,...|\n",
      "|       89| 28|      183|       78|           167|        5|          4|                       4|                83|                 88|                        68|                     84|               78|             87|         85|               74|                74|                84|                   85|                   90|              86|                91|              78|              88|           60|           88|            64|              89|                  62|                     39|                   91|              83|                 73|                         50|                       34|                      33|                11|                  13|                 13|                      6|                  10| 85| 85| 85| 87| 87| 87| 87| 87| 86| 86| 86| 86| 80| 80| 80| 86| 68| 64| 64| 64| 68| 64| 54| 54| 54| 64|  22|                         89|        19|               18.0|              2.0|          0|          0|          1|          0|          0|           0|          0|           0|          1|           0|          0|          0|          1|          0|           0|            4.0|                 0.0|   1.04E8|[89.0,28.0,183.0,...|\n",
      "|       89| 29|      185|       84|            54|        3|          2|                       3|                58|                 64|                        79|                     84|               62|             69|         62|               74|                84|                79|                   60|                   69|              61|                87|              66|              88|           87|           89|            90|              81|                  91|                     87|                   75|              80|                 66|                         85|                       88|                      87|                13|                  14|                 16|                     12|                  12| 76| 76| 76| 72| 76| 76| 76| 72| 76| 76| 76| 74| 82| 82| 82| 74| 80| 86| 86| 86| 80| 81| 86| 86| 86| 81|  22|                         84|        21|               17.0|              6.0|          0|          0|          0|          0|          0|           0|          0|           0|          0|           1|          0|          0|          0|          0|           0|            4.0|                 0.0|    8.8E7|[89.0,29.0,185.0,...|\n",
      "|       89| 29|      193|       92|            34|        3|          2|                       4|                53|                 52|                        87|                     79|               45|             70|         60|               70|                86|                76|                   66|                   88|              61|                87|              53|              81|           90|           69|            92|              64|                  83|                     90|                   47|              65|                 62|                         92|                       92|                      86|                13|                  10|                 13|                     11|                  11| 70| 70| 70| 67| 69| 69| 69| 67| 70| 70| 70| 70| 75| 75| 75| 70| 79| 84| 84| 84| 79| 81| 88| 88| 88| 81|  22|                         90|        20|                3.0|              2.0|          0|          0|          0|          0|          0|           0|          0|           0|          0|           0|          0|          1|          0|          0|           0|            0.0|                 0.0|    8.6E7|[89.0,29.0,193.0,...|\n",
      "|       89| 29|      175|       69|           136|        4|          4|                       4|                78|                 86|                        84|                     84|               75|             90|         77|               64|                71|                88|                   93|                   90|              93|                91|              88|              83|           87|           85|            72|              80|                  75|                     35|                   90|              84|                 71|                         42|                       42|                      38|                10|                  10|                 15|                      7|                  14| 86| 86| 86| 87| 88| 88| 88| 87| 87| 87| 87| 86| 80| 80| 80| 86| 68| 65| 65| 65| 68| 65| 59| 59| 59| 65|  22|                         84|        19|               18.0|              2.0|          0|          0|          1|          0|          0|           0|          0|           0|          0|           0|          0|          0|          0|          0|           0|            1.0|                 0.0|   1.01E8|[89.0,29.0,175.0,...|\n",
      "|       89| 29|      175|       71|           111|        3|          4|                       4|                79|                 91|                        59|                     84|               81|             90|         83|               69|                75|                89|                   89|                   91|              91|                92|              91|              82|           69|           85|            75|              84|                  63|                     55|                   91|              83|                 86|                         38|                       43|                      41|                14|                  14|                  9|                     11|                  14| 85| 85| 85| 88| 88| 88| 88| 88| 87| 87| 87| 87| 82| 82| 82| 87| 71| 68| 68| 68| 71| 67| 58| 58| 58| 67|  22|                         90|        22|               19.0|              2.0|          0|          1|          0|          0|          0|           0|          0|           0|          0|           0|          0|          0|          0|          0|           0|            1.0|                 1.0|   1.01E8|[89.0,29.0,175.0,...|\n",
      "|       91| 27|      188|       86|            54|        3|          1|                       3|                20|                 14|                        14|                     61|               18|             23|         15|               20|                66|                40|                   64|                   63|              60|                88|              48|              70|           66|           41|            78|              18|                  38|                     27|                   20|              70|                 51|                         29|                       15|                       8|                87|                  82|                 93|                     88|                  88| 40| 40| 40| 41| 43| 43| 43| 41| 47| 47| 47| 44| 49| 49| 49| 44| 37| 44| 44| 44| 37| 36| 35| 35| 35| 36|  22|                         70|        87|                2.0|              2.0|          1|          0|          0|          0|          0|           0|          0|           0|          0|           0|          0|          0|          0|          0|           0|            0.0|                 1.0|    9.4E7|[91.0,27.0,188.0,...|\n",
      "|       90| 26|      177|       75|            21|        4|          3|                       4|                91|                 68|                        72|                     87|               69|             83|         85|               61|                90|                85|                   77|                   65|              84|                88|              84|              78|           79|           94|            68|              84|                  89|                     84|                   80|              85|                 44|                         85|                       85|                      79|                 8|                  15|                  7|                     15|                  15| 77| 77| 77| 82| 81| 81| 81| 82| 83| 83| 83| 83| 86| 86| 86| 83| 85| 86| 86| 86| 85| 83| 81| 81| 81| 83|  22|                         85|        21|               13.0|             10.0|          0|          0|          0|          0|          1|           0|          0|           0|          0|           1|          0|          0|          0|          0|           0|            1.0|                 0.0|   1.08E8|[90.0,26.0,177.0,...|\n",
      "+---------+---+---------+---------+--------------+---------+-----------+------------------------+------------------+-------------------+--------------------------+-----------------------+-----------------+---------------+-----------+-----------------+------------------+------------------+---------------------+---------------------+----------------+------------------+----------------+----------------+-------------+-------------+--------------+----------------+--------------------+-----------------------+---------------------+----------------+-------------------+---------------------------+-------------------------+------------------------+------------------+--------------------+-------------------+-----------------------+--------------------+---+---+---+---+---+---+---+---+---+---+---+---+---+---+---+---+---+---+---+---+---+---+---+---+---+---+----+---------------------------+----------+-------------------+-----------------+-----------+-----------+-----------+-----------+-----------+------------+-----------+------------+-----------+------------+-----------+-----------+-----------+-----------+------------+---------------+--------------------+---------+--------------------+\n",
      "only showing top 20 rows\n",
      "\n"
     ]
    }
   ],
   "source": [
    "df_no_missing.show()"
   ]
  },
  {
   "cell_type": "code",
   "execution_count": 22,
   "metadata": {},
   "outputs": [
    {
     "name": "stderr",
     "output_type": "stream",
     "text": [
      "23/11/08 11:12:58 WARN CSVHeaderChecker: CSV header does not conform to the schema.\n",
      " Header: , overall, potential, age, height_cm, weight_kg, club_joined, nationality_id, weak_foot, skill_moves, international_reputation, attacking_crossing, attacking_finishing, attacking_heading_accuracy, attacking_short_passing, attacking_volleys, skill_dribbling, skill_curve, skill_fk_accuracy, skill_long_passing, skill_ball_control, movement_acceleration, movement_sprint_speed, movement_agility, movement_reactions, movement_balance, power_shot_power, power_jumping, power_stamina, power_strength, power_long_shots, mentality_aggression, mentality_interceptions, mentality_positioning, mentality_vision, mentality_penalties, mentality_composure, defending_marking_awareness, defending_standing_tackle, defending_sliding_tackle, goalkeeping_diving, goalkeeping_handling, goalkeeping_kicking, goalkeeping_positioning, goalkeeping_reflexes, ls, st, rs, lw, lf, cf, rf, rw, lam, cam, ram, lm, lcm, cm, rcm, rm, lwb, ldm, cdm, rdm, rwb, lb, lcb, cb, rcb, rb, year, id\n",
      " Schema: _c0, overall, potential, age, height_cm, weight_kg, club_joined, nationality_id, weak_foot, skill_moves, international_reputation, attacking_crossing, attacking_finishing, attacking_heading_accuracy, attacking_short_passing, attacking_volleys, skill_dribbling, skill_curve, skill_fk_accuracy, skill_long_passing, skill_ball_control, movement_acceleration, movement_sprint_speed, movement_agility, movement_reactions, movement_balance, power_shot_power, power_jumping, power_stamina, power_strength, power_long_shots, mentality_aggression, mentality_interceptions, mentality_positioning, mentality_vision, mentality_penalties, mentality_composure, defending_marking_awareness, defending_standing_tackle, defending_sliding_tackle, goalkeeping_diving, goalkeeping_handling, goalkeeping_kicking, goalkeeping_positioning, goalkeeping_reflexes, ls, st, rs, lw, lf, cf, rf, rw, lam, cam, ram, lm, lcm, cm, rcm, rm, lwb, ldm, cdm, rdm, rwb, lb, lcb, cb, rcb, rb, year, id\n",
      "Expected: _c0 but found: \n",
      "CSV file: file:///Users/dylan/DylanLi/Code_Repo/CMU18763_Projects1/full_data.csv\n",
      "[Stage 553:=====>                                                  (1 + 9) / 10]\r"
     ]
    },
    {
     "name": "stdout",
     "output_type": "stream",
     "text": [
      "+---+---------+-------+---------+---------+--------+---+---------+---------+------------+-----------+------------+-------------+-----------+--------------+--------------+---------+-----------+------------------------+---------+----+--------+-------+---------+---------+------+------------------+-------------------+--------------------------+-----------------------+-----------------+---------------+-----------+-----------------+------------------+------------------+---------------------+---------------------+----------------+------------------+----------------+----------------+-------------+-------------+--------------+----------------+--------------------+-----------------------+---------------------+----------------+-------------------+-------------------+---------------------------+-------------------------+------------------------+------------------+--------------------+-------------------+-----------------------+--------------------+---+---+---+---+---+---+---+---+---+---+---+---+---+---+---+---+---+---+---+---+---+---+---+---+---+---+---+----+---+-----------+-----------+-----------+-----------+-----------+------------+-----------+------------+-----------+------------+-----------+-----------+-----------+-----------+------------+\n",
      "|_c0|long_name|overall|potential|value_eur|wage_eur|age|height_cm|weight_kg|club_team_id|league_name|league_level|club_position|club_joined|nationality_id|preferred_foot|weak_foot|skill_moves|international_reputation|work_rate|pace|shooting|passing|dribbling|defending|physic|attacking_crossing|attacking_finishing|attacking_heading_accuracy|attacking_short_passing|attacking_volleys|skill_dribbling|skill_curve|skill_fk_accuracy|skill_long_passing|skill_ball_control|movement_acceleration|movement_sprint_speed|movement_agility|movement_reactions|movement_balance|power_shot_power|power_jumping|power_stamina|power_strength|power_long_shots|mentality_aggression|mentality_interceptions|mentality_positioning|mentality_vision|mentality_penalties|mentality_composure|defending_marking_awareness|defending_standing_tackle|defending_sliding_tackle|goalkeeping_diving|goalkeeping_handling|goalkeeping_kicking|goalkeeping_positioning|goalkeeping_reflexes| ls| st| rs| lw| lf| cf| rf| rw|lam|cam|ram| lm|lcm| cm|rcm| rm|lwb|ldm|cdm|rdm|rwb| lb|lcb| cb|rcb| rb| gk|year| id|Position_GK|Position_RW|Position_LW|Position_ST|Position_RB|Position_RWB|Position_CM|Position_LWB|Position_LM|Position_CDM|Position_LB|Position_CB|Position_CF|Position_RM|Position_CAM|\n",
      "+---+---------+-------+---------+---------+--------+---+---------+---------+------------+-----------+------------+-------------+-----------+--------------+--------------+---------+-----------+------------------------+---------+----+--------+-------+---------+---------+------+------------------+-------------------+--------------------------+-----------------------+-----------------+---------------+-----------+-----------------+------------------+------------------+---------------------+---------------------+----------------+------------------+----------------+----------------+-------------+-------------+--------------+----------------+--------------------+-----------------------+---------------------+----------------+-------------------+-------------------+---------------------------+-------------------------+------------------------+------------------+--------------------+-------------------+-----------------------+--------------------+---+---+---+---+---+---+---+---+---+---+---+---+---+---+---+---+---+---+---+---+---+---+---+---+---+---+---+----+---+-----------+-----------+-----------+-----------+-----------+------------+-----------+------------+-----------+------------+-----------+-----------+-----------+-----------+------------+\n",
      "|  0|        0|      0|        0|        0|       0|  0|        0|        0|           0|          0|           0|            0|       9935|             0|             0|        0|          0|                       0|        0|   0|       0|      0|        0|        0|     0|                 0|                  0|                         0|                      0|                0|              0|          0|                0|                 0|                 0|                    0|                    0|               0|                 0|               0|               0|            0|            0|             0|               0|                   0|                      0|                    0|               0|                  0|                  0|                          0|                        0|                       0|                 0|                   0|                  0|                      0|                   0|  0|  0|  0|  0|  0|  0|  0|  0|  0|  0|  0|  0|  0|  0|  0|  0|  0|  0|  0|  0|  0|  0|  0|  0|  0|  0|  0|   0|  0|          0|          0|          0|          0|          0|           0|          0|           0|          0|           0|          0|          0|          0|          0|           0|\n",
      "+---+---------+-------+---------+---------+--------+---+---------+---------+------------+-----------+------------+-------------+-----------+--------------+--------------+---------+-----------+------------------------+---------+----+--------+-------+---------+---------+------+------------------+-------------------+--------------------------+-----------------------+-----------------+---------------+-----------+-----------------+------------------+------------------+---------------------+---------------------+----------------+------------------+----------------+----------------+-------------+-------------+--------------+----------------+--------------------+-----------------------+---------------------+----------------+-------------------+-------------------+---------------------------+-------------------------+------------------------+------------------+--------------------+-------------------+-----------------------+--------------------+---+---+---+---+---+---+---+---+---+---+---+---+---+---+---+---+---+---+---+---+---+---+---+---+---+---+---+----+---+-----------+-----------+-----------+-----------+-----------+------------+-----------+------------+-----------+------------+-----------+-----------+-----------+-----------+------------+\n",
      "\n"
     ]
    },
    {
     "name": "stderr",
     "output_type": "stream",
     "text": [
      "                                                                                \r"
     ]
    }
   ],
   "source": [
    "#Check missing values again\n",
    "na_counts = new_df.select([_sum(when(col(c).isNull(), 1).otherwise(0)).alias(c) for c in new_df.columns])\n",
    "na_counts.show()"
   ]
  },
  {
   "cell_type": "code",
   "execution_count": 23,
   "metadata": {},
   "outputs": [],
   "source": [
    "# We are gonna preprocess the preffered_foot using one-hot encoder\n",
    "from pyspark.ml.feature import StringIndexer, OneHotEncoder\n",
    "from pyspark.ml import Pipeline\n",
    "from pyspark.sql.functions import col\n",
    "indexer = StringIndexer(inputCol='preferred_foot', outputCol='indexed_preferred_foot')\n",
    "encoder = OneHotEncoder(inputCols=['indexed_preferred_foot'], outputCols=['preferred_foot_encoded'])\n",
    "\n",
    "pipeline = Pipeline(stages=[indexer,encoder])\n",
    "\n",
    "model = pipeline.fit(new_df)\n",
    "\n",
    "col_to_drop = ['indexed_preferred_foot','preferred_foot']\n",
    "data_encoded = model.transform(new_df).drop(*col_to_drop)"
   ]
  },
  {
   "cell_type": "code",
   "execution_count": null,
   "metadata": {},
   "outputs": [],
   "source": [
    "# use label encoder for work_rate and player_positions label_encoder\n",
    "from pyspark.ml.feature import StringIndexer\n",
    "\n",
    "# Loop over each string column in the DataFrame\n",
    "for col_name, data_type in data_encoded.dtypes:\n",
    "    if data_type == 'string':\n",
    "        # Create a StringIndexer object and fit it to the column\n",
    "        indexer = StringIndexer(inputCol=col_name, outputCol=col_name + '_indexed')\n",
    "        model = indexer.fit(data_encoded)\n",
    "        \n",
    "        # Transform the column using the fitted indexer\n",
    "        data_encoded = model.transform(data_encoded).drop(col_name)"
   ]
  },
  {
   "cell_type": "code",
   "execution_count": null,
   "metadata": {},
   "outputs": [],
   "source": [
    "data_encoded.show(5)"
   ]
  },
  {
   "cell_type": "code",
   "execution_count": null,
   "metadata": {},
   "outputs": [],
   "source": [
    "data_encoded.printSchema()"
   ]
  }
 ],
 "metadata": {
  "kernelspec": {
   "display_name": "aichaintools-torch",
   "language": "python",
   "name": "python3"
  },
  "language_info": {
   "codemirror_mode": {
    "name": "ipython",
    "version": 3
   },
   "file_extension": ".py",
   "mimetype": "text/x-python",
   "name": "python",
   "nbconvert_exporter": "python",
   "pygments_lexer": "ipython3",
   "version": "3.10.12"
  }
 },
 "nbformat": 4,
 "nbformat_minor": 2
}
