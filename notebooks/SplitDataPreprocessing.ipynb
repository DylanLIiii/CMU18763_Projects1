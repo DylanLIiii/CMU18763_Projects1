{
 "cells": [
  {
   "cell_type": "code",
   "execution_count": 1,
   "metadata": {},
   "outputs": [],
   "source": [
    "### import libraries\n",
    "import os \n",
    "import pandas as pd\n",
    "from tqdm import tqdm\n",
    "import numpy as np\n",
    "\n",
    "import pyspark\n",
    "from pyspark.sql import SparkSession\n",
    "from pyspark import SparkContext, SQLContext\n",
    "import pyspark.sql.functions as F \n",
    "from pprint import pprint"
   ]
  },
  {
   "cell_type": "code",
   "execution_count": 2,
   "metadata": {},
   "outputs": [
    {
     "name": "stderr",
     "output_type": "stream",
     "text": [
      "23/10/31 18:18:53 WARN Utils: Your hostname, dylanli3090 resolves to a loopback address: 127.0.1.1; using 100.110.155.221 instead (on interface wlp37s0)\n",
      "23/10/31 18:18:53 WARN Utils: Set SPARK_LOCAL_IP if you need to bind to another address\n",
      "Setting default log level to \"WARN\".\n",
      "To adjust logging level use sc.setLogLevel(newLevel). For SparkR, use setLogLevel(newLevel).\n",
      "23/10/31 18:18:54 WARN NativeCodeLoader: Unable to load native-hadoop library for your platform... using builtin-java classes where applicable\n",
      "/home/dylan/mambaforge/envs/aiml/lib/python3.10/site-packages/pyspark/sql/context.py:113: FutureWarning: Deprecated in 3.0.0. Use SparkSession.builder.getOrCreate() instead.\n",
      "  warnings.warn(\n"
     ]
    }
   ],
   "source": [
    "# init a spark session\n",
    "appName = \"Fifa_DE\"\n",
    "master = \"local\"\n",
    "\n",
    "\n",
    "sc = SparkSession.builder.appName(appName).getOrCreate()\n",
    "sqlContext = SQLContext(sc)\n",
    "spark = sqlContext.sparkSession.builder.getOrCreate()"
   ]
  },
  {
   "cell_type": "code",
   "execution_count": 3,
   "metadata": {},
   "outputs": [],
   "source": [
    "useless_cols = ['player_url', 'player_face_url', 'club_logo_url', \n",
    "                'club_flag_url', 'nation_logo_url', 'nation_flag_url', 'sofifa_id', \n",
    "                'short_name', 'dob', 'club_name','club_jersey_number', 'club_loaned_from', \n",
    "                'nationality_name', 'nation_jersey_number', 'body_type','real_face', 'goalkeeping_speed', \n",
    "                'club_contract_valid_until']"
   ]
  },
  {
   "cell_type": "markdown",
   "metadata": {},
   "source": [
    "From Data EDA, We know that\n",
    "\n",
    "- We will drop some unnecessary columns\n",
    "- We should clean the data\n",
    "- We should deal with `club_joined`, `player_traits`, and `tags` columns."
   ]
  },
  {
   "cell_type": "code",
   "execution_count": 4,
   "metadata": {},
   "outputs": [
    {
     "name": "stderr",
     "output_type": "stream",
     "text": [
      "                                                                                \r"
     ]
    }
   ],
   "source": [
    "# Read data \n",
    "data_path = os.getcwd() + '/full_data.csv'\n",
    "data = spark.read.csv(data_path, header=True, inferSchema=True)"
   ]
  },
  {
   "cell_type": "code",
   "execution_count": 5,
   "metadata": {},
   "outputs": [],
   "source": [
    "data = data.drop(*useless_cols)"
   ]
  },
  {
   "cell_type": "markdown",
   "metadata": {},
   "source": [
    "### Clean Data"
   ]
  },
  {
   "cell_type": "code",
   "execution_count": 6,
   "metadata": {},
   "outputs": [],
   "source": [
    "##### Drop Columns that Missing Value are more than 50%\n",
    "def missing_value_col(df):\n",
    "    cols_to_drop = []\n",
    "    for i in tqdm(df.columns):\n",
    "        missing = df.filter(F.col(i).isNull()).count() / df.count() * 100\n",
    "        if missing > 50:\n",
    "            print('{} - {}%'.format(i, round(missing)))\n",
    "            cols_to_drop.append(i)\n",
    "    return cols_to_drop"
   ]
  },
  {
   "cell_type": "code",
   "execution_count": 7,
   "metadata": {},
   "outputs": [
    {
     "name": "stderr",
     "output_type": "stream",
     "text": [
      "  0%|          | 0/95 [00:00<?, ?it/s]"
     ]
    },
    {
     "name": "stderr",
     "output_type": "stream",
     "text": [
      "23/10/31 18:19:03 WARN CSVHeaderChecker: CSV header does not conform to the schema.\n",
      " Header: \n",
      " Schema: _c0\n",
      "Expected: _c0 but found: \n",
      "CSV file: file:///home/dylan/repo/CMU18763_Projects1/full_data.csv\n",
      " 19%|█▉        | 18/95 [00:04<00:11,  6.51it/s]"
     ]
    },
    {
     "name": "stdout",
     "output_type": "stream",
     "text": [
      "nation_team_id - 94%\n",
      "nation_position - 94%\n"
     ]
    },
    {
     "name": "stderr",
     "output_type": "stream",
     "text": [
      " 27%|██▋       | 26/95 [00:05<00:10,  6.85it/s]"
     ]
    },
    {
     "name": "stdout",
     "output_type": "stream",
     "text": [
      "player_tags - 92%\n",
      "player_traits - 55%\n"
     ]
    },
    {
     "name": "stderr",
     "output_type": "stream",
     "text": [
      "100%|██████████| 95/95 [00:14<00:00,  6.57it/s]\n"
     ]
    }
   ],
   "source": [
    "data = data.drop(*missing_value_col(data))"
   ]
  },
  {
   "cell_type": "code",
   "execution_count": 8,
   "metadata": {},
   "outputs": [
    {
     "name": "stderr",
     "output_type": "stream",
     "text": [
      "23/10/31 18:19:18 WARN SparkStringUtils: Truncated the string representation of a plan since it was too large. This behavior can be adjusted by setting 'spark.sql.debug.maxToStringFields'.\n",
      "23/10/31 18:19:18 WARN CSVHeaderChecker: CSV header does not conform to the schema.\n",
      " Header: , long_name, player_positions, overall, potential, value_eur, wage_eur, age, height_cm, weight_kg, club_team_id, league_name, league_level, club_position, club_joined, nationality_id, preferred_foot, weak_foot, skill_moves, international_reputation, work_rate, release_clause_eur, pace, shooting, passing, dribbling, defending, physic, attacking_crossing, attacking_finishing, attacking_heading_accuracy, attacking_short_passing, attacking_volleys, skill_dribbling, skill_curve, skill_fk_accuracy, skill_long_passing, skill_ball_control, movement_acceleration, movement_sprint_speed, movement_agility, movement_reactions, movement_balance, power_shot_power, power_jumping, power_stamina, power_strength, power_long_shots, mentality_aggression, mentality_interceptions, mentality_positioning, mentality_vision, mentality_penalties, mentality_composure, defending_marking_awareness, defending_standing_tackle, defending_sliding_tackle, goalkeeping_diving, goalkeeping_handling, goalkeeping_kicking, goalkeeping_positioning, goalkeeping_reflexes, ls, st, rs, lw, lf, cf, rf, rw, lam, cam, ram, lm, lcm, cm, rcm, rm, lwb, ldm, cdm, rdm, rwb, lb, lcb, cb, rcb, rb, gk, year, id\n",
      " Schema: _c0, long_name, player_positions, overall, potential, value_eur, wage_eur, age, height_cm, weight_kg, club_team_id, league_name, league_level, club_position, club_joined, nationality_id, preferred_foot, weak_foot, skill_moves, international_reputation, work_rate, release_clause_eur, pace, shooting, passing, dribbling, defending, physic, attacking_crossing, attacking_finishing, attacking_heading_accuracy, attacking_short_passing, attacking_volleys, skill_dribbling, skill_curve, skill_fk_accuracy, skill_long_passing, skill_ball_control, movement_acceleration, movement_sprint_speed, movement_agility, movement_reactions, movement_balance, power_shot_power, power_jumping, power_stamina, power_strength, power_long_shots, mentality_aggression, mentality_interceptions, mentality_positioning, mentality_vision, mentality_penalties, mentality_composure, defending_marking_awareness, defending_standing_tackle, defending_sliding_tackle, goalkeeping_diving, goalkeeping_handling, goalkeeping_kicking, goalkeeping_positioning, goalkeeping_reflexes, ls, st, rs, lw, lf, cf, rf, rw, lam, cam, ram, lm, lcm, cm, rcm, rm, lwb, ldm, cdm, rdm, rwb, lb, lcb, cb, rcb, rb, gk, year, id\n",
      "Expected: _c0 but found: \n",
      "CSV file: file:///home/dylan/repo/CMU18763_Projects1/full_data.csv\n"
     ]
    },
    {
     "name": "stdout",
     "output_type": "stream",
     "text": [
      "+---+---------+----------------+-------+---------+---------+--------+---+---------+---------+------------+-----------+------------+-------------+-----------+--------------+--------------+---------+-----------+------------------------+---------+------------------+-----+--------+-------+---------+---------+------+------------------+-------------------+--------------------------+-----------------------+-----------------+---------------+-----------+-----------------+------------------+------------------+---------------------+---------------------+----------------+------------------+----------------+----------------+-------------+-------------+--------------+----------------+--------------------+-----------------------+---------------------+----------------+-------------------+-------------------+---------------------------+-------------------------+------------------------+------------------+--------------------+-------------------+-----------------------+--------------------+---+---+---+---+---+---+---+---+---+---+---+---+---+---+---+---+---+---+---+---+---+---+---+---+---+---+---+----+---+\n",
      "|_c0|long_name|player_positions|overall|potential|value_eur|wage_eur|age|height_cm|weight_kg|club_team_id|league_name|league_level|club_position|club_joined|nationality_id|preferred_foot|weak_foot|skill_moves|international_reputation|work_rate|release_clause_eur| pace|shooting|passing|dribbling|defending|physic|attacking_crossing|attacking_finishing|attacking_heading_accuracy|attacking_short_passing|attacking_volleys|skill_dribbling|skill_curve|skill_fk_accuracy|skill_long_passing|skill_ball_control|movement_acceleration|movement_sprint_speed|movement_agility|movement_reactions|movement_balance|power_shot_power|power_jumping|power_stamina|power_strength|power_long_shots|mentality_aggression|mentality_interceptions|mentality_positioning|mentality_vision|mentality_penalties|mentality_composure|defending_marking_awareness|defending_standing_tackle|defending_sliding_tackle|goalkeeping_diving|goalkeeping_handling|goalkeeping_kicking|goalkeeping_positioning|goalkeeping_reflexes| ls| st| rs| lw| lf| cf| rf| rw|lam|cam|ram| lm|lcm| cm|rcm| rm|lwb|ldm|cdm|rdm|rwb| lb|lcb| cb|rcb| rb| gk|year| id|\n",
      "+---+---------+----------------+-------+---------+---------+--------+---+---------+---------+------------+-----------+------------+-------------+-----------+--------------+--------------+---------+-----------+------------------------+---------+------------------+-----+--------+-------+---------+---------+------+------------------+-------------------+--------------------------+-----------------------+-----------------+---------------+-----------+-----------------+------------------+------------------+---------------------+---------------------+----------------+------------------+----------------+----------------+-------------+-------------+--------------+----------------+--------------------+-----------------------+---------------------+----------------+-------------------+-------------------+---------------------------+-------------------------+------------------------+------------------+--------------------+-------------------+-----------------------+--------------------+---+---+---+---+---+---+---+---+---+---+---+---+---+---+---+---+---+---+---+---+---+---+---+---+---+---+---+----+---+\n",
      "|  0|        0|               0|      0|        0|     1897|    1622|  0|        0|        0|        1630|       1630|        2015|         1630|       9935|             0|             0|        0|          0|                       0|        0|             55582|15791|   15791|  15791|    15791|    15791| 15791|                 0|                  0|                         0|                      0|                0|              0|          0|                0|                 0|                 0|                    0|                    0|               0|                 0|               0|               0|            0|            0|             0|               0|                   0|                      0|                    0|               0|                  0|              31778|                          0|                        0|                       0|                 0|                   0|                  0|                      0|                   0|  0|  0|  0|  0|  0|  0|  0|  0|  0|  0|  0|  0|  0|  0|  0|  0|  0|  0|  0|  0|  0|  0|  0|  0|  0|  0|  0|   0|  0|\n",
      "+---+---------+----------------+-------+---------+---------+--------+---+---------+---------+------------+-----------+------------+-------------+-----------+--------------+--------------+---------+-----------+------------------------+---------+------------------+-----+--------+-------+---------+---------+------+------------------+-------------------+--------------------------+-----------------------+-----------------+---------------+-----------+-----------------+------------------+------------------+---------------------+---------------------+----------------+------------------+----------------+----------------+-------------+-------------+--------------+----------------+--------------------+-----------------------+---------------------+----------------+-------------------+-------------------+---------------------------+-------------------------+------------------------+------------------+--------------------+-------------------+-----------------------+--------------------+---+---+---+---+---+---+---+---+---+---+---+---+---+---+---+---+---+---+---+---+---+---+---+---+---+---+---+----+---+\n",
      "\n"
     ]
    }
   ],
   "source": [
    "na_counts = data.select([F.sum(F.when(F.col(c).isNull(), 1).otherwise(0)).alias(c) for c in data.columns])\n",
    "na_counts.show()"
   ]
  },
  {
   "cell_type": "code",
   "execution_count": 9,
   "metadata": {},
   "outputs": [
    {
     "name": "stdout",
     "output_type": "stream",
     "text": [
      "+---+--------------------+----------------+-------+---------+---------+--------+---+---------+---------+------------+--------------------+------------+-------------+-----------+--------------+--------------+---------+-----------+------------------------+-----------+------------------+----+--------+-------+---------+---------+------+------------------+-------------------+--------------------------+-----------------------+-----------------+---------------+-----------+-----------------+------------------+------------------+---------------------+---------------------+----------------+------------------+----------------+----------------+-------------+-------------+--------------+----------------+--------------------+-----------------------+---------------------+----------------+-------------------+-------------------+---------------------------+-------------------------+------------------------+------------------+--------------------+-------------------+-----------------------+--------------------+----+----+----+---+---+---+---+---+----+----+----+----+----+----+----+----+----+----+----+----+----+----+----+----+----+----+----+----+---+\n",
      "|_c0|           long_name|player_positions|overall|potential|value_eur|wage_eur|age|height_cm|weight_kg|club_team_id|         league_name|league_level|club_position|club_joined|nationality_id|preferred_foot|weak_foot|skill_moves|international_reputation|  work_rate|release_clause_eur|pace|shooting|passing|dribbling|defending|physic|attacking_crossing|attacking_finishing|attacking_heading_accuracy|attacking_short_passing|attacking_volleys|skill_dribbling|skill_curve|skill_fk_accuracy|skill_long_passing|skill_ball_control|movement_acceleration|movement_sprint_speed|movement_agility|movement_reactions|movement_balance|power_shot_power|power_jumping|power_stamina|power_strength|power_long_shots|mentality_aggression|mentality_interceptions|mentality_positioning|mentality_vision|mentality_penalties|mentality_composure|defending_marking_awareness|defending_standing_tackle|defending_sliding_tackle|goalkeeping_diving|goalkeeping_handling|goalkeeping_kicking|goalkeeping_positioning|goalkeeping_reflexes|  ls|  st|  rs| lw| lf| cf| rf| rw| lam| cam| ram|  lm| lcm|  cm| rcm|  rm| lwb| ldm| cdm| rdm| rwb|  lb| lcb|  cb| rcb|  rb|  gk|year| id|\n",
      "+---+--------------------+----------------+-------+---------+---------+--------+---+---------+---------+------------+--------------------+------------+-------------+-----------+--------------+--------------+---------+-----------+------------------------+-----------+------------------+----+--------+-------+---------+---------+------+------------------+-------------------+--------------------------+-----------------------+-----------------+---------------+-----------+-----------------+------------------+------------------+---------------------+---------------------+----------------+------------------+----------------+----------------+-------------+-------------+--------------+----------------+--------------------+-----------------------+---------------------+----------------+-------------------+-------------------+---------------------------+-------------------------+------------------------+------------------+--------------------+-------------------+-----------------------+--------------------+----+----+----+---+---+---+---+---+----+----+----+----+----+----+----+----+----+----+----+----+----+----+----+----+----+----+----+----+---+\n",
      "|  0|Lionel Andrés Mes...|      RW, ST, CF|     93|       93|    7.8E7|320000.0| 34|      170|       72|        73.0|      French Ligue 1|         1.0|           RW| 2021-08-10|            52|          Left|        4|          4|                       5| Medium/Low|           1.443E8|85.0|    92.0|   91.0|     95.0|     34.0|  65.0|                85|                 95|                        70|                     91|               88|             96|         93|               94|                91|                96|                   91|                   80|              91|                94|              95|              86|           68|           72|            69|              94|                  44|                     40|                   93|              95|                 75|                 96|                         20|                       35|                      24|                 6|                  11|                 15|                     14|                   8|89+3|89+3|89+3| 92| 93| 93| 93| 92|  93|  93|  93|91+2|87+3|87+3|87+3|91+2|66+3|64+3|64+3|64+3|66+3|61+3|50+3|50+3|50+3|61+3|19+3|  22|  0|\n",
      "|  1|  Robert Lewandowski|              ST|     92|       92|  1.195E8|270000.0| 32|      185|       81|        21.0|German 1. Bundesliga|         1.0|           ST| 2014-07-01|            37|         Right|        4|          4|                       5|High/Medium|           1.972E8|78.0|    92.0|   79.0|     86.0|     44.0|  82.0|                71|                 95|                        90|                     85|               89|             85|         79|               85|                70|                88|                   77|                   79|              77|                93|              82|              90|           85|           76|            86|              87|                  81|                     49|                   95|              81|                 90|                 88|                         35|                       42|                      19|                15|                   6|                 12|                      8|                  10|90+2|90+2|90+2| 85| 88| 88| 88| 85|86+3|86+3|86+3|84+3|80+3|80+3|80+3|84+3|64+3|66+3|66+3|66+3|64+3|61+3|60+3|60+3|60+3|61+3|19+3|  22|  1|\n",
      "|  2|Cristiano Ronaldo...|          ST, LW|     91|       91|    4.5E7|270000.0| 36|      187|       83|        11.0|English Premier L...|         1.0|           ST| 2021-08-27|            38|         Right|        4|          5|                       5|   High/Low|            8.33E7|87.0|    94.0|   80.0|     88.0|     34.0|  75.0|                87|                 95|                        90|                     80|               86|             88|         81|               84|                77|                88|                   85|                   88|              86|                94|              74|              94|           95|           77|            77|              93|                  63|                     29|                   95|              76|                 88|                 95|                         24|                       32|                      24|                 7|                  11|                 15|                     14|                  11|90+1|90+1|90+1| 88| 89| 89| 89| 88|86+3|86+3|86+3|86+3|78+3|78+3|78+3|86+3|63+3|59+3|59+3|59+3|63+3|60+3|53+3|53+3|53+3|60+3|20+3|  22|  2|\n",
      "|  3|Neymar da Silva S...|         LW, CAM|     91|       91|   1.29E8|270000.0| 29|      175|       68|        73.0|      French Ligue 1|         1.0|           LW| 2017-08-03|            54|         Right|        5|          5|                       5|High/Medium|           2.387E8|91.0|    83.0|   86.0|     94.0|     37.0|  63.0|                85|                 83|                        63|                     86|               86|             95|         88|               87|                81|                95|                   93|                   89|              96|                89|              84|              80|           64|           81|            53|              81|                  63|                     37|                   86|              90|                 93|                 93|                         35|                       32|                      29|                 9|                   9|                 15|                     15|                  11|83+3|83+3|83+3| 90| 88| 88| 88| 90|89+2|89+2|89+2|89+2|82+3|82+3|82+3|89+2|67+3|63+3|63+3|63+3|67+3|62+3|50+3|50+3|50+3|62+3|20+3|  22|  3|\n",
      "|  4|     Kevin De Bruyne|         CM, CAM|     91|       91|  1.255E8|350000.0| 30|      181|       70|        10.0|English Premier L...|         1.0|          RCM| 2015-08-30|             7|         Right|        5|          4|                       4|  High/High|           2.322E8|76.0|    86.0|   93.0|     88.0|     64.0|  78.0|                94|                 82|                        55|                     94|               82|             88|         85|               83|                93|                91|                   76|                   76|              79|                91|              78|              91|           63|           89|            74|              91|                  76|                     66|                   88|              94|                 83|                 89|                         68|                       65|                      53|                15|                  13|                  5|                     10|                  13|83+3|83+3|83+3| 88| 87| 87| 87| 88|89+2|89+2|89+2|89+2|89+2|89+2|89+2|89+2|79+3|80+3|80+3|80+3|79+3|75+3|69+3|69+3|69+3|75+3|21+3|  22|  4|\n",
      "+---+--------------------+----------------+-------+---------+---------+--------+---+---------+---------+------------+--------------------+------------+-------------+-----------+--------------+--------------+---------+-----------+------------------------+-----------+------------------+----+--------+-------+---------+---------+------+------------------+-------------------+--------------------------+-----------------------+-----------------+---------------+-----------+-----------------+------------------+------------------+---------------------+---------------------+----------------+------------------+----------------+----------------+-------------+-------------+--------------+----------------+--------------------+-----------------------+---------------------+----------------+-------------------+-------------------+---------------------------+-------------------------+------------------------+------------------+--------------------+-------------------+-----------------------+--------------------+----+----+----+---+---+---+---+---+----+----+----+----+----+----+----+----+----+----+----+----+----+----+----+----+----+----+----+----+---+\n",
      "only showing top 5 rows\n",
      "\n"
     ]
    },
    {
     "name": "stderr",
     "output_type": "stream",
     "text": [
      "23/10/31 18:19:19 WARN CSVHeaderChecker: CSV header does not conform to the schema.\n",
      " Header: , long_name, player_positions, overall, potential, value_eur, wage_eur, age, height_cm, weight_kg, club_team_id, league_name, league_level, club_position, club_joined, nationality_id, preferred_foot, weak_foot, skill_moves, international_reputation, work_rate, release_clause_eur, pace, shooting, passing, dribbling, defending, physic, attacking_crossing, attacking_finishing, attacking_heading_accuracy, attacking_short_passing, attacking_volleys, skill_dribbling, skill_curve, skill_fk_accuracy, skill_long_passing, skill_ball_control, movement_acceleration, movement_sprint_speed, movement_agility, movement_reactions, movement_balance, power_shot_power, power_jumping, power_stamina, power_strength, power_long_shots, mentality_aggression, mentality_interceptions, mentality_positioning, mentality_vision, mentality_penalties, mentality_composure, defending_marking_awareness, defending_standing_tackle, defending_sliding_tackle, goalkeeping_diving, goalkeeping_handling, goalkeeping_kicking, goalkeeping_positioning, goalkeeping_reflexes, ls, st, rs, lw, lf, cf, rf, rw, lam, cam, ram, lm, lcm, cm, rcm, rm, lwb, ldm, cdm, rdm, rwb, lb, lcb, cb, rcb, rb, gk, year, id\n",
      " Schema: _c0, long_name, player_positions, overall, potential, value_eur, wage_eur, age, height_cm, weight_kg, club_team_id, league_name, league_level, club_position, club_joined, nationality_id, preferred_foot, weak_foot, skill_moves, international_reputation, work_rate, release_clause_eur, pace, shooting, passing, dribbling, defending, physic, attacking_crossing, attacking_finishing, attacking_heading_accuracy, attacking_short_passing, attacking_volleys, skill_dribbling, skill_curve, skill_fk_accuracy, skill_long_passing, skill_ball_control, movement_acceleration, movement_sprint_speed, movement_agility, movement_reactions, movement_balance, power_shot_power, power_jumping, power_stamina, power_strength, power_long_shots, mentality_aggression, mentality_interceptions, mentality_positioning, mentality_vision, mentality_penalties, mentality_composure, defending_marking_awareness, defending_standing_tackle, defending_sliding_tackle, goalkeeping_diving, goalkeeping_handling, goalkeeping_kicking, goalkeeping_positioning, goalkeeping_reflexes, ls, st, rs, lw, lf, cf, rf, rw, lam, cam, ram, lm, lcm, cm, rcm, rm, lwb, ldm, cdm, rdm, rwb, lb, lcb, cb, rcb, rb, gk, year, id\n",
      "Expected: _c0 but found: \n",
      "CSV file: file:///home/dylan/repo/CMU18763_Projects1/full_data.csv\n"
     ]
    }
   ],
   "source": [
    "data.show(5)"
   ]
  },
  {
   "cell_type": "markdown",
   "metadata": {},
   "source": [
    "- now we only need deal with `club_joined`\n",
    "- Then we should deal with some columns that have less missing values. We will use `fillna` method to fill the missing values."
   ]
  },
  {
   "cell_type": "markdown",
   "metadata": {},
   "source": [
    "For string cols, we should fill with `NA` or `0` for numeric cols."
   ]
  },
  {
   "cell_type": "code",
   "execution_count": 10,
   "metadata": {},
   "outputs": [
    {
     "name": "stderr",
     "output_type": "stream",
     "text": [
      "  0%|          | 0/33 [00:00<?, ?it/s]"
     ]
    },
    {
     "name": "stderr",
     "output_type": "stream",
     "text": [
      "100%|██████████| 33/33 [00:00<00:00, 94.50it/s] \n"
     ]
    }
   ],
   "source": [
    "data = data.fillna(0)\n",
    "na_value = \"NA\"\n",
    "string_cols = [c for c, t in data.dtypes if t == 'string']\n",
    "for col in tqdm(string_cols):\n",
    "    data = data.fillna(na_value, subset=[col])"
   ]
  },
  {
   "cell_type": "code",
   "execution_count": 11,
   "metadata": {},
   "outputs": [
    {
     "name": "stderr",
     "output_type": "stream",
     "text": [
      "23/10/31 18:19:19 WARN CSVHeaderChecker: CSV header does not conform to the schema.\n",
      " Header: , long_name, player_positions, overall, potential, value_eur, wage_eur, age, height_cm, weight_kg, club_team_id, league_name, league_level, club_position, club_joined, nationality_id, preferred_foot, weak_foot, skill_moves, international_reputation, work_rate, release_clause_eur, pace, shooting, passing, dribbling, defending, physic, attacking_crossing, attacking_finishing, attacking_heading_accuracy, attacking_short_passing, attacking_volleys, skill_dribbling, skill_curve, skill_fk_accuracy, skill_long_passing, skill_ball_control, movement_acceleration, movement_sprint_speed, movement_agility, movement_reactions, movement_balance, power_shot_power, power_jumping, power_stamina, power_strength, power_long_shots, mentality_aggression, mentality_interceptions, mentality_positioning, mentality_vision, mentality_penalties, mentality_composure, defending_marking_awareness, defending_standing_tackle, defending_sliding_tackle, goalkeeping_diving, goalkeeping_handling, goalkeeping_kicking, goalkeeping_positioning, goalkeeping_reflexes, ls, st, rs, lw, lf, cf, rf, rw, lam, cam, ram, lm, lcm, cm, rcm, rm, lwb, ldm, cdm, rdm, rwb, lb, lcb, cb, rcb, rb, gk, year, id\n",
      " Schema: _c0, long_name, player_positions, overall, potential, value_eur, wage_eur, age, height_cm, weight_kg, club_team_id, league_name, league_level, club_position, club_joined, nationality_id, preferred_foot, weak_foot, skill_moves, international_reputation, work_rate, release_clause_eur, pace, shooting, passing, dribbling, defending, physic, attacking_crossing, attacking_finishing, attacking_heading_accuracy, attacking_short_passing, attacking_volleys, skill_dribbling, skill_curve, skill_fk_accuracy, skill_long_passing, skill_ball_control, movement_acceleration, movement_sprint_speed, movement_agility, movement_reactions, movement_balance, power_shot_power, power_jumping, power_stamina, power_strength, power_long_shots, mentality_aggression, mentality_interceptions, mentality_positioning, mentality_vision, mentality_penalties, mentality_composure, defending_marking_awareness, defending_standing_tackle, defending_sliding_tackle, goalkeeping_diving, goalkeeping_handling, goalkeeping_kicking, goalkeeping_positioning, goalkeeping_reflexes, ls, st, rs, lw, lf, cf, rf, rw, lam, cam, ram, lm, lcm, cm, rcm, rm, lwb, ldm, cdm, rdm, rwb, lb, lcb, cb, rcb, rb, gk, year, id\n",
      "Expected: _c0 but found: \n",
      "CSV file: file:///home/dylan/repo/CMU18763_Projects1/full_data.csv\n"
     ]
    },
    {
     "name": "stdout",
     "output_type": "stream",
     "text": [
      "+---+--------------------+----------------+-------+---------+---------+--------+---+---------+---------+------------+--------------------+------------+-------------+-----------+--------------+--------------+---------+-----------+------------------------+-----------+------------------+----+--------+-------+---------+---------+------+------------------+-------------------+--------------------------+-----------------------+-----------------+---------------+-----------+-----------------+------------------+------------------+---------------------+---------------------+----------------+------------------+----------------+----------------+-------------+-------------+--------------+----------------+--------------------+-----------------------+---------------------+----------------+-------------------+-------------------+---------------------------+-------------------------+------------------------+------------------+--------------------+-------------------+-----------------------+--------------------+----+----+----+---+---+---+---+---+----+----+----+----+----+----+----+----+----+----+----+----+----+----+----+----+----+----+----+----+---+\n",
      "|_c0|           long_name|player_positions|overall|potential|value_eur|wage_eur|age|height_cm|weight_kg|club_team_id|         league_name|league_level|club_position|club_joined|nationality_id|preferred_foot|weak_foot|skill_moves|international_reputation|  work_rate|release_clause_eur|pace|shooting|passing|dribbling|defending|physic|attacking_crossing|attacking_finishing|attacking_heading_accuracy|attacking_short_passing|attacking_volleys|skill_dribbling|skill_curve|skill_fk_accuracy|skill_long_passing|skill_ball_control|movement_acceleration|movement_sprint_speed|movement_agility|movement_reactions|movement_balance|power_shot_power|power_jumping|power_stamina|power_strength|power_long_shots|mentality_aggression|mentality_interceptions|mentality_positioning|mentality_vision|mentality_penalties|mentality_composure|defending_marking_awareness|defending_standing_tackle|defending_sliding_tackle|goalkeeping_diving|goalkeeping_handling|goalkeeping_kicking|goalkeeping_positioning|goalkeeping_reflexes|  ls|  st|  rs| lw| lf| cf| rf| rw| lam| cam| ram|  lm| lcm|  cm| rcm|  rm| lwb| ldm| cdm| rdm| rwb|  lb| lcb|  cb| rcb|  rb|  gk|year| id|\n",
      "+---+--------------------+----------------+-------+---------+---------+--------+---+---------+---------+------------+--------------------+------------+-------------+-----------+--------------+--------------+---------+-----------+------------------------+-----------+------------------+----+--------+-------+---------+---------+------+------------------+-------------------+--------------------------+-----------------------+-----------------+---------------+-----------+-----------------+------------------+------------------+---------------------+---------------------+----------------+------------------+----------------+----------------+-------------+-------------+--------------+----------------+--------------------+-----------------------+---------------------+----------------+-------------------+-------------------+---------------------------+-------------------------+------------------------+------------------+--------------------+-------------------+-----------------------+--------------------+----+----+----+---+---+---+---+---+----+----+----+----+----+----+----+----+----+----+----+----+----+----+----+----+----+----+----+----+---+\n",
      "|  0|Lionel Andrés Mes...|      RW, ST, CF|     93|       93|    7.8E7|320000.0| 34|      170|       72|        73.0|      French Ligue 1|         1.0|           RW| 2021-08-10|            52|          Left|        4|          4|                       5| Medium/Low|           1.443E8|85.0|    92.0|   91.0|     95.0|     34.0|  65.0|                85|                 95|                        70|                     91|               88|             96|         93|               94|                91|                96|                   91|                   80|              91|                94|              95|              86|           68|           72|            69|              94|                  44|                     40|                   93|              95|                 75|                 96|                         20|                       35|                      24|                 6|                  11|                 15|                     14|                   8|89+3|89+3|89+3| 92| 93| 93| 93| 92|  93|  93|  93|91+2|87+3|87+3|87+3|91+2|66+3|64+3|64+3|64+3|66+3|61+3|50+3|50+3|50+3|61+3|19+3|  22|  0|\n",
      "|  1|  Robert Lewandowski|              ST|     92|       92|  1.195E8|270000.0| 32|      185|       81|        21.0|German 1. Bundesliga|         1.0|           ST| 2014-07-01|            37|         Right|        4|          4|                       5|High/Medium|           1.972E8|78.0|    92.0|   79.0|     86.0|     44.0|  82.0|                71|                 95|                        90|                     85|               89|             85|         79|               85|                70|                88|                   77|                   79|              77|                93|              82|              90|           85|           76|            86|              87|                  81|                     49|                   95|              81|                 90|                 88|                         35|                       42|                      19|                15|                   6|                 12|                      8|                  10|90+2|90+2|90+2| 85| 88| 88| 88| 85|86+3|86+3|86+3|84+3|80+3|80+3|80+3|84+3|64+3|66+3|66+3|66+3|64+3|61+3|60+3|60+3|60+3|61+3|19+3|  22|  1|\n",
      "|  2|Cristiano Ronaldo...|          ST, LW|     91|       91|    4.5E7|270000.0| 36|      187|       83|        11.0|English Premier L...|         1.0|           ST| 2021-08-27|            38|         Right|        4|          5|                       5|   High/Low|            8.33E7|87.0|    94.0|   80.0|     88.0|     34.0|  75.0|                87|                 95|                        90|                     80|               86|             88|         81|               84|                77|                88|                   85|                   88|              86|                94|              74|              94|           95|           77|            77|              93|                  63|                     29|                   95|              76|                 88|                 95|                         24|                       32|                      24|                 7|                  11|                 15|                     14|                  11|90+1|90+1|90+1| 88| 89| 89| 89| 88|86+3|86+3|86+3|86+3|78+3|78+3|78+3|86+3|63+3|59+3|59+3|59+3|63+3|60+3|53+3|53+3|53+3|60+3|20+3|  22|  2|\n",
      "|  3|Neymar da Silva S...|         LW, CAM|     91|       91|   1.29E8|270000.0| 29|      175|       68|        73.0|      French Ligue 1|         1.0|           LW| 2017-08-03|            54|         Right|        5|          5|                       5|High/Medium|           2.387E8|91.0|    83.0|   86.0|     94.0|     37.0|  63.0|                85|                 83|                        63|                     86|               86|             95|         88|               87|                81|                95|                   93|                   89|              96|                89|              84|              80|           64|           81|            53|              81|                  63|                     37|                   86|              90|                 93|                 93|                         35|                       32|                      29|                 9|                   9|                 15|                     15|                  11|83+3|83+3|83+3| 90| 88| 88| 88| 90|89+2|89+2|89+2|89+2|82+3|82+3|82+3|89+2|67+3|63+3|63+3|63+3|67+3|62+3|50+3|50+3|50+3|62+3|20+3|  22|  3|\n",
      "|  4|     Kevin De Bruyne|         CM, CAM|     91|       91|  1.255E8|350000.0| 30|      181|       70|        10.0|English Premier L...|         1.0|          RCM| 2015-08-30|             7|         Right|        5|          4|                       4|  High/High|           2.322E8|76.0|    86.0|   93.0|     88.0|     64.0|  78.0|                94|                 82|                        55|                     94|               82|             88|         85|               83|                93|                91|                   76|                   76|              79|                91|              78|              91|           63|           89|            74|              91|                  76|                     66|                   88|              94|                 83|                 89|                         68|                       65|                      53|                15|                  13|                  5|                     10|                  13|83+3|83+3|83+3| 88| 87| 87| 87| 88|89+2|89+2|89+2|89+2|89+2|89+2|89+2|89+2|79+3|80+3|80+3|80+3|79+3|75+3|69+3|69+3|69+3|75+3|21+3|  22|  4|\n",
      "+---+--------------------+----------------+-------+---------+---------+--------+---+---------+---------+------------+--------------------+------------+-------------+-----------+--------------+--------------+---------+-----------+------------------------+-----------+------------------+----+--------+-------+---------+---------+------+------------------+-------------------+--------------------------+-----------------------+-----------------+---------------+-----------+-----------------+------------------+------------------+---------------------+---------------------+----------------+------------------+----------------+----------------+-------------+-------------+--------------+----------------+--------------------+-----------------------+---------------------+----------------+-------------------+-------------------+---------------------------+-------------------------+------------------------+------------------+--------------------+-------------------+-----------------------+--------------------+----+----+----+---+---+---+---+---+----+----+----+----+----+----+----+----+----+----+----+----+----+----+----+----+----+----+----+----+---+\n",
      "only showing top 5 rows\n",
      "\n"
     ]
    }
   ],
   "source": [
    "data.show(5)"
   ]
  },
  {
   "cell_type": "markdown",
   "metadata": {},
   "source": [
    "For ls, st, rs ..... , we should drop value after + |"
   ]
  },
  {
   "cell_type": "code",
   "execution_count": 12,
   "metadata": {},
   "outputs": [],
   "source": [
    "from pyspark.sql.types import IntegerType"
   ]
  },
  {
   "cell_type": "code",
   "execution_count": 13,
   "metadata": {},
   "outputs": [],
   "source": [
    "columns1 = ['ls','st','rs','lw','lf','cf','rf','rw','lam','cam','ram',\n",
    "            'lm','lcm','cm','rcm','rm','lwb','ldm', 'cdm','rdm','rwb',\n",
    "            'lb','lcb','cb','rcb','rb','gk']\n",
    "\n",
    "for col in columns1:\n",
    "    data = data.withColumn(col, F.split(data[col], '\\+').getItem(0).cast(IntegerType()))"
   ]
  },
  {
   "cell_type": "code",
   "execution_count": 14,
   "metadata": {},
   "outputs": [
    {
     "name": "stdout",
     "output_type": "stream",
     "text": [
      "+---+--------------------+----------------+-------+---------+---------+--------+---+---------+---------+------------+--------------------+------------+-------------+-----------+--------------+--------------+---------+-----------+------------------------+-----------+------------------+----+--------+-------+---------+---------+------+------------------+-------------------+--------------------------+-----------------------+-----------------+---------------+-----------+-----------------+------------------+------------------+---------------------+---------------------+----------------+------------------+----------------+----------------+-------------+-------------+--------------+----------------+--------------------+-----------------------+---------------------+----------------+-------------------+-------------------+---------------------------+-------------------------+------------------------+------------------+--------------------+-------------------+-----------------------+--------------------+---+---+---+---+---+---+---+---+---+---+---+---+---+---+---+---+---+---+---+---+---+---+---+---+---+---+---+----+---+\n",
      "|_c0|           long_name|player_positions|overall|potential|value_eur|wage_eur|age|height_cm|weight_kg|club_team_id|         league_name|league_level|club_position|club_joined|nationality_id|preferred_foot|weak_foot|skill_moves|international_reputation|  work_rate|release_clause_eur|pace|shooting|passing|dribbling|defending|physic|attacking_crossing|attacking_finishing|attacking_heading_accuracy|attacking_short_passing|attacking_volleys|skill_dribbling|skill_curve|skill_fk_accuracy|skill_long_passing|skill_ball_control|movement_acceleration|movement_sprint_speed|movement_agility|movement_reactions|movement_balance|power_shot_power|power_jumping|power_stamina|power_strength|power_long_shots|mentality_aggression|mentality_interceptions|mentality_positioning|mentality_vision|mentality_penalties|mentality_composure|defending_marking_awareness|defending_standing_tackle|defending_sliding_tackle|goalkeeping_diving|goalkeeping_handling|goalkeeping_kicking|goalkeeping_positioning|goalkeeping_reflexes| ls| st| rs| lw| lf| cf| rf| rw|lam|cam|ram| lm|lcm| cm|rcm| rm|lwb|ldm|cdm|rdm|rwb| lb|lcb| cb|rcb| rb| gk|year| id|\n",
      "+---+--------------------+----------------+-------+---------+---------+--------+---+---------+---------+------------+--------------------+------------+-------------+-----------+--------------+--------------+---------+-----------+------------------------+-----------+------------------+----+--------+-------+---------+---------+------+------------------+-------------------+--------------------------+-----------------------+-----------------+---------------+-----------+-----------------+------------------+------------------+---------------------+---------------------+----------------+------------------+----------------+----------------+-------------+-------------+--------------+----------------+--------------------+-----------------------+---------------------+----------------+-------------------+-------------------+---------------------------+-------------------------+------------------------+------------------+--------------------+-------------------+-----------------------+--------------------+---+---+---+---+---+---+---+---+---+---+---+---+---+---+---+---+---+---+---+---+---+---+---+---+---+---+---+----+---+\n",
      "|  0|Lionel Andrés Mes...|      RW, ST, CF|     93|       93|    7.8E7|320000.0| 34|      170|       72|        73.0|      French Ligue 1|         1.0|           RW| 2021-08-10|            52|          Left|        4|          4|                       5| Medium/Low|           1.443E8|85.0|    92.0|   91.0|     95.0|     34.0|  65.0|                85|                 95|                        70|                     91|               88|             96|         93|               94|                91|                96|                   91|                   80|              91|                94|              95|              86|           68|           72|            69|              94|                  44|                     40|                   93|              95|                 75|                 96|                         20|                       35|                      24|                 6|                  11|                 15|                     14|                   8| 89| 89| 89| 92| 93| 93| 93| 92| 93| 93| 93| 91| 87| 87| 87| 91| 66| 64| 64| 64| 66| 61| 50| 50| 50| 61| 19|  22|  0|\n",
      "|  1|  Robert Lewandowski|              ST|     92|       92|  1.195E8|270000.0| 32|      185|       81|        21.0|German 1. Bundesliga|         1.0|           ST| 2014-07-01|            37|         Right|        4|          4|                       5|High/Medium|           1.972E8|78.0|    92.0|   79.0|     86.0|     44.0|  82.0|                71|                 95|                        90|                     85|               89|             85|         79|               85|                70|                88|                   77|                   79|              77|                93|              82|              90|           85|           76|            86|              87|                  81|                     49|                   95|              81|                 90|                 88|                         35|                       42|                      19|                15|                   6|                 12|                      8|                  10| 90| 90| 90| 85| 88| 88| 88| 85| 86| 86| 86| 84| 80| 80| 80| 84| 64| 66| 66| 66| 64| 61| 60| 60| 60| 61| 19|  22|  1|\n",
      "|  2|Cristiano Ronaldo...|          ST, LW|     91|       91|    4.5E7|270000.0| 36|      187|       83|        11.0|English Premier L...|         1.0|           ST| 2021-08-27|            38|         Right|        4|          5|                       5|   High/Low|            8.33E7|87.0|    94.0|   80.0|     88.0|     34.0|  75.0|                87|                 95|                        90|                     80|               86|             88|         81|               84|                77|                88|                   85|                   88|              86|                94|              74|              94|           95|           77|            77|              93|                  63|                     29|                   95|              76|                 88|                 95|                         24|                       32|                      24|                 7|                  11|                 15|                     14|                  11| 90| 90| 90| 88| 89| 89| 89| 88| 86| 86| 86| 86| 78| 78| 78| 86| 63| 59| 59| 59| 63| 60| 53| 53| 53| 60| 20|  22|  2|\n",
      "|  3|Neymar da Silva S...|         LW, CAM|     91|       91|   1.29E8|270000.0| 29|      175|       68|        73.0|      French Ligue 1|         1.0|           LW| 2017-08-03|            54|         Right|        5|          5|                       5|High/Medium|           2.387E8|91.0|    83.0|   86.0|     94.0|     37.0|  63.0|                85|                 83|                        63|                     86|               86|             95|         88|               87|                81|                95|                   93|                   89|              96|                89|              84|              80|           64|           81|            53|              81|                  63|                     37|                   86|              90|                 93|                 93|                         35|                       32|                      29|                 9|                   9|                 15|                     15|                  11| 83| 83| 83| 90| 88| 88| 88| 90| 89| 89| 89| 89| 82| 82| 82| 89| 67| 63| 63| 63| 67| 62| 50| 50| 50| 62| 20|  22|  3|\n",
      "|  4|     Kevin De Bruyne|         CM, CAM|     91|       91|  1.255E8|350000.0| 30|      181|       70|        10.0|English Premier L...|         1.0|          RCM| 2015-08-30|             7|         Right|        5|          4|                       4|  High/High|           2.322E8|76.0|    86.0|   93.0|     88.0|     64.0|  78.0|                94|                 82|                        55|                     94|               82|             88|         85|               83|                93|                91|                   76|                   76|              79|                91|              78|              91|           63|           89|            74|              91|                  76|                     66|                   88|              94|                 83|                 89|                         68|                       65|                      53|                15|                  13|                  5|                     10|                  13| 83| 83| 83| 88| 87| 87| 87| 88| 89| 89| 89| 89| 89| 89| 89| 89| 79| 80| 80| 80| 79| 75| 69| 69| 69| 75| 21|  22|  4|\n",
      "+---+--------------------+----------------+-------+---------+---------+--------+---+---------+---------+------------+--------------------+------------+-------------+-----------+--------------+--------------+---------+-----------+------------------------+-----------+------------------+----+--------+-------+---------+---------+------+------------------+-------------------+--------------------------+-----------------------+-----------------+---------------+-----------+-----------------+------------------+------------------+---------------------+---------------------+----------------+------------------+----------------+----------------+-------------+-------------+--------------+----------------+--------------------+-----------------------+---------------------+----------------+-------------------+-------------------+---------------------------+-------------------------+------------------------+------------------+--------------------+-------------------+-----------------------+--------------------+---+---+---+---+---+---+---+---+---+---+---+---+---+---+---+---+---+---+---+---+---+---+---+---+---+---+---+----+---+\n",
      "only showing top 5 rows\n",
      "\n"
     ]
    },
    {
     "name": "stderr",
     "output_type": "stream",
     "text": [
      "23/10/31 18:19:20 WARN CSVHeaderChecker: CSV header does not conform to the schema.\n",
      " Header: , long_name, player_positions, overall, potential, value_eur, wage_eur, age, height_cm, weight_kg, club_team_id, league_name, league_level, club_position, club_joined, nationality_id, preferred_foot, weak_foot, skill_moves, international_reputation, work_rate, release_clause_eur, pace, shooting, passing, dribbling, defending, physic, attacking_crossing, attacking_finishing, attacking_heading_accuracy, attacking_short_passing, attacking_volleys, skill_dribbling, skill_curve, skill_fk_accuracy, skill_long_passing, skill_ball_control, movement_acceleration, movement_sprint_speed, movement_agility, movement_reactions, movement_balance, power_shot_power, power_jumping, power_stamina, power_strength, power_long_shots, mentality_aggression, mentality_interceptions, mentality_positioning, mentality_vision, mentality_penalties, mentality_composure, defending_marking_awareness, defending_standing_tackle, defending_sliding_tackle, goalkeeping_diving, goalkeeping_handling, goalkeeping_kicking, goalkeeping_positioning, goalkeeping_reflexes, ls, st, rs, lw, lf, cf, rf, rw, lam, cam, ram, lm, lcm, cm, rcm, rm, lwb, ldm, cdm, rdm, rwb, lb, lcb, cb, rcb, rb, gk, year, id\n",
      " Schema: _c0, long_name, player_positions, overall, potential, value_eur, wage_eur, age, height_cm, weight_kg, club_team_id, league_name, league_level, club_position, club_joined, nationality_id, preferred_foot, weak_foot, skill_moves, international_reputation, work_rate, release_clause_eur, pace, shooting, passing, dribbling, defending, physic, attacking_crossing, attacking_finishing, attacking_heading_accuracy, attacking_short_passing, attacking_volleys, skill_dribbling, skill_curve, skill_fk_accuracy, skill_long_passing, skill_ball_control, movement_acceleration, movement_sprint_speed, movement_agility, movement_reactions, movement_balance, power_shot_power, power_jumping, power_stamina, power_strength, power_long_shots, mentality_aggression, mentality_interceptions, mentality_positioning, mentality_vision, mentality_penalties, mentality_composure, defending_marking_awareness, defending_standing_tackle, defending_sliding_tackle, goalkeeping_diving, goalkeeping_handling, goalkeeping_kicking, goalkeeping_positioning, goalkeeping_reflexes, ls, st, rs, lw, lf, cf, rf, rw, lam, cam, ram, lm, lcm, cm, rcm, rm, lwb, ldm, cdm, rdm, rwb, lb, lcb, cb, rcb, rb, gk, year, id\n",
      "Expected: _c0 but found: \n",
      "CSV file: file:///home/dylan/repo/CMU18763_Projects1/full_data.csv\n"
     ]
    }
   ],
   "source": [
    "data.show(5)"
   ]
  },
  {
   "cell_type": "markdown",
   "metadata": {},
   "source": [
    "For `player_postion`, we create as a new column `player_position_class` to classify the player position."
   ]
  },
  {
   "cell_type": "code",
   "execution_count": 15,
   "metadata": {},
   "outputs": [],
   "source": [
    "from pyspark.sql.functions import split, when, col, array_contains\n",
    "import itertools\n",
    "\n",
    "# Split positions into array\n",
    "split_positions = split(data['player_positions'], ', ')  \n",
    "\n",
    "# Get distinct positions as a list\n",
    "distinct_positions = list(set(list(itertools.chain(*data.select(split_positions.alias('positions')).distinct().rdd.flatMap(lambda x: x).collect()))))\n",
    "\n",
    "# Create a column for each distinct position\n",
    "for position in distinct_positions:\n",
    "  data = data.withColumn(\n",
    "    'Position_' + position,\n",
    "     when(array_contains(split_positions, position), 1).otherwise(0)\n",
    "  )\n"
   ]
  },
  {
   "cell_type": "code",
   "execution_count": 16,
   "metadata": {},
   "outputs": [],
   "source": [
    "data = data.drop('player_positions')"
   ]
  },
  {
   "cell_type": "code",
   "execution_count": 17,
   "metadata": {},
   "outputs": [],
   "source": [
    "data = data.drop('_c0')"
   ]
  }
 ],
 "metadata": {
  "kernelspec": {
   "display_name": "aichaintools-torch",
   "language": "python",
   "name": "python3"
  },
  "language_info": {
   "codemirror_mode": {
    "name": "ipython",
    "version": 3
   },
   "file_extension": ".py",
   "mimetype": "text/x-python",
   "name": "python",
   "nbconvert_exporter": "python",
   "pygments_lexer": "ipython3",
   "version": "3.10.12"
  }
 },
 "nbformat": 4,
 "nbformat_minor": 2
}
