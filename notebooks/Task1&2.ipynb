{
 "cells": [
  {
   "cell_type": "code",
   "execution_count": 69,
   "metadata": {},
   "outputs": [],
   "source": [
    "### import libraries\n",
    "import os \n",
    "import pandas as pd\n",
    "from tqdm import tqdm\n",
    "import numpy as np\n",
    "\n",
    "import pyspark\n",
    "from pyspark.sql import SparkSession\n",
    "from pyspark import SparkContext, SQLContext\n",
    "from pyspark.sql.functions import lit, monotonically_increasing_id\n",
    "\n",
    "import argparse"
   ]
  },
  {
   "cell_type": "markdown",
   "metadata": {},
   "source": [
    "####  Help function"
   ]
  },
  {
   "cell_type": "code",
   "execution_count": 70,
   "metadata": {},
   "outputs": [],
   "source": [
    "# For pandas\n",
    "# Reducing dataframe memory usage :-\n",
    "def ReduceMemory(df: pd.DataFrame):\n",
    "    \"\"\"\n",
    "    This function reduces the associated dataframe's memory usage.\n",
    "    It reassigns the data-types of columns according to their min-max values.\n",
    "    It also displays the dataframe information after memory reduction.\n",
    "    \"\"\";\n",
    "    \n",
    "    # Reducing float column memory usage:-\n",
    "    for col in tqdm(df.iloc[0:2, 1:].select_dtypes('float').columns):\n",
    "        col_min = np.amin(df[col].dropna());\n",
    "        col_max = np.amax(df[col].dropna());\n",
    "        \n",
    "        if col_min >= np.finfo(np.float16).min and col_max <= np.finfo(np.float16).max: \n",
    "            df[col] = df[col].astype(np.float16)\n",
    "        elif col_min >= np.finfo(np.float32).min and col_max <= np.finfo(np.float32).max : \n",
    "            df[col] = df[col].astype(np.float32)\n",
    "        else: pass;\n",
    "\n",
    "    # Reducing integer column memory usage:-\n",
    "    for col in tqdm(df.iloc[0:2, 1:].select_dtypes('int').columns):\n",
    "        col_min = df[col].min(); \n",
    "        col_max = df[col].max();\n",
    "        \n",
    "        if col_min >= np.iinfo(np.int8).min and col_max <= np.iinfo(np.int8).max:\n",
    "            df[col] = df[col].astype(np.int8);\n",
    "        elif col_min >= np.iinfo(np.int16).min and col_max <= np.iinfo(np.int16).max:\n",
    "            df[col] = df[col].astype(np.int16);\n",
    "        elif col_min >= np.iinfo(np.int32).min & col_max <= np.iinfo(np.int32).max:\n",
    "            df[col] = df[col].astype(np.int32);\n",
    "        else: pass;\n",
    "        \n",
    "    display(df.info());\n",
    "    \n",
    "    return df;"
   ]
  },
  {
   "cell_type": "markdown",
   "metadata": {},
   "source": [
    "## Read Data"
   ]
  },
  {
   "cell_type": "code",
   "execution_count": 71,
   "metadata": {},
   "outputs": [],
   "source": [
    "# init a spark session\n",
    "appName = \"Project1\"\n",
    "master = \"local\"\n",
    "\n",
    "\n",
    "sc = SparkSession.builder.appName(appName).getOrCreate()\n",
    "sqlContext = SQLContext(sc)\n",
    "spark = sqlContext.sparkSession.builder.getOrCreate()"
   ]
  },
  {
   "cell_type": "code",
   "execution_count": 72,
   "metadata": {},
   "outputs": [],
   "source": [
    "# fifa data folder should contain all the csv files from Fifa(Kaggle), 2015-2022\n",
    "# assume that you are working in the same directory as the data folder\n",
    "\n",
    "\n",
    "def load_data(input_path, output_path):\n",
    "    full_data_path = os.path.join(output_path, \"full_data.csv\")\n",
    "\n",
    "    if not os.path.exists(full_data_path):\n",
    "        os.mkdir(output_path)\n",
    "        data_path = input_path\n",
    "        if os.path.exists(data_path):\n",
    "            print(\"Data folder exists\")\n",
    "        else:\n",
    "            print(\"Data folder does not exist\")\n",
    "            os.makedirs(data_path)\n",
    "            print(\"Sussessfully created data folder\")\n",
    "\n",
    "        csv_files = [os.path.join(data_path, f) for f in os.listdir(data_path) if f.endswith('.csv')]\n",
    "        print(csv_files)\n",
    "        combined_df = None\n",
    "        for file in csv_files:\n",
    "            year = file.split(\"players_\")[1].split(\".csv\")[0]\n",
    "            df = spark.read.csv(file, header=True, inferSchema=True)\n",
    "            df = df.withColumn(\"year\", lit(year)) # this is the unique column 'year'\n",
    "            if combined_df is None:\n",
    "                combined_df = df\n",
    "            else:\n",
    "                combined_df = combined_df.union(df)\n",
    "        combined_df = combined_df.withColumn(\"id\", monotonically_increasing_id())\n",
    "        df = combined_df\n",
    "        # Write the concatenated DataFrame to a new CSV file\n",
    "        ReduceMemory(combined_df.toPandas()).to_csv(full_data_path)\n",
    "    else: \n",
    "        df = spark.read.csv(full_data_path, header=True, inferSchema=True)\n",
    "    return df\n",
    "\n",
    "data_input = \"../data/\"\n",
    "data_output = \"../data/output/\"\n",
    "data = load_data(data_input, data_output)\n",
    "if '_c0' in data.columns:\n",
    "    data = data.drop('_c0')\n",
    "df = data"
   ]
  },
  {
   "cell_type": "code",
   "execution_count": 73,
   "metadata": {},
   "outputs": [
    {
     "name": "stdout",
     "output_type": "stream",
     "text": [
      "root\n",
      " |-- sofifa_id: integer (nullable = true)\n",
      " |-- player_url: string (nullable = true)\n",
      " |-- short_name: string (nullable = true)\n",
      " |-- long_name: string (nullable = true)\n",
      " |-- player_positions: string (nullable = true)\n",
      " |-- overall: integer (nullable = true)\n",
      " |-- potential: integer (nullable = true)\n",
      " |-- value_eur: double (nullable = true)\n",
      " |-- wage_eur: double (nullable = true)\n",
      " |-- age: integer (nullable = true)\n",
      " |-- dob: date (nullable = true)\n",
      " |-- height_cm: integer (nullable = true)\n",
      " |-- weight_kg: integer (nullable = true)\n",
      " |-- club_team_id: double (nullable = true)\n",
      " |-- club_name: string (nullable = true)\n",
      " |-- league_name: string (nullable = true)\n",
      " |-- league_level: double (nullable = true)\n",
      " |-- club_position: string (nullable = true)\n",
      " |-- club_jersey_number: double (nullable = true)\n",
      " |-- club_loaned_from: string (nullable = true)\n",
      " |-- club_joined: date (nullable = true)\n",
      " |-- club_contract_valid_until: double (nullable = true)\n",
      " |-- nationality_id: integer (nullable = true)\n",
      " |-- nationality_name: string (nullable = true)\n",
      " |-- nation_team_id: double (nullable = true)\n",
      " |-- nation_position: string (nullable = true)\n",
      " |-- nation_jersey_number: double (nullable = true)\n",
      " |-- preferred_foot: string (nullable = true)\n",
      " |-- weak_foot: integer (nullable = true)\n",
      " |-- skill_moves: integer (nullable = true)\n",
      " |-- international_reputation: integer (nullable = true)\n",
      " |-- work_rate: string (nullable = true)\n",
      " |-- body_type: string (nullable = true)\n",
      " |-- real_face: string (nullable = true)\n",
      " |-- release_clause_eur: double (nullable = true)\n",
      " |-- player_tags: string (nullable = true)\n",
      " |-- player_traits: string (nullable = true)\n",
      " |-- pace: double (nullable = true)\n",
      " |-- shooting: double (nullable = true)\n",
      " |-- passing: double (nullable = true)\n",
      " |-- dribbling: double (nullable = true)\n",
      " |-- defending: double (nullable = true)\n",
      " |-- physic: double (nullable = true)\n",
      " |-- attacking_crossing: integer (nullable = true)\n",
      " |-- attacking_finishing: integer (nullable = true)\n",
      " |-- attacking_heading_accuracy: integer (nullable = true)\n",
      " |-- attacking_short_passing: integer (nullable = true)\n",
      " |-- attacking_volleys: integer (nullable = true)\n",
      " |-- skill_dribbling: integer (nullable = true)\n",
      " |-- skill_curve: integer (nullable = true)\n",
      " |-- skill_fk_accuracy: integer (nullable = true)\n",
      " |-- skill_long_passing: integer (nullable = true)\n",
      " |-- skill_ball_control: integer (nullable = true)\n",
      " |-- movement_acceleration: integer (nullable = true)\n",
      " |-- movement_sprint_speed: integer (nullable = true)\n",
      " |-- movement_agility: integer (nullable = true)\n",
      " |-- movement_reactions: integer (nullable = true)\n",
      " |-- movement_balance: integer (nullable = true)\n",
      " |-- power_shot_power: integer (nullable = true)\n",
      " |-- power_jumping: integer (nullable = true)\n",
      " |-- power_stamina: integer (nullable = true)\n",
      " |-- power_strength: integer (nullable = true)\n",
      " |-- power_long_shots: integer (nullable = true)\n",
      " |-- mentality_aggression: integer (nullable = true)\n",
      " |-- mentality_interceptions: integer (nullable = true)\n",
      " |-- mentality_positioning: integer (nullable = true)\n",
      " |-- mentality_vision: integer (nullable = true)\n",
      " |-- mentality_penalties: integer (nullable = true)\n",
      " |-- mentality_composure: integer (nullable = true)\n",
      " |-- defending_marking_awareness: integer (nullable = true)\n",
      " |-- defending_standing_tackle: integer (nullable = true)\n",
      " |-- defending_sliding_tackle: integer (nullable = true)\n",
      " |-- goalkeeping_diving: integer (nullable = true)\n",
      " |-- goalkeeping_handling: integer (nullable = true)\n",
      " |-- goalkeeping_kicking: integer (nullable = true)\n",
      " |-- goalkeeping_positioning: integer (nullable = true)\n",
      " |-- goalkeeping_reflexes: integer (nullable = true)\n",
      " |-- goalkeeping_speed: double (nullable = true)\n",
      " |-- ls: string (nullable = true)\n",
      " |-- st: string (nullable = true)\n",
      " |-- rs: string (nullable = true)\n",
      " |-- lw: string (nullable = true)\n",
      " |-- lf: string (nullable = true)\n",
      " |-- cf: string (nullable = true)\n",
      " |-- rf: string (nullable = true)\n",
      " |-- rw: string (nullable = true)\n",
      " |-- lam: string (nullable = true)\n",
      " |-- cam: string (nullable = true)\n",
      " |-- ram: string (nullable = true)\n",
      " |-- lm: string (nullable = true)\n",
      " |-- lcm: string (nullable = true)\n",
      " |-- cm: string (nullable = true)\n",
      " |-- rcm: string (nullable = true)\n",
      " |-- rm: string (nullable = true)\n",
      " |-- lwb: string (nullable = true)\n",
      " |-- ldm: string (nullable = true)\n",
      " |-- cdm: string (nullable = true)\n",
      " |-- rdm: string (nullable = true)\n",
      " |-- rwb: string (nullable = true)\n",
      " |-- lb: string (nullable = true)\n",
      " |-- lcb: string (nullable = true)\n",
      " |-- cb: string (nullable = true)\n",
      " |-- rcb: string (nullable = true)\n",
      " |-- rb: string (nullable = true)\n",
      " |-- gk: string (nullable = true)\n",
      " |-- player_face_url: string (nullable = true)\n",
      " |-- club_logo_url: string (nullable = true)\n",
      " |-- club_flag_url: string (nullable = true)\n",
      " |-- nation_logo_url: string (nullable = true)\n",
      " |-- nation_flag_url: string (nullable = true)\n",
      " |-- year: integer (nullable = true)\n",
      " |-- id: long (nullable = true)\n",
      "\n"
     ]
    }
   ],
   "source": [
    "df.printSchema()"
   ]
  },
  {
   "cell_type": "markdown",
   "metadata": {},
   "source": [
    "## Using pyspark to read table and write to PostgreSQL"
   ]
  },
  {
   "cell_type": "code",
   "execution_count": 74,
   "metadata": {},
   "outputs": [],
   "source": [
    "db_properties={}\n",
    "db_properties['username']=\"postgres\"\n",
    "db_properties['password']=\"010323\"\n",
    "db_properties['url']= \"jdbc:postgresql://localhost:5432/postgres\"\n",
    "db_properties['table']=\"fifa\"\n",
    "db_properties['driver']=\"org.postgresql.Driver\""
   ]
  },
  {
   "cell_type": "code",
   "execution_count": 75,
   "metadata": {},
   "outputs": [
    {
     "name": "stderr",
     "output_type": "stream",
     "text": [
      "                                                                                \r"
     ]
    }
   ],
   "source": [
    "df.write.format(\"jdbc\")\\\n",
    ".mode(\"overwrite\")\\\n",
    ".option(\"url\", db_properties['url'])\\\n",
    ".option(\"dbtable\", db_properties['table'])\\\n",
    ".option(\"user\", db_properties['username'])\\\n",
    ".option(\"password\", db_properties['password'])\\\n",
    ".option(\"Driver\", db_properties['driver'])\\\n",
    ".save()"
   ]
  },
  {
   "cell_type": "code",
   "execution_count": 76,
   "metadata": {},
   "outputs": [
    {
     "name": "stdout",
     "output_type": "stream",
     "text": [
      "+---------+--------------------+--------------+--------------------+----------------+-------+---------+---------+--------+---+----------+---------+---------+------------+--------------------+--------------------+------------+-------------+------------------+--------------------+-----------+-------------------------+--------------+-------------------+--------------+---------------+--------------------+--------------+---------+-----------+------------------------+-------------+----------------+---------+------------------+-----------+--------------------+----+--------+-------+---------+---------+------+------------------+-------------------+--------------------------+-----------------------+-----------------+---------------+-----------+-----------------+------------------+------------------+---------------------+---------------------+----------------+------------------+----------------+----------------+-------------+-------------+--------------+----------------+--------------------+-----------------------+---------------------+----------------+-------------------+-------------------+---------------------------+-------------------------+------------------------+------------------+--------------------+-------------------+-----------------------+--------------------+-----------------+---+---+---+---+---+---+---+---+---+---+---+---+---+---+---+---+----+----+----+----+----+----+---+---+---+----+---+--------------------+--------------------+--------------------+--------------------+--------------------+----+------------+\n",
      "|sofifa_id|          player_url|    short_name|           long_name|player_positions|overall|potential|value_eur|wage_eur|age|       dob|height_cm|weight_kg|club_team_id|           club_name|         league_name|league_level|club_position|club_jersey_number|    club_loaned_from|club_joined|club_contract_valid_until|nationality_id|   nationality_name|nation_team_id|nation_position|nation_jersey_number|preferred_foot|weak_foot|skill_moves|international_reputation|    work_rate|       body_type|real_face|release_clause_eur|player_tags|       player_traits|pace|shooting|passing|dribbling|defending|physic|attacking_crossing|attacking_finishing|attacking_heading_accuracy|attacking_short_passing|attacking_volleys|skill_dribbling|skill_curve|skill_fk_accuracy|skill_long_passing|skill_ball_control|movement_acceleration|movement_sprint_speed|movement_agility|movement_reactions|movement_balance|power_shot_power|power_jumping|power_stamina|power_strength|power_long_shots|mentality_aggression|mentality_interceptions|mentality_positioning|mentality_vision|mentality_penalties|mentality_composure|defending_marking_awareness|defending_standing_tackle|defending_sliding_tackle|goalkeeping_diving|goalkeeping_handling|goalkeeping_kicking|goalkeeping_positioning|goalkeeping_reflexes|goalkeeping_speed| ls| st| rs| lw| lf| cf| rf| rw|lam|cam|ram| lm|lcm| cm|rcm| rm| lwb| ldm| cdm| rdm| rwb|  lb|lcb| cb|rcb|  rb| gk|     player_face_url|       club_logo_url|       club_flag_url|     nation_logo_url|     nation_flag_url|year|          id|\n",
      "+---------+--------------------+--------------+--------------------+----------------+-------+---------+---------+--------+---+----------+---------+---------+------------+--------------------+--------------------+------------+-------------+------------------+--------------------+-----------+-------------------------+--------------+-------------------+--------------+---------------+--------------------+--------------+---------+-----------+------------------------+-------------+----------------+---------+------------------+-----------+--------------------+----+--------+-------+---------+---------+------+------------------+-------------------+--------------------------+-----------------------+-----------------+---------------+-----------+-----------------+------------------+------------------+---------------------+---------------------+----------------+------------------+----------------+----------------+-------------+-------------+--------------+----------------+--------------------+-----------------------+---------------------+----------------+-------------------+-------------------+---------------------------+-------------------------+------------------------+------------------+--------------------+-------------------+-----------------------+--------------------+-----------------+---+---+---+---+---+---+---+---+---+---+---+---+---+---+---+---+----+----+----+----+----+----+---+---+---+----+---+--------------------+--------------------+--------------------+--------------------+--------------------+----+------------+\n",
      "|   203885|https://sofifa.co...|   C. Alhadhur|     Chaker Alhadhur|          LB, RB|     67|       70| 775000.0|  9000.0| 23|1991-12-04|      171|       65|       210.0| Stade Malherbe Caen|      French Ligue 1|         1.0|          SUB|              21.0|                null| 2015-06-15|                   2019.0|           214|            Comoros|          null|           null|                null|         Right|        3|          2|                       1|  Medium/High|  Lean (170-185)|       No|              null|       null|        Injury Prone|68.0|    36.0|   58.0|     63.0|     69.0|  38.0|                67|                 19|                        53|                     66|               38|             57|         52|               31|                55|                63|                   69|                   67|              77|                66|              83|              58|           61|           61|            28|              49|                  30|                     67|                   37|              43|                 38|               null|                         69|                       74|                      73|                11|                  15|                  9|                     14|                   9|             null| 48| 48| 48| 55| 52| 52| 52| 55| 54| 54| 54| 57| 57| 57| 57| 57|  67|  62|  62|  62|  67|  67| 61| 61| 61|  67| 18|https://cdn.sofif...|https://cdn.sofif...|https://cdn.sofif...|                null|https://cdn.sofif...|  16|214748365172|\n",
      "|   203982|https://sofifa.co...|   J. Valencia|Juan David Valenc...|              LM|     67|       67| 675000.0| 15000.0| 29|1986-01-15|      183|       77|    101100.0|   Atlético Nacional|Colombian Liga Po...|         1.0|          RES|               6.0|                null| 2012-01-01|                   2016.0|            56|           Colombia|          null|           null|                null|          Left|        4|          2|                       1|Medium/Medium|Normal (170-185)|       No|              null|       null|                null|77.0|    53.0|   65.0|     67.0|     65.0|  73.0|                65|                 45|                        53|                     66|               15|             65|         66|               68|                65|                68|                   77|                   77|              68|                72|              67|              71|           69|           82|            73|              66|                  65|                     71|                   70|              60|                 31|               null|                         63|                       68|                      64|                11|                  13|                  8|                     15|                  15|             null| 63| 63| 63| 66| 66| 66| 66| 66| 65| 65| 65| 67| 67| 67| 67| 67|70-3|68-1|68-1|68-1|70-3|69-2| 66| 66| 66|69-2| 20|https://cdn.sofif...|https://cdn.sofif...|https://cdn.sofif...|                null|https://cdn.sofif...|  16|214748365173|\n",
      "|   204062|https://sofifa.co...|       D. Keet|         Darren Keet|              GK|     67|       69| 725000.0|  9000.0| 25|1989-08-05|      183|       77|    100081.0|         KV Kortrijk|Belgian Jupiler P...|         1.0|           GK|              16.0|                null| 2011-07-01|                   2016.0|           140|       South Africa|          null|           null|                null|          Left|        2|          1|                       1|Medium/Medium|Normal (170-185)|       No|              null|       null|       GK Long Throw|null|    null|   null|     null|     null|  null|                11|                 12|                        13|                     33|               19|             22|         17|               13|                43|                32|                   45|                   44|              41|                65|              46|              37|           77|           27|            68|              13|                  17|                     16|                   14|              42|                 34|               null|                         13|                       10|                      17|                69|                  69|                 67|                     65|                  68|             44.0| 29| 29| 29| 29| 30| 30| 30| 29| 32| 32| 32| 31| 32| 32| 32| 31|  26|  29|  29|  29|  26|  25| 26| 26| 26|  25| 67|https://cdn.sofif...|https://cdn.sofif...|https://cdn.sofif...|                null|https://cdn.sofif...|  16|214748365174|\n",
      "|   204153|https://sofifa.co...|      Y. Stark|       Yannick Stark|         CDM, CM|     67|       71| 800000.0|  9000.0| 24|1990-10-28|      185|       79|    110502.0|     SV Darmstadt 98|German 1. Bundesliga|         1.0|          SUB|              25.0|                null| 2015-02-02|                   2018.0|            21|            Germany|          null|           null|                null|         Right|        3|          2|                       1|Medium/Medium|   Normal (185+)|       No|              null|       null|                null|67.0|    59.0|   62.0|     64.0|     65.0|  78.0|                58|                 52|                        69|                     66|               49|             62|         59|               56|                64|                67|                   69|                   66|              67|                67|              64|              71|           72|           77|            77|              67|                  81|                     64|                   54|              61|                 64|               null|                         62|                       67|                      67|                 8|                   7|                 14|                      8|                   7|             null| 63| 63| 63| 62| 63| 63| 63| 62| 63| 63| 63| 63| 65| 65| 65| 63|  66|  67|  67|  67|  66|  66| 68| 68| 68|  66| 14|https://cdn.sofif...|https://cdn.sofif...|https://cdn.sofif...|                null|https://cdn.sofif...|  16|214748365175|\n",
      "|   204166|https://sofifa.co...|      A. Tonev|    Aleksandar Tonev|         LM, CAM|     67|       70| 875000.0|  9000.0| 25|1990-02-03|      178|       69|    111657.0|           Frosinone|     Italian Serie A|         1.0|          LCM|              19.0|                null| 2015-08-27|                   2020.0|             9|           Bulgaria|        1327.0|            SUB|                20.0|         Right|        5|          3|                       1|  High/Medium|  Lean (170-185)|       No|              null|       null|Selfish, Early Cr...|87.0|    66.0|   64.0|     70.0|     47.0|  62.0|                64|                 59|                        55|                     63|               64|             70|         69|               67|                64|                65|                   89|                   86|              87|                57|              78|              80|           74|           81|            58|              74|                  45|                     48|                   52|              62|                 53|               null|                         32|                       57|                      49|                 7|                   7|                  9|                     14|                  14|             null| 64| 64| 64| 67| 65| 65| 65| 67| 65| 65| 65| 67| 63| 63| 63| 67|  61|  57|  57|  57|  61|  60| 52| 52| 52|  60| 16|https://cdn.sofif...|https://cdn.sofif...|https://cdn.sofif...|https://cdn.sofif...|https://cdn.sofif...|  16|214748365176|\n",
      "|   204184|https://sofifa.co...|    D. Schmidt|        Doke Schmidt|          RB, CB|     67|       71| 800000.0|  9000.0| 23|1992-04-07|      176|       73|      1913.0|       SC Heerenveen|  Holland Eredivisie|         1.0|          SUB|              12.0|                null| 2011-07-01|                   2016.0|            34|        Netherlands|          null|           null|                null|         Right|        3|          2|                       1|Medium/Medium|Normal (170-185)|       No|              null|       null|Dives Into Tackle...|67.0|    47.0|   56.0|     60.0|     70.0|  71.0|                61|                 35|                        61|                     55|               37|             60|         39|               38|                60|                57|                   66|                   68|              65|                63|              72|              69|           75|           70|            68|              56|                  77|                     79|                   53|              57|                 42|               null|                         62|                       74|                      69|                13|                  11|                 13|                     11|                  16|             null| 56| 56| 56| 57| 56| 56| 56| 57| 57| 57| 57| 59| 60| 60| 60| 59|  66|  66|  66|  66|  66|  67| 69| 69| 69|  67| 18|https://cdn.sofif...|https://cdn.sofif...|https://cdn.sofif...|                null|https://cdn.sofif...|  16|214748365177|\n",
      "|   204192|https://sofifa.co...|    B. Ndulula|     Bongani Ndulula|              ST|     67|       72| 975000.0| 15000.0| 25|1989-11-29|      190|       73|    110929.0|       Kaizer Chiefs|South African Pre...|         1.0|          RES|              19.0|                null| 2015-06-23|                   2017.0|           140|       South Africa|          null|           null|                null|         Right|        3|          2|                       1|Medium/Medium|     Lean (185+)|       No|              null|       null|                null|74.0|    64.0|   59.0|     65.0|     33.0|  68.0|                62|                 68|                        74|                     62|               55|             62|         67|               54|                42|                67|                   75|                   73|              70|                69|              62|              66|           71|           68|            71|              59|                  59|                     43|                   62|              62|                 59|               null|                         19|                       30|                      26|                 9|                  12|                 14|                     13|                   7|             null| 67| 67| 67| 65| 66| 66| 66| 65| 64| 64| 64| 64| 58| 58| 58| 64|  53|  49|  49|  49|  53|  51| 47| 47| 47|  51| 17|https://cdn.sofif...|https://cdn.sofif...|https://cdn.sofif...|                null|https://cdn.sofif...|  16|214748365178|\n",
      "|   204386|https://sofifa.co...|    D. Koppers|        Dico Koppers|              LB|     67|       71| 800000.0|  9000.0| 23|1992-01-31|      175|       72|      1907.0|           Willem II|  Holland Eredivisie|         1.0|           LB|               5.0|                null| 2015-07-01|                   2017.0|            34|        Netherlands|          null|           null|                null|          Left|        2|          2|                       1|  High/Medium|Normal (170-185)|       No|              null|       null|Avoids Using Weak...|67.0|    43.0|   60.0|     68.0|     69.0|  66.0|                61|                 40|                        67|                     68|               36|             67|         55|               37|                59|                68|                   67|                   67|              67|                67|              75|              53|           92|           66|            63|              35|                  66|                     63|                   61|              51|                 48|               null|                         71|                       72|                      71|                16|                   8|                 10|                     11|                  15|             null| 58| 58| 58| 61| 60| 60| 60| 61| 61| 61| 61| 63| 62| 62| 62| 63|  67|  66|  66|  66|  67|  67| 69| 69| 69|  67| 18|https://cdn.sofif...|https://cdn.sofif...|https://cdn.sofif...|                null|https://cdn.sofif...|  16|214748365179|\n",
      "|   204445|https://sofifa.co...|      M. Smith|       Michael Smith|         RB, RWB|     67|       69| 700000.0| 10000.0| 26|1988-09-04|      180|       71|      1938.0| Peterborough United|  English League One|         3.0|           RB|               2.0|                null| 2014-07-25|                   2017.0|            35|   Northern Ireland|          null|           null|                null|         Right|        4|          2|                       1|    High/High|  Lean (170-185)|       No|              null|       null|       Long Throw-in|86.0|    39.0|   57.0|     62.0|     64.0|  73.0|                60|                 38|                        55|                     59|               35|             59|         55|               43|                56|                61|                   85|                   86|              73|                61|              80|              42|           86|           85|            73|              36|                  57|                     60|                   53|              57|                 39|               null|                         63|                       69|                      69|                13|                   9|                 16|                      7|                  14|             null| 55| 55| 55| 60| 57| 57| 57| 60| 58| 58| 58| 62| 59| 59| 59| 62|  67|  63|  63|  63|  67|  67| 65| 65| 65|  67| 17|https://cdn.sofif...|https://cdn.sofif...|https://cdn.sofif...|                null|https://cdn.sofif...|  16|214748365180|\n",
      "|   204510|https://sofifa.co...|   J. Sleegers|       Joey Sleegers|         CAM, LW|     67|       75|1100000.0|  8000.0| 20|1994-07-20|      177|       65|      1910.0|     N.E.C. Nijmegen|  Holland Eredivisie|         1.0|          SUB|               9.0|                null| 2015-08-25|                   2018.0|            34|        Netherlands|          null|           null|                null|         Right|        4|          3|                       1|Medium/Medium|  Lean (170-185)|       No|              null|       null|      Playmaker (AI)|68.0|    59.0|   67.0|     72.0|     22.0|  41.0|                70|                 61|                        38|                     67|               62|             70|         78|               62|                60|                73|                   70|                   66|              80|                62|              72|              49|           67|           62|            30|              71|                  38|                     29|                   56|              67|                 30|               null|                         12|                       20|                      24|                15|                  16|                 14|                     14|                   9|             null| 58| 58| 58| 67| 65| 65| 65| 67| 67| 67| 67| 66| 62| 62| 62| 66|  50|  45|  45|  45|  50|  46| 33| 33| 33|  46| 19|https://cdn.sofif...|https://cdn.sofif...|https://cdn.sofif...|                null|https://cdn.sofif...|  16|214748365181|\n",
      "|   204534|https://sofifa.co...|      N. Ramos|Nelson Fernando R...|              GK|     67|       67| 525000.0|  6000.0| 33|1981-11-23|      188|       83|    111723.0|     Deportivo Pasto|Colombian Liga Po...|         1.0|           GK|               1.0|                null| 2015-06-19|                   2016.0|            56|           Colombia|          null|           null|                null|          Left|        3|          1|                       2|Medium/Medium|   Normal (185+)|       No|              null|       null|                null|null|    null|   null|     null|     null|  null|                15|                 12|                        17|                     21|               14|             16|         21|               23|                27|                16|                   16|                   18|              19|                64|              27|              21|           38|           34|            30|              12|                  30|                     21|                   13|              31|                 46|               null|                         19|                       16|                      15|                67|                  66|                 71|                     68|                  68|             17.0| 20| 20| 20| 20| 21| 21| 21| 20| 22| 22| 22| 22| 25| 25| 25| 22|  23|  25|  25|  25|  23|  22| 23| 23| 23|  22| 67|https://cdn.sofif...|https://cdn.sofif...|https://cdn.sofif...|                null|https://cdn.sofif...|  16|214748365182|\n",
      "|   204626|https://sofifa.co...|   T. Grøgaard|     Thomas Grøgaard|              LB|     67|       76| 975000.0|  8000.0| 21|1994-02-08|      180|       73|      1456.0|             Odds BK|Norwegian Elitese...|         1.0|           LB|               5.0|                null| 2012-07-26|                   2018.0|            36|             Norway|          null|           null|                null|          Left|        3|          2|                       1|Medium/Medium|  Lean (170-185)|       No|              null|       null|                null|79.0|    47.0|   61.0|     66.0|     64.0|  64.0|                66|                 40|                        46|                     64|               58|             63|         60|               37|                52|                68|                   79|                   79|              76|                61|              74|              56|           50|           73|            64|              43|                  56|                     64|                   58|              62|                 60|               null|                         67|                       66|                      65|                15|                   9|                 12|                     16|                   9|             null| 57| 57| 57| 63| 61| 61| 61| 63| 62| 62| 62| 64| 61| 61| 61| 64|  67|  64|  64|  64|  67|  67| 62| 62| 62|  67| 18|https://cdn.sofif...|https://cdn.sofif...|https://cdn.sofif...|                null|https://cdn.sofif...|  16|214748365183|\n",
      "|   204676|https://sofifa.co...|  Luís Gustavo|Luís Gustavo Lede...|         CM, CDM|     67|       75|1100000.0|  8000.0| 22|1992-09-28|      173|       70|       744.0|          Rio Ave FC|Portuguese Liga Z...|         1.0|          SUB|               6.0|                null| 2013-07-11|                   2017.0|            38|           Portugal|          null|           null|                null|          Left|        2|          2|                       1|Medium/Medium|Normal (170-185)|       No|              null|       null|Long Shot Taker (AI)|70.0|    58.0|   72.0|     68.0|     52.0|  62.0|                76|                 52|                        48|                     75|               44|             65|         71|               78|                65|                69|                   72|                   68|              75|                65|              81|              72|           61|           74|            58|              59|                  58|                     54|                   63|              68|                 53|               null|                         47|                       58|                      49|                 8|                  15|                 12|                      9|                   8|             null| 62| 62| 62| 67| 65| 65| 65| 67| 67| 67| 67| 68| 67| 67| 67| 68|  64|  62|  62|  62|  64|  62| 56| 56| 56|  62| 16|https://cdn.sofif...|https://cdn.sofif...|https://cdn.sofif...|                null|https://cdn.sofif...|  16|214748365184|\n",
      "|   204688|https://sofifa.co...|     S. Schwab|       Stefan Schwab|    CM, CDM, CAM|     67|       74|1000000.0| 15000.0| 24|1990-09-27|      183|       78|       254.0|       SK Rapid Wien|Austrian Football...|         1.0|          RDM|               8.0|                null| 2014-07-01|                   2017.0|             4|            Austria|          null|           null|                null|          Left|        3|          3|                       1|Medium/Medium|Normal (170-185)|       No|              null|       null|      Playmaker (AI)|71.0|    63.0|   65.0|     66.0|     53.0|  73.0|                53|                 63|                        64|                     67|               61|             64|         57|               57|                73|                72|                   68|                   73|              63|                61|              63|              65|           63|           80|            72|              61|                  68|                     54|                   59|              70|                 61|               null|                         48|                       55|                      52|                15|                  10|                 16|                     13|                   6|             null| 65| 65| 65| 65| 66| 66| 66| 65| 66| 66| 66| 66| 67| 67| 67| 66|  61|  63|  63|  63|  61|  61| 59| 59| 59|  61| 17|https://cdn.sofif...|https://cdn.sofif...|https://cdn.sofif...|                null|https://cdn.sofif...|  16|214748365185|\n",
      "|   204813|https://sofifa.co...|     J. Novota|          Ján Novota|              GK|     67|       67| 575000.0| 15000.0| 31|1983-11-29|      199|       94|       254.0|       SK Rapid Wien|Austrian Football...|         1.0|           GK|               1.0|                null| 2011-07-01|                   2016.0|            43|           Slovakia|          null|           null|                null|         Right|        2|          1|                       1|Medium/Medium|   Normal (185+)|       No|              null|       null|Puncher, GK Long ...|null|    null|   null|     null|     null|  null|                 9|                 11|                        14|                     29|               10|              8|          9|               11|                25|                22|                   46|                   47|              39|                63|              26|              22|           63|           24|            76|              10|                  21|                     17|                   12|              12|                 16|               null|                         13|                       19|                      19|                68|                  66|                 67|                     69|                  67|             47.0| 25| 25| 25| 23| 23| 23| 23| 23| 23| 23| 23| 24| 23| 23| 23| 24|  25|  26|  26|  26|  25|  25| 28| 28| 28|  25| 67|https://cdn.sofif...|https://cdn.sofif...|https://cdn.sofif...|                null|https://cdn.sofif...|  16|214748365186|\n",
      "|   204840|https://sofifa.co...|D. van Mieghem|   Daryl van Mieghem|          LW, RW|     67|       70| 900000.0|  5000.0| 25|1989-12-05|      175|       68|      1971.0|           Excelsior|  Holland Eredivisie|         1.0|           LW|              11.0|                null| 2014-04-29|                   2016.0|            34|        Netherlands|          null|           null|                null|          Left|        2|          3|                       1|Medium/Medium|Normal (170-185)|       No|              null|       null| Speed Dribbler (AI)|88.0|    55.0|   60.0|     72.0|     25.0|  47.0|                66|                 59|                        46|                     62|               46|             75|         64|               56|                54|                64|                   86|                   89|              85|                63|              76|              62|           53|           65|            42|              44|                  36|                     25|                   56|              55|                 44|               null|                         22|                       20|                      24|                11|                  14|                 14|                     14|                  12|             null| 61| 61| 61| 67| 64| 64| 64| 67| 64| 64| 64| 67| 56| 56| 56| 67|  51|  44|  44|  44|  51|  48| 36| 36| 36|  48| 18|https://cdn.sofif...|https://cdn.sofif...|https://cdn.sofif...|                null|https://cdn.sofif...|  16|214748365187|\n",
      "|   204936|https://sofifa.co...|       J. Egan|           John Egan|          CB, RB|     67|       72| 825000.0|  3000.0| 22|1992-10-20|      188|       75|      1802.0|          Gillingham|  English League One|         3.0|          RCB|               4.0|                null| 2014-07-03|                   2016.0|            25|Republic of Ireland|          null|           null|                null|         Right|        3|          2|                       1|Medium/Medium|   Normal (185+)|       No|              null|       null|                null|72.0|    49.0|   53.0|     61.0|     66.0|  77.0|                52|                 43|                        66|                     62|               53|             59|         42|               29|                63|                63|                   70|                   73|              62|                57|              70|              63|           80|           75|            81|              52|                  70|                     60|                   38|              38|                 50|               null|                         68|                       66|                      68|                15|                  10|                  9|                      8|                   6|             null| 57| 57| 57| 56| 55| 55| 55| 56| 55| 55| 55| 58| 57| 57| 57| 58|  64|  64|  64|  64|  64|  65| 67| 67| 67|  65| 15|https://cdn.sofif...|https://cdn.sofif...|https://cdn.sofif...|                null|https://cdn.sofif...|  16|214748365188|\n",
      "|   205188|https://sofifa.co...|     R. Alioui|       Rachid Alioui|          ST, RW|     67|       71| 975000.0| 10000.0| 23|1992-06-18|      186|       81|      1814.0|Stade Lavallois M...|      French Ligue 2|         2.0|           ST|               7.0|En Avant de Guingamp|       null|                   2016.0|           129|            Morocco|          null|           null|                null|         Right|        3|          3|                       1|Medium/Medium|     Lean (185+)|       No|              null|       null|Power Free-Kick, ...|68.0|    69.0|   38.0|     64.0|     22.0|  69.0|                22|                 68|                        71|                     39|               57|             66|         63|               73|                23|                62|                   67|                   68|              71|                65|              46|              75|           72|           64|            81|              70|                  44|                     18|                   66|              49|                 55|               null|                         14|                       19|                      11|                15|                  15|                 11|                      6|                   7|             null| 67| 67| 67| 59| 63| 63| 63| 59| 58| 58| 58| 55| 48| 48| 48| 55|  38|  36|  36|  36|  38|  37| 38| 38| 38|  37| 17|https://cdn.sofif...|https://cdn.sofif...|https://cdn.sofif...|                null|https://cdn.sofif...|  16|214748365189|\n",
      "|   205214|https://sofifa.co...|     Z. Tripić|       Zlatko Tripić|      RM, LM, ST|     67|       72| 950000.0|  8000.0| 22|1992-12-02|      182|       74|       165.0|SpVgg Greuther Fürth|German 2. Bundesliga|         2.0|          SUB|              17.0|                null| 2015-01-31|                   2017.0|            36|             Norway|          null|           null|                null|         Right|        3|          3|                       1|  High/Medium|Normal (170-185)|       No|              null|       null|Long Shot Taker (AI)|77.0|    66.0|   63.0|     68.0|     31.0|  58.0|                70|                 62|                        51|                     66|               56|             68|         68|               63|                58|                69|                   77|                   77|              73|                60|              66|              76|           42|           69|            64|              66|                  35|                     33|                   64|              55|                 65|               null|                         27|                       28|                      25|                10|                   8|                 15|                     16|                  11|             null| 65| 65| 65| 67| 66| 66| 66| 67| 65| 65| 65| 67| 60| 60| 60| 67|  53|  48|  48|  48|  53|  50| 41| 41| 41|  50| 17|https://cdn.sofif...|https://cdn.sofif...|https://cdn.sofif...|                null|https://cdn.sofif...|  16|214748365190|\n",
      "|   205257|https://sofifa.co...|      N. Sliti|          Naïm Sliti|     LM, LW, CAM|     67|       73| 975000.0|  3000.0| 22|1992-07-27|      173|       75|    111273.0|         Red Star FC|      French Ligue 2|         2.0|          CAM|              10.0|                null| 2014-07-01|                   2018.0|            18|             France|          null|           null|                null|         Right|        3|          3|                       1|Medium/Medium|Normal (170-185)|       No|              null|       null|      Playmaker (AI)|72.0|    64.0|   63.0|     73.0|     37.0|  64.0|                57|                 64|                        49|                     67|               63|             73|         60|               64|                59|                72|                   71|                   73|              75|                63|              79|              65|           64|           57|            69|              60|                  59|                     32|                   67|              63|                 70|               null|                         42|                       34|                      27|                 8|                  15|                 15|                     11|                  12|             null| 65| 65| 65| 68| 67| 67| 67| 68| 67| 67| 67| 67| 62| 62| 62| 67|  53|  52|  52|  52|  53|  50| 47| 47| 47|  50| 17|https://cdn.sofif...|https://cdn.sofif...|https://cdn.sofif...|                null|https://cdn.sofif...|  16|214748365191|\n",
      "+---------+--------------------+--------------+--------------------+----------------+-------+---------+---------+--------+---+----------+---------+---------+------------+--------------------+--------------------+------------+-------------+------------------+--------------------+-----------+-------------------------+--------------+-------------------+--------------+---------------+--------------------+--------------+---------+-----------+------------------------+-------------+----------------+---------+------------------+-----------+--------------------+----+--------+-------+---------+---------+------+------------------+-------------------+--------------------------+-----------------------+-----------------+---------------+-----------+-----------------+------------------+------------------+---------------------+---------------------+----------------+------------------+----------------+----------------+-------------+-------------+--------------+----------------+--------------------+-----------------------+---------------------+----------------+-------------------+-------------------+---------------------------+-------------------------+------------------------+------------------+--------------------+-------------------+-----------------------+--------------------+-----------------+---+---+---+---+---+---+---+---+---+---+---+---+---+---+---+---+----+----+----+----+----+----+---+---+---+----+---+--------------------+--------------------+--------------------+--------------------+--------------------+----+------------+\n",
      "only showing top 20 rows\n",
      "\n"
     ]
    },
    {
     "name": "stderr",
     "output_type": "stream",
     "text": [
      "                                                                                \r"
     ]
    }
   ],
   "source": [
    "df_read = sqlContext.read.format(\"jdbc\")\\\n",
    "    .option(\"url\", db_properties['url'])\\\n",
    "    .option(\"dbtable\", db_properties['table'])\\\n",
    "    .option(\"user\", db_properties['username'])\\\n",
    "    .option(\"password\", db_properties['password'])\\\n",
    "    .option(\"Driver\", db_properties['driver'])\\\n",
    "    .load()\n",
    "    \n",
    "df_read.show()"
   ]
  },
  {
   "cell_type": "code",
   "execution_count": 77,
   "metadata": {},
   "outputs": [
    {
     "name": "stdout",
     "output_type": "stream",
     "text": [
      "root\n",
      " |-- sofifa_id: integer (nullable = true)\n",
      " |-- player_url: string (nullable = true)\n",
      " |-- short_name: string (nullable = true)\n",
      " |-- long_name: string (nullable = true)\n",
      " |-- player_positions: string (nullable = true)\n",
      " |-- overall: integer (nullable = true)\n",
      " |-- potential: integer (nullable = true)\n",
      " |-- value_eur: double (nullable = true)\n",
      " |-- wage_eur: double (nullable = true)\n",
      " |-- age: integer (nullable = true)\n",
      " |-- dob: date (nullable = true)\n",
      " |-- height_cm: integer (nullable = true)\n",
      " |-- weight_kg: integer (nullable = true)\n",
      " |-- club_team_id: double (nullable = true)\n",
      " |-- club_name: string (nullable = true)\n",
      " |-- league_name: string (nullable = true)\n",
      " |-- league_level: double (nullable = true)\n",
      " |-- club_position: string (nullable = true)\n",
      " |-- club_jersey_number: double (nullable = true)\n",
      " |-- club_loaned_from: string (nullable = true)\n",
      " |-- club_joined: date (nullable = true)\n",
      " |-- club_contract_valid_until: double (nullable = true)\n",
      " |-- nationality_id: integer (nullable = true)\n",
      " |-- nationality_name: string (nullable = true)\n",
      " |-- nation_team_id: double (nullable = true)\n",
      " |-- nation_position: string (nullable = true)\n",
      " |-- nation_jersey_number: double (nullable = true)\n",
      " |-- preferred_foot: string (nullable = true)\n",
      " |-- weak_foot: integer (nullable = true)\n",
      " |-- skill_moves: integer (nullable = true)\n",
      " |-- international_reputation: integer (nullable = true)\n",
      " |-- work_rate: string (nullable = true)\n",
      " |-- body_type: string (nullable = true)\n",
      " |-- real_face: string (nullable = true)\n",
      " |-- release_clause_eur: double (nullable = true)\n",
      " |-- player_tags: string (nullable = true)\n",
      " |-- player_traits: string (nullable = true)\n",
      " |-- pace: double (nullable = true)\n",
      " |-- shooting: double (nullable = true)\n",
      " |-- passing: double (nullable = true)\n",
      " |-- dribbling: double (nullable = true)\n",
      " |-- defending: double (nullable = true)\n",
      " |-- physic: double (nullable = true)\n",
      " |-- attacking_crossing: integer (nullable = true)\n",
      " |-- attacking_finishing: integer (nullable = true)\n",
      " |-- attacking_heading_accuracy: integer (nullable = true)\n",
      " |-- attacking_short_passing: integer (nullable = true)\n",
      " |-- attacking_volleys: integer (nullable = true)\n",
      " |-- skill_dribbling: integer (nullable = true)\n",
      " |-- skill_curve: integer (nullable = true)\n",
      " |-- skill_fk_accuracy: integer (nullable = true)\n",
      " |-- skill_long_passing: integer (nullable = true)\n",
      " |-- skill_ball_control: integer (nullable = true)\n",
      " |-- movement_acceleration: integer (nullable = true)\n",
      " |-- movement_sprint_speed: integer (nullable = true)\n",
      " |-- movement_agility: integer (nullable = true)\n",
      " |-- movement_reactions: integer (nullable = true)\n",
      " |-- movement_balance: integer (nullable = true)\n",
      " |-- power_shot_power: integer (nullable = true)\n",
      " |-- power_jumping: integer (nullable = true)\n",
      " |-- power_stamina: integer (nullable = true)\n",
      " |-- power_strength: integer (nullable = true)\n",
      " |-- power_long_shots: integer (nullable = true)\n",
      " |-- mentality_aggression: integer (nullable = true)\n",
      " |-- mentality_interceptions: integer (nullable = true)\n",
      " |-- mentality_positioning: integer (nullable = true)\n",
      " |-- mentality_vision: integer (nullable = true)\n",
      " |-- mentality_penalties: integer (nullable = true)\n",
      " |-- mentality_composure: integer (nullable = true)\n",
      " |-- defending_marking_awareness: integer (nullable = true)\n",
      " |-- defending_standing_tackle: integer (nullable = true)\n",
      " |-- defending_sliding_tackle: integer (nullable = true)\n",
      " |-- goalkeeping_diving: integer (nullable = true)\n",
      " |-- goalkeeping_handling: integer (nullable = true)\n",
      " |-- goalkeeping_kicking: integer (nullable = true)\n",
      " |-- goalkeeping_positioning: integer (nullable = true)\n",
      " |-- goalkeeping_reflexes: integer (nullable = true)\n",
      " |-- goalkeeping_speed: double (nullable = true)\n",
      " |-- ls: string (nullable = true)\n",
      " |-- st: string (nullable = true)\n",
      " |-- rs: string (nullable = true)\n",
      " |-- lw: string (nullable = true)\n",
      " |-- lf: string (nullable = true)\n",
      " |-- cf: string (nullable = true)\n",
      " |-- rf: string (nullable = true)\n",
      " |-- rw: string (nullable = true)\n",
      " |-- lam: string (nullable = true)\n",
      " |-- cam: string (nullable = true)\n",
      " |-- ram: string (nullable = true)\n",
      " |-- lm: string (nullable = true)\n",
      " |-- lcm: string (nullable = true)\n",
      " |-- cm: string (nullable = true)\n",
      " |-- rcm: string (nullable = true)\n",
      " |-- rm: string (nullable = true)\n",
      " |-- lwb: string (nullable = true)\n",
      " |-- ldm: string (nullable = true)\n",
      " |-- cdm: string (nullable = true)\n",
      " |-- rdm: string (nullable = true)\n",
      " |-- rwb: string (nullable = true)\n",
      " |-- lb: string (nullable = true)\n",
      " |-- lcb: string (nullable = true)\n",
      " |-- cb: string (nullable = true)\n",
      " |-- rcb: string (nullable = true)\n",
      " |-- rb: string (nullable = true)\n",
      " |-- gk: string (nullable = true)\n",
      " |-- player_face_url: string (nullable = true)\n",
      " |-- club_logo_url: string (nullable = true)\n",
      " |-- club_flag_url: string (nullable = true)\n",
      " |-- nation_logo_url: string (nullable = true)\n",
      " |-- nation_flag_url: string (nullable = true)\n",
      " |-- year: integer (nullable = true)\n",
      " |-- id: long (nullable = true)\n",
      "\n"
     ]
    }
   ],
   "source": [
    "df_read.printSchema()"
   ]
  },
  {
   "cell_type": "markdown",
   "metadata": {},
   "source": [
    "## Task II "
   ]
  },
  {
   "cell_type": "markdown",
   "metadata": {},
   "source": [
    "### Question 1\n",
    "Find X clubs that have the highest number of players with contracts ending in 2023\n",
    "\n",
    "We find that En Avant de Guingamp have the most players whose contract end in 2023 in FIFA 2022 dataset."
   ]
  },
  {
   "cell_type": "markdown",
   "metadata": {},
   "source": [
    "#### In spark SQL"
   ]
  },
  {
   "cell_type": "code",
   "execution_count": 78,
   "metadata": {},
   "outputs": [],
   "source": [
    "df_read.createOrReplaceTempView(\"df_view\")"
   ]
  },
  {
   "cell_type": "code",
   "execution_count": 79,
   "metadata": {},
   "outputs": [],
   "source": [
    "sqlWay1 = spark.sql(\"\"\"\n",
    "SELECT dv.club_name, COUNT(*) AS player_count\n",
    "FROM   df_view dv\n",
    "WHERE  dv.year = 22 AND dv.club_contract_valid_until = 2023\n",
    "GROUP BY dv.club_name\n",
    "ORDER BY player_count DESC\n",
    "LIMIT 10;\n",
    "                    \"\"\")"
   ]
  },
  {
   "cell_type": "code",
   "execution_count": 80,
   "metadata": {},
   "outputs": [
    {
     "name": "stdout",
     "output_type": "stream",
     "text": [
      "+--------------------+------------+\n",
      "|           club_name|player_count|\n",
      "+--------------------+------------+\n",
      "|En Avant de Guingamp|          19|\n",
      "| Club Atlético Lanús|          17|\n",
      "|       Lechia Gdańsk|          17|\n",
      "|            Barnsley|          16|\n",
      "|        Kasimpaşa SK|          16|\n",
      "|        Bengaluru FC|          16|\n",
      "|        FC Barcelona|          15|\n",
      "|  SV Wehen Wiesbaden|          15|\n",
      "|          CA Osasuna|          15|\n",
      "|      Zagłębie Lubin|          15|\n",
      "+--------------------+------------+\n",
      "\n"
     ]
    }
   ],
   "source": [
    "sqlWay1.show()"
   ]
  },
  {
   "cell_type": "markdown",
   "metadata": {},
   "source": [
    "#### In original pyspark"
   ]
  },
  {
   "cell_type": "code",
   "execution_count": 81,
   "metadata": {},
   "outputs": [],
   "source": [
    "from pyspark.sql import functions as F\n",
    "\n",
    "def find_top_clubs_expiring_contracts(df, num_clubs):\n",
    "\n",
    "  top_clubs = (df.filter((F.col('year') == '22') & \n",
    "                        (F.col('club_contract_valid_until') == 2023))\n",
    "               .groupBy('club_team_id', 'club_name')\n",
    "               .agg(F.count('sofifa_id').alias('num_players'))\n",
    "               .orderBy(F.desc('num_players'))\n",
    "               .limit(num_clubs))\n",
    "               \n",
    "  top_names = [row.club_name for row in top_clubs.collect()]\n",
    "  \n",
    "  return top_clubs, top_names"
   ]
  },
  {
   "cell_type": "code",
   "execution_count": 82,
   "metadata": {},
   "outputs": [],
   "source": [
    "clubs, names = find_top_clubs_expiring_contracts(df_read, 10)"
   ]
  },
  {
   "cell_type": "code",
   "execution_count": 83,
   "metadata": {},
   "outputs": [
    {
     "name": "stdout",
     "output_type": "stream",
     "text": [
      "['En Avant de Guingamp', 'Club Atlético Lanús', 'Lechia Gdańsk', 'Kasimpaşa SK', 'Barnsley', 'Bengaluru FC', 'FC Barcelona', 'Zagłębie Lubin', 'SV Wehen Wiesbaden', 'KAA Gent'] Club with highest number of players with contracts ending in 2023 in FIFA 2022\n"
     ]
    }
   ],
   "source": [
    "print(f\"{names} Club with highest number of players with contracts ending in 2023 in FIFA 2022\")"
   ]
  },
  {
   "cell_type": "code",
   "execution_count": 84,
   "metadata": {},
   "outputs": [
    {
     "name": "stdout",
     "output_type": "stream",
     "text": [
      "+------------+--------------------+-----------+\n",
      "|club_team_id|           club_name|num_players|\n",
      "+------------+--------------------+-----------+\n",
      "|        62.0|En Avant de Guingamp|         19|\n",
      "|    110395.0| Club Atlético Lanús|         17|\n",
      "|    111091.0|       Lechia Gdańsk|         17|\n",
      "|    111339.0|        Kasimpaşa SK|         16|\n",
      "|      1932.0|            Barnsley|         16|\n",
      "|    113302.0|        Bengaluru FC|         16|\n",
      "|       241.0|        FC Barcelona|         15|\n",
      "|    110749.0|      Zagłębie Lubin|         15|\n",
      "|       492.0|  SV Wehen Wiesbaden|         15|\n",
      "|       674.0|            KAA Gent|         15|\n",
      "+------------+--------------------+-----------+\n",
      "\n"
     ]
    }
   ],
   "source": [
    "clubs.show()"
   ]
  },
  {
   "cell_type": "markdown",
   "metadata": {},
   "source": [
    "### Question 2 \n"
   ]
  },
  {
   "cell_type": "markdown",
   "metadata": {},
   "source": [
    "#### In spark SQL"
   ]
  },
  {
   "cell_type": "code",
   "execution_count": 85,
   "metadata": {},
   "outputs": [],
   "source": [
    "sqlWay2 = spark.sql(\"\"\"\n",
    "WITH club_counts AS (\n",
    "  SELECT \n",
    "    dv.club_name, \n",
    "    dv.year, \n",
    "    COUNT(*) AS player_count\n",
    "  FROM df_view dv\n",
    "  WHERE dv.age > 27\n",
    "  GROUP BY dv.club_name, dv.year\n",
    "),\n",
    "\n",
    "club_averages AS (\n",
    "  SELECT \n",
    "    cc.club_name,\n",
    "    AVG(cc.player_count) AS avg_player_count\n",
    "  FROM club_counts cc\n",
    "  GROUP BY cc.club_name  \n",
    ")\n",
    "\n",
    "SELECT\n",
    "  ca.club_name,\n",
    "  ca.avg_player_count AS average_count\n",
    "FROM club_averages ca\n",
    "WHERE (\n",
    "  SELECT COUNT(*) \n",
    "  FROM club_averages ca2 \n",
    "  WHERE ca2.avg_player_count > ca.avg_player_count\n",
    ") < 10\n",
    "ORDER BY ca.avg_player_count DESC;\n",
    "\"\"\")"
   ]
  },
  {
   "cell_type": "code",
   "execution_count": 86,
   "metadata": {},
   "outputs": [
    {
     "name": "stdout",
     "output_type": "stream",
     "text": [
      "+--------------------+-------------+\n",
      "|           club_name|average_count|\n",
      "+--------------------+-------------+\n",
      "|                null|       109.25|\n",
      "|  Dorados de Sinaloa|         19.0|\n",
      "| Matsumoto Yamaga FC|         19.0|\n",
      "| Shanghai Shenhua FC|         18.5|\n",
      "|          Qingdao FC|         18.0|\n",
      "|Club Deportivo Jo...|         17.5|\n",
      "|            Altay SK|         17.0|\n",
      "|         Guaireña FC|         17.0|\n",
      "|İstanbul Başakşeh...|       16.625|\n",
      "|      BB Erzurumspor|         16.5|\n",
      "|        Club Olimpia|         16.5|\n",
      "|      Sport Huancayo|         16.5|\n",
      "+--------------------+-------------+\n",
      "\n"
     ]
    }
   ],
   "source": [
    "sqlWay2.show()"
   ]
  },
  {
   "cell_type": "markdown",
   "metadata": {},
   "source": [
    "#### In original pyspark"
   ]
  },
  {
   "cell_type": "code",
   "execution_count": 87,
   "metadata": {},
   "outputs": [],
   "source": [
    "from pyspark.sql import functions as F\n",
    "from pyspark.sql.window import Window\n",
    "\n",
    "def find_top_clubs_by_avg_older_players(df, num_clubs):\n",
    "\n",
    "  window = Window.orderBy(F.desc('avg_count'))\n",
    "  df = df.repartition(100)\n",
    "  top_clubs = (df.filter(F.col('age') > 27)\n",
    "               .groupBy('year', 'club_team_id', 'club_name')\n",
    "               .agg(F.count('sofifa_id').alias('count'))\n",
    "               .groupBy('club_team_id', 'club_name')\n",
    "               .agg(F.avg('count').alias('avg_count'))\n",
    "               .withColumn('rank', F.rank().over(window))\n",
    "               .filter(F.col('rank') <= num_clubs)\n",
    "               .select('club_team_id', 'club_name'))\n",
    "               \n",
    "  top_names = [row.club_name for row in top_clubs.collect()]\n",
    "\n",
    "\n",
    "\n",
    "  return top_clubs, top_names"
   ]
  },
  {
   "cell_type": "code",
   "execution_count": 88,
   "metadata": {},
   "outputs": [
    {
     "name": "stderr",
     "output_type": "stream",
     "text": [
      "23/11/16 15:34:16 WARN WindowExec: No Partition Defined for Window operation! Moving all data to a single partition, this can cause serious performance degradation.\n",
      "23/11/16 15:34:16 WARN WindowExec: No Partition Defined for Window operation! Moving all data to a single partition, this can cause serious performance degradation.\n",
      "23/11/16 15:34:16 WARN WindowExec: No Partition Defined for Window operation! Moving all data to a single partition, this can cause serious performance degradation.\n",
      "23/11/16 15:34:16 WARN WindowExec: No Partition Defined for Window operation! Moving all data to a single partition, this can cause serious performance degradation.\n",
      "23/11/16 15:34:16 WARN WindowExec: No Partition Defined for Window operation! Moving all data to a single partition, this can cause serious performance degradation.\n",
      "23/11/16 15:34:18 WARN WindowExec: No Partition Defined for Window operation! Moving all data to a single partition, this can cause serious performance degradation.\n",
      "23/11/16 15:34:18 WARN WindowExec: No Partition Defined for Window operation! Moving all data to a single partition, this can cause serious performance degradation.\n",
      "23/11/16 15:34:18 WARN WindowExec: No Partition Defined for Window operation! Moving all data to a single partition, this can cause serious performance degradation.\n",
      "23/11/16 15:34:18 WARN WindowExec: No Partition Defined for Window operation! Moving all data to a single partition, this can cause serious performance degradation.\n",
      "23/11/16 15:34:18 WARN WindowExec: No Partition Defined for Window operation! Moving all data to a single partition, this can cause serious performance degradation.\n",
      "23/11/16 15:34:18 WARN WindowExec: No Partition Defined for Window operation! Moving all data to a single partition, this can cause serious performance degradation.\n",
      "                                                                                \r"
     ]
    }
   ],
   "source": [
    "clubs, names = find_top_clubs_by_avg_older_players(df_read, 10)"
   ]
  },
  {
   "cell_type": "code",
   "execution_count": 89,
   "metadata": {},
   "outputs": [
    {
     "name": "stderr",
     "output_type": "stream",
     "text": [
      "23/11/16 15:34:20 WARN WindowExec: No Partition Defined for Window operation! Moving all data to a single partition, this can cause serious performance degradation.\n",
      "23/11/16 15:34:20 WARN WindowExec: No Partition Defined for Window operation! Moving all data to a single partition, this can cause serious performance degradation.\n",
      "23/11/16 15:34:20 WARN WindowExec: No Partition Defined for Window operation! Moving all data to a single partition, this can cause serious performance degradation.\n",
      "23/11/16 15:34:21 WARN WindowExec: No Partition Defined for Window operation! Moving all data to a single partition, this can cause serious performance degradation.\n",
      "23/11/16 15:34:21 WARN WindowExec: No Partition Defined for Window operation! Moving all data to a single partition, this can cause serious performance degradation.\n",
      "23/11/16 15:34:23 WARN WindowExec: No Partition Defined for Window operation! Moving all data to a single partition, this can cause serious performance degradation.\n",
      "23/11/16 15:34:23 WARN WindowExec: No Partition Defined for Window operation! Moving all data to a single partition, this can cause serious performance degradation.\n"
     ]
    },
    {
     "name": "stdout",
     "output_type": "stream",
     "text": [
      "+------------+--------------------+\n",
      "|club_team_id|           club_name|\n",
      "+------------+--------------------+\n",
      "|        null|                null|\n",
      "|    111032.0|  Dorados de Sinaloa|\n",
      "|    113158.0| Matsumoto Yamaga FC|\n",
      "|    110955.0| Shanghai Shenhua FC|\n",
      "|    112961.0|          Qingdao FC|\n",
      "|    110974.0|Club Deportivo Jo...|\n",
      "|    101006.0|            Altay SK|\n",
      "|    114688.0|         Guaireña FC|\n",
      "|    101014.0|İstanbul Başakşeh...|\n",
      "|    114511.0|      Sport Huancayo|\n",
      "|       749.0|      BB Erzurumspor|\n",
      "|    101108.0|        Club Olimpia|\n",
      "+------------+--------------------+\n",
      "\n"
     ]
    },
    {
     "name": "stderr",
     "output_type": "stream",
     "text": [
      "23/11/16 15:34:23 WARN WindowExec: No Partition Defined for Window operation! Moving all data to a single partition, this can cause serious performance degradation.\n",
      "23/11/16 15:34:23 WARN WindowExec: No Partition Defined for Window operation! Moving all data to a single partition, this can cause serious performance degradation.\n",
      "23/11/16 15:34:23 WARN WindowExec: No Partition Defined for Window operation! Moving all data to a single partition, this can cause serious performance degradation.\n",
      "23/11/16 15:34:23 WARN WindowExec: No Partition Defined for Window operation! Moving all data to a single partition, this can cause serious performance degradation.\n",
      "                                                                                \r"
     ]
    }
   ],
   "source": [
    "clubs.show()"
   ]
  },
  {
   "cell_type": "code",
   "execution_count": 90,
   "metadata": {},
   "outputs": [
    {
     "name": "stdout",
     "output_type": "stream",
     "text": [
      "[None, 'Dorados de Sinaloa', 'Matsumoto Yamaga FC', 'Shanghai Shenhua FC', 'Qingdao FC', 'Club Deportivo Jorge Wilstermann', 'Altay SK', 'Guaireña FC', 'İstanbul Başakşehir FK', 'Sport Huancayo', 'BB Erzurumspor', 'Club Olimpia'] clubs with highest avg players over 27:\n"
     ]
    }
   ],
   "source": [
    "print(f\"{names} clubs with highest avg players over 27:\")"
   ]
  },
  {
   "cell_type": "markdown",
   "metadata": {},
   "source": [
    "### Question 3"
   ]
  },
  {
   "cell_type": "markdown",
   "metadata": {},
   "source": [
    "#### In spark SQL"
   ]
  },
  {
   "cell_type": "code",
   "execution_count": 91,
   "metadata": {},
   "outputs": [],
   "source": [
    "sqlWay3 = spark.sql(\"\"\"\n",
    "WITH yearly_counts AS (\n",
    "    SELECT dv.year, dv.nation_position, COUNT(*) AS position_count\n",
    "    FROM df_view dv\n",
    "    WHERE dv.nation_position IS NOT NULL\n",
    "    GROUP BY dv.year, dv.nation_position\n",
    "),\n",
    "max_counts AS (\n",
    "    SELECT yc.year, MAX(yc.position_count) AS max_count\n",
    "    FROM yearly_counts yc\n",
    "    GROUP BY yc.year\n",
    ")\n",
    "SELECT mc.year, yc.nation_position, mc.max_count\n",
    "FROM max_counts mc\n",
    "JOIN yearly_counts yc ON mc.year = yc.year AND mc.max_count = yc.position_count\n",
    "ORDER BY mc.year;\n",
    "\n",
    "\"\"\")"
   ]
  },
  {
   "cell_type": "code",
   "execution_count": 92,
   "metadata": {},
   "outputs": [
    {
     "name": "stdout",
     "output_type": "stream",
     "text": [
      "+----+---------------+---------+\n",
      "|year|nation_position|max_count|\n",
      "+----+---------------+---------+\n",
      "|  15|            SUB|      564|\n",
      "|  16|            SUB|      511|\n",
      "|  17|            SUB|      564|\n",
      "|  18|            SUB|      600|\n",
      "|  19|            SUB|      576|\n",
      "|  20|            SUB|      588|\n",
      "|  21|            SUB|      588|\n",
      "|  22|            SUB|      396|\n",
      "+----+---------------+---------+\n",
      "\n"
     ]
    }
   ],
   "source": [
    "sqlWay3.show()"
   ]
  },
  {
   "cell_type": "markdown",
   "metadata": {},
   "source": [
    "#### In original pyspark"
   ]
  },
  {
   "cell_type": "code",
   "execution_count": 93,
   "metadata": {},
   "outputs": [],
   "source": [
    "from pyspark.sql import functions as F\n",
    "from pyspark.sql.window import Window\n",
    "\n",
    "def most_frequent_nation_position(df):\n",
    "\n",
    "  window = Window.partitionBy('year').orderBy(F.desc('count'))\n",
    "\n",
    "  top_positions = (df.filter(F.col('nation_position').isNotNull())\n",
    "                  .groupBy('year', 'nation_position')\n",
    "                  .agg(F.count('sofifa_id').alias('count'))\n",
    "                  .withColumn('rank', F.rank().over(window))\n",
    "                  .filter(F.col('rank') == 1)\n",
    "                  .select('year', 'nation_position'))\n",
    "\n",
    "  return top_positions"
   ]
  },
  {
   "cell_type": "code",
   "execution_count": 94,
   "metadata": {},
   "outputs": [
    {
     "name": "stdout",
     "output_type": "stream",
     "text": [
      "+----+---------------+\n",
      "|year|nation_position|\n",
      "+----+---------------+\n",
      "|  15|            SUB|\n",
      "|  16|            SUB|\n",
      "|  17|            SUB|\n",
      "|  18|            SUB|\n",
      "|  19|            SUB|\n",
      "|  20|            SUB|\n",
      "|  21|            SUB|\n",
      "|  22|            SUB|\n",
      "+----+---------------+\n",
      "\n"
     ]
    }
   ],
   "source": [
    "most_frequent_nation_position(df_read).show()"
   ]
  },
  {
   "cell_type": "code",
   "execution_count": null,
   "metadata": {},
   "outputs": [],
   "source": []
  }
 ],
 "metadata": {
  "kernelspec": {
   "display_name": "aichaintools-torch",
   "language": "python",
   "name": "python3"
  },
  "language_info": {
   "codemirror_mode": {
    "name": "ipython",
    "version": 3
   },
   "file_extension": ".py",
   "mimetype": "text/x-python",
   "name": "python",
   "nbconvert_exporter": "python",
   "pygments_lexer": "ipython3",
   "version": "3.10.12"
  }
 },
 "nbformat": 4,
 "nbformat_minor": 2
}
