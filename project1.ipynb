{
 "cells": [
  {
   "cell_type": "markdown",
   "metadata": {},
   "source": [
    "## import package"
   ]
  },
  {
   "cell_type": "code",
   "execution_count": 11,
   "metadata": {},
   "outputs": [],
   "source": [
    "import os \n",
    "import pandas as pd\n",
    "from tqdm import tqdm\n",
    "import numpy as np\n",
    "\n",
    "import pyspark\n",
    "from pyspark.sql import SparkSession\n",
    "from pyspark import SparkContext, SQLContext\n",
    "from pyspark.sql.functions import lit, monotonically_increasing_id"
   ]
  },
  {
   "cell_type": "markdown",
   "metadata": {},
   "source": [
    "In this project, for deep learning model, I will output pandas file for local management. "
   ]
  },
  {
   "cell_type": "markdown",
   "metadata": {},
   "source": [
    "## Help function"
   ]
  },
  {
   "cell_type": "code",
   "execution_count": 12,
   "metadata": {},
   "outputs": [],
   "source": [
    "# For pandas\n",
    "# Reducing dataframe memory usage :-\n",
    "def ReduceMemory(df: pd.DataFrame):\n",
    "    \"\"\"\n",
    "    This function reduces the associated dataframe's memory usage.\n",
    "    It reassigns the data-types of columns according to their min-max values.\n",
    "    It also displays the dataframe information after memory reduction.\n",
    "    \"\"\";\n",
    "    \n",
    "    # Reducing float column memory usage:-\n",
    "    for col in tqdm(df.iloc[0:2, 1:].select_dtypes('float').columns):\n",
    "        col_min = np.amin(df[col].dropna());\n",
    "        col_max = np.amax(df[col].dropna());\n",
    "        \n",
    "        if col_min >= np.finfo(np.float16).min and col_max <= np.finfo(np.float16).max: \n",
    "            df[col] = df[col].astype(np.float16)\n",
    "        elif col_min >= np.finfo(np.float32).min and col_max <= np.finfo(np.float32).max : \n",
    "            df[col] = df[col].astype(np.float32)\n",
    "        else: pass;\n",
    "\n",
    "    # Reducing integer column memory usage:-\n",
    "    for col in tqdm(df.iloc[0:2, 1:].select_dtypes('int').columns):\n",
    "        col_min = df[col].min(); \n",
    "        col_max = df[col].max();\n",
    "        \n",
    "        if col_min >= np.iinfo(np.int8).min and col_max <= np.iinfo(np.int8).max:\n",
    "            df[col] = df[col].astype(np.int8);\n",
    "        elif col_min >= np.iinfo(np.int16).min and col_max <= np.iinfo(np.int16).max:\n",
    "            df[col] = df[col].astype(np.int16);\n",
    "        elif col_min >= np.iinfo(np.int32).min & col_max <= np.iinfo(np.int32).max:\n",
    "            df[col] = df[col].astype(np.int32);\n",
    "        else: pass;\n",
    "        \n",
    "    display(df.info());\n",
    "    \n",
    "    return df;"
   ]
  },
  {
   "cell_type": "markdown",
   "metadata": {},
   "source": [
    "## read csv to pyspark"
   ]
  },
  {
   "cell_type": "code",
   "execution_count": 13,
   "metadata": {},
   "outputs": [
    {
     "name": "stderr",
     "output_type": "stream",
     "text": [
      "/Users/dylan/mambaforge/envs/aichaintools-torch/lib/python3.10/site-packages/pyspark/sql/context.py:112: FutureWarning: Deprecated in 3.0.0. Use SparkSession.builder.getOrCreate() instead.\n",
      "  warnings.warn(\n"
     ]
    }
   ],
   "source": [
    "\n",
    "appName = \"Project1\"\n",
    "master = \"local\"\n",
    "\n",
    "\n",
    "sc = SparkSession.builder.appName(appName).getOrCreate()\n",
    "sqlContext = SQLContext(sc)\n",
    "spark = sqlContext.sparkSession.builder.getOrCreate()"
   ]
  },
  {
   "cell_type": "code",
   "execution_count": 59,
   "metadata": {},
   "outputs": [
    {
     "name": "stderr",
     "output_type": "stream",
     "text": [
      "100%|██████████| 15/15 [00:00<00:00, 505.41it/s]\n",
      "100%|██████████| 43/43 [00:00<00:00, 4651.20it/s]"
     ]
    },
    {
     "name": "stdout",
     "output_type": "stream",
     "text": [
      "<class 'pandas.core.frame.DataFrame'>\n",
      "RangeIndex: 142079 entries, 0 to 142078\n",
      "Columns: 112 entries, sofifa_id to id\n",
      "dtypes: float16(11), float32(4), int16(2), int32(1), int64(1), int8(40), object(53)\n",
      "memory usage: 70.2+ MB\n"
     ]
    },
    {
     "name": "stderr",
     "output_type": "stream",
     "text": [
      "\n"
     ]
    },
    {
     "data": {
      "text/plain": [
       "None"
      ]
     },
     "metadata": {},
     "output_type": "display_data"
    }
   ],
   "source": [
    "input_dir = '/Users/dylan/DylanLi/Code_Repo/CMU18763_Projects1/fifadata'\n",
    "\n",
    "csv_files = [os.path.join(input_dir, f) for f in os.listdir(input_dir) if f.endswith('.csv')]\n",
    "\n",
    "combined_df = None\n",
    "\n",
    "for file in csv_files:\n",
    "    year = file.split(\"players_\")[1].split(\".csv\")[0]\n",
    "    df = spark.read.csv(file, header=True, inferSchema=True)\n",
    "    df = df.withColumn(\"year\", lit(year)) # this is the unique column 'year'\n",
    "    if combined_df is None:\n",
    "        combined_df = df\n",
    "    else:\n",
    "        combined_df = combined_df.union(df)\n",
    "combined_df = combined_df.withColumn(\"id\", monotonically_increasing_id())\n",
    "\n",
    "# Write the concatenated DataFrame to a new CSV file\n",
    "output_file = \"/Users/dylan/DylanLi/Code_Repo/CMU18763_Projects1/full_data.csv\"\n",
    "ReduceMemory(combined_df.toPandas()).to_csv(output_file)"
   ]
  },
  {
   "cell_type": "markdown",
   "metadata": {},
   "source": [
    "## Using pyspark to read table and write to PostgreSQL"
   ]
  },
  {
   "cell_type": "code",
   "execution_count": 34,
   "metadata": {},
   "outputs": [],
   "source": [
    "# read multiple csv files into spark dataframe\n",
    "df = spark.read.csv(output_file, header=True, inferSchema=True)"
   ]
  },
  {
   "cell_type": "code",
   "execution_count": 35,
   "metadata": {},
   "outputs": [],
   "source": [
    "db_properties={}\n",
    "db_properties['username']=\"postgres\"\n",
    "db_properties['password']=\"010323\"\n",
    "db_properties['url']= \"jdbc:postgresql://localhost:5432/postgres\"\n",
    "db_properties['table']=\"fifa\"\n",
    "db_properties['driver']=\"org.postgresql.Driver\""
   ]
  },
  {
   "cell_type": "code",
   "execution_count": 36,
   "metadata": {},
   "outputs": [
    {
     "name": "stderr",
     "output_type": "stream",
     "text": [
      "                                                                                \r"
     ]
    }
   ],
   "source": [
    "df.write.format(\"jdbc\")\\\n",
    ".mode(\"overwrite\")\\\n",
    ".option(\"url\", db_properties['url'])\\\n",
    ".option(\"dbtable\", db_properties['table'])\\\n",
    ".option(\"user\", db_properties['username'])\\\n",
    ".option(\"password\", db_properties['password'])\\\n",
    ".option(\"Driver\", db_properties['driver'])\\\n",
    ".save()"
   ]
  },
  {
   "cell_type": "code",
   "execution_count": 18,
   "metadata": {},
   "outputs": [
    {
     "name": "stderr",
     "output_type": "stream",
     "text": [
      "                                                                                \r"
     ]
    },
    {
     "name": "stdout",
     "output_type": "stream",
     "text": [
      "+------+---------+--------------------+-------------+--------------------+----------------+-------+---------+---------+--------+---+----------+---------+---------+------------+--------------------+--------------------+------------+-------------+------------------+----------------+-----------+-------------------------+--------------+----------------+--------------+---------------+--------------------+--------------+---------+-----------+------------------------+-------------+----------------+---------+------------------+-----------+--------------------+----+--------+-------+---------+---------+------+------------------+-------------------+--------------------------+-----------------------+-----------------+---------------+-----------+-----------------+------------------+------------------+---------------------+---------------------+----------------+------------------+----------------+----------------+-------------+-------------+--------------+----------------+--------------------+-----------------------+---------------------+----------------+-------------------+-------------------+---------------------------+-------------------------+------------------------+------------------+--------------------+-------------------+-----------------------+--------------------+-----------------+----+----+----+---+---+---+---+---+----+----+----+----+----+----+----+----+----+----+----+----+----+----+----+----+----+----+----+--------------------+--------------------+--------------------+---------------+--------------------+----+------------+\n",
      "|   _c0|sofifa_id|          player_url|   short_name|           long_name|player_positions|overall|potential|value_eur|wage_eur|age|       dob|height_cm|weight_kg|club_team_id|           club_name|         league_name|league_level|club_position|club_jersey_number|club_loaned_from|club_joined|club_contract_valid_until|nationality_id|nationality_name|nation_team_id|nation_position|nation_jersey_number|preferred_foot|weak_foot|skill_moves|international_reputation|    work_rate|       body_type|real_face|release_clause_eur|player_tags|       player_traits|pace|shooting|passing|dribbling|defending|physic|attacking_crossing|attacking_finishing|attacking_heading_accuracy|attacking_short_passing|attacking_volleys|skill_dribbling|skill_curve|skill_fk_accuracy|skill_long_passing|skill_ball_control|movement_acceleration|movement_sprint_speed|movement_agility|movement_reactions|movement_balance|power_shot_power|power_jumping|power_stamina|power_strength|power_long_shots|mentality_aggression|mentality_interceptions|mentality_positioning|mentality_vision|mentality_penalties|mentality_composure|defending_marking_awareness|defending_standing_tackle|defending_sliding_tackle|goalkeeping_diving|goalkeeping_handling|goalkeeping_kicking|goalkeeping_positioning|goalkeeping_reflexes|goalkeeping_speed|  ls|  st|  rs| lw| lf| cf| rf| rw| lam| cam| ram|  lm| lcm|  cm| rcm|  rm| lwb| ldm| cdm| rdm| rwb|  lb| lcb|  cb| rcb|  rb|  gk|     player_face_url|       club_logo_url|       club_flag_url|nation_logo_url|     nation_flag_url|year|          id|\n",
      "+------+---------+--------------------+-------------+--------------------+----------------+-------+---------+---------+--------+---+----------+---------+---------+------------+--------------------+--------------------+------------+-------------+------------------+----------------+-----------+-------------------------+--------------+----------------+--------------+---------------+--------------------+--------------+---------+-----------+------------------------+-------------+----------------+---------+------------------+-----------+--------------------+----+--------+-------+---------+---------+------+------------------+-------------------+--------------------------+-----------------------+-----------------+---------------+-----------+-----------------+------------------+------------------+---------------------+---------------------+----------------+------------------+----------------+----------------+-------------+-------------+--------------+----------------+--------------------+-----------------------+---------------------+----------------+-------------------+-------------------+---------------------------+-------------------------+------------------------+------------------+--------------------+-------------------+-----------------------+--------------------+-----------------+----+----+----+---+---+---+---+---+----+----+----+----+----+----+----+----+----+----+----+----+----+----+----+----+----+----+----+--------------------+--------------------+--------------------+---------------+--------------------+----+------------+\n",
      "|101688|   205970|https://sofifa.co...|   J. Wallace|         Jed Wallace|         RM, CAM|     66|       75| 950000.0|  9000.0| 22|1994-03-26|      178|       70|       110.0|Wolverhampton Wan...|English League Ch...|         2.0|           RW|              12.0|            null| 2015-05-21|                   2018.0|            14|         England|          null|           null|                null|         Right|        4|          3|                       1|Medium/Medium|  Lean (170-185)|       No|              null|       null|Early Crosser, Te...|77.0|    59.0|   61.0|     67.0|     42.0|  65.0|                62|                 59|                        46|                     63|               53|             67|         54|               59|                60|                66|                   74|                   80|              73|                59|              70|              60|           60|           78|            64|              59|                  51|                     35|                   61|              59|                 51|                 62|                         39|                       47|                      43|                12|                  14|                 14|                     11|                   6|             null|61+1|61+1|61+1| 65| 63| 63| 63| 65|64+1|64+1|64+1|65+1|61+1|61+1|61+1|65+1|57+1|54+1|54+1|54+1|57+1|55+1|49+1|49+1|49+1|55+1|16+1|https://cdn.sofif...|https://cdn.sofif...|https://cdn.sofif...|           null|https://cdn.sofif...|  17|180388629757|\n",
      "|101689|   206054|https://sofifa.co...|    S. Gündüz|        Selim Gündüz|      RM, LM, RW|     66|       71| 825000.0|  5000.0| 22|1994-05-16|      171|       78|       160.0|     VfL Bochum 1848|German 2. Bundesliga|         2.0|          SUB|               7.0|            null| 2011-08-31|                   2018.0|            21|         Germany|          null|           null|                null|         Right|        3|          3|                       1|  High/Medium|Stocky (170-185)|       No|              null|       null|Injury Prone, Spe...|76.0|    57.0|   59.0|     70.0|     43.0|  66.0|                63|                 50|                        53|                     64|               40|             69|         50|               34|                58|                67|                   74|                   77|              82|                64|              87|              66|           76|           64|            64|              64|                  70|                     33|                   66|              54|                 57|                 54|                         43|                       45|                      42|                12|                  16|                 14|                     14|                  13|             null|62+1|62+1|62+1| 65| 64| 64| 64| 65|64+1|64+1|64+1|65+1|60+1|60+1|60+1|65+1|56+1|54+1|54+1|54+1|56+1|55+1|52+1|52+1|52+1|55+1|19+1|https://cdn.sofif...|https://cdn.sofif...|https://cdn.sofif...|           null|https://cdn.sofif...|  17|180388629758|\n",
      "|101690|   206085|https://sofifa.co...|    J. Murphy|        Jacob Murphy|     LM, RM, CAM|     66|       77|1100000.0| 10000.0| 21|1995-02-24|      173|       67|      1792.0|        Norwich City|English League Ch...|         2.0|          SUB|              22.0|            null| 2013-01-04|                   2017.0|            14|         England|          null|           null|                null|         Right|        3|          3|                       1|   Medium/Low|  Lean (170-185)|       No|              null|       null|Selfish, Long Sho...|84.0|    61.0|   59.0|     68.0|     27.0|  55.0|                63|                 63|                        31|                     59|               40|             68|         69|               66|                51|                64|                   85|                   83|              81|                58|              74|              61|           51|           67|            58|              63|                  31|                     16|                   61|              57|                 53|                 60|                         27|                       32|                      34|                13|                  16|                 13|                     10|                   6|             null|60+1|60+1|60+1| 66| 64| 64| 64| 66|63+1|63+1|63+1|65+1|56+1|56+1|56+1|65+1|51+1|44+1|44+1|44+1|51+1|48+1|37+1|37+1|37+1|48+1|16+1|https://cdn.sofif...|https://cdn.sofif...|https://cdn.sofif...|           null|https://cdn.sofif...|  17|180388629759|\n",
      "|101691|   206094|https://sofifa.co...|   M. Vermijl|Marnick Danny Ver...|         RB, RWB|     66|       71| 700000.0|  4000.0| 24|1992-01-13|      180|       76|      1801.0|   Preston North End|English League Ch...|         2.0|          RWB|               2.0|            null| 2016-08-31|                   2019.0|             7|         Belgium|          null|           null|                null|         Right|        2|          2|                       1|Medium/Medium|Normal (170-185)|       No|              null|       null|       Long Throw-in|83.0|    42.0|   53.0|     65.0|     61.0|  70.0|                65|                 40|                        58|                     56|               28|             66|         40|               35|                41|                64|                   83|                   83|              60|                69|              64|              45|           62|           69|            68|              38|                  79|                     62|                   63|              54|                 50|                 48|                         61|                       63|                      60|                13|                  11|                 10|                     12|                   7|             null|58+1|58+1|58+1| 62| 60| 60| 60| 62|59+1|59+1|59+1|63+1|57+1|57+1|57+1|63+1|65+1|61+1|61+1|61+1|65+1|65+1|64+1|64+1|64+1|65+1|17+1|https://cdn.sofif...|https://cdn.sofif...|https://cdn.sofif...|           null|https://cdn.sofif...|  17|180388629760|\n",
      "|101692|   206115|https://sofifa.co...|    I. Hayden|        Isaac Hayden|             CDM|     66|       74| 800000.0|  9000.0| 21|1995-03-22|      187|       79|        13.0|    Newcastle United|English League Ch...|         2.0|          RDM|              14.0|            null| 2016-07-11|                   2021.0|            14|         England|          null|           null|                null|         Right|        3|          2|                       1|Medium/Medium|     Lean (185+)|      Yes|              null|       null|                null|66.0|    46.0|   57.0|     63.0|     63.0|  74.0|                43|                 47|                        49|                     66|               30|             62|         45|               38|                59|                65|                   63|                   68|              60|                60|              61|              52|           70|           73|            78|              40|                  67|                     67|                   51|              59|                 49|                 55|                         61|                       66|                      63|                 9|                  15|                  8|                      8|                  12|             null|56+1|56+1|56+1| 58| 58| 58| 58| 58|59+1|59+1|59+1|60+1|61+1|61+1|61+1|60+1|63+1|65+1|65+1|65+1|63+1|63+1|65+1|65+1|65+1|63+1|16+1|https://cdn.sofif...|https://cdn.sofif...|https://cdn.sofif...|           null|https://cdn.sofif...|  17|180388629761|\n",
      "|101693|   206156|https://sofifa.co...|    M. Romizi|Marco Augusto Romizi|              CM|     66|       68| 725000.0|  2000.0| 26|1990-02-13|      175|       65|      1848.0|                Bari|     Italian Serie B|         2.0|          SUB|               4.0|            null| 2012-01-01|                   2018.0|            27|           Italy|          null|           null|                null|         Right|        3|          3|                       1|Medium/Medium|  Lean (170-185)|       No|              null|       null|                null|74.0|    58.0|   60.0|     64.0|     58.0|  73.0|                51|                 50|                        52|                     68|               62|             58|         48|               45|                67|                66|                   76|                   73|              80|                67|              81|              67|           80|           78|            71|              67|                  71|                     66|                   61|              58|                 54|                 69|                         51|                       61|                      59|                11|                  12|                  5|                      7|                  14|             null|62+1|62+1|62+1| 63| 63| 63| 63| 63|64+1|64+1|64+1|63+1|65+1|65+1|65+1|63+1|64+1|65+1|65+1|65+1|64+1|64+1|63+1|63+1|63+1|64+1|17+1|https://cdn.sofif...|https://cdn.sofif...|https://cdn.sofif...|           null|https://cdn.sofif...|  17|180388629762|\n",
      "|101694|   206298|https://sofifa.co...|     V. Adžić|        Vladan Adžić|              CB|     66|       66| 500000.0|  2000.0| 28|1987-07-05|      193|       85|    112558.0|            Suwon FC|   Korean K League 1|         1.0|          RCB|               5.0|            null| 2014-07-31|                   2022.0|            15|      Montenegro|          null|           null|                null|         Right|        3|          2|                       1|  Medium/High|   Normal (185+)|       No|              null|       null|   Backs Into Player|60.0|    31.0|   44.0|     36.0|     68.0|  68.0|                38|                 27|                        62|                     55|               34|             29|         35|               33|                50|                36|                   63|                   57|              49|                59|              53|              40|           60|           66|            68|              29|                  74|                     64|                   31|              30|                 44|                 56|                         70|                       71|                      69|                 7|                  14|                  7|                     13|                  10|             null|43+1|43+1|43+1| 40| 40| 40| 40| 40|40+1|40+1|40+1|43+1|46+1|46+1|46+1|43+1|57+1|59+1|59+1|59+1|57+1|60+1|65+1|65+1|65+1|60+1|16+1|https://cdn.sofif...|https://cdn.sofif...|https://cdn.sofif...|           null|https://cdn.sofif...|  17|180388629763|\n",
      "| 72692|   220554|https://sofifa.co...|  A. Timofeev|     Andrey Timofeev|              GK|     57|       67| 130000.0|  3000.0| 21|1996-02-08|      190|       83|    111264.0|FC Ural Yekaterin...|Russian Premier L...|         1.0|          RES|              96.0|            null| 2013-07-01|                   2022.0|            40|          Russia|          null|           null|                null|         Right|        2|          1|                       1|Medium/Medium|   Normal (185+)|       No|          228000.0|       null|                null|null|    null|   null|     null|     null|  null|                20|                 13|                        17|                     22|               17|             13|         18|               20|                19|                18|                   24|                   33|              29|                52|              21|              21|           30|           25|            35|              20|                  18|                     16|                   15|              24|                 22|                 29|                         16|                       13|                      15|                56|                  54|                 53|                     54|                  62|             29.0|21+1|21+1|21+1| 21| 22| 22| 22| 21|22+1|22+1|22+1|22+1|22+1|22+1|22+1|22+1|22+1|21+1|21+1|21+1|22+1|22+1|20+1|20+1|20+1|22+1|56+1|https://cdn.sofif...|https://cdn.sofif...|https://cdn.sofif...|           null|https://cdn.sofif...|  18|120259088975|\n",
      "|116736|   203885|https://sofifa.co...|  C. Alhadhur|     Chaker Alhadhur|          LB, RB|     67|       70| 775000.0|  9000.0| 23|1991-12-04|      171|       65|       210.0| Stade Malherbe Caen|      French Ligue 1|         1.0|          SUB|              21.0|            null| 2015-06-15|                   2019.0|           214|         Comoros|          null|           null|                null|         Right|        3|          2|                       1|  Medium/High|  Lean (170-185)|       No|              null|       null|        Injury Prone|68.0|    36.0|   58.0|     63.0|     69.0|  38.0|                67|                 19|                        53|                     66|               38|             57|         52|               31|                55|                63|                   69|                   67|              77|                66|              83|              58|           61|           61|            28|              49|                  30|                     67|                   37|              43|                 38|               null|                         69|                       74|                      73|                11|                  15|                  9|                     14|                   9|             null|  48|  48|  48| 55| 52| 52| 52| 55|  54|  54|  54|  57|  57|  57|  57|  57|  67|  62|  62|  62|  67|  67|  61|  61|  61|  67|  18|https://cdn.sofif...|https://cdn.sofif...|https://cdn.sofif...|           null|https://cdn.sofif...|  16|214748365172|\n",
      "| 72693|   220635|https://sofifa.co...|    T. Conlon|Tom George Sawyer...|          LM, CM|     57|       67| 170000.0|  2000.0| 21|1996-02-03|      173|       62|       361.0|           Stevenage|  English League Two|         4.0|          SUB|              18.0|            null| 2015-01-06|                   2022.0|            14|         England|          null|           null|                null|          Left|        4|          2|                       1|Medium/Medium|Normal (170-185)|       No|          332000.0|       null|                null|65.0|    49.0|   57.0|     60.0|     50.0|  51.0|                47|                 44|                        41|                     60|               37|             55|         62|               64|                58|                58|                   64|                   65|              88|                54|              75|              54|           75|           58|            46|              57|                  47|                     56|                   51|              60|                 43|                 52|                         45|                       54|                      49|                14|                  14|                 10|                      8|                   8|             null|52+1|52+1|52+1| 56| 55| 55| 55| 56|58+1|58+1|58+1|56+1|57+1|57+1|57+1|56+1|55+1|55+1|55+1|55+1|55+1|54+1|51+1|51+1|51+1|54+1|16+1|https://cdn.sofif...|https://cdn.sofif...|https://cdn.sofif...|           null|https://cdn.sofif...|  18|120259088976|\n",
      "| 72694|   220779|https://sofifa.co...|  M. Ridenton|    Matthew Ridenton|          CM, RB|     57|       63| 140000.0|  1000.0| 21|1996-03-11|      180|       72|    111766.0|  Wellington Phoenix|Australian Hyunda...|         1.0|          SUB|              23.0|            null| 2013-10-17|                   2018.0|           198|     New Zealand|          null|           null|                null|         Right|        2|          2|                       1|Medium/Medium|Normal (170-185)|       No|          203000.0|       null|                null|70.0|    52.0|   55.0|     57.0|     53.0|  61.0|                48|                 50|                        54|                     59|               38|             55|         55|               37|                54|                56|                   73|                   67|              72|                54|              48|              56|           60|           62|            62|              56|                  56|                     54|                   56|              59|                 44|                 49|                         52|                       54|                      51|                15|                  14|                  8|                     12|                  14|             null|56+1|56+1|56+1| 57| 57| 57| 57| 57|58+1|58+1|58+1|57+1|56+1|56+1|56+1|57+1|56+1|56+1|56+1|56+1|56+1|56+1|55+1|55+1|55+1|56+1|18+1|https://cdn.sofif...|https://cdn.sofif...|https://cdn.sofif...|           null|https://cdn.sofif...|  18|120259088977|\n",
      "| 72695|   220807|https://sofifa.co...|   M. O'Leary|         Max O’Leary|              GK|     57|       68| 140000.0|  4000.0| 20|1996-10-10|      185|       78|      1919.0|        Bristol City|English League Ch...|         2.0|          RES|              24.0|            null| 2013-07-01|                   2019.0|            14|         England|          null|           null|                null|         Right|        3|          1|                       1|Medium/Medium|   Normal (185+)|       No|          294000.0|       null|                null|null|    null|   null|     null|     null|  null|                16|                 10|                        11|                     25|               14|             13|         11|               12|                17|                19|                   38|                   48|              30|                45|              48|              25|           58|           43|            52|              14|                  26|                     19|                   12|              45|                 29|                 41|                         18|                       17|                      16|                60|                  58|                 54|                     58|                  56|             44.0|22+1|22+1|22+1| 23| 24| 24| 24| 23|25+1|25+1|25+1|25+1|25+1|25+1|25+1|25+1|25+1|25+1|25+1|25+1|25+1|25+1|25+1|25+1|25+1|25+1|56+1|https://cdn.sofif...|https://cdn.sofif...|https://cdn.sofif...|           null|https://cdn.sofif...|  18|120259088978|\n",
      "| 72696|   220843|https://sofifa.co...| A. Peñaranda| Alejandro Peñaranda|              ST|     57|       63| 140000.0|   500.0| 23|1993-11-04|      178|       70|    112934.0|            Cortuluá|Colombian Liga Po...|         1.0|          RES|              14.0| América de Cali|       null|                   2017.0|            56|        Colombia|          null|           null|                null|         Right|        3|          2|                       1|Medium/Medium|Stocky (170-185)|       No|              null|       null|                null|71.0|    52.0|   38.0|     54.0|     21.0|  58.0|                28|                 49|                        55|                     46|               52|             52|         32|               26|                29|                54|                   72|                   71|              56|                55|              67|              54|           60|           58|            71|              52|                  27|                     11|                   61|              47|                 64|                 43|                         20|                       20|                      16|                 9|                  10|                 10|                     11|                   8|             null|56+1|56+1|56+1| 53| 55| 55| 55| 53|52+1|52+1|52+1|51+1|45+1|45+1|45+1|51+1|38+1|35+1|35+1|35+1|38+1|37+1|34+1|34+1|34+1|37+1|15+1|https://cdn.sofif...|https://cdn.sofif...|https://cdn.sofif...|           null|https://cdn.sofif...|  18|120259088979|\n",
      "| 72697|   220981|https://sofifa.co...|      J. Vall| Johannes Björn Vall|              LB|     57|       62| 120000.0|  1000.0| 24|1992-10-19|      183|       82|       702.0|      IFK Norrköping| Swedish Allsvenskan|         1.0|          SUB|               9.0|            null| 2017-08-15|                   2019.0|            46|          Sweden|          null|           null|                null|          Left|        2|          2|                       1|  High/Medium|Normal (170-185)|       No|          159000.0|       null|                null|83.0|    51.0|   54.0|     49.0|     51.0|  70.0|                62|                 46|                        50|                     49|               49|             57|         61|               63|                55|                25|                   79|                   86|              67|                56|              67|              61|           70|           70|            74|              55|                  61|                     48|                   54|              50|                 47|                 46|                         49|                       53|                      58|                11|                   8|                 10|                      9|                  10|             null|54+1|54+1|54+1| 54| 52| 52| 52| 54|51+1|51+1|51+1|55+1|50+1|50+1|50+1|55+1|56+1|51+1|51+1|51+1|56+1|56+1|55+1|55+1|55+1|56+1|15+1|https://cdn.sofif...|https://cdn.sofif...|https://cdn.sofif...|           null|https://cdn.sofif...|  18|120259088980|\n",
      "| 72698|   221531|https://sofifa.co...|    M. Maroši|        Marko Maroši|              GK|     57|       62| 100000.0|  1000.0| 23|1993-10-23|      190|       80|       142.0|    Doncaster Rovers|  English League One|         3.0|          SUB|              13.0|            null| 2014-08-07|                   2019.0|            43|        Slovakia|          null|           null|                null|         Right|        3|          1|                       1|Medium/Medium|   Normal (185+)|       No|          183000.0|       null|                null|null|    null|   null|     null|     null|  null|                16|                 16|                        14|                     24|               16|             13|         21|               14|                23|                19|                   40|                   42|              34|                56|              48|              23|           54|           27|            67|              15|                  17|                     21|                   17|              20|                 28|                 31|                         20|                       16|                      12|                61|                  49|                 54|                     55|                  59|             41.0|25+1|25+1|25+1| 24| 24| 24| 24| 24|23+1|23+1|23+1|24+1|23+1|23+1|23+1|24+1|24+1|25+1|25+1|25+1|24+1|24+1|26+1|26+1|26+1|24+1|56+1|https://cdn.sofif...|https://cdn.sofif...|https://cdn.sofif...|           null|https://cdn.sofif...|  18|120259088981|\n",
      "| 72699|   221920|https://sofifa.co...|A. Andreasson|    Anton Andreasson|              CM|     57|       63| 140000.0|  1000.0| 23|1993-07-26|      175|       70|    112130.0| Jönköpings Södra IF| Swedish Allsvenskan|         1.0|          RES|              21.0|            null| 2017-08-15|                   2017.0|            46|          Sweden|          null|           null|                null|          Left|        2|          2|                       1|Medium/Medium|  Lean (170-185)|       No|          203000.0|       null|                null|70.0|    45.0|   58.0|     56.0|     47.0|  56.0|                54|                 35|                        36|                     62|               41|             54|         41|               54|                60|                56|                   69|                   70|              58|                65|              68|              64|           67|           45|            57|              44|                  64|                     51|                   56|              57|                 51|                 56|                         47|                       47|                      49|                 7|                  15|                 10|                      9|                  11|             null|53+1|53+1|53+1| 56| 56| 56| 56| 56|57+1|57+1|57+1|57+1|56+1|56+1|56+1|57+1|55+1|55+1|55+1|55+1|55+1|54+1|52+1|52+1|52+1|54+1|16+1|https://cdn.sofif...|https://cdn.sofif...|https://cdn.sofif...|           null|https://cdn.sofif...|  18|120259088982|\n",
      "| 72700|   222095|https://sofifa.co...|    C. Burton|Callum Alex David...|              GK|     57|       69| 150000.0|  1000.0| 20|1996-08-15|      188|       80|      1952.0|           Hull City|English League Ch...|         2.0|          RES|              36.0|            null| 2017-07-26|                   2018.0|            14|         England|          null|           null|                null|         Right|        3|          1|                       1|Medium/Medium|     Lean (185+)|       No|          315000.0|       null|Puncher, Comes Fo...|null|    null|   null|     null|     null|  null|                12|                 19|                        17|                     21|               16|             12|         11|               16|                25|                25|                   35|                   49|              40|                49|              58|              24|           59|           29|            48|              13|                  19|                     24|                   14|              37|                 22|                 27|                         20|                       12|                      13|                58|                  56|                 54|                     55|                  60|             43.0|25+1|25+1|25+1| 24| 25| 25| 25| 24|26+1|26+1|26+1|25+1|25+1|25+1|25+1|25+1|24+1|25+1|25+1|25+1|24+1|24+1|24+1|24+1|24+1|24+1|56+1|https://cdn.sofif...|https://cdn.sofif...|https://cdn.sofif...|           null|https://cdn.sofif...|  18|120259088983|\n",
      "| 72701|   222146|https://sofifa.co...|   J. Balanta|Juan Andrés Balan...|              ST|     57|       67| 170000.0|   500.0| 20|1997-03-03|      172|       63|    101102.0|      Deportivo Cali|Colombian Liga Po...|         1.0|          RES|              22.0|            null| 2014-01-01|                   2022.0|            56|        Colombia|          null|           null|                null|         Right|        2|          2|                       1|Medium/Medium|  Lean (170-185)|       No|          272000.0|       null|                null|79.0|    57.0|   38.0|     58.0|     19.0|  57.0|                32|                 59|                        50|                     40|               49|             56|         36|               33|                28|                50|                   86|                   73|              82|                53|              83|              55|           83|           83|            51|              53|                  34|                     13|                   57|              49|                 62|                 43|                         17|                       17|                      13|                13|                  10|                 14|                      7|                   7|             null|56+1|56+1|56+1| 55| 55| 55| 55| 55|53+1|53+1|53+1|54+1|45+1|45+1|45+1|54+1|40+1|34+1|34+1|34+1|40+1|38+1|31+1|31+1|31+1|38+1|14+1|https://cdn.sofif...|https://cdn.sofif...|https://cdn.sofif...|           null|https://cdn.sofif...|  18|120259088984|\n",
      "| 72702|   222997|https://sofifa.co...|     M. Maier|        Marcus Maier|              CM|     57|       68| 170000.0|  2000.0| 21|1995-12-18|      176|       63|    111821.0|FC Flyeralarm Admira|Austrian Football...|         1.0|          SUB|              22.0|            null| 2014-07-01|                   2019.0|             4|         Austria|          null|           null|                null|         Right|        4|          3|                       1|Medium/Medium|  Lean (170-185)|       No|          297000.0|       null|                null|67.0|    45.0|   54.0|     59.0|     38.0|  56.0|                46|                 47|                        38|                     63|               28|             57|         38|               29|                57|                62|                   66|                   67|              57|                57|              76|              42|           63|           65|            48|              52|                  65|                     54|                   41|              52|                 35|                 63|                         33|                       33|                      34|                16|                   7|                 15|                     11|                   8|             null|50+1|50+1|50+1| 56| 54| 54| 54| 56|56+1|56+1|56+1|57+1|56+1|56+1|56+1|57+1|52+1|52+1|52+1|52+1|52+1|50+1|46+1|46+1|46+1|50+1|16+1|https://cdn.sofif...|https://cdn.sofif...|https://cdn.sofif...|           null|https://cdn.sofif...|  18|120259088985|\n",
      "| 72703|   223011|https://sofifa.co...| F. Sollacaro|François-Joseph S...|              GK|     57|       64| 110000.0|  1000.0| 23|1994-03-21|      181|       75|       614.0|          AC Ajaccio|      French Ligue 2|         2.0|          SUB|              30.0|            null| 2014-05-09|                   2018.0|            18|          France|          null|           null|                null|         Right|        2|          1|                       1|Medium/Medium|  Lean (170-185)|       No|          215000.0|       null|                null|null|    null|   null|     null|     null|  null|                13|                  6|                        19|                     21|               15|              7|         19|               16|                25|                19|                   42|                   46|              37|                55|              59|              21|           64|           28|            47|              15|                  11|                     13|                    5|              15|                 14|                 13|                          8|                        8|                       9|                62|                  49|                 55|                     50|                  64|             44.0|21+1|21+1|21+1| 20| 20| 20| 20| 20|20+1|20+1|20+1|21+1|20+1|20+1|20+1|21+1|21+1|20+1|20+1|20+1|21+1|21+1|20+1|20+1|20+1|21+1|56+1|https://cdn.sofif...|https://cdn.sofif...|https://cdn.sofif...|           null|https://cdn.sofif...|  18|120259088986|\n",
      "+------+---------+--------------------+-------------+--------------------+----------------+-------+---------+---------+--------+---+----------+---------+---------+------------+--------------------+--------------------+------------+-------------+------------------+----------------+-----------+-------------------------+--------------+----------------+--------------+---------------+--------------------+--------------+---------+-----------+------------------------+-------------+----------------+---------+------------------+-----------+--------------------+----+--------+-------+---------+---------+------+------------------+-------------------+--------------------------+-----------------------+-----------------+---------------+-----------+-----------------+------------------+------------------+---------------------+---------------------+----------------+------------------+----------------+----------------+-------------+-------------+--------------+----------------+--------------------+-----------------------+---------------------+----------------+-------------------+-------------------+---------------------------+-------------------------+------------------------+------------------+--------------------+-------------------+-----------------------+--------------------+-----------------+----+----+----+---+---+---+---+---+----+----+----+----+----+----+----+----+----+----+----+----+----+----+----+----+----+----+----+--------------------+--------------------+--------------------+---------------+--------------------+----+------------+\n",
      "only showing top 20 rows\n",
      "\n"
     ]
    }
   ],
   "source": [
    "df_read = sqlContext.read.format(\"jdbc\")\\\n",
    "    .option(\"url\", db_properties['url'])\\\n",
    "    .option(\"dbtable\", db_properties['table'])\\\n",
    "    .option(\"user\", db_properties['username'])\\\n",
    "    .option(\"password\", db_properties['password'])\\\n",
    "    .option(\"Driver\", db_properties['driver'])\\\n",
    "    .load()\n",
    "    \n",
    "df_read.show()"
   ]
  },
  {
   "cell_type": "code",
   "execution_count": 42,
   "metadata": {},
   "outputs": [
    {
     "name": "stdout",
     "output_type": "stream",
     "text": [
      "root\n",
      " |-- _c0: integer (nullable = true)\n",
      " |-- sofifa_id: integer (nullable = true)\n",
      " |-- player_url: string (nullable = true)\n",
      " |-- short_name: string (nullable = true)\n",
      " |-- long_name: string (nullable = true)\n",
      " |-- player_positions: string (nullable = true)\n",
      " |-- overall: integer (nullable = true)\n",
      " |-- potential: integer (nullable = true)\n",
      " |-- value_eur: double (nullable = true)\n",
      " |-- wage_eur: double (nullable = true)\n",
      " |-- age: integer (nullable = true)\n",
      " |-- dob: date (nullable = true)\n",
      " |-- height_cm: integer (nullable = true)\n",
      " |-- weight_kg: integer (nullable = true)\n",
      " |-- club_team_id: double (nullable = true)\n",
      " |-- club_name: string (nullable = true)\n",
      " |-- league_name: string (nullable = true)\n",
      " |-- league_level: double (nullable = true)\n",
      " |-- club_position: string (nullable = true)\n",
      " |-- club_jersey_number: double (nullable = true)\n",
      " |-- club_loaned_from: string (nullable = true)\n",
      " |-- club_joined: date (nullable = true)\n",
      " |-- club_contract_valid_until: double (nullable = true)\n",
      " |-- nationality_id: integer (nullable = true)\n",
      " |-- nationality_name: string (nullable = true)\n",
      " |-- nation_team_id: double (nullable = true)\n",
      " |-- nation_position: string (nullable = true)\n",
      " |-- nation_jersey_number: double (nullable = true)\n",
      " |-- preferred_foot: string (nullable = true)\n",
      " |-- weak_foot: integer (nullable = true)\n",
      " |-- skill_moves: integer (nullable = true)\n",
      " |-- international_reputation: integer (nullable = true)\n",
      " |-- work_rate: string (nullable = true)\n",
      " |-- body_type: string (nullable = true)\n",
      " |-- real_face: string (nullable = true)\n",
      " |-- release_clause_eur: double (nullable = true)\n",
      " |-- player_tags: string (nullable = true)\n",
      " |-- player_traits: string (nullable = true)\n",
      " |-- pace: double (nullable = true)\n",
      " |-- shooting: double (nullable = true)\n",
      " |-- passing: double (nullable = true)\n",
      " |-- dribbling: double (nullable = true)\n",
      " |-- defending: double (nullable = true)\n",
      " |-- physic: double (nullable = true)\n",
      " |-- attacking_crossing: integer (nullable = true)\n",
      " |-- attacking_finishing: integer (nullable = true)\n",
      " |-- attacking_heading_accuracy: integer (nullable = true)\n",
      " |-- attacking_short_passing: integer (nullable = true)\n",
      " |-- attacking_volleys: integer (nullable = true)\n",
      " |-- skill_dribbling: integer (nullable = true)\n",
      " |-- skill_curve: integer (nullable = true)\n",
      " |-- skill_fk_accuracy: integer (nullable = true)\n",
      " |-- skill_long_passing: integer (nullable = true)\n",
      " |-- skill_ball_control: integer (nullable = true)\n",
      " |-- movement_acceleration: integer (nullable = true)\n",
      " |-- movement_sprint_speed: integer (nullable = true)\n",
      " |-- movement_agility: integer (nullable = true)\n",
      " |-- movement_reactions: integer (nullable = true)\n",
      " |-- movement_balance: integer (nullable = true)\n",
      " |-- power_shot_power: integer (nullable = true)\n",
      " |-- power_jumping: integer (nullable = true)\n",
      " |-- power_stamina: integer (nullable = true)\n",
      " |-- power_strength: integer (nullable = true)\n",
      " |-- power_long_shots: integer (nullable = true)\n",
      " |-- mentality_aggression: integer (nullable = true)\n",
      " |-- mentality_interceptions: integer (nullable = true)\n",
      " |-- mentality_positioning: integer (nullable = true)\n",
      " |-- mentality_vision: integer (nullable = true)\n",
      " |-- mentality_penalties: integer (nullable = true)\n",
      " |-- mentality_composure: integer (nullable = true)\n",
      " |-- defending_marking_awareness: integer (nullable = true)\n",
      " |-- defending_standing_tackle: integer (nullable = true)\n",
      " |-- defending_sliding_tackle: integer (nullable = true)\n",
      " |-- goalkeeping_diving: integer (nullable = true)\n",
      " |-- goalkeeping_handling: integer (nullable = true)\n",
      " |-- goalkeeping_kicking: integer (nullable = true)\n",
      " |-- goalkeeping_positioning: integer (nullable = true)\n",
      " |-- goalkeeping_reflexes: integer (nullable = true)\n",
      " |-- goalkeeping_speed: double (nullable = true)\n",
      " |-- ls: string (nullable = true)\n",
      " |-- st: string (nullable = true)\n",
      " |-- rs: string (nullable = true)\n",
      " |-- lw: string (nullable = true)\n",
      " |-- lf: string (nullable = true)\n",
      " |-- cf: string (nullable = true)\n",
      " |-- rf: string (nullable = true)\n",
      " |-- rw: string (nullable = true)\n",
      " |-- lam: string (nullable = true)\n",
      " |-- cam: string (nullable = true)\n",
      " |-- ram: string (nullable = true)\n",
      " |-- lm: string (nullable = true)\n",
      " |-- lcm: string (nullable = true)\n",
      " |-- cm: string (nullable = true)\n",
      " |-- rcm: string (nullable = true)\n",
      " |-- rm: string (nullable = true)\n",
      " |-- lwb: string (nullable = true)\n",
      " |-- ldm: string (nullable = true)\n",
      " |-- cdm: string (nullable = true)\n",
      " |-- rdm: string (nullable = true)\n",
      " |-- rwb: string (nullable = true)\n",
      " |-- lb: string (nullable = true)\n",
      " |-- lcb: string (nullable = true)\n",
      " |-- cb: string (nullable = true)\n",
      " |-- rcb: string (nullable = true)\n",
      " |-- rb: string (nullable = true)\n",
      " |-- gk: string (nullable = true)\n",
      " |-- player_face_url: string (nullable = true)\n",
      " |-- club_logo_url: string (nullable = true)\n",
      " |-- club_flag_url: string (nullable = true)\n",
      " |-- nation_logo_url: string (nullable = true)\n",
      " |-- nation_flag_url: string (nullable = true)\n",
      " |-- year: integer (nullable = true)\n",
      " |-- id: long (nullable = true)\n",
      "\n"
     ]
    }
   ],
   "source": [
    "df_read.printSchema()"
   ]
  },
  {
   "cell_type": "markdown",
   "metadata": {},
   "source": [
    "## Task II "
   ]
  },
  {
   "cell_type": "markdown",
   "metadata": {},
   "source": [
    "### Question 1\n"
   ]
  },
  {
   "cell_type": "code",
   "execution_count": 50,
   "metadata": {},
   "outputs": [],
   "source": [
    "df_read.createOrReplaceTempView(\"df_view\")"
   ]
  },
  {
   "cell_type": "code",
   "execution_count": 53,
   "metadata": {},
   "outputs": [],
   "source": [
    "sqlWay1 = spark.sql(\"\"\"\n",
    "SELECT dv.club_name, COUNT(*) AS player_count\n",
    "FROM   df_view dv\n",
    "WHERE  dv.year = 22 AND dv.club_contract_valid_until = 2023\n",
    "GROUP BY dv.club_name\n",
    "ORDER BY player_count DESC\n",
    "LIMIT 10;\n",
    "                    \"\"\")"
   ]
  },
  {
   "cell_type": "code",
   "execution_count": 54,
   "metadata": {},
   "outputs": [
    {
     "name": "stdout",
     "output_type": "stream",
     "text": [
      "+--------------------+------------+\n",
      "|           club_name|player_count|\n",
      "+--------------------+------------+\n",
      "|En Avant de Guingamp|          19|\n",
      "| Club Atlético Lanús|          17|\n",
      "|       Lechia Gdańsk|          17|\n",
      "|            Barnsley|          16|\n",
      "|        Kasimpaşa SK|          16|\n",
      "|        Bengaluru FC|          16|\n",
      "|        FC Barcelona|          15|\n",
      "|  SV Wehen Wiesbaden|          15|\n",
      "|          CA Osasuna|          15|\n",
      "|      Zagłębie Lubin|          15|\n",
      "+--------------------+------------+\n",
      "\n"
     ]
    }
   ],
   "source": [
    "sqlWay1.show()"
   ]
  },
  {
   "cell_type": "markdown",
   "metadata": {},
   "source": [
    "### Question 2 \n"
   ]
  },
  {
   "cell_type": "code",
   "execution_count": 55,
   "metadata": {},
   "outputs": [],
   "source": [
    "sqlWay2 = spark.sql(\"\"\"\n",
    "WITH club_counts AS (\n",
    "    SELECT dv.club_name, dv.year, COUNT(*) AS player_count\n",
    "    FROM df_view dv\n",
    "    WHERE dv.age > 27\n",
    "    GROUP BY dv.club_name, dv.year\n",
    "),\n",
    "club_averages AS (\n",
    "    SELECT cc.club_name, AVG(cc.player_count) AS average_count\n",
    "    FROM club_counts cc\n",
    "    GROUP BY cc.club_name\n",
    ")\n",
    "SELECT ca.club_name, ca.average_count\n",
    "FROM club_averages ca\n",
    "WHERE (\n",
    "    SELECT COUNT(*) FROM club_averages ca2 WHERE ca2.average_count > ca.average_count\n",
    ") < 10\n",
    "ORDER BY ca.average_count DESC;\n",
    "\"\"\")"
   ]
  },
  {
   "cell_type": "code",
   "execution_count": 56,
   "metadata": {},
   "outputs": [
    {
     "name": "stdout",
     "output_type": "stream",
     "text": [
      "+--------------------+-------------+\n",
      "|           club_name|average_count|\n",
      "+--------------------+-------------+\n",
      "|                null|       109.25|\n",
      "|  Dorados de Sinaloa|         19.0|\n",
      "| Matsumoto Yamaga FC|         19.0|\n",
      "| Shanghai Shenhua FC|         18.5|\n",
      "|          Qingdao FC|         18.0|\n",
      "|Club Deportivo Jo...|         17.5|\n",
      "|            Altay SK|         17.0|\n",
      "|         Guaireña FC|         17.0|\n",
      "|İstanbul Başakşeh...|       16.625|\n",
      "|      BB Erzurumspor|         16.5|\n",
      "|        Club Olimpia|         16.5|\n",
      "|      Sport Huancayo|         16.5|\n",
      "+--------------------+-------------+\n",
      "\n"
     ]
    }
   ],
   "source": [
    "sqlWay2.show()"
   ]
  },
  {
   "cell_type": "markdown",
   "metadata": {},
   "source": [
    "### Question 3"
   ]
  },
  {
   "cell_type": "code",
   "execution_count": 57,
   "metadata": {},
   "outputs": [],
   "source": [
    "sqlWay3 = spark.sql(\"\"\"\n",
    "WITH yearly_counts AS (\n",
    "    SELECT dv.year, dv.nation_position, COUNT(*) AS position_count\n",
    "    FROM df_view dv\n",
    "    WHERE dv.nation_position IS NOT NULL\n",
    "    GROUP BY dv.year, dv.nation_position\n",
    "),\n",
    "max_counts AS (\n",
    "    SELECT yc.year, MAX(yc.position_count) AS max_count\n",
    "    FROM yearly_counts yc\n",
    "    GROUP BY yc.year\n",
    ")\n",
    "SELECT mc.year, yc.nation_position, mc.max_count\n",
    "FROM max_counts mc\n",
    "JOIN yearly_counts yc ON mc.year = yc.year AND mc.max_count = yc.position_count\n",
    "ORDER BY mc.year;\n",
    "\n",
    "\n",
    "\"\"\")"
   ]
  },
  {
   "cell_type": "code",
   "execution_count": 58,
   "metadata": {},
   "outputs": [
    {
     "name": "stdout",
     "output_type": "stream",
     "text": [
      "+----+---------------+---------+\n",
      "|year|nation_position|max_count|\n",
      "+----+---------------+---------+\n",
      "|  15|            SUB|      564|\n",
      "|  16|            SUB|      511|\n",
      "|  17|            SUB|      564|\n",
      "|  18|            SUB|      600|\n",
      "|  19|            SUB|      576|\n",
      "|  20|            SUB|      588|\n",
      "|  21|            SUB|      588|\n",
      "|  22|            SUB|      396|\n",
      "+----+---------------+---------+\n",
      "\n"
     ]
    }
   ],
   "source": [
    "sqlWay3.show()"
   ]
  },
  {
   "cell_type": "markdown",
   "metadata": {},
   "source": [
    "## Task 3 nad 4 are still processing."
   ]
  },
  {
   "cell_type": "markdown",
   "metadata": {},
   "source": [
    "### Task III \n"
   ]
  },
  {
   "cell_type": "markdown",
   "metadata": {},
   "source": [
    "### EDA"
   ]
  },
  {
   "cell_type": "markdown",
   "metadata": {},
   "source": [
    "#### Data Preprocessing"
   ]
  },
  {
   "cell_type": "markdown",
   "metadata": {},
   "source": [
    "##### Drop Useless column"
   ]
  },
  {
   "cell_type": "code",
   "execution_count": null,
   "metadata": {},
   "outputs": [],
   "source": [
    "# Drop useless column\n",
    "useless_columns = ['sofifa_id', 'player_url', 'long_name', 'dob', 'club_loaned_from',\n",
    "                   'nation_position', 'nation_jersey_number', 'body_type', 'real_face',\n",
    "                   'player_face_url', 'club_logo_url', 'nation_logo_url', 'nation_flag_url',\n",
    "                    'goalkeeping_speed', 'player_tags', 'nation_team_id', 'short_name', 'league_name','id', 'club_joined','club_contract_valid_until'] #TODO how to deal with time data"
   ]
  },
  {
   "cell_type": "code",
   "execution_count": null,
   "metadata": {},
   "outputs": [],
   "source": [
    "# if in linux use\n",
    "# df_read = df"
   ]
  },
  {
   "cell_type": "markdown",
   "metadata": {},
   "source": []
  },
  {
   "cell_type": "code",
   "execution_count": null,
   "metadata": {},
   "outputs": [],
   "source": [
    "\n",
    "new_df = df_read.drop(*useless_columns)"
   ]
  },
  {
   "cell_type": "code",
   "execution_count": null,
   "metadata": {},
   "outputs": [],
   "source": [
    "new_df.show(5)"
   ]
  },
  {
   "cell_type": "markdown",
   "metadata": {},
   "source": [
    "##### Delete columns that include url"
   ]
  },
  {
   "cell_type": "code",
   "execution_count": null,
   "metadata": {},
   "outputs": [],
   "source": [
    "from pyspark.sql.functions import col\n",
    "\n",
    "# Get a list of columns that include URLs\n",
    "url_columns = [c for c in new_df.columns if 'url' in c]\n",
    "\n",
    "# Drop the columns that include URLs\n",
    "new_df = new_df.drop(*url_columns)"
   ]
  },
  {
   "cell_type": "markdown",
   "metadata": {},
   "source": [
    "##### Drop Columns that Missing Value are more than 50%"
   ]
  },
  {
   "cell_type": "code",
   "execution_count": null,
   "metadata": {},
   "outputs": [],
   "source": [
    "from pyspark.sql.functions import col\n",
    "\n",
    "cols_to_drop = []\n",
    "for i in new_df.columns:\n",
    "    missing = new_df.filter(col(i).isNull()).count() / new_df.count() * 100\n",
    "    if missing > 50:\n",
    "        print('{} - {}%'.format(i, round(missing)))\n",
    "        cols_to_drop.append(i)"
   ]
  },
  {
   "cell_type": "code",
   "execution_count": null,
   "metadata": {},
   "outputs": [],
   "source": [
    "new_df = new_df.drop(*cols_to_drop)"
   ]
  },
  {
   "cell_type": "code",
   "execution_count": null,
   "metadata": {},
   "outputs": [],
   "source": [
    "\n",
    "from pyspark.sql import DataFrame\n",
    "from pyspark.sql.functions import col, sum as _sum, when\n",
    "\n",
    "na_counts = new_df.select([_sum(when(col(c).isNull(), 1).otherwise(0)).alias(c) for c in new_df.columns])"
   ]
  },
  {
   "cell_type": "code",
   "execution_count": null,
   "metadata": {},
   "outputs": [],
   "source": [
    "na_counts.show()"
   ]
  },
  {
   "cell_type": "markdown",
   "metadata": {},
   "source": [
    "##### drop value after +\n"
   ]
  },
  {
   "cell_type": "code",
   "execution_count": null,
   "metadata": {},
   "outputs": [],
   "source": [
    "from pyspark.sql.functions import split\n",
    "from pyspark.sql.types import IntegerType\n",
    "\n",
    "columns1 = ['ls','st','rs','lw','lf','cf','rf','rw','lam','cam','ram',\n",
    "            'lm','lcm','cm','rcm','rm','lwb','ldm', 'cdm','rdm','rwb',\n",
    "            'lb','lcb','cb','rcb','rb']\n",
    "\n",
    "for col in columns1:\n",
    "    new_df = new_df.withColumn(col, split(new_df[col], '\\+').getItem(0).cast(IntegerType()))"
   ]
  },
  {
   "cell_type": "code",
   "execution_count": null,
   "metadata": {},
   "outputs": [],
   "source": [
    "new_df.show(5)"
   ]
  },
  {
   "cell_type": "markdown",
   "metadata": {},
   "source": [
    "#### Handling Missing Value\n"
   ]
  },
  {
   "cell_type": "code",
   "execution_count": null,
   "metadata": {},
   "outputs": [],
   "source": [
    "new_df = new_df.fillna(0)"
   ]
  },
  {
   "cell_type": "code",
   "execution_count": null,
   "metadata": {},
   "outputs": [],
   "source": [
    "na_value = \"NA\""
   ]
  },
  {
   "cell_type": "code",
   "execution_count": null,
   "metadata": {},
   "outputs": [],
   "source": [
    "string_cols = [c for c, t in new_df.dtypes if t == 'string']"
   ]
  },
  {
   "cell_type": "code",
   "execution_count": null,
   "metadata": {},
   "outputs": [],
   "source": [
    "\n",
    "for col in string_cols:\n",
    "  new_df = new_df.fillna(na_value, subset=[col])"
   ]
  },
  {
   "cell_type": "code",
   "execution_count": null,
   "metadata": {},
   "outputs": [],
   "source": [
    "new_df.show()"
   ]
  },
  {
   "cell_type": "markdown",
   "metadata": {},
   "source": [
    "#### Feature Engineering"
   ]
  },
  {
   "cell_type": "code",
   "execution_count": null,
   "metadata": {},
   "outputs": [],
   "source": [
    "from pyspark.sql.functions import split, when, col, array_contains\n",
    "import itertools\n",
    "\n",
    "# Split positions into array\n",
    "split_positions = split(new_df['player_positions'], ', ')  \n",
    "\n",
    "# Get distinct positions as a list\n",
    "distinct_positions = list(set(list(itertools.chain(*new_df.select(split_positions.alias('positions')).distinct().rdd.flatMap(lambda x: x).collect()))))\n",
    "\n",
    "# Create a column for each distinct position\n",
    "for position in distinct_positions:\n",
    "  new_df = new_df.withColumn(\n",
    "    'Position_' + position,\n",
    "     when(array_contains(split_positions, position), 1).otherwise(0)\n",
    "  )\n",
    "\n",
    "\n"
   ]
  },
  {
   "cell_type": "code",
   "execution_count": null,
   "metadata": {},
   "outputs": [],
   "source": [
    "new_df = new_df.drop('player_positions')"
   ]
  },
  {
   "cell_type": "code",
   "execution_count": null,
   "metadata": {},
   "outputs": [],
   "source": [
    "#Check missing values again\n",
    "na_counts = new_df.select([_sum(when(col(c).isNull(), 1).otherwise(0)).alias(c) for c in new_df.columns])\n",
    "na_counts.show()"
   ]
  },
  {
   "cell_type": "code",
   "execution_count": null,
   "metadata": {},
   "outputs": [],
   "source": [
    "# We are gonna preprocess the preffered_foot using one-hot encoder\n",
    "from pyspark.ml.feature import StringIndexer, OneHotEncoder\n",
    "from pyspark.ml import Pipeline\n",
    "from pyspark.sql.functions import col\n",
    "indexer = StringIndexer(inputCol='preferred_foot', outputCol='indexed_preferred_foot')\n",
    "encoder = OneHotEncoder(inputCols=['indexed_preferred_foot'], outputCols=['preferred_foot_encoded'])\n",
    "\n",
    "pipeline = Pipeline(stages=[indexer,encoder])\n",
    "\n",
    "model = pipeline.fit(new_df)\n",
    "\n",
    "col_to_drop = ['indexed_preferred_foot','preferred_foot']\n",
    "data_encoded = model.transform(new_df).drop(*col_to_drop)"
   ]
  },
  {
   "cell_type": "code",
   "execution_count": null,
   "metadata": {},
   "outputs": [],
   "source": [
    "# use label encoder for work_rate and player_positions label_encoder\n",
    "from pyspark.ml.feature import StringIndexer\n",
    "\n",
    "# Loop over each string column in the DataFrame\n",
    "for col_name, data_type in data_encoded.dtypes:\n",
    "    if data_type == 'string':\n",
    "        # Create a StringIndexer object and fit it to the column\n",
    "        indexer = StringIndexer(inputCol=col_name, outputCol=col_name + '_indexed')\n",
    "        model = indexer.fit(data_encoded)\n",
    "        \n",
    "        # Transform the column using the fitted indexer\n",
    "        data_encoded = model.transform(data_encoded).drop(col_name)"
   ]
  },
  {
   "cell_type": "code",
   "execution_count": null,
   "metadata": {},
   "outputs": [],
   "source": [
    "data_encoded.show(5)"
   ]
  },
  {
   "cell_type": "code",
   "execution_count": null,
   "metadata": {},
   "outputs": [],
   "source": [
    "data_encoded.printSchema()"
   ]
  },
  {
   "cell_type": "markdown",
   "metadata": {},
   "source": [
    "## Using A Denosing Autoencoder to Imputer"
   ]
  },
  {
   "cell_type": "code",
   "execution_count": null,
   "metadata": {},
   "outputs": [],
   "source": [
    "def inspect_columns(df):\n",
    "    result = pd.DataFrame({\n",
    "        'unique': df.nunique() == len(df),\n",
    "        'cardinality': df.nunique(),\n",
    "        'with_null': df.isna().any(),\n",
    "        'null_pct': round((df.isnull().sum() / len(df)) * 100, 2),\n",
    "        'zero_count': (df == 0).sum(),\n",
    "        'mean': df.mean(),\n",
    "        'median': df.median(),\n",
    "        'std_dev': df.std(),\n",
    "        'min': df.min(),\n",
    "        'max': df.max(),\n",
    "        '1st_quantile': df.quantile(0.25),\n",
    "        '2nd_quantile': df.quantile(0.50),\n",
    "        '3rd_quantile': df.quantile(0.75),\n",
    "        '1st_row': df.iloc[0],\n",
    "        'random_row': df.iloc[np.random.randint(low=0, high=len(df))],\n",
    "        'last_row': df.iloc[-1],\n",
    "        'dtype': df.dtypes\n",
    "    })\n",
    "    return result"
   ]
  },
  {
   "cell_type": "code",
   "execution_count": null,
   "metadata": {},
   "outputs": [],
   "source": [
    "data_encoded.show(5)"
   ]
  },
  {
   "cell_type": "code",
   "execution_count": null,
   "metadata": {},
   "outputs": [],
   "source": [
    "pd_df = data_encoded.toPandas()"
   ]
  },
  {
   "cell_type": "code",
   "execution_count": null,
   "metadata": {},
   "outputs": [],
   "source": [
    "# output data\n",
    "pd_df.to_csv('/Users/dylan/DylanLi/Code_Repo/CMU18763_Projects1/pypark_data.csv')"
   ]
  },
  {
   "cell_type": "code",
   "execution_count": null,
   "metadata": {},
   "outputs": [],
   "source": [
    "data_noencoded = pd_df.iloc[:,:-6]\n",
    "data_noencoded"
   ]
  },
  {
   "cell_type": "code",
   "execution_count": null,
   "metadata": {},
   "outputs": [],
   "source": [
    "target = 'overall'"
   ]
  },
  {
   "cell_type": "code",
   "execution_count": null,
   "metadata": {},
   "outputs": [],
   "source": [
    "pd_df"
   ]
  },
  {
   "cell_type": "code",
   "execution_count": null,
   "metadata": {},
   "outputs": [],
   "source": [
    "data_noencoded = ReduceMemory(data_noencoded)"
   ]
  },
  {
   "cell_type": "code",
   "execution_count": null,
   "metadata": {},
   "outputs": [],
   "source": [
    "inspect_columns(data_noencoded)"
   ]
  },
  {
   "cell_type": "code",
   "execution_count": null,
   "metadata": {},
   "outputs": [],
   "source": [
    "import math\n",
    "import pandas as pd\n",
    "import numpy as np\n",
    "\n",
    "from sklearn.impute import SimpleImputer\n",
    "from sklearn.model_selection import train_test_split\n",
    "from sklearn.preprocessing import StandardScaler\n",
    "from sklearn.metrics import mean_squared_error\n",
    "\n",
    "import torch\n",
    "import torch.nn.functional as F\n",
    "import torch.utils.data\n",
    "from torch import nn\n",
    "\n",
    "from tqdm import tqdm"
   ]
  },
  {
   "cell_type": "code",
   "execution_count": null,
   "metadata": {},
   "outputs": [],
   "source": [
    "def seed_everything(seed: int):\n",
    "    import random, os\n",
    "    import numpy as np\n",
    "    import torch\n",
    "    \n",
    "    random.seed(seed)\n",
    "    os.environ['PYTHONHASHSEED'] = str(seed)\n",
    "    np.random.seed(seed)\n",
    "    torch.manual_seed(seed)\n",
    "    torch.cuda.manual_seed(seed)\n",
    "    torch.backends.cudnn.deterministic = True\n",
    "    torch.backends.cudnn.benchmark = True\n",
    "    \n",
    "seed_everything(seed=42)"
   ]
  },
  {
   "cell_type": "code",
   "execution_count": null,
   "metadata": {},
   "outputs": [],
   "source": [
    "# Define masks\n",
    "\n",
    "\n",
    "# Mask for training -> binomial + base one per row\n",
    "def random_mask(shape, binomial_p=0.05):\n",
    "    n, k = shape\n",
    "    mask = np.ones((n, k))\n",
    "    # Set minimum one random per row\n",
    "    mask[(\n",
    "        np.arange(n),\n",
    "        np.random.randint(0, k, n)\n",
    "    )] = 0\n",
    "    # Add binomial probability as well\n",
    "    b_mask = np.random.binomial(1, 1-binomial_p, (n, k))\n",
    "    return mask * b_mask\n",
    "\n",
    "\n",
    "# Mask for validation - fixed n missing per row\n",
    "def mask_n_rows(shape, n_missing):\n",
    "    n, k = shape\n",
    "    s = np.arange(k)[np.newaxis, :].repeat(n, axis=0).reshape(n, k)\n",
    "    idx = np.random.rand(n, k).argsort(1)[:,:n_missing]\n",
    "    col_idx = np.take_along_axis(s, idx, axis=1).ravel()\n",
    "    row_idx = np.arange(n).repeat(n_missing)\n",
    "    \n",
    "    mask = np.ones((n, k))\n",
    "    mask[(\n",
    "        row_idx,\n",
    "        col_idx\n",
    "    )] = 0\n",
    "    return mask"
   ]
  },
  {
   "cell_type": "code",
   "execution_count": null,
   "metadata": {},
   "outputs": [],
   "source": [
    "target = data_noencoded['overall']\n",
    "features = data_noencoded.iloc[:, 1:]"
   ]
  },
  {
   "cell_type": "code",
   "execution_count": null,
   "metadata": {},
   "outputs": [],
   "source": [
    "data = features.copy()"
   ]
  },
  {
   "cell_type": "code",
   "execution_count": null,
   "metadata": {},
   "outputs": [],
   "source": [
    "# Defining the train and validation set\n",
    "\n",
    "is_missing_bool = data.loc[:,:].isna().sum(axis=1) > 0\n",
    "\n",
    "# Define subsets of the data with row-wise missing values\n",
    "X_complete = data.loc[~is_missing_bool, :].values\n",
    "X_missing = data.loc[is_missing_bool, :].values\n",
    "\n",
    "# Split data that has no missing to use for eval set\n",
    "X_train_complete, X_valid = train_test_split(X_complete, random_state=6) # Same as previous\n",
    "\n",
    "# Build train set from complete and missing data\n",
    "X_train = np.concatenate([X_train_complete, X_missing], axis=0)\n",
    "\n",
    "# Mask to show train values that have been imputed\n",
    "srce_nan_train = np.concatenate([\n",
    "    np.zeros(X_train_complete.shape),\n",
    "    data.loc[is_missing_bool, :].isna().astype(np.uint8).values\n",
    "])\n",
    "\n",
    "# Feature scaling\n",
    "scaler = StandardScaler()\n",
    "\n",
    "scaler.fit(data.loc[:,:].values)\n",
    "\n",
    "X_train = np.nan_to_num(scaler.transform(X_train), 0.0)\n",
    "X_valid = scaler.transform(X_valid)"
   ]
  },
  {
   "cell_type": "code",
   "execution_count": null,
   "metadata": {},
   "outputs": [],
   "source": [
    "X_train.shape"
   ]
  },
  {
   "cell_type": "code",
   "execution_count": null,
   "metadata": {},
   "outputs": [],
   "source": [
    "# Build Model\n",
    "\n",
    "class MLP(nn.Module):\n",
    "# Dense layer with layer normalization and mish activation\n",
    "    def __init__(self, input_size, output_size):\n",
    "        super().__init__()\n",
    "        self.dense = nn.Linear(input_size, output_size)\n",
    "        self.act = nn.Mish()\n",
    "        self.layernorm = nn.LayerNorm(output_size, eps=1e-6)\n",
    "        \n",
    "    def forward(self, x):\n",
    "        x = self.dense(x)\n",
    "        x = self.act(x)\n",
    "        return self.layernorm(x)\n",
    "    \n",
    "# Msked autoencoder model\n",
    "class MaskedAutoencoder(nn.Module):\n",
    "    def __init__(self, n_columns, emb_dim,\n",
    "                 units=[512, 512, 512, 512, 512, 128]):\n",
    "        super().__init__()\n",
    "        self.n_columns = n_columns\n",
    "\n",
    "        # Embedding\n",
    "        self.inp_proj = nn.Linear(1, emb_dim)\n",
    "        self.mask_proj = nn.Linear(1, emb_dim)\n",
    "        self.emb_norm = nn.LayerNorm(n_columns * emb_dim, eps=1e-6)\n",
    "        \n",
    "        # MLP with skip connection\n",
    "        self.mlp_layers = nn.ModuleList([])\n",
    "        for i in range(len(units)):\n",
    "            if i==0:\n",
    "                input_size = n_columns * emb_dim\n",
    "            elif i==1:\n",
    "                input_size = n_columns * emb_dim + units[0]\n",
    "            else:\n",
    "                input_size = units[i-1] + units[i-2]\n",
    "            output_size = units[i]\n",
    "            self.mlp_layers.append(\n",
    "                MLP(input_size=input_size, output_size=output_size)\n",
    "            )\n",
    "                \n",
    "        self.final_dense = nn.Linear(units[-1] + units[-2], self.n_columns)\n",
    "        \n",
    "    def forward(self, inputs:torch.Tensor, mask:torch.Tensor):\n",
    "        # Embeddings\n",
    "        input_embedding = self.inp_proj(torch.unsqueeze(inputs, 2))\n",
    "        mask_embedding = self.mask_proj(torch.unsqueeze(1-mask, 2))\n",
    "        embedding = input_embedding + mask_embedding\n",
    "        embedding = torch.flatten(embedding, 1)\n",
    "        x = [self.emb_norm(embedding)]\n",
    "        \n",
    "        # MLP\n",
    "        for i in range(len(self.mlp_layers)):\n",
    "            if i==0:\n",
    "                z = self.mlp_layers[i](x[0])\n",
    "                x.append(z)\n",
    "            else:\n",
    "                z = torch.cat((x[-1], x[-2]), 1)\n",
    "                z = self.mlp_layers[i](z)\n",
    "                x.append(z)\n",
    "                \n",
    "        x = torch.cat((x[-1], x[-2]), 1)\n",
    "        x = self.final_dense(x)\n",
    "        \n",
    "        # Output modification - predict only masked values, otherwise use inputs\n",
    "        outputs = torch.mul(inputs, mask) + torch.mul(1-mask, x)\n",
    "        \n",
    "        return outputs"
   ]
  },
  {
   "cell_type": "code",
   "execution_count": null,
   "metadata": {},
   "outputs": [],
   "source": [
    "# Helper validation method\n",
    "def validate(model, valid_mask, batch_size=4096):\n",
    "    assert valid_mask.shape == X_valid.shape\n",
    "    \n",
    "    n_batches_valid = X_valid.shape[0] // batch_size + 1\n",
    "    \n",
    "    model.eval()\n",
    "    with torch.no_grad():\n",
    "        ps = []\n",
    "        for batch in range(n_batches_valid):\n",
    "            x = torch.tensor(X_valid[batch * batch_size: (batch+1) * batch_size].astype(np.float32)).to(device)\n",
    "            mask = torch.tensor(valid_mask[batch * batch_size: (batch+1) * batch_size].astype(np.float32)).to(device)\n",
    "            x_masked = x * mask\n",
    "\n",
    "            p = model(x_masked, mask).cpu().numpy()\n",
    "            ps.append(p)\n",
    "\n",
    "        p = np.vstack(ps)\n",
    "        mask_bool = (1 - valid_mask).astype(bool)\n",
    "        rmse = np.sqrt(mean_squared_error(\n",
    "            scaler.inverse_transform(p)[mask_bool],\n",
    "            scaler.inverse_transform(X_valid)[mask_bool]\n",
    "        ))\n",
    "        return rmse"
   ]
  },
  {
   "cell_type": "code",
   "execution_count": null,
   "metadata": {},
   "outputs": [],
   "source": [
    "# Loss function to mask NaNs in the original data\n",
    "class MaskedMSELoss(nn.Module):\n",
    "    # Mask should be 1 for masked value, 0 for unmasked value \n",
    "    def __init__(self):\n",
    "        super().__init__()\n",
    "        self.loss = nn.MSELoss(reduction='none')\n",
    "    \n",
    "    def forward(self, inputs, target, mask):\n",
    "        loss = self.loss(inputs, target)\n",
    "        return torch.mean(loss * (1 - mask))"
   ]
  },
  {
   "cell_type": "code",
   "execution_count": null,
   "metadata": {},
   "outputs": [],
   "source": [
    "# Defining model parameters and learning rate schedule\n",
    "\n",
    "EPOCHS = 300\n",
    "LR_START = 0.001\n",
    "LR_END = 0.00005\n",
    "BATCH_SIZE = 4096\n",
    "\n",
    "# This cosine decay function is borrowed from AmbrosM in last month's TPS\n",
    "def cosine_decay(epoch):\n",
    "    epochs = EPOCHS\n",
    "    lr_start = LR_START\n",
    "    lr_end = LR_END\n",
    "    if epochs > 1:\n",
    "        w = (1 + math.cos(epoch / (epochs-1) * math.pi)) / 2\n",
    "    else:\n",
    "        w = 1\n",
    "    return w * lr_start + (1 - w) * lr_end"
   ]
  },
  {
   "cell_type": "code",
   "execution_count": null,
   "metadata": {},
   "outputs": [],
   "source": [
    "# Build model\n",
    "\n",
    "def init_weights(m):\n",
    "    if isinstance(m, nn.Linear):\n",
    "        torch.nn.init.xavier_normal_(m.weight)\n",
    "        m.bias.data.fill_(0.01)\n",
    "\n",
    "# Build model\n",
    "device = 'mps'\n",
    "\n",
    "# params\n",
    "cols_n = X_train.shape[1]\n",
    "\n",
    "# Final model uses units = [2048, 2048, 2048, 1024, 512, 256, 128], but I use a smaller model for this notebook\n",
    "model = MaskedAutoencoder(cols_n, 15,units=[512, 512, 512, 512, 512, 256, 128]).to(device)\n",
    "model.apply(init_weights)\n",
    "optimizer = torch.optim.Adam(model.parameters(), lr=1)\n",
    "scheduler = torch.optim.lr_scheduler.LambdaLR(optimizer, lr_lambda=cosine_decay)\n",
    "loss_fn = MaskedMSELoss()"
   ]
  },
  {
   "cell_type": "code",
   "execution_count": null,
   "metadata": {},
   "outputs": [],
   "source": [
    "# Training loop\n",
    "\n",
    "# for epoch in epochs...\n",
    "\n",
    "np.random.seed(6)\n",
    "\n",
    "n = X_train.shape[0]\n",
    "\n",
    "batch_size = 4096\n",
    "n_batches = n // batch_size + 1\n",
    "index = np.arange(n)\n",
    "\n",
    "valid_per = 5\n",
    "\n",
    "# Validation Mask\n",
    "validation_masks = [mask_n_rows(X_valid.shape, i+1) for i in range(5)]\n",
    "validation_prob = list(data.loc[:,:].isna().sum(axis=1).value_counts() \\\n",
    "    / data.loc[data.loc[:,:].isna().sum(axis=1)>0, :].isna().sum(axis=1).value_counts().sum())[1:]\n",
    "\n",
    "c_scores = [np.zeros(EPOCHS) for i in range(len(validation_masks))]\n",
    "f_scores = np.zeros(EPOCHS)\n",
    "\n",
    "# Training loop\n",
    "model.train()\n",
    "for epoch in range(EPOCHS):\n",
    "    print(f\"Epoch {epoch+1} LR {optimizer.param_groups[0]['lr']}\")\n",
    "    \n",
    "    np.random.shuffle(index)\n",
    "    losses = 0\n",
    "    norm_losses = 0\n",
    "    for i in tqdm(range(n_batches)):\n",
    "        batch_idx = index[i*batch_size:(i+1)*batch_size]\n",
    "        # Create batch train data\n",
    "        srce_mask = torch.tensor(srce_nan_train[batch_idx].astype(np.float32)).to(device)\n",
    "        x = torch.tensor(X_train[batch_idx].astype(np.float32)).to(device)\n",
    "        mask_init = torch.tensor(random_mask(x.shape, binomial_p=0.05).astype(np.float32)).to(device)\n",
    "        mask = mask_init - srce_mask * mask_init\n",
    "        x_masked = x * mask\n",
    "\n",
    "        # Forward and backward pass\n",
    "        optimizer.zero_grad()\n",
    "        p = model(x_masked, mask)\n",
    "        loss = loss_fn(p, x, srce_mask)\n",
    "        loss.backward()\n",
    "        optimizer.step()\n",
    "        \n",
    "        losses += loss # Check\n",
    "    scheduler.step()\n",
    "        \n",
    "        \n",
    "    # Validation stepb\n",
    "    if (epoch + 1) % valid_per == 0:\n",
    "        scores = []\n",
    "        for i in range(len(validation_masks)):\n",
    "            v = validate(model, validation_masks[i])\n",
    "            scores.append(v)\n",
    "            c_scores[i][epoch] = v\n",
    "            \n",
    "        final_score = math.sqrt(sum([scores[i]**2 * validation_prob[i] for i in range(len(scores))]))\n",
    "        f_scores[epoch] = final_score\n",
    "        \n",
    "        for i in range(len(scores)):\n",
    "            print(f'RMSE ({i+1} rows) {scores[i]}')\n",
    "        print(f'RMSE (TDGP) {final_score}')"
   ]
  },
  {
   "cell_type": "code",
   "execution_count": null,
   "metadata": {},
   "outputs": [],
   "source": []
  },
  {
   "cell_type": "code",
   "execution_count": null,
   "metadata": {},
   "outputs": [],
   "source": []
  }
 ],
 "metadata": {
  "kernelspec": {
   "display_name": "aichaintools-torch",
   "language": "python",
   "name": "python3"
  },
  "language_info": {
   "codemirror_mode": {
    "name": "ipython",
    "version": 3
   },
   "file_extension": ".py",
   "mimetype": "text/x-python",
   "name": "python",
   "nbconvert_exporter": "python",
   "pygments_lexer": "ipython3",
   "version": "3.10.12"
  }
 },
 "nbformat": 4,
 "nbformat_minor": 2
}
